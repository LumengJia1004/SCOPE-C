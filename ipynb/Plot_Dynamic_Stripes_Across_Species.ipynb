{
 "cells": [
  {
   "cell_type": "code",
   "execution_count": 1,
   "id": "e4e69245",
   "metadata": {},
   "outputs": [],
   "source": [
    "setwd(\"/lustre/user/liclab/jialm/Project/SCOPEC/analysis/stripes/25_50kb.stripes.liftOver\")"
   ]
  },
  {
   "cell_type": "code",
   "execution_count": 2,
   "id": "4b590227",
   "metadata": {},
   "outputs": [],
   "source": [
    "suppressPackageStartupMessages({\n",
    "library(dplyr)\n",
    "library(tidyverse)\n",
    "library(data.table)\n",
    "library(ggplot2)\n",
    "library(edgeR)\n",
    "library(RColorBrewer)\n",
    "library(GenomicRanges)\n",
    "library(ComplexHeatmap)\n",
    "#library(igraph)\n",
    "})"
   ]
  },
  {
   "cell_type": "code",
   "execution_count": 11,
   "id": "a689053d",
   "metadata": {},
   "outputs": [],
   "source": [
    "Mm <- read.table(\"./RG.eN.50kb.stripes.HRM.paired.bed.mm10.stripes.addOri.pre\") %>% mutate(V2=V2-1)\n",
    "Rhe <- read.table(\"./RG.eN.50kb.stripes.HRM.paired.bed.Rhe.stripes.addOri.pre\") %>% mutate(V2=V2-1)\n",
    "H <- read.table(\"./RG.eN.50kb.stripes.HRM.paired.bed.LR\") %>% mutate(V2=V2-1)"
   ]
  },
  {
   "cell_type": "code",
   "execution_count": 12,
   "id": "2c3ff0f7",
   "metadata": {},
   "outputs": [],
   "source": [
    "Mm.filtered <- Mm %>% mutate(L=abs(V2-V7),R=abs(V3-V8)) %>% \n",
    "mutate(group=case_when(L<R ~ \"L\",\n",
    "                       L>R ~ \"R\")) %>%\n",
    "filter((group==\"L\"&L <= 100000)|(group==\"R\"&R <= 100000)) %>% \n",
    "arrange(V4) "
   ]
  },
  {
   "cell_type": "code",
   "execution_count": 13,
   "id": "f7e3d5a1",
   "metadata": {},
   "outputs": [],
   "source": [
    "Rhe.filtered <- Rhe %>% mutate(L=abs(V2-V7),R=abs(V3-V8)) %>% \n",
    "mutate(group=case_when(L<R ~ \"L\",\n",
    "                       L>R ~ \"R\")) %>%\n",
    "filter((group==\"L\"&L <= 100000)|(group==\"R\"&R <= 100000)) %>% \n",
    "arrange(V4) "
   ]
  },
  {
   "cell_type": "code",
   "execution_count": 14,
   "id": "177db29f",
   "metadata": {},
   "outputs": [],
   "source": [
    "HL.UP <- dplyr::inner_join(H[,c(1:3,10:12)],\n",
    "                  Rhe.filtered[,c(1:4,14)],by=c(\"V12\"=\"V4\")) %>% \n",
    "dplyr::inner_join(.,Mm.filtered[,c(1:4,14)],by=c(\"V12\"=\"V4\")) %>%\n",
    "select(-V12) %>% \n",
    "filter(V10 == \"Up\",V11==\"L\") %>%\n",
    "select(V1.x,V2.x,V3.x,V10,V11) %>% \n",
    "mutate(species=\"human\")\n",
    "\n",
    "HR.UP <- dplyr::inner_join(H[,c(1:3,10:12)],\n",
    "                  Rhe.filtered[,c(1:4,14)],by=c(\"V12\"=\"V4\")) %>% \n",
    "dplyr::inner_join(.,Mm.filtered[,c(1:4,14)],by=c(\"V12\"=\"V4\")) %>%\n",
    "select(-V12) %>% \n",
    "filter(V10 == \"Up\",V11==\"R\") %>%\n",
    "select(V1.x,V2.x,V3.x,V10,V11) %>% \n",
    "mutate(species=\"human\")\n",
    "\n",
    "HL.DOWN <- dplyr::inner_join(H[,c(1:3,10:12)],\n",
    "                  Rhe.filtered[,c(1:4,14)],by=c(\"V12\"=\"V4\")) %>% \n",
    "dplyr::inner_join(.,Mm.filtered[,c(1:4,14)],by=c(\"V12\"=\"V4\")) %>%\n",
    "select(-V12) %>% \n",
    "filter(V10 == \"Down\",V11==\"L\") %>%\n",
    "select(V1.x,V2.x,V3.x,V10,V11) %>% \n",
    "mutate(species=\"human\")\n",
    "\n",
    "HR.DOWN <- dplyr::inner_join(H[,c(1:3,10:12)],\n",
    "                  Rhe.filtered[,c(1:4,14)],by=c(\"V12\"=\"V4\")) %>% \n",
    "dplyr::inner_join(.,Mm.filtered[,c(1:4,14)],by=c(\"V12\"=\"V4\")) %>%\n",
    "select(-V12) %>% \n",
    "filter(V10 == \"Down\",V11==\"R\") %>%\n",
    "select(V1.x,V2.x,V3.x,V10,V11) %>% \n",
    "mutate(species=\"human\")\n",
    "\n",
    "HL.NOT <- dplyr::inner_join(H[,c(1:3,10:12)],\n",
    "                  Rhe.filtered[,c(1:4,14)],by=c(\"V12\"=\"V4\")) %>% \n",
    "dplyr::inner_join(.,Mm.filtered[,c(1:4,14)],by=c(\"V12\"=\"V4\")) %>%\n",
    "select(-V12) %>% \n",
    "filter(V10 == \"Not\",V11==\"L\") %>%\n",
    "select(V1.x,V2.x,V3.x,V10,V11) %>% \n",
    "mutate(species=\"human\")\n",
    "\n",
    "HR.NOT <- dplyr::inner_join(H[,c(1:3,10:12)],\n",
    "                  Rhe.filtered[,c(1:4,14)],by=c(\"V12\"=\"V4\")) %>% \n",
    "dplyr::inner_join(.,Mm.filtered[,c(1:4,14)],by=c(\"V12\"=\"V4\")) %>%\n",
    "select(-V12) %>% \n",
    "filter(V10 == \"Not\",V11==\"R\") %>%\n",
    "select(V1.x,V2.x,V3.x,V10,V11) %>% \n",
    "mutate(species=\"human\")"
   ]
  },
  {
   "cell_type": "code",
   "execution_count": 15,
   "id": "41c1827a",
   "metadata": {},
   "outputs": [],
   "source": [
    "RL.UP <- dplyr::inner_join(H[,c(1:3,10:12)],\n",
    "                  Rhe.filtered[,c(1:4,14)],by=c(\"V12\"=\"V4\")) %>% \n",
    "dplyr::inner_join(.,Mm.filtered[,c(1:4,14)],by=c(\"V12\"=\"V4\")) %>%\n",
    "select(-V12) %>% \n",
    "filter(V10 == \"Up\",group.x==\"L\") %>%\n",
    "select(V1.y,V2.y,V3.y,V10,group.x) %>% \n",
    "mutate(species=\"Rhesus\")\n",
    "\n",
    "RR.UP <- dplyr::inner_join(H[,c(1:3,10:12)],\n",
    "                  Rhe.filtered[,c(1:4,14)],by=c(\"V12\"=\"V4\")) %>% \n",
    "dplyr::inner_join(.,Mm.filtered[,c(1:4,14)],by=c(\"V12\"=\"V4\")) %>%\n",
    "select(-V12) %>% \n",
    "filter(V10 == \"Up\",group.x==\"R\") %>%\n",
    "select(V1.y,V2.y,V3.y,V10,group.x) %>% \n",
    "mutate(species=\"Rhesus\")\n",
    "\n",
    "RL.DOWN <- dplyr::inner_join(H[,c(1:3,10:12)],\n",
    "                  Rhe.filtered[,c(1:4,14)],by=c(\"V12\"=\"V4\")) %>% \n",
    "dplyr::inner_join(.,Mm.filtered[,c(1:4,14)],by=c(\"V12\"=\"V4\")) %>%\n",
    "select(-V12) %>% \n",
    "filter(V10 == \"Down\",group.x==\"L\") %>%\n",
    "select(V1.y,V2.y,V3.y,V10,group.x) %>% \n",
    "mutate(species=\"Rhesus\")\n",
    "\n",
    "RR.DOWN <- dplyr::inner_join(H[,c(1:3,10:12)],\n",
    "                  Rhe.filtered[,c(1:4,14)],by=c(\"V12\"=\"V4\")) %>% \n",
    "dplyr::inner_join(.,Mm.filtered[,c(1:4,14)],by=c(\"V12\"=\"V4\")) %>%\n",
    "select(-V12) %>% \n",
    "filter(V10 == \"Down\",group.x==\"R\") %>%\n",
    "select(V1.y,V2.y,V3.y,V10,group.x) %>% \n",
    "mutate(species=\"Rhesus\")\n",
    "\n",
    "RL.NOT <- dplyr::inner_join(H[,c(1:3,10:12)],\n",
    "                  Rhe.filtered[,c(1:4,14)],by=c(\"V12\"=\"V4\")) %>% \n",
    "dplyr::inner_join(.,Mm.filtered[,c(1:4,14)],by=c(\"V12\"=\"V4\")) %>%\n",
    "select(-V12) %>% \n",
    "filter(V10 == \"Not\",group.x==\"L\") %>%\n",
    "select(V1.y,V2.y,V3.y,V10,group.x) %>% \n",
    "mutate(species=\"Rhesus\")\n",
    "\n",
    "RR.NOT <- dplyr::inner_join(H[,c(1:3,10:12)],\n",
    "                  Rhe.filtered[,c(1:4,14)],by=c(\"V12\"=\"V4\")) %>% \n",
    "dplyr::inner_join(.,Mm.filtered[,c(1:4,14)],by=c(\"V12\"=\"V4\")) %>%\n",
    "select(-V12) %>% \n",
    "filter(V10 == \"Not\",group.x==\"R\") %>%\n",
    "select(V1.y,V2.y,V3.y,V10,group.x) %>% \n",
    "mutate(species=\"Rhesus\")"
   ]
  },
  {
   "cell_type": "code",
   "execution_count": 16,
   "id": "19d51d92",
   "metadata": {},
   "outputs": [],
   "source": [
    "ML.UP <- dplyr::inner_join(H[,c(1:3,10:12)],\n",
    "                  Rhe.filtered[,c(1:4,14)],by=c(\"V12\"=\"V4\")) %>% \n",
    "dplyr::inner_join(.,Mm.filtered[,c(1:4,14)],by=c(\"V12\"=\"V4\")) %>%\n",
    "select(-V12) %>% \n",
    "filter(V10 == \"Up\",group.y==\"L\") %>%\n",
    "select(V1,V2,V3,V10,group.y) %>% \n",
    "mutate(species=\"Mouse\")\n",
    "\n",
    "MR.UP <- dplyr::inner_join(H[,c(1:3,10:12)],\n",
    "                  Rhe.filtered[,c(1:4,14)],by=c(\"V12\"=\"V4\")) %>% \n",
    "dplyr::inner_join(.,Mm.filtered[,c(1:4,14)],by=c(\"V12\"=\"V4\")) %>%\n",
    "select(-V12) %>% \n",
    "filter(V10 == \"Up\",group.y==\"R\") %>%\n",
    "select(V1,V2,V3,V10,group.y) %>% \n",
    "mutate(species=\"Mouse\")\n",
    "\n",
    "ML.DOWN <- dplyr::inner_join(H[,c(1:3,10:12)],\n",
    "                  Rhe.filtered[,c(1:4,14)],by=c(\"V12\"=\"V4\")) %>% \n",
    "dplyr::inner_join(.,Mm.filtered[,c(1:4,14)],by=c(\"V12\"=\"V4\")) %>%\n",
    "select(-V12) %>% \n",
    "filter(V10 == \"Down\",group.y==\"L\") %>%\n",
    "select(V1,V2,V3,V10,group.y) %>% \n",
    "mutate(species=\"Mouse\")\n",
    "\n",
    "MR.DOWN <- dplyr::inner_join(H[,c(1:3,10:12)],\n",
    "                  Rhe.filtered[,c(1:4,14)],by=c(\"V12\"=\"V4\")) %>% \n",
    "dplyr::inner_join(.,Mm.filtered[,c(1:4,14)],by=c(\"V12\"=\"V4\")) %>%\n",
    "select(-V12) %>% \n",
    "filter(V10 == \"Down\",group.y==\"R\") %>%\n",
    "select(V1,V2,V3,V10,group.y) %>% \n",
    "mutate(species=\"Mouse\")\n",
    "\n",
    "ML.NOT <- dplyr::inner_join(H[,c(1:3,10:12)],\n",
    "                  Rhe.filtered[,c(1:4,14)],by=c(\"V12\"=\"V4\")) %>% \n",
    "dplyr::inner_join(.,Mm.filtered[,c(1:4,14)],by=c(\"V12\"=\"V4\")) %>%\n",
    "select(-V12) %>% \n",
    "filter(V10 == \"Not\",group.y==\"L\") %>%\n",
    "select(V1,V2,V3,V10,group.y) %>% \n",
    "mutate(species=\"Mouse\")\n",
    "\n",
    "MR.NOT <- dplyr::inner_join(H[,c(1:3,10:12)],\n",
    "                  Rhe.filtered[,c(1:4,14)],by=c(\"V12\"=\"V4\")) %>% \n",
    "dplyr::inner_join(.,Mm.filtered[,c(1:4,14)],by=c(\"V12\"=\"V4\")) %>%\n",
    "select(-V12) %>% \n",
    "filter(V10 == \"Not\",group.y==\"R\") %>%\n",
    "select(V1,V2,V3,V10,group.y) %>% \n",
    "mutate(species=\"Mouse\")"
   ]
  },
  {
   "cell_type": "code",
   "execution_count": 17,
   "id": "fb66f80e",
   "metadata": {},
   "outputs": [],
   "source": [
    "allRES <- rbind(rbind(HL.UP,HR.UP,HL.DOWN,HR.DOWN,HL.NOT,HR.NOT) %>% set_names(\"c\",\"s\",\"e\",\"type\",\"ori\",\"species\"),\n",
    "rbind(RL.UP,RR.UP,RL.DOWN,RR.DOWN,RL.NOT,RR.NOT)%>% set_names(\"c\",\"s\",\"e\",\"type\",\"ori\",\"species\"),\n",
    "rbind(ML.UP,MR.UP,ML.DOWN,MR.DOWN,ML.NOT,MR.NOT)%>% set_names(\"c\",\"s\",\"e\",\"type\",\"ori\",\"species\"))"
   ]
  },
  {
   "cell_type": "code",
   "execution_count": 188,
   "id": "770ca38e",
   "metadata": {},
   "outputs": [],
   "source": [
    "write.table(allRES,\"./RG.eN.50kb.stripes.HRM.paired.bed.mark.orientation.in.all.species.bed\",\n",
    "            col.names = F,row.names = F,sep=\"\\t\",quote=F)"
   ]
  },
  {
   "cell_type": "markdown",
   "id": "527e1323",
   "metadata": {},
   "source": [
    "# plot"
   ]
  },
  {
   "cell_type": "code",
   "execution_count": 18,
   "id": "3a7a9ca7",
   "metadata": {},
   "outputs": [],
   "source": [
    "getStripesPlotDF <- function(bed3,mat,...){\n",
    "    L <- lapply(1:dim(bed3)[1],function(idx){\n",
    "    seq=bed3[idx,1]\n",
    "    s=bed3[idx,2]\n",
    "    e=bed3[idx,3]\n",
    "    RG <- mat %>% filter(seqnames==seq,V1>=s,V2<=e) %>% \n",
    "    mutate(s=s,idl=((V1-s)/50000)+1,idr=((V2-s)/50000)+1)\n",
    "    return(RG)\n",
    "    })\n",
    "    \n",
    "    MAT <- matrix(0,ncol = 201,nrow=201)\n",
    "    ########\n",
    "    L.matrix <- lapply(L,function(idx){\n",
    "    mat <- matrix(0,ncol = 201,nrow=201)\n",
    "    for(i in 1:dim(idx)[1]){\n",
    "    id1 <- idx[i,6]\n",
    "    id2 <- idx[i,7]\n",
    "    score <- idx[i,3]\n",
    "    MAT[id1,id2] <- score\n",
    "    MAT[id2,id1] <- score\n",
    "    }\n",
    "    return(MAT)\n",
    "    })\n",
    "    \n",
    "    sumMAT.L <- matrix(0,ncol = 201,nrow=201)\n",
    "    \n",
    "    ########\n",
    "    for (i in 1:length(L.matrix)){\n",
    "     sumMAT.L <- sumMAT.L + L.matrix[[i]]\n",
    "    }\n",
    "    \n",
    "    ########\n",
    "    return(sumMAT.L)\n",
    "\n",
    "}"
   ]
  },
  {
   "cell_type": "markdown",
   "id": "030d74db",
   "metadata": {},
   "source": [
    "## load data"
   ]
  },
  {
   "cell_type": "code",
   "execution_count": 19,
   "id": "768efc6c",
   "metadata": {},
   "outputs": [],
   "source": [
    "h.RG <- lapply(1:22,function(idx){\n",
    "    read.table(paste0(\"../../DYnamic.comp.and.peak/humanBrian_PFC/obsEXP.mat/RG.all.allValidPairs.hic.oeMAT/RG.all.allValidPairs.hic_\",idx,\"_oe.50kb.mat\")) %>%\n",
    "    mutate(seqnames=idx) \n",
    "})\n",
    "\n",
    "h.eN <- lapply(1:22,function(idx){\n",
    "    read.table(paste0(\"../../DYnamic.comp.and.peak/humanBrian_PFC/obsEXP.mat/eN.all.allValidPairs.hic.oeMAT/eN.all.allValidPairs.hic_\",idx,\"_oe.50kb.mat\")) %>%\n",
    "    mutate(seqnames=idx) \n",
    "})\n",
    "\n",
    "h.RG.mat <- do.call(rbind,h.RG) %>% mutate(seqnames=paste0(\"chr\",seqnames))\n",
    "h.eN.mat <- do.call(rbind,h.eN) %>% mutate(seqnames=paste0(\"chr\",seqnames))\n"
   ]
  },
  {
   "cell_type": "code",
   "execution_count": 20,
   "id": "4162a3ce",
   "metadata": {},
   "outputs": [],
   "source": [
    "r.RG <- lapply(1:20,function(idx){\n",
    "    read.table(paste0(\"../../DYnamic.comp.and.peak/macaca_brain/obsEXP.mat/macacaBrain.all.1k.2batch.merge.RG.allValidPairs.hic.oeMAT/macacaBrain.all.1k.2batch.merge.RG.allValidPairs.hic_\",idx,\"_oe.50kb.mat\")) %>%\n",
    "    mutate(seqnames=idx) \n",
    "})\n",
    "\n",
    "r.eN <- lapply(1:20,function(idx){\n",
    "    read.table(paste0(\"../../DYnamic.comp.and.peak/macaca_brain/obsEXP.mat/macacaBrain.all.1k.2batch.merge.eN.allValidPairs.hic.oeMAT/macacaBrain.all.1k.2batch.merge.eN.allValidPairs.hic_\",idx,\"_oe.50kb.mat\")) %>%\n",
    "    mutate(seqnames=idx) \n",
    "})\n",
    "\n",
    "r.RG.mat <- do.call(rbind,r.RG) %>% mutate(seqnames=paste0(\"chr\",seqnames))\n",
    "r.eN.mat <- do.call(rbind,r.eN) %>% mutate(seqnames=paste0(\"chr\",seqnames))"
   ]
  },
  {
   "cell_type": "code",
   "execution_count": 21,
   "id": "a5266008",
   "metadata": {},
   "outputs": [],
   "source": [
    "m.RG <- lapply(1:19,function(idx){\n",
    "    read.table(paste0(\"../../DYnamic.comp.and.peak/mouse_brain/obsEXP.mat/mouseBrain_1k_RG.allMerged.allValidPairs.hic.oeMAT/mouseBrain_1k_RG.allMerged.allValidPairs.hic_\",idx,\"_oe.50kb.mat\")) %>%\n",
    "    mutate(seqnames=idx) \n",
    "})\n",
    "\n",
    "m.eN <- lapply(1:19,function(idx){\n",
    "    read.table(paste0(\"../../DYnamic.comp.and.peak/mouse_brain/obsEXP.mat/mouseBrain_1k_eN.allMerged.allValidPairs.hic.oeMAT/mouseBrain_1k_eN.allMerged.allValidPairs.hic_\",idx,\"_oe.50kb.mat\")) %>%\n",
    "    mutate(seqnames=idx) \n",
    "})\n",
    "\n",
    "m.RG.mat <- do.call(rbind,m.RG) %>% mutate(seqnames=paste0(\"chr\",seqnames))\n",
    "m.eN.mat <- do.call(rbind,m.eN) %>% mutate(seqnames=paste0(\"chr\",seqnames))"
   ]
  },
  {
   "cell_type": "code",
   "execution_count": 22,
   "id": "c681fdfb",
   "metadata": {},
   "outputs": [],
   "source": [
    "colours <- colorRampPalette(c(\"navy\",\"white\",\"red\"))(500)"
   ]
  },
  {
   "cell_type": "markdown",
   "id": "ae83236f",
   "metadata": {},
   "source": [
    "## h.up"
   ]
  },
  {
   "cell_type": "code",
   "execution_count": null,
   "id": "995a3cba",
   "metadata": {},
   "outputs": [],
   "source": [
    "h.L.up <- HL.UP %>% set_names(\"V1\",\"V2\",\"V3\",\"type\",\"ori\",\"species\") %>%\n",
    "select(V1,V2,V3) %>% distinct() %>%\n",
    "mutate(V2=V2-500000,V3=V2+10000000)\n",
    "\n",
    "h.R.up <- HR.UP %>% set_names(\"V1\",\"V2\",\"V3\",\"type\",\"ori\",\"species\") %>%\n",
    "select(V1,V2,V3) %>% distinct() %>%\n",
    "mutate(V3=V3+500000,V2=V3-10000000) "
   ]
  },
  {
   "cell_type": "code",
   "execution_count": 21,
   "id": "8627827d",
   "metadata": {},
   "outputs": [],
   "source": [
    "h.L.up.RG.mat <- getStripesPlotDF(h.L.up,h.RG.mat)\n",
    "h.R.up.RG.mat <- getStripesPlotDF(h.R.up,h.RG.mat)\n",
    "h.L.up.eN.mat <- getStripesPlotDF(h.L.up,h.eN.mat)\n",
    "h.R.up.eN.mat <- getStripesPlotDF(h.R.up,h.eN.mat)"
   ]
  },
  {
   "cell_type": "code",
   "execution_count": 22,
   "id": "2f82203f",
   "metadata": {},
   "outputs": [],
   "source": [
    "saveRDS(h.L.up.RG.mat,\"./h.L.up.RG.mat.RDS\")\n",
    "saveRDS(h.R.up.RG.mat,\"./h.R.up.RG.mat.RDS\")\n",
    "saveRDS(h.L.up.eN.mat,\"./h.L.up.eN.mat.RDS\")\n",
    "saveRDS(h.R.up.eN.mat,\"./h.R.up.eN.mat.RDS\")"
   ]
  },
  {
   "cell_type": "code",
   "execution_count": 3,
   "id": "4189b054",
   "metadata": {},
   "outputs": [],
   "source": [
    "h.L.up.RG.mat <- readRDS(\"h.L.up.RG.mat.RDS\")\n",
    "h.R.up.RG.mat <- readRDS(\"h.R.up.RG.mat.RDS\")\n",
    "h.L.up.eN.mat <- readRDS(\"h.L.up.eN.mat.RDS\")\n",
    "h.R.up.eN.mat <- readRDS(\"h.R.up.eN.mat.RDS\")"
   ]
  },
  {
   "cell_type": "code",
   "execution_count": 6,
   "id": "39b884dd",
   "metadata": {},
   "outputs": [
    {
     "name": "stderr",
     "output_type": "stream",
     "text": [
      "Warning message:\n",
      "“`breaks` does not have the same length as `color`. The colors are\n",
      "interpolated from the minimal to the maximal of `breaks`.”\n"
     ]
    },
    {
     "data": {
      "text/html": [
       "<strong>png:</strong> 2"
      ],
      "text/latex": [
       "\\textbf{png:} 2"
      ],
      "text/markdown": [
       "**png:** 2"
      ],
      "text/plain": [
       "png \n",
       "  2 "
      ]
     },
     "metadata": {},
     "output_type": "display_data"
    }
   ],
   "source": [
    "options(repr.plot.width=3.7,repr.plot.height=3)\n",
    "pdf(\"../../../FINAL_figures/h.L.up.RG.mat.heatmap.pdf\",width=3.7,height=3)\n",
    "ComplexHeatmap::pheatmap(h.L.up.RG.mat[1:200,1:200]/141,fontsize = 8,\n",
    "                         color=colours,\n",
    "                         #color=viridis::(500,direction = 1),\n",
    "                         #left_annotation = row_ha,\n",
    "                         show_rownames = F,\n",
    "                         breaks=c(0.5,2.5),\n",
    "                         cluster_cols = F,cluster_rows = F,border = FALSE) \n",
    "dev.off()"
   ]
  },
  {
   "cell_type": "code",
   "execution_count": 7,
   "id": "363b5496",
   "metadata": {},
   "outputs": [
    {
     "name": "stderr",
     "output_type": "stream",
     "text": [
      "Warning message:\n",
      "“`breaks` does not have the same length as `color`. The colors are\n",
      "interpolated from the minimal to the maximal of `breaks`.”\n"
     ]
    },
    {
     "data": {
      "text/html": [
       "<strong>png:</strong> 2"
      ],
      "text/latex": [
       "\\textbf{png:} 2"
      ],
      "text/markdown": [
       "**png:** 2"
      ],
      "text/plain": [
       "png \n",
       "  2 "
      ]
     },
     "metadata": {},
     "output_type": "display_data"
    }
   ],
   "source": [
    "pdf(\"../../../FINAL_figures/h.L.up.eN.mat.heatmap.pdf\",width=3.7,height=3)\n",
    "options(repr.plot.width=3.7,repr.plot.height=3)\n",
    "ComplexHeatmap::pheatmap(h.L.up.eN.mat[1:200,1:200]/141,fontsize = 8,\n",
    "                         color=colours,\n",
    "                         #color=viridis::(500,direction = 1),\n",
    "                         #left_annotation = row_ha,\n",
    "                         show_rownames = F,\n",
    "                         breaks=c(0.5,2.5),\n",
    "                         cluster_cols = F,cluster_rows = F,border = FALSE) \n",
    "dev.off()"
   ]
  },
  {
   "cell_type": "code",
   "execution_count": 49,
   "id": "bc9efb99",
   "metadata": {},
   "outputs": [
    {
     "name": "stderr",
     "output_type": "stream",
     "text": [
      "Warning message:\n",
      "“`breaks` does not have the same length as `color`. The colors are\n",
      "interpolated from the minimal to the maximal of `breaks`.”\n"
     ]
    },
    {
     "data": {
      "text/html": [
       "<strong>png:</strong> 2"
      ],
      "text/latex": [
       "\\textbf{png:} 2"
      ],
      "text/markdown": [
       "**png:** 2"
      ],
      "text/plain": [
       "png \n",
       "  2 "
      ]
     },
     "metadata": {},
     "output_type": "display_data"
    }
   ],
   "source": [
    "pdf(\"../../../FINAL_figures/h.R.up.RG.mat.heatmap.pdf\",width=3.7,height=3)\n",
    "ComplexHeatmap::pheatmap(h.R.up.RG.mat[2:201,2:201]/144,fontsize = 8,\n",
    "                         color=colours,\n",
    "                         #color=viridis::(500,direction = 1),\n",
    "                         #left_annotation = row_ha,\n",
    "                         show_rownames = F,\n",
    "                         breaks=c(0.5,2.5),\n",
    "                         cluster_cols = F,cluster_rows = F,border = FALSE) \n",
    "dev.off()"
   ]
  },
  {
   "cell_type": "code",
   "execution_count": 50,
   "id": "649b5a06",
   "metadata": {},
   "outputs": [
    {
     "name": "stderr",
     "output_type": "stream",
     "text": [
      "Warning message:\n",
      "“`breaks` does not have the same length as `color`. The colors are\n",
      "interpolated from the minimal to the maximal of `breaks`.”\n"
     ]
    },
    {
     "data": {
      "text/html": [
       "<strong>png:</strong> 2"
      ],
      "text/latex": [
       "\\textbf{png:} 2"
      ],
      "text/markdown": [
       "**png:** 2"
      ],
      "text/plain": [
       "png \n",
       "  2 "
      ]
     },
     "metadata": {},
     "output_type": "display_data"
    }
   ],
   "source": [
    "pdf(\"../../../FINAL_figures/h.R.up.eN.mat.heatmap.pdf\",width=3.7,height=3)\n",
    "ComplexHeatmap::pheatmap(h.R.up.eN.mat[2:201,2:201]/144,fontsize = 8,\n",
    "                         color=colours,\n",
    "                         #color=viridis::(500,direction = 1),\n",
    "                         #left_annotation = row_ha,\n",
    "                         show_rownames = F,\n",
    "                         breaks=c(0.5,2.5),\n",
    "                         cluster_cols = F,cluster_rows = F,border = FALSE) \n",
    "dev.off()"
   ]
  },
  {
   "cell_type": "markdown",
   "id": "ecc1a814",
   "metadata": {},
   "source": [
    "## R.up"
   ]
  },
  {
   "cell_type": "code",
   "execution_count": 23,
   "id": "c748318c",
   "metadata": {},
   "outputs": [],
   "source": [
    "r.L.up <- RL.UP %>% set_names(\"V1\",\"V2\",\"V3\",\"type\",\"ori\",\"species\") %>%\n",
    "select(V1,V2,V3) %>% distinct() %>%\n",
    "mutate(V2=V2-500000,V3=V2+10000000)\n",
    "\n",
    "r.R.up <- RR.UP %>% set_names(\"V1\",\"V2\",\"V3\",\"type\",\"ori\",\"species\") %>%\n",
    "select(V1,V2,V3) %>% distinct() %>%\n",
    "mutate(V3=V3+500000,V2=V3-10000000) "
   ]
  },
  {
   "cell_type": "code",
   "execution_count": 24,
   "id": "6c0dcc92",
   "metadata": {},
   "outputs": [],
   "source": [
    "r.L.up.RG.mat <- getStripesPlotDF(r.L.up,r.RG.mat)\n",
    "r.R.up.RG.mat <- getStripesPlotDF(r.R.up,r.RG.mat)\n",
    "r.L.up.eN.mat <- getStripesPlotDF(r.L.up,r.eN.mat)\n",
    "r.R.up.eN.mat <- getStripesPlotDF(r.R.up,r.eN.mat)"
   ]
  },
  {
   "cell_type": "code",
   "execution_count": 25,
   "id": "976d7eb3",
   "metadata": {},
   "outputs": [],
   "source": [
    "saveRDS(r.L.up.RG.mat,\"./r.L.up.RG.mat.RDS\")\n",
    "saveRDS(r.R.up.RG.mat,\"./r.R.up.RG.mat.RDS\")\n",
    "saveRDS(r.L.up.eN.mat,\"./r.L.up.eN.mat.RDS\")\n",
    "saveRDS(r.R.up.eN.mat,\"./r.R.up.eN.mat.RDS\")"
   ]
  },
  {
   "cell_type": "code",
   "execution_count": null,
   "id": "67ec88af",
   "metadata": {},
   "outputs": [],
   "source": [
    "r.L.up.RG.mat <- readRDS(\"./r.L.up.RG.mat.RDS\")\n",
    "r.R.up.RG.mat <- readRDS(\"./r.R.up.RG.mat.RDS\")\n",
    "r.L.up.eN.mat <- readRDS(\"./r.L.up.eN.mat.RDS\")\n",
    "r.R.up.eN.mat <- readRDS(\"./r.R.up.eN.mat.RDS\")"
   ]
  },
  {
   "cell_type": "code",
   "execution_count": 73,
   "id": "dee3d803",
   "metadata": {},
   "outputs": [
    {
     "name": "stderr",
     "output_type": "stream",
     "text": [
      "Warning message:\n",
      "“`breaks` does not have the same length as `color`. The colors are\n",
      "interpolated from the minimal to the maximal of `breaks`.”\n"
     ]
    },
    {
     "data": {
      "text/html": [
       "<strong>png:</strong> 2"
      ],
      "text/latex": [
       "\\textbf{png:} 2"
      ],
      "text/markdown": [
       "**png:** 2"
      ],
      "text/plain": [
       "png \n",
       "  2 "
      ]
     },
     "metadata": {},
     "output_type": "display_data"
    }
   ],
   "source": [
    "pdf(\"../../../FINAL_figures/r.L.up.RG.mat.heatmap.pdf\",width=3.7,height=3)\n",
    "ComplexHeatmap::pheatmap(r.L.up.RG.mat[1:200,1:200]/146,fontsize = 8,\n",
    "                         color=colours,\n",
    "                         #color=viridis::(500,direction = 1),\n",
    "                         #left_annotation = row_ha,\n",
    "                         show_rownames = F,\n",
    "                         breaks=c(0.5,2.5),\n",
    "                         cluster_cols = F,cluster_rows = F,border = FALSE) \n",
    "dev.off()"
   ]
  },
  {
   "cell_type": "code",
   "execution_count": 27,
   "id": "241f7377",
   "metadata": {},
   "outputs": [
    {
     "name": "stderr",
     "output_type": "stream",
     "text": [
      "Warning message:\n",
      "“`breaks` does not have the same length as `color`. The colors are\n",
      "interpolated from the minimal to the maximal of `breaks`.”\n"
     ]
    },
    {
     "data": {
      "text/html": [
       "<strong>png:</strong> 2"
      ],
      "text/latex": [
       "\\textbf{png:} 2"
      ],
      "text/markdown": [
       "**png:** 2"
      ],
      "text/plain": [
       "png \n",
       "  2 "
      ]
     },
     "metadata": {},
     "output_type": "display_data"
    }
   ],
   "source": [
    "pdf(\"../../../FINAL_figures/r.L.up.eN.mat.heatmap.pdf\",width=3.7,height=3)\n",
    "ComplexHeatmap::pheatmap(r.L.up.eN.mat[1:200,1:200]/146,fontsize = 8,\n",
    "                         color=colours,\n",
    "                         #color=viridis::(500,direction = 1),\n",
    "                         #left_annotation = row_ha,\n",
    "                         show_rownames = F,\n",
    "                         breaks=c(0.5,2.5),\n",
    "                         cluster_cols = F,cluster_rows = F,border = FALSE)\n",
    "dev.off()"
   ]
  },
  {
   "cell_type": "code",
   "execution_count": 28,
   "id": "c60642ba",
   "metadata": {},
   "outputs": [
    {
     "name": "stderr",
     "output_type": "stream",
     "text": [
      "Warning message:\n",
      "“`breaks` does not have the same length as `color`. The colors are\n",
      "interpolated from the minimal to the maximal of `breaks`.”\n"
     ]
    },
    {
     "data": {
      "text/html": [
       "<strong>png:</strong> 2"
      ],
      "text/latex": [
       "\\textbf{png:} 2"
      ],
      "text/markdown": [
       "**png:** 2"
      ],
      "text/plain": [
       "png \n",
       "  2 "
      ]
     },
     "metadata": {},
     "output_type": "display_data"
    }
   ],
   "source": [
    "pdf(\"../../../FINAL_figures/r.R.up.RG.mat.heatmap.pdf\",width=3.7,height=3)\n",
    "ComplexHeatmap::pheatmap(r.R.up.RG.mat[1:200,1:200]/131,fontsize = 8,\n",
    "                         color=colours,\n",
    "                         #color=viridis::(500,direction = 1),\n",
    "                         #left_annotation = row_ha,\n",
    "                         show_rownames = F,\n",
    "                         breaks=c(0.5,2.5),\n",
    "                         cluster_cols = F,cluster_rows = F,border = FALSE) \n",
    "dev.off()"
   ]
  },
  {
   "cell_type": "code",
   "execution_count": 29,
   "id": "59ebbcaf",
   "metadata": {},
   "outputs": [
    {
     "name": "stderr",
     "output_type": "stream",
     "text": [
      "Warning message:\n",
      "“`breaks` does not have the same length as `color`. The colors are\n",
      "interpolated from the minimal to the maximal of `breaks`.”\n"
     ]
    },
    {
     "data": {
      "text/html": [
       "<strong>png:</strong> 2"
      ],
      "text/latex": [
       "\\textbf{png:} 2"
      ],
      "text/markdown": [
       "**png:** 2"
      ],
      "text/plain": [
       "png \n",
       "  2 "
      ]
     },
     "metadata": {},
     "output_type": "display_data"
    }
   ],
   "source": [
    "pdf(\"../../../FINAL_figures/r.R.up.eN.mat.heatmap.pdf\",width=3.7,height=3)\n",
    "ComplexHeatmap::pheatmap(r.R.up.eN.mat[1:200,1:200]/131,fontsize = 8,\n",
    "                         color=colours,\n",
    "                         #color=viridis::(500,direction = 1),\n",
    "                         #left_annotation = row_ha,\n",
    "                         show_rownames = F,\n",
    "                         breaks=c(0.5,2.5),\n",
    "                         cluster_cols = F,cluster_rows = F,border = FALSE) \n",
    "dev.off()"
   ]
  },
  {
   "cell_type": "markdown",
   "id": "92251b34",
   "metadata": {},
   "source": [
    "## M.up"
   ]
  },
  {
   "cell_type": "code",
   "execution_count": 32,
   "id": "00eb2bb3",
   "metadata": {},
   "outputs": [],
   "source": [
    "m.L.up <- ML.UP %>% set_names(\"V1\",\"V2\",\"V3\",\"type\",\"ori\",\"species\") %>%\n",
    "select(V1,V2,V3) %>% distinct() %>%\n",
    "mutate(V2=V2-500000,V3=V2+10000000)\n",
    "\n",
    "m.R.up <- MR.UP %>% set_names(\"V1\",\"V2\",\"V3\",\"type\",\"ori\",\"species\") %>%\n",
    "select(V1,V2,V3) %>% distinct() %>%\n",
    "mutate(V3=V3+500000,V2=V3-10000000) "
   ]
  },
  {
   "cell_type": "code",
   "execution_count": 33,
   "id": "3ca459d5",
   "metadata": {},
   "outputs": [],
   "source": [
    "m.L.up.RG.mat <- getStripesPlotDF(m.L.up,m.RG.mat)\n",
    "m.R.up.RG.mat <- getStripesPlotDF(m.R.up,m.RG.mat)\n",
    "m.L.up.eN.mat <- getStripesPlotDF(m.L.up,m.eN.mat)\n",
    "m.R.up.eN.mat <- getStripesPlotDF(m.R.up,m.eN.mat)"
   ]
  },
  {
   "cell_type": "code",
   "execution_count": 34,
   "id": "fa1d6f24",
   "metadata": {},
   "outputs": [],
   "source": [
    "saveRDS(m.L.up.RG.mat,\"./m.L.up.RG.mat.RDS\")\n",
    "saveRDS(m.R.up.RG.mat,\"./m.R.up.RG.mat.RDS\")\n",
    "saveRDS(m.L.up.eN.mat,\"./m.L.up.eN.mat.RDS\")\n",
    "saveRDS(m.R.up.eN.mat,\"./m.R.up.eN.mat.RDS\")"
   ]
  },
  {
   "cell_type": "code",
   "execution_count": 35,
   "id": "b025c08d",
   "metadata": {},
   "outputs": [],
   "source": [
    "m.L.up.RG.mat <- readRDS(\"m.L.up.RG.mat.RDS\")\n",
    "m.R.up.RG.mat <- readRDS(\"m.R.up.RG.mat.RDS\")\n",
    "m.L.up.eN.mat <- readRDS(\"m.L.up.eN.mat.RDS\")\n",
    "m.R.up.eN.mat <- readRDS(\"m.R.up.eN.mat.RDS\")"
   ]
  },
  {
   "cell_type": "code",
   "execution_count": 75,
   "id": "88186864",
   "metadata": {},
   "outputs": [
    {
     "name": "stderr",
     "output_type": "stream",
     "text": [
      "Warning message:\n",
      "“`breaks` does not have the same length as `color`. The colors are\n",
      "interpolated from the minimal to the maximal of `breaks`.”\n"
     ]
    },
    {
     "data": {
      "text/html": [
       "<strong>png:</strong> 2"
      ],
      "text/latex": [
       "\\textbf{png:} 2"
      ],
      "text/markdown": [
       "**png:** 2"
      ],
      "text/plain": [
       "png \n",
       "  2 "
      ]
     },
     "metadata": {},
     "output_type": "display_data"
    }
   ],
   "source": [
    "pdf(\"../../../FINAL_figures/m.L.up.RG.mat.heatmap.pdf\",width=3.7,height=3)\n",
    "ComplexHeatmap::pheatmap(m.L.up.RG.mat[1:200,1:200]/138,fontsize = 8,\n",
    "                         color=colours,\n",
    "                         #color=viridis::(500,direction = 1),\n",
    "                         #left_annotation = row_ha,\n",
    "                         show_rownames = F,\n",
    "                         breaks=c(0.5,2.5),\n",
    "                         cluster_cols = F,cluster_rows = F,border = FALSE) \n",
    "dev.off()"
   ]
  },
  {
   "cell_type": "code",
   "execution_count": 37,
   "id": "af992761",
   "metadata": {},
   "outputs": [
    {
     "name": "stderr",
     "output_type": "stream",
     "text": [
      "Warning message:\n",
      "“`breaks` does not have the same length as `color`. The colors are\n",
      "interpolated from the minimal to the maximal of `breaks`.”\n"
     ]
    },
    {
     "data": {
      "text/html": [
       "<strong>png:</strong> 2"
      ],
      "text/latex": [
       "\\textbf{png:} 2"
      ],
      "text/markdown": [
       "**png:** 2"
      ],
      "text/plain": [
       "png \n",
       "  2 "
      ]
     },
     "metadata": {},
     "output_type": "display_data"
    }
   ],
   "source": [
    "pdf(\"../../../FINAL_figures/m.L.up.eN.mat.heatmap.pdf\",width=3.7,height=3)\n",
    "ComplexHeatmap::pheatmap(m.L.up.eN.mat[1:200,1:200]/138,fontsize = 8,\n",
    "                         color=colours,\n",
    "                         #color=viridis::(500,direction = 1),\n",
    "                         #left_annotation = row_ha,\n",
    "                         show_rownames = F,\n",
    "                         breaks=c(0.5,2.5),\n",
    "                         cluster_cols = F,cluster_rows = F,border = FALSE) \n",
    "dev.off()"
   ]
  },
  {
   "cell_type": "code",
   "execution_count": 38,
   "id": "39e2a764",
   "metadata": {},
   "outputs": [
    {
     "name": "stderr",
     "output_type": "stream",
     "text": [
      "Warning message:\n",
      "“`breaks` does not have the same length as `color`. The colors are\n",
      "interpolated from the minimal to the maximal of `breaks`.”\n"
     ]
    },
    {
     "data": {
      "text/html": [
       "<strong>png:</strong> 2"
      ],
      "text/latex": [
       "\\textbf{png:} 2"
      ],
      "text/markdown": [
       "**png:** 2"
      ],
      "text/plain": [
       "png \n",
       "  2 "
      ]
     },
     "metadata": {},
     "output_type": "display_data"
    }
   ],
   "source": [
    "pdf(\"../../../FINAL_figures/m.R.up.RG.mat.heatmap.pdf\",width=3.7,height=3)\n",
    "ComplexHeatmap::pheatmap(m.R.up.RG.mat[1:200,1:200]/139,fontsize = 8,\n",
    "                         color=colours,\n",
    "                         #color=viridis::(500,direction = 1),\n",
    "                         #left_annotation = row_ha,\n",
    "                         show_rownames = F,\n",
    "                         breaks=c(0.5,2.5),\n",
    "                         cluster_cols = F,cluster_rows = F,border = FALSE) \n",
    "dev.off()"
   ]
  },
  {
   "cell_type": "code",
   "execution_count": 39,
   "id": "72efd18d",
   "metadata": {},
   "outputs": [
    {
     "name": "stderr",
     "output_type": "stream",
     "text": [
      "Warning message:\n",
      "“`breaks` does not have the same length as `color`. The colors are\n",
      "interpolated from the minimal to the maximal of `breaks`.”\n"
     ]
    },
    {
     "data": {
      "text/html": [
       "<strong>png:</strong> 2"
      ],
      "text/latex": [
       "\\textbf{png:} 2"
      ],
      "text/markdown": [
       "**png:** 2"
      ],
      "text/plain": [
       "png \n",
       "  2 "
      ]
     },
     "metadata": {},
     "output_type": "display_data"
    }
   ],
   "source": [
    "pdf(\"../../../FINAL_figures/m.R.up.eN.mat.heatmap.pdf\",width=3.7,height=3)\n",
    "ComplexHeatmap::pheatmap(m.R.up.eN.mat[1:200,1:200]/139,fontsize = 8,\n",
    "                         color=colours,\n",
    "                         #color=viridis::(500,direction = 1),\n",
    "                         #left_annotation = row_ha,\n",
    "                         show_rownames = F,\n",
    "                         breaks=c(0.5,2.5),\n",
    "                         cluster_cols = F,cluster_rows = F,border = FALSE) \n",
    "dev.off()"
   ]
  },
  {
   "cell_type": "markdown",
   "id": "63f84136",
   "metadata": {},
   "source": [
    "## h.down"
   ]
  },
  {
   "cell_type": "code",
   "execution_count": 16,
   "id": "5b887d81",
   "metadata": {},
   "outputs": [],
   "source": [
    "h.L.d <- HL.DOWN %>% set_names(\"V1\",\"V2\",\"V3\",\"type\",\"ori\",\"species\") %>%\n",
    "select(V1,V2,V3) %>% distinct() %>%\n",
    "mutate(V2=V2-500000,V3=V2+10000000)\n",
    "\n",
    "h.R.d <- HR.DOWN %>% set_names(\"V1\",\"V2\",\"V3\",\"type\",\"ori\",\"species\") %>%\n",
    "select(V1,V2,V3) %>% distinct() %>%\n",
    "mutate(V3=V3+500000,V2=V3-10000000) "
   ]
  },
  {
   "cell_type": "code",
   "execution_count": 17,
   "id": "a8628d3e",
   "metadata": {},
   "outputs": [],
   "source": [
    "h.L.d.RG.mat <- getStripesPlotDF(h.L.d,h.RG.mat)\n",
    "h.R.d.RG.mat <- getStripesPlotDF(h.R.d,h.RG.mat)\n",
    "h.L.d.eN.mat <- getStripesPlotDF(h.L.d,h.eN.mat)\n",
    "h.R.d.eN.mat <- getStripesPlotDF(h.R.d,h.eN.mat)"
   ]
  },
  {
   "cell_type": "code",
   "execution_count": 18,
   "id": "e059f3e4",
   "metadata": {},
   "outputs": [],
   "source": [
    "saveRDS(h.L.d.RG.mat,\"./h.L.down.RG.mat.RDS\")\n",
    "saveRDS(h.R.d.RG.mat,\"./h.R.down.RG.mat.RDS\")\n",
    "saveRDS(h.L.d.eN.mat,\"./h.L.down.eN.mat.RDS\")\n",
    "saveRDS(h.R.d.eN.mat,\"./h.R.down.eN.mat.RDS\")"
   ]
  },
  {
   "cell_type": "code",
   "execution_count": 40,
   "id": "24162818",
   "metadata": {},
   "outputs": [],
   "source": [
    "h.L.d.RG.mat <- readRDS(\"./h.L.down.RG.mat.RDS\")\n",
    "h.R.d.RG.mat <- readRDS(\"./h.R.down.RG.mat.RDS\")\n",
    "h.L.d.eN.mat <- readRDS(\"./h.L.down.eN.mat.RDS\")\n",
    "h.R.d.eN.mat <- readRDS(\"./h.R.down.eN.mat.RDS\")"
   ]
  },
  {
   "cell_type": "code",
   "execution_count": 77,
   "id": "13973ec9",
   "metadata": {},
   "outputs": [
    {
     "name": "stderr",
     "output_type": "stream",
     "text": [
      "Warning message:\n",
      "“`breaks` does not have the same length as `color`. The colors are\n",
      "interpolated from the minimal to the maximal of `breaks`.”\n"
     ]
    },
    {
     "data": {
      "text/html": [
       "<strong>png:</strong> 2"
      ],
      "text/latex": [
       "\\textbf{png:} 2"
      ],
      "text/markdown": [
       "**png:** 2"
      ],
      "text/plain": [
       "png \n",
       "  2 "
      ]
     },
     "metadata": {},
     "output_type": "display_data"
    }
   ],
   "source": [
    "pdf(\"../../../FINAL_figures/h.L.down.RG.mat.heatmap.pdf\",width=3.7,height=3)\n",
    "ComplexHeatmap::pheatmap(h.L.d.RG.mat[1:101,1:101]/48,fontsize = 8,\n",
    "                         color=colours,\n",
    "                         #color=viridis::(500,direction = 1),\n",
    "                         #left_annotation = row_ha,\n",
    "                         show_rownames = F,\n",
    "                         breaks=c(0.5,2.5),\n",
    "                         cluster_cols = F,cluster_rows = F,border = FALSE) \n",
    "dev.off()"
   ]
  },
  {
   "cell_type": "code",
   "execution_count": 78,
   "id": "02e4c49f",
   "metadata": {},
   "outputs": [
    {
     "name": "stderr",
     "output_type": "stream",
     "text": [
      "Warning message:\n",
      "“`breaks` does not have the same length as `color`. The colors are\n",
      "interpolated from the minimal to the maximal of `breaks`.”\n"
     ]
    },
    {
     "data": {
      "text/html": [
       "<strong>png:</strong> 2"
      ],
      "text/latex": [
       "\\textbf{png:} 2"
      ],
      "text/markdown": [
       "**png:** 2"
      ],
      "text/plain": [
       "png \n",
       "  2 "
      ]
     },
     "metadata": {},
     "output_type": "display_data"
    }
   ],
   "source": [
    "pdf(\"../../../FINAL_figures/h.L.down.eN.mat.heatmap.pdf\",width=3.7,height=3)\n",
    "ComplexHeatmap::pheatmap(h.L.d.eN.mat[1:101,1:101]/48,fontsize = 8,\n",
    "                         color=colours,\n",
    "                         #color=viridis::(500,direction = 1),\n",
    "                         #left_annotation = row_ha,\n",
    "                         show_rownames = F,\n",
    "                         breaks=c(0.5,2.5),\n",
    "                         cluster_cols = F,cluster_rows = F,border = FALSE) \n",
    "dev.off()"
   ]
  },
  {
   "cell_type": "code",
   "execution_count": 43,
   "id": "5b7cdcb0",
   "metadata": {},
   "outputs": [
    {
     "name": "stderr",
     "output_type": "stream",
     "text": [
      "Warning message:\n",
      "“`breaks` does not have the same length as `color`. The colors are\n",
      "interpolated from the minimal to the maximal of `breaks`.”\n"
     ]
    },
    {
     "data": {
      "text/html": [
       "<strong>png:</strong> 2"
      ],
      "text/latex": [
       "\\textbf{png:} 2"
      ],
      "text/markdown": [
       "**png:** 2"
      ],
      "text/plain": [
       "png \n",
       "  2 "
      ]
     },
     "metadata": {},
     "output_type": "display_data"
    }
   ],
   "source": [
    "pdf(\"../../../FINAL_figures/h.R.down.RG.mat.heatmap.pdf\",width=3.7,height=3)\n",
    "ComplexHeatmap::pheatmap(h.R.d.RG.mat[101:201,101:201]/43,fontsize = 8,\n",
    "                         color=colours,\n",
    "                         #color=viridis::(500,direction = 1),\n",
    "                         #left_annotation = row_ha,\n",
    "                         show_rownames = F,\n",
    "                         breaks=c(0.5,2.5),\n",
    "                         cluster_cols = F,cluster_rows = F,border = FALSE) \n",
    "dev.off()"
   ]
  },
  {
   "cell_type": "code",
   "execution_count": 44,
   "id": "0d2d4dfe",
   "metadata": {},
   "outputs": [
    {
     "name": "stderr",
     "output_type": "stream",
     "text": [
      "Warning message:\n",
      "“`breaks` does not have the same length as `color`. The colors are\n",
      "interpolated from the minimal to the maximal of `breaks`.”\n"
     ]
    },
    {
     "data": {
      "text/html": [
       "<strong>png:</strong> 2"
      ],
      "text/latex": [
       "\\textbf{png:} 2"
      ],
      "text/markdown": [
       "**png:** 2"
      ],
      "text/plain": [
       "png \n",
       "  2 "
      ]
     },
     "metadata": {},
     "output_type": "display_data"
    }
   ],
   "source": [
    "pdf(\"../../../FINAL_figures/h.R.down.eN.mat.heatmap.pdf\",width=3.7,height=3)\n",
    "ComplexHeatmap::pheatmap(h.R.d.eN.mat[101:201,101:201]/43,fontsize = 8,\n",
    "                         color=colours,\n",
    "                         #color=viridis::(500,direction = 1),\n",
    "                         #left_annotation = row_ha,\n",
    "                         show_rownames = F,\n",
    "                         breaks=c(0.5,2.5),\n",
    "                         cluster_cols = F,cluster_rows = F,border = FALSE) \n",
    "dev.off()"
   ]
  },
  {
   "cell_type": "markdown",
   "id": "51ec3d82",
   "metadata": {},
   "source": [
    "## r.down"
   ]
  },
  {
   "cell_type": "code",
   "execution_count": 25,
   "id": "c65b8228",
   "metadata": {},
   "outputs": [],
   "source": [
    "r.L.d <- RL.DOWN %>% set_names(\"V1\",\"V2\",\"V3\",\"type\",\"ori\",\"species\") %>%\n",
    "select(V1,V2,V3) %>% distinct() %>%\n",
    "mutate(V2=V2-500000,V3=V2+10000000)\n",
    "\n",
    "r.R.d <- RR.DOWN %>% set_names(\"V1\",\"V2\",\"V3\",\"type\",\"ori\",\"species\") %>%\n",
    "select(V1,V2,V3) %>% distinct() %>%\n",
    "mutate(V3=V3+500000,V2=V3-10000000) "
   ]
  },
  {
   "cell_type": "code",
   "execution_count": 26,
   "id": "2e2e94fd",
   "metadata": {},
   "outputs": [],
   "source": [
    "r.L.d.RG.mat <- getStripesPlotDF(r.L.d,r.RG.mat)\n",
    "r.R.d.RG.mat <- getStripesPlotDF(r.R.d,r.RG.mat)\n",
    "r.L.d.eN.mat <- getStripesPlotDF(r.L.d,r.eN.mat)\n",
    "r.R.d.eN.mat <- getStripesPlotDF(r.R.d,r.eN.mat)"
   ]
  },
  {
   "cell_type": "code",
   "execution_count": 27,
   "id": "790663ee",
   "metadata": {},
   "outputs": [],
   "source": [
    "saveRDS(r.L.d.RG.mat,\"./r.L.down.RG.mat.RDS\")\n",
    "saveRDS(r.R.d.RG.mat,\"./r.R.down.RG.mat.RDS\")\n",
    "saveRDS(r.L.d.eN.mat,\"./r.L.down.eN.mat.RDS\")\n",
    "saveRDS(r.R.d.eN.mat,\"./r.R.down.eN.mat.RDS\")"
   ]
  },
  {
   "cell_type": "code",
   "execution_count": 45,
   "id": "86537148",
   "metadata": {},
   "outputs": [],
   "source": [
    "r.L.d.RG.mat <- readRDS(\"./r.L.down.RG.mat.RDS\")\n",
    "r.R.d.RG.mat <- readRDS(\"./r.R.down.RG.mat.RDS\")\n",
    "r.L.d.eN.mat <- readRDS(\"./r.L.down.eN.mat.RDS\")\n",
    "r.R.d.eN.mat <- readRDS(\"./r.R.down.eN.mat.RDS\")"
   ]
  },
  {
   "cell_type": "code",
   "execution_count": 80,
   "id": "1c23247b",
   "metadata": {},
   "outputs": [
    {
     "name": "stderr",
     "output_type": "stream",
     "text": [
      "Warning message:\n",
      "“`breaks` does not have the same length as `color`. The colors are\n",
      "interpolated from the minimal to the maximal of `breaks`.”\n"
     ]
    },
    {
     "data": {
      "text/html": [
       "<strong>png:</strong> 2"
      ],
      "text/latex": [
       "\\textbf{png:} 2"
      ],
      "text/markdown": [
       "**png:** 2"
      ],
      "text/plain": [
       "png \n",
       "  2 "
      ]
     },
     "metadata": {},
     "output_type": "display_data"
    }
   ],
   "source": [
    "pdf(\"../../../FINAL_figures/r.L.down.RG.mat.heatmap.pdf\",width=3.7,height=3)\n",
    "ComplexHeatmap::pheatmap(r.L.d.RG.mat[1:101,1:101]/58,fontsize = 8,\n",
    "                         color=colours,\n",
    "                         #color=viridis::(500,direction = 1),\n",
    "                         #left_annotation = row_ha,\n",
    "                         show_rownames = F,\n",
    "                         breaks=c(0.5,2.5),\n",
    "                         cluster_cols = F,cluster_rows = F,border = FALSE) \n",
    "dev.off()"
   ]
  },
  {
   "cell_type": "code",
   "execution_count": 81,
   "id": "c7686933",
   "metadata": {},
   "outputs": [
    {
     "name": "stderr",
     "output_type": "stream",
     "text": [
      "Warning message:\n",
      "“`breaks` does not have the same length as `color`. The colors are\n",
      "interpolated from the minimal to the maximal of `breaks`.”\n"
     ]
    },
    {
     "data": {
      "text/html": [
       "<strong>png:</strong> 2"
      ],
      "text/latex": [
       "\\textbf{png:} 2"
      ],
      "text/markdown": [
       "**png:** 2"
      ],
      "text/plain": [
       "png \n",
       "  2 "
      ]
     },
     "metadata": {},
     "output_type": "display_data"
    }
   ],
   "source": [
    "pdf(\"../../../FINAL_figures/r.L.down.eN.mat.heatmap.pdf\",width=3.7,height=3)\n",
    "ComplexHeatmap::pheatmap(r.L.d.eN.mat[1:101,1:101]/58,fontsize = 8,\n",
    "                         color=colours,\n",
    "                         #color=viridis::(500,direction = 1),\n",
    "                         #left_annotation = row_ha,\n",
    "                         show_rownames = F,\n",
    "                         breaks=c(0.5,2.5),\n",
    "                         cluster_cols = F,cluster_rows = F,border = FALSE) \n",
    "dev.off()"
   ]
  },
  {
   "cell_type": "code",
   "execution_count": 51,
   "id": "b16e3b3c",
   "metadata": {},
   "outputs": [
    {
     "name": "stderr",
     "output_type": "stream",
     "text": [
      "Warning message:\n",
      "“`breaks` does not have the same length as `color`. The colors are\n",
      "interpolated from the minimal to the maximal of `breaks`.”\n"
     ]
    },
    {
     "data": {
      "text/html": [
       "<strong>png:</strong> 2"
      ],
      "text/latex": [
       "\\textbf{png:} 2"
      ],
      "text/markdown": [
       "**png:** 2"
      ],
      "text/plain": [
       "png \n",
       "  2 "
      ]
     },
     "metadata": {},
     "output_type": "display_data"
    }
   ],
   "source": [
    "pdf(\"../../../FINAL_figures/r.R.down.RG.mat.heatmap.pdf\",width=3.7,height=3)\n",
    "ComplexHeatmap::pheatmap(r.R.d.RG.mat[101:200,101:200]/33,fontsize = 8,\n",
    "                         color=colours,\n",
    "                         #color=viridis::(500,direction = 1),\n",
    "                         #left_annotation = row_ha,\n",
    "                         show_rownames = F,\n",
    "                         breaks=c(0.5,2.5),\n",
    "                         cluster_cols = F,cluster_rows = F,border = FALSE) \n",
    "dev.off()"
   ]
  },
  {
   "cell_type": "code",
   "execution_count": 52,
   "id": "79db989c",
   "metadata": {},
   "outputs": [
    {
     "name": "stderr",
     "output_type": "stream",
     "text": [
      "Warning message:\n",
      "“`breaks` does not have the same length as `color`. The colors are\n",
      "interpolated from the minimal to the maximal of `breaks`.”\n"
     ]
    },
    {
     "data": {
      "text/html": [
       "<strong>png:</strong> 2"
      ],
      "text/latex": [
       "\\textbf{png:} 2"
      ],
      "text/markdown": [
       "**png:** 2"
      ],
      "text/plain": [
       "png \n",
       "  2 "
      ]
     },
     "metadata": {},
     "output_type": "display_data"
    }
   ],
   "source": [
    "pdf(\"../../../FINAL_figures/r.R.down.eN.mat.heatmap.pdf\",width=3.7,height=3)\n",
    "ComplexHeatmap::pheatmap(r.R.d.eN.mat[101:200,101:200]/33,fontsize = 8,\n",
    "                         color=colours,\n",
    "                         #color=viridis::(500,direction = 1),\n",
    "                         #left_annotation = row_ha,\n",
    "                         show_rownames = F,\n",
    "                         breaks=c(0.5,2.5),\n",
    "                         cluster_cols = F,cluster_rows = F,border = FALSE) \n",
    "dev.off()"
   ]
  },
  {
   "cell_type": "markdown",
   "id": "f49ffa84",
   "metadata": {},
   "source": [
    "## m.down"
   ]
  },
  {
   "cell_type": "code",
   "execution_count": 32,
   "id": "d9c73ca8",
   "metadata": {},
   "outputs": [],
   "source": [
    "m.L.d <- ML.DOWN %>% set_names(\"V1\",\"V2\",\"V3\",\"type\",\"ori\",\"species\") %>%\n",
    "select(V1,V2,V3) %>% distinct() %>%\n",
    "mutate(V2=V2-500000,V3=V2+10000000)\n",
    "\n",
    "m.R.d <- MR.DOWN %>% set_names(\"V1\",\"V2\",\"V3\",\"type\",\"ori\",\"species\") %>%\n",
    "select(V1,V2,V3) %>% distinct() %>%\n",
    "mutate(V3=V3+500000,V2=V3-10000000) "
   ]
  },
  {
   "cell_type": "code",
   "execution_count": 33,
   "id": "e33e8c95",
   "metadata": {},
   "outputs": [],
   "source": [
    "m.L.d.RG.mat <- getStripesPlotDF(m.L.d,m.RG.mat)\n",
    "m.R.d.RG.mat <- getStripesPlotDF(m.R.d,m.RG.mat)\n",
    "m.L.d.eN.mat <- getStripesPlotDF(m.L.d,m.eN.mat)\n",
    "m.R.d.eN.mat <- getStripesPlotDF(m.R.d,m.eN.mat)"
   ]
  },
  {
   "cell_type": "code",
   "execution_count": 34,
   "id": "68297d48",
   "metadata": {},
   "outputs": [],
   "source": [
    "saveRDS(m.L.d.RG.mat,\"./m.L.down.RG.mat.RDS\")\n",
    "saveRDS(m.R.d.RG.mat,\"./m.R.down.RG.mat.RDS\")\n",
    "saveRDS(m.L.d.eN.mat,\"./m.L.down.eN.mat.RDS\")\n",
    "saveRDS(m.R.d.eN.mat,\"./m.R.down.eN.mat.RDS\")"
   ]
  },
  {
   "cell_type": "code",
   "execution_count": 53,
   "id": "a189a9d3",
   "metadata": {},
   "outputs": [],
   "source": [
    "m.L.d.RG.mat <- readRDS(\"./m.L.down.RG.mat.RDS\")\n",
    "m.R.d.RG.mat <- readRDS(\"./m.R.down.RG.mat.RDS\")\n",
    "m.L.d.eN.mat <- readRDS(\"./m.L.down.eN.mat.RDS\")\n",
    "m.R.d.eN.mat <- readRDS(\"./m.R.down.eN.mat.RDS\")"
   ]
  },
  {
   "cell_type": "code",
   "execution_count": 54,
   "id": "7f572d28",
   "metadata": {},
   "outputs": [
    {
     "name": "stderr",
     "output_type": "stream",
     "text": [
      "Warning message:\n",
      "“`breaks` does not have the same length as `color`. The colors are\n",
      "interpolated from the minimal to the maximal of `breaks`.”\n"
     ]
    },
    {
     "data": {
      "text/html": [
       "<strong>png:</strong> 2"
      ],
      "text/latex": [
       "\\textbf{png:} 2"
      ],
      "text/markdown": [
       "**png:** 2"
      ],
      "text/plain": [
       "png \n",
       "  2 "
      ]
     },
     "metadata": {},
     "output_type": "display_data"
    }
   ],
   "source": [
    "pdf(\"../../../FINAL_figures/m.L.down.RG.mat.heatmap.pdf\",width=3.7,height=3)\n",
    "ComplexHeatmap::pheatmap(m.L.d.RG.mat[1:100,1:100]/43,fontsize = 8,\n",
    "                         color=colours,\n",
    "                         #color=viridis::(500,direction = 1),\n",
    "                         #left_annotation = row_ha,\n",
    "                         show_rownames = F,\n",
    "                         breaks=c(0.5,2.5),\n",
    "                         cluster_cols = F,cluster_rows = F,border = FALSE) \n",
    "dev.off()"
   ]
  },
  {
   "cell_type": "code",
   "execution_count": 55,
   "id": "b2abba10",
   "metadata": {},
   "outputs": [
    {
     "name": "stderr",
     "output_type": "stream",
     "text": [
      "Warning message:\n",
      "“`breaks` does not have the same length as `color`. The colors are\n",
      "interpolated from the minimal to the maximal of `breaks`.”\n"
     ]
    },
    {
     "data": {
      "text/html": [
       "<strong>png:</strong> 2"
      ],
      "text/latex": [
       "\\textbf{png:} 2"
      ],
      "text/markdown": [
       "**png:** 2"
      ],
      "text/plain": [
       "png \n",
       "  2 "
      ]
     },
     "metadata": {},
     "output_type": "display_data"
    }
   ],
   "source": [
    "pdf(\"../../../FINAL_figures/m.L.down.eN.mat.heatmap.pdf\",width=3.7,height=3)\n",
    "ComplexHeatmap::pheatmap(m.L.d.eN.mat[1:100,1:100]/43,fontsize = 8,\n",
    "                         color=colours,\n",
    "                         #color=viridis::(500,direction = 1),\n",
    "                         #left_annotation = row_ha,\n",
    "                         show_rownames = F,\n",
    "                         breaks=c(0.5,2.5),\n",
    "                         cluster_cols = F,cluster_rows = F,border = FALSE) \n",
    "dev.off()"
   ]
  },
  {
   "cell_type": "code",
   "execution_count": 56,
   "id": "ec764a2d",
   "metadata": {},
   "outputs": [
    {
     "name": "stderr",
     "output_type": "stream",
     "text": [
      "Warning message:\n",
      "“`breaks` does not have the same length as `color`. The colors are\n",
      "interpolated from the minimal to the maximal of `breaks`.”\n"
     ]
    },
    {
     "data": {
      "text/html": [
       "<strong>png:</strong> 2"
      ],
      "text/latex": [
       "\\textbf{png:} 2"
      ],
      "text/markdown": [
       "**png:** 2"
      ],
      "text/plain": [
       "png \n",
       "  2 "
      ]
     },
     "metadata": {},
     "output_type": "display_data"
    }
   ],
   "source": [
    "pdf(\"../../../FINAL_figures/m.R.down.RG.mat.heatmap.pdf\",width=3.7,height=3)\n",
    "ComplexHeatmap::pheatmap(m.R.d.RG.mat[101:200,101:200]/48,fontsize = 8,\n",
    "                         color=colours,\n",
    "                         #color=viridis::(500,direction = 1),\n",
    "                         #left_annotation = row_ha,\n",
    "                         show_rownames = F,\n",
    "                         breaks=c(0.5,2.5),\n",
    "                         cluster_cols = F,cluster_rows = F,border = FALSE) \n",
    "dev.off()"
   ]
  },
  {
   "cell_type": "code",
   "execution_count": 57,
   "id": "705be732",
   "metadata": {},
   "outputs": [
    {
     "name": "stderr",
     "output_type": "stream",
     "text": [
      "Warning message:\n",
      "“`breaks` does not have the same length as `color`. The colors are\n",
      "interpolated from the minimal to the maximal of `breaks`.”\n"
     ]
    },
    {
     "data": {
      "text/html": [
       "<strong>png:</strong> 2"
      ],
      "text/latex": [
       "\\textbf{png:} 2"
      ],
      "text/markdown": [
       "**png:** 2"
      ],
      "text/plain": [
       "png \n",
       "  2 "
      ]
     },
     "metadata": {},
     "output_type": "display_data"
    }
   ],
   "source": [
    "pdf(\"../../../FINAL_figures/m.R.down.eN.mat.heatmap.pdf\",width=3.7,height=3)\n",
    "ComplexHeatmap::pheatmap(m.R.d.eN.mat[101:200,101:200]/48,fontsize = 8,\n",
    "                         color=colours,\n",
    "                         #color=viridis::(500,direction = 1),\n",
    "                         #left_annotation = row_ha,\n",
    "                         show_rownames = F,\n",
    "                         breaks=c(0.5,2.5),\n",
    "                         cluster_cols = F,cluster_rows = F,border = FALSE) \n",
    "dev.off()"
   ]
  },
  {
   "cell_type": "markdown",
   "id": "af64cbf6",
   "metadata": {},
   "source": [
    "## h.not"
   ]
  },
  {
   "cell_type": "code",
   "execution_count": 42,
   "id": "b7311ed8",
   "metadata": {},
   "outputs": [],
   "source": [
    "h.L.n <- HL.NOT %>% set_names(\"V1\",\"V2\",\"V3\",\"type\",\"ori\",\"species\") %>%\n",
    "select(V1,V2,V3) %>% distinct() %>%\n",
    "mutate(V2=V2-500000,V3=V2+10000000)\n",
    "\n",
    "h.R.n <- HR.NOT %>% set_names(\"V1\",\"V2\",\"V3\",\"type\",\"ori\",\"species\") %>%\n",
    "select(V1,V2,V3) %>% distinct() %>%\n",
    "mutate(V3=V3+500000,V2=V3-10000000) "
   ]
  },
  {
   "cell_type": "code",
   "execution_count": 43,
   "id": "46935e92",
   "metadata": {},
   "outputs": [],
   "source": [
    "h.L.n.RG.mat <- getStripesPlotDF(h.L.n,h.RG.mat)\n",
    "h.R.n.RG.mat <- getStripesPlotDF(h.R.n,h.RG.mat)\n",
    "h.L.n.eN.mat <- getStripesPlotDF(h.L.n,h.eN.mat)\n",
    "h.R.n.eN.mat <- getStripesPlotDF(h.R.n,h.eN.mat)"
   ]
  },
  {
   "cell_type": "code",
   "execution_count": 44,
   "id": "9f1ed86b",
   "metadata": {},
   "outputs": [],
   "source": [
    "saveRDS(h.L.n.RG.mat,\"./h.L.not.RG.mat.RDS\")\n",
    "saveRDS(h.R.n.RG.mat,\"./h.R.not.RG.mat.RDS\")\n",
    "saveRDS(h.L.n.eN.mat,\"./h.L.not.eN.mat.RDS\")\n",
    "saveRDS(h.R.n.eN.mat,\"./h.R.not.eN.mat.RDS\")"
   ]
  },
  {
   "cell_type": "code",
   "execution_count": 58,
   "id": "1a9442a7",
   "metadata": {},
   "outputs": [],
   "source": [
    "h.L.n.RG.mat <- readRDS(\"./h.L.not.RG.mat.RDS\")\n",
    "h.R.n.RG.mat <- readRDS(\"./h.R.not.RG.mat.RDS\")\n",
    "h.L.n.eN.mat <- readRDS(\"./h.L.not.eN.mat.RDS\")\n",
    "h.R.n.eN.mat <- readRDS(\"./h.R.not.eN.mat.RDS\")"
   ]
  },
  {
   "cell_type": "code",
   "execution_count": 59,
   "id": "75df56c2",
   "metadata": {},
   "outputs": [
    {
     "name": "stderr",
     "output_type": "stream",
     "text": [
      "Warning message:\n",
      "“`breaks` does not have the same length as `color`. The colors are\n",
      "interpolated from the minimal to the maximal of `breaks`.”\n"
     ]
    },
    {
     "data": {
      "text/html": [
       "<strong>png:</strong> 2"
      ],
      "text/latex": [
       "\\textbf{png:} 2"
      ],
      "text/markdown": [
       "**png:** 2"
      ],
      "text/plain": [
       "png \n",
       "  2 "
      ]
     },
     "metadata": {},
     "output_type": "display_data"
    }
   ],
   "source": [
    "pdf(\"../../../FINAL_figures/h.L.not.RG.mat.heatmap.pdf\",width=3.7,height=3)\n",
    "ComplexHeatmap::pheatmap(h.L.n.RG.mat[1:201,1:201]/1171,fontsize = 8,\n",
    "                         color=colours,\n",
    "                         #color=viridis::(500,direction = 1),\n",
    "                         #left_annotation = row_ha,\n",
    "                         show_rownames = F,\n",
    "                         breaks=c(0.5,2.5),\n",
    "                         cluster_cols = F,cluster_rows = F,border = FALSE) \n",
    "dev.off()"
   ]
  },
  {
   "cell_type": "code",
   "execution_count": 60,
   "id": "5d11ebd5",
   "metadata": {},
   "outputs": [
    {
     "name": "stderr",
     "output_type": "stream",
     "text": [
      "Warning message:\n",
      "“`breaks` does not have the same length as `color`. The colors are\n",
      "interpolated from the minimal to the maximal of `breaks`.”\n"
     ]
    },
    {
     "data": {
      "text/html": [
       "<strong>png:</strong> 2"
      ],
      "text/latex": [
       "\\textbf{png:} 2"
      ],
      "text/markdown": [
       "**png:** 2"
      ],
      "text/plain": [
       "png \n",
       "  2 "
      ]
     },
     "metadata": {},
     "output_type": "display_data"
    }
   ],
   "source": [
    "pdf(\"../../../FINAL_figures/h.L.not.eN.mat.heatmap.pdf\",width=3.7,height=3)\n",
    "ComplexHeatmap::pheatmap(h.L.n.eN.mat[1:201,1:201]/1171,fontsize = 8,\n",
    "                         color=colours,\n",
    "                         #color=viridis::(500,direction = 1),\n",
    "                         #left_annotation = row_ha,\n",
    "                         show_rownames = F,\n",
    "                         breaks=c(0.5,2.5),\n",
    "                         cluster_cols = F,cluster_rows = F,border = FALSE) \n",
    "dev.off()"
   ]
  },
  {
   "cell_type": "code",
   "execution_count": 61,
   "id": "d7f0e368",
   "metadata": {},
   "outputs": [
    {
     "name": "stderr",
     "output_type": "stream",
     "text": [
      "Warning message:\n",
      "“`breaks` does not have the same length as `color`. The colors are\n",
      "interpolated from the minimal to the maximal of `breaks`.”\n"
     ]
    },
    {
     "data": {
      "text/html": [
       "<strong>png:</strong> 2"
      ],
      "text/latex": [
       "\\textbf{png:} 2"
      ],
      "text/markdown": [
       "**png:** 2"
      ],
      "text/plain": [
       "png \n",
       "  2 "
      ]
     },
     "metadata": {},
     "output_type": "display_data"
    }
   ],
   "source": [
    "pdf(\"../../../FINAL_figures/h.R.not.RG.mat.heatmap.pdf\",width=3.7,height=3)\n",
    "ComplexHeatmap::pheatmap(h.R.n.RG.mat/1046,fontsize = 8,\n",
    "                         color=colours,\n",
    "                         #color=viridis::(500,direction = 1),\n",
    "                         #left_annotation = row_ha,\n",
    "                         show_rownames = F,\n",
    "                         breaks=c(0.5,2.5),\n",
    "                         cluster_cols = F,cluster_rows = F,border = FALSE) \n",
    "dev.off()"
   ]
  },
  {
   "cell_type": "code",
   "execution_count": 62,
   "id": "5904e5d8",
   "metadata": {},
   "outputs": [
    {
     "name": "stderr",
     "output_type": "stream",
     "text": [
      "Warning message:\n",
      "“`breaks` does not have the same length as `color`. The colors are\n",
      "interpolated from the minimal to the maximal of `breaks`.”\n"
     ]
    },
    {
     "data": {
      "text/html": [
       "<strong>png:</strong> 2"
      ],
      "text/latex": [
       "\\textbf{png:} 2"
      ],
      "text/markdown": [
       "**png:** 2"
      ],
      "text/plain": [
       "png \n",
       "  2 "
      ]
     },
     "metadata": {},
     "output_type": "display_data"
    }
   ],
   "source": [
    "pdf(\"../../../FINAL_figures/h.R.not.eN.mat.heatmap.pdf\",width=3.7,height=3)\n",
    "ComplexHeatmap::pheatmap(h.R.n.eN.mat/1046,fontsize = 8,\n",
    "                         color=colours,\n",
    "                         #color=viridis::(500,direction = 1),\n",
    "                         #left_annotation = row_ha,\n",
    "                         show_rownames = F,\n",
    "                         breaks=c(0.5,2.5),\n",
    "                         cluster_cols = F,cluster_rows = F,border = FALSE) \n",
    "dev.off()"
   ]
  },
  {
   "cell_type": "markdown",
   "id": "1554b0b6",
   "metadata": {},
   "source": [
    "## r.not"
   ]
  },
  {
   "cell_type": "code",
   "execution_count": 51,
   "id": "7b0a7aa4",
   "metadata": {},
   "outputs": [],
   "source": [
    "r.L.n <- RL.NOT %>% set_names(\"V1\",\"V2\",\"V3\",\"type\",\"ori\",\"species\") %>%\n",
    "select(V1,V2,V3) %>% distinct() %>%\n",
    "mutate(V2=V2-500000,V3=V2+10000000)\n",
    "\n",
    "r.R.n <- RR.NOT %>% set_names(\"V1\",\"V2\",\"V3\",\"type\",\"ori\",\"species\") %>%\n",
    "select(V1,V2,V3) %>% distinct() %>%\n",
    "mutate(V3=V3+500000,V2=V3-10000000) "
   ]
  },
  {
   "cell_type": "code",
   "execution_count": 52,
   "id": "61ff22d5",
   "metadata": {},
   "outputs": [],
   "source": [
    "r.L.n.RG.mat <- getStripesPlotDF(r.L.n,r.RG.mat)\n",
    "r.R.n.RG.mat <- getStripesPlotDF(r.R.n,r.RG.mat)\n",
    "r.L.n.eN.mat <- getStripesPlotDF(r.L.n,r.eN.mat)\n",
    "r.R.n.eN.mat <- getStripesPlotDF(r.R.n,r.eN.mat)"
   ]
  },
  {
   "cell_type": "code",
   "execution_count": 53,
   "id": "0f8db5bd",
   "metadata": {},
   "outputs": [],
   "source": [
    "saveRDS(r.L.n.RG.mat,\"./r.L.not.RG.mat.RDS\")\n",
    "saveRDS(r.R.n.RG.mat,\"./r.R.not.RG.mat.RDS\")\n",
    "saveRDS(r.L.n.eN.mat,\"./r.L.not.eN.mat.RDS\")\n",
    "saveRDS(r.R.n.eN.mat,\"./r.R.not.eN.mat.RDS\")"
   ]
  },
  {
   "cell_type": "code",
   "execution_count": 63,
   "id": "247278fc",
   "metadata": {},
   "outputs": [],
   "source": [
    "r.L.n.RG.mat <- readRDS(\"./r.L.not.RG.mat.RDS\")\n",
    "r.R.n.RG.mat <- readRDS(\"./r.R.not.RG.mat.RDS\")\n",
    "r.L.n.eN.mat <- readRDS(\"./r.L.not.eN.mat.RDS\")\n",
    "r.R.n.eN.mat <- readRDS(\"./r.R.not.eN.mat.RDS\")"
   ]
  },
  {
   "cell_type": "code",
   "execution_count": 64,
   "id": "93b5de36",
   "metadata": {},
   "outputs": [
    {
     "name": "stderr",
     "output_type": "stream",
     "text": [
      "Warning message:\n",
      "“`breaks` does not have the same length as `color`. The colors are\n",
      "interpolated from the minimal to the maximal of `breaks`.”\n"
     ]
    },
    {
     "data": {
      "text/html": [
       "<strong>png:</strong> 2"
      ],
      "text/latex": [
       "\\textbf{png:} 2"
      ],
      "text/markdown": [
       "**png:** 2"
      ],
      "text/plain": [
       "png \n",
       "  2 "
      ]
     },
     "metadata": {},
     "output_type": "display_data"
    }
   ],
   "source": [
    "pdf(\"../../../FINAL_figures/r.L.not.RG.mat.heatmap.pdf\",width=3.7,height=3)\n",
    "ComplexHeatmap::pheatmap(r.L.n.RG.mat[1:201,1:201]/1192,fontsize = 8,\n",
    "                         color=colours,\n",
    "                         #color=viridis::(500,direction = 1),\n",
    "                         #left_annotation = row_ha,\n",
    "                         show_rownames = F,\n",
    "                         breaks=c(0.5,2.5),\n",
    "                         cluster_cols = F,cluster_rows = F,border = FALSE) \n",
    "dev.off()"
   ]
  },
  {
   "cell_type": "code",
   "execution_count": 65,
   "id": "649989be",
   "metadata": {},
   "outputs": [
    {
     "name": "stderr",
     "output_type": "stream",
     "text": [
      "Warning message:\n",
      "“`breaks` does not have the same length as `color`. The colors are\n",
      "interpolated from the minimal to the maximal of `breaks`.”\n"
     ]
    },
    {
     "data": {
      "text/html": [
       "<strong>png:</strong> 2"
      ],
      "text/latex": [
       "\\textbf{png:} 2"
      ],
      "text/markdown": [
       "**png:** 2"
      ],
      "text/plain": [
       "png \n",
       "  2 "
      ]
     },
     "metadata": {},
     "output_type": "display_data"
    }
   ],
   "source": [
    "pdf(\"../../../FINAL_figures/r.L.not.eN.mat.heatmap.pdf\",width=3.7,height=3)\n",
    "ComplexHeatmap::pheatmap(r.L.n.eN.mat[1:201,1:201]/1192,fontsize = 8,\n",
    "                         color=colours,\n",
    "                         #color=viridis::(500,direction = 1),\n",
    "                         #left_annotation = row_ha,\n",
    "                         show_rownames = F,\n",
    "                         breaks=c(0.5,2.5),\n",
    "                         cluster_cols = F,cluster_rows = F,border = FALSE) \n",
    "dev.off()"
   ]
  },
  {
   "cell_type": "code",
   "execution_count": 66,
   "id": "66d0c4e6",
   "metadata": {},
   "outputs": [
    {
     "name": "stderr",
     "output_type": "stream",
     "text": [
      "Warning message:\n",
      "“`breaks` does not have the same length as `color`. The colors are\n",
      "interpolated from the minimal to the maximal of `breaks`.”\n"
     ]
    },
    {
     "data": {
      "text/html": [
       "<strong>png:</strong> 2"
      ],
      "text/latex": [
       "\\textbf{png:} 2"
      ],
      "text/markdown": [
       "**png:** 2"
      ],
      "text/plain": [
       "png \n",
       "  2 "
      ]
     },
     "metadata": {},
     "output_type": "display_data"
    }
   ],
   "source": [
    "pdf(\"../../../FINAL_figures/r.R.not.RG.mat.heatmap.pdf\",width=3.7,height=3)\n",
    "ComplexHeatmap::pheatmap(r.R.n.RG.mat/957,fontsize = 8,\n",
    "                         color=colours,\n",
    "                         #color=viridis::(500,direction = 1),\n",
    "                         #left_annotation = row_ha,\n",
    "                         show_rownames = F,\n",
    "                         breaks=c(0.5,2.5),\n",
    "                         cluster_cols = F,cluster_rows = F,border = FALSE) \n",
    "dev.off()"
   ]
  },
  {
   "cell_type": "code",
   "execution_count": 67,
   "id": "de6b1722",
   "metadata": {},
   "outputs": [
    {
     "name": "stderr",
     "output_type": "stream",
     "text": [
      "Warning message:\n",
      "“`breaks` does not have the same length as `color`. The colors are\n",
      "interpolated from the minimal to the maximal of `breaks`.”\n"
     ]
    },
    {
     "data": {
      "text/html": [
       "<strong>png:</strong> 2"
      ],
      "text/latex": [
       "\\textbf{png:} 2"
      ],
      "text/markdown": [
       "**png:** 2"
      ],
      "text/plain": [
       "png \n",
       "  2 "
      ]
     },
     "metadata": {},
     "output_type": "display_data"
    }
   ],
   "source": [
    "pdf(\"../../../FINAL_figures/r.R.not.eN.mat.heatmap.pdf\",width=3.7,height=3)\n",
    "ComplexHeatmap::pheatmap(r.R.n.eN.mat/957,fontsize = 8,\n",
    "                         color=colours,\n",
    "                         #color=viridis::(500,direction = 1),\n",
    "                         #left_annotation = row_ha,\n",
    "                         show_rownames = F,\n",
    "                         breaks=c(0.5,2.5),\n",
    "                         cluster_cols = F,cluster_rows = F,border = FALSE) \n",
    "dev.off()"
   ]
  },
  {
   "cell_type": "markdown",
   "id": "219c3cf7",
   "metadata": {},
   "source": [
    "## m.not"
   ]
  },
  {
   "cell_type": "code",
   "execution_count": 72,
   "id": "832f9d63",
   "metadata": {},
   "outputs": [],
   "source": [
    "m.L.n <- ML.NOT %>% set_names(\"V1\",\"V2\",\"V3\",\"type\",\"ori\",\"species\") %>%\n",
    "select(V1,V2,V3) %>% distinct() %>%\n",
    "mutate(V2=V2-500000,V3=V2+10000000)\n",
    "\n",
    "m.R.n <- MR.NOT %>% set_names(\"V1\",\"V2\",\"V3\",\"type\",\"ori\",\"species\") %>%\n",
    "select(V1,V2,V3) %>% distinct() %>%\n",
    "mutate(V3=V3+500000,V2=V3-10000000) "
   ]
  },
  {
   "cell_type": "code",
   "execution_count": 73,
   "id": "581278ca",
   "metadata": {},
   "outputs": [],
   "source": [
    "m.L.n.RG.mat <- getStripesPlotDF(m.L.n,m.RG.mat)\n",
    "m.R.n.RG.mat <- getStripesPlotDF(m.R.n,m.RG.mat)\n",
    "m.L.n.eN.mat <- getStripesPlotDF(m.L.n,m.eN.mat)\n",
    "m.R.n.eN.mat <- getStripesPlotDF(m.R.n,m.eN.mat)"
   ]
  },
  {
   "cell_type": "code",
   "execution_count": 74,
   "id": "2e8e989d",
   "metadata": {},
   "outputs": [],
   "source": [
    "saveRDS(m.L.n.RG.mat,\"./m.L.not.RG.mat.RDS\")\n",
    "saveRDS(m.R.n.RG.mat,\"./m.R.not.RG.mat.RDS\")\n",
    "saveRDS(m.L.n.eN.mat,\"./m.L.not.eN.mat.RDS\")\n",
    "saveRDS(m.R.n.eN.mat,\"./m.R.not.eN.mat.RDS\")"
   ]
  },
  {
   "cell_type": "code",
   "execution_count": 68,
   "id": "91ebc5db",
   "metadata": {},
   "outputs": [],
   "source": [
    "m.L.n.RG.mat <- readRDS(\"./m.L.not.RG.mat.RDS\")\n",
    "m.R.n.RG.mat <- readRDS(\"./m.R.not.RG.mat.RDS\")\n",
    "m.L.n.eN.mat <- readRDS(\"./m.L.not.eN.mat.RDS\")\n",
    "m.R.n.eN.mat <- readRDS(\"./m.R.not.eN.mat.RDS\")"
   ]
  },
  {
   "cell_type": "code",
   "execution_count": 69,
   "id": "f1bb25c7",
   "metadata": {},
   "outputs": [
    {
     "name": "stderr",
     "output_type": "stream",
     "text": [
      "Warning message:\n",
      "“`breaks` does not have the same length as `color`. The colors are\n",
      "interpolated from the minimal to the maximal of `breaks`.”\n"
     ]
    },
    {
     "data": {
      "text/html": [
       "<strong>png:</strong> 2"
      ],
      "text/latex": [
       "\\textbf{png:} 2"
      ],
      "text/markdown": [
       "**png:** 2"
      ],
      "text/plain": [
       "png \n",
       "  2 "
      ]
     },
     "metadata": {},
     "output_type": "display_data"
    }
   ],
   "source": [
    "pdf(\"../../../FINAL_figures/m.L.not.RG.mat.heatmap.pdf\",width=3.7,height=3)\n",
    "ComplexHeatmap::pheatmap(m.L.n.RG.mat[1:201,1:201]/1122,fontsize = 8,\n",
    "                         color=colours,\n",
    "                         #color=viridis::(500,direction = 1),\n",
    "                         #left_annotation = row_ha,\n",
    "                         show_rownames = F,\n",
    "                         breaks=c(0.5,2.5),\n",
    "                         cluster_cols = F,cluster_rows = F,border = FALSE) \n",
    "dev.off()"
   ]
  },
  {
   "cell_type": "code",
   "execution_count": 70,
   "id": "8d5305b1",
   "metadata": {},
   "outputs": [
    {
     "name": "stderr",
     "output_type": "stream",
     "text": [
      "Warning message:\n",
      "“`breaks` does not have the same length as `color`. The colors are\n",
      "interpolated from the minimal to the maximal of `breaks`.”\n"
     ]
    },
    {
     "data": {
      "text/html": [
       "<strong>png:</strong> 2"
      ],
      "text/latex": [
       "\\textbf{png:} 2"
      ],
      "text/markdown": [
       "**png:** 2"
      ],
      "text/plain": [
       "png \n",
       "  2 "
      ]
     },
     "metadata": {},
     "output_type": "display_data"
    }
   ],
   "source": [
    "pdf(\"../../../FINAL_figures/m.L.not.eN.mat.heatmap.pdf\",width=3.7,height=3)\n",
    "ComplexHeatmap::pheatmap(m.L.n.eN.mat[1:201,1:201]/1122,fontsize = 8,\n",
    "                         color=colours,\n",
    "                         #color=viridis::(500,direction = 1),\n",
    "                         #left_annotation = row_ha,\n",
    "                         show_rownames = F,\n",
    "                         breaks=c(0.5,2.5),\n",
    "                         cluster_cols = F,cluster_rows = F,border = FALSE) \n",
    "dev.off()"
   ]
  },
  {
   "cell_type": "code",
   "execution_count": 71,
   "id": "22e21c5f",
   "metadata": {},
   "outputs": [
    {
     "name": "stderr",
     "output_type": "stream",
     "text": [
      "Warning message:\n",
      "“`breaks` does not have the same length as `color`. The colors are\n",
      "interpolated from the minimal to the maximal of `breaks`.”\n"
     ]
    },
    {
     "data": {
      "text/html": [
       "<strong>png:</strong> 2"
      ],
      "text/latex": [
       "\\textbf{png:} 2"
      ],
      "text/markdown": [
       "**png:** 2"
      ],
      "text/plain": [
       "png \n",
       "  2 "
      ]
     },
     "metadata": {},
     "output_type": "display_data"
    }
   ],
   "source": [
    "pdf(\"../../../FINAL_figures/m.R.not.RG.mat.heatmap.pdf\",width=3.7,height=3)\n",
    "ComplexHeatmap::pheatmap(m.R.n.RG.mat/1027,fontsize = 8,\n",
    "                         color=colours,\n",
    "                         #color=viridis::(500,direction = 1),\n",
    "                         #left_annotation = row_ha,\n",
    "                         show_rownames = F,\n",
    "                         breaks=c(0.5,2.5),\n",
    "                         cluster_cols = F,cluster_rows = F,border = FALSE) \n",
    "dev.off()"
   ]
  },
  {
   "cell_type": "code",
   "execution_count": 72,
   "id": "dcbbe721",
   "metadata": {},
   "outputs": [
    {
     "name": "stderr",
     "output_type": "stream",
     "text": [
      "Warning message:\n",
      "“`breaks` does not have the same length as `color`. The colors are\n",
      "interpolated from the minimal to the maximal of `breaks`.”\n"
     ]
    },
    {
     "data": {
      "text/html": [
       "<strong>png:</strong> 2"
      ],
      "text/latex": [
       "\\textbf{png:} 2"
      ],
      "text/markdown": [
       "**png:** 2"
      ],
      "text/plain": [
       "png \n",
       "  2 "
      ]
     },
     "metadata": {},
     "output_type": "display_data"
    }
   ],
   "source": [
    "pdf(\"../../../FINAL_figures/m.R.not.eN.mat.heatmap.pdf\",width=3.7,height=3)\n",
    "ComplexHeatmap::pheatmap(m.R.n.eN.mat/1027,fontsize = 8,\n",
    "                         color=colours,\n",
    "                         #color=viridis::(500,direction = 1),\n",
    "                         #left_annotation = row_ha,\n",
    "                         show_rownames = F,\n",
    "                         breaks=c(0.5,2.5),\n",
    "                         cluster_cols = F,cluster_rows = F,border = FALSE) \n",
    "dev.off()"
   ]
  },
  {
   "cell_type": "code",
   "execution_count": null,
   "id": "ef2498c7",
   "metadata": {},
   "outputs": [],
   "source": []
  },
  {
   "cell_type": "code",
   "execution_count": null,
   "id": "74f3c2d6",
   "metadata": {},
   "outputs": [],
   "source": []
  },
  {
   "cell_type": "code",
   "execution_count": null,
   "id": "ba7009d4",
   "metadata": {},
   "outputs": [],
   "source": []
  },
  {
   "cell_type": "code",
   "execution_count": null,
   "id": "a2d54a34",
   "metadata": {},
   "outputs": [],
   "source": []
  },
  {
   "cell_type": "code",
   "execution_count": null,
   "id": "5f328e22",
   "metadata": {},
   "outputs": [],
   "source": []
  },
  {
   "cell_type": "code",
   "execution_count": null,
   "id": "1af0b20e",
   "metadata": {},
   "outputs": [],
   "source": []
  },
  {
   "cell_type": "code",
   "execution_count": null,
   "id": "8ec82ddf",
   "metadata": {},
   "outputs": [],
   "source": []
  }
 ],
 "metadata": {
  "kernelspec": {
   "display_name": "R 4.1.1",
   "language": "R",
   "name": "ir411"
  },
  "language_info": {
   "codemirror_mode": "r",
   "file_extension": ".r",
   "mimetype": "text/x-r-source",
   "name": "R",
   "pygments_lexer": "r",
   "version": "4.1.1"
  }
 },
 "nbformat": 4,
 "nbformat_minor": 5
}
