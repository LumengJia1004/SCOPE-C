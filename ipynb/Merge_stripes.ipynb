{
 "cells": [
  {
   "cell_type": "markdown",
   "id": "35ba2012",
   "metadata": {},
   "source": [
    "# SetUP"
   ]
  },
  {
   "cell_type": "code",
   "execution_count": 1,
   "id": "5d9d8556",
   "metadata": {},
   "outputs": [],
   "source": [
    "setwd(\"/lustre/user/liclab/jialm/Project/SCOPEC/analysis/stripes_with_ABcomp/humanBrain_1k_PFCV1_merge\")"
   ]
  },
  {
   "cell_type": "code",
   "execution_count": 2,
   "id": "b323e8fc",
   "metadata": {},
   "outputs": [],
   "source": [
    "suppressPackageStartupMessages({\n",
    "library(tidyverse)\n",
    "library(data.table)\n",
    "})"
   ]
  },
  {
   "cell_type": "markdown",
   "id": "a775a411",
   "metadata": {},
   "source": [
    "# Load Data"
   ]
  },
  {
   "cell_type": "code",
   "execution_count": 33,
   "id": "c3ece68d",
   "metadata": {},
   "outputs": [],
   "source": [
    "stripes <- read.table(\"./all.humanBrain.eNtoRG.PFCV1.1k.stripes_20_50_S+L.edgeR.FDR0.05_log2FC0.5.res.Up.only50kbAnchor\")"
   ]
  },
  {
   "cell_type": "code",
   "execution_count": 35,
   "id": "bd9f3085",
   "metadata": {},
   "outputs": [
    {
     "name": "stderr",
     "output_type": "stream",
     "text": [
      "Warning message:\n",
      "“\u001b[1m\u001b[22mReturning more (or less) than 1 row per `summarise()` group was deprecated in dplyr 1.1.0.\n",
      "\u001b[36mℹ\u001b[39m Please use `reframe()` instead.\n",
      "\u001b[36mℹ\u001b[39m When switching from `summarise()` to `reframe()`, remember that `reframe()` always returns an ungrouped data frame and adjust accordingly.”\n",
      "\u001b[1m\u001b[22m`summarise()` has grouped output by 'V1', 'V2', 'V3'. You can override using the `.groups` argument.\n"
     ]
    }
   ],
   "source": [
    "L <- stripes %>% filter(V3-V2==50000) %>% group_by(V1,V2,V3) %>% summarise(V5=min(V5),V6=max(V6),V4=V1) %>% select(paste0(\"V\",1:6))%>% distinct()"
   ]
  },
  {
   "cell_type": "code",
   "execution_count": 37,
   "id": "bf91d6e0",
   "metadata": {},
   "outputs": [
    {
     "name": "stderr",
     "output_type": "stream",
     "text": [
      "Warning message:\n",
      "“\u001b[1m\u001b[22mReturning more (or less) than 1 row per `summarise()` group was deprecated in dplyr 1.1.0.\n",
      "\u001b[36mℹ\u001b[39m Please use `reframe()` instead.\n",
      "\u001b[36mℹ\u001b[39m When switching from `summarise()` to `reframe()`, remember that `reframe()` always returns an ungrouped data frame and adjust accordingly.”\n",
      "\u001b[1m\u001b[22m`summarise()` has grouped output by 'V4', 'V5', 'V6'. You can override using the `.groups` argument.\n"
     ]
    }
   ],
   "source": [
    "R <- stripes %>% filter(V6-V5==50000) %>% group_by(V4,V5,V6) %>% summarise(V2=min(V2),V3=max(V3),V1=V4) %>% select(paste0(\"V\",1:6)) %>% distinct()"
   ]
  },
  {
   "cell_type": "code",
   "execution_count": 38,
   "id": "9a382c6f",
   "metadata": {},
   "outputs": [],
   "source": [
    "stripes.merge <- rbind(L,R)"
   ]
  },
  {
   "cell_type": "code",
   "execution_count": 40,
   "id": "ad9f4b6f",
   "metadata": {},
   "outputs": [],
   "source": [
    "write.table(stripes.merge,\"./all.humanBrain.eNtoRG.PFCV1.1k.stripes_20_50_S+L.edgeR.FDR0.05_log2FC0.5.res.Up.only50kbAnchor.merged\",col.names = F,row.names = F,sep=\"\\t\",quote=F)"
   ]
  },
  {
   "cell_type": "code",
   "execution_count": 45,
   "id": "518cd04b",
   "metadata": {},
   "outputs": [],
   "source": [
    "write.table(stripes.merge %>% filter(V6-V2 >= 2000000),\"./all.humanBrain.eNtoRG.PFCV1.1k.stripes_20_50_S+L.edgeR.FDR0.05_log2FC0.5.res.Up.only50kbAnchor.merged.larger2Mb\",col.names = F,row.names = F,sep=\"\\t\",quote=F)"
   ]
  }
 ],
 "metadata": {
  "kernelspec": {
   "display_name": "R 4.1.1",
   "language": "R",
   "name": "ir411"
  },
  "language_info": {
   "codemirror_mode": "r",
   "file_extension": ".r",
   "mimetype": "text/x-r-source",
   "name": "R",
   "pygments_lexer": "r",
   "version": "4.1.1"
  }
 },
 "nbformat": 4,
 "nbformat_minor": 5
}
