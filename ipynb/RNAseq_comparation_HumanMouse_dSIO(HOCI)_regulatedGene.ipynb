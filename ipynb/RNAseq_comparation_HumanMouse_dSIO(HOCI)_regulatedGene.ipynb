{
 "cells": [
  {
   "cell_type": "code",
   "execution_count": 1,
   "id": "0363abe8",
   "metadata": {},
   "outputs": [],
   "source": [
    "setwd(\"/lustre/user/liclab/jialm/Project/SCOPEC/analysis/fithicLoop/RG_iPC_eN_iN\")"
   ]
  },
  {
   "cell_type": "code",
   "execution_count": 2,
   "id": "837b614c",
   "metadata": {},
   "outputs": [],
   "source": [
    "suppressPackageStartupMessages({\n",
    "    library(dplyr)\n",
    "    library(Seurat)\n",
    "    library(clusterProfiler)\n",
    "    library(ComplexHeatmap)\n",
    "    library(tidyverse)\n",
    "    library(venn)\n",
    "})"
   ]
  },
  {
   "cell_type": "code",
   "execution_count": 5,
   "id": "d71bfda1",
   "metadata": {},
   "outputs": [],
   "source": [
    "xor.ls <- list.files(\"./\",pattern=\"xor\")\n",
    "both.ls <- list.files(\"./\",pattern=\"both\")\n",
    "neither.ls <- list.files(\"./\",pattern=\"neither\")"
   ]
  },
  {
   "cell_type": "code",
   "execution_count": 7,
   "id": "1f06aaea",
   "metadata": {},
   "outputs": [],
   "source": [
    "xor.L <- lapply(xor.ls,read.table)\n",
    "both.L <- lapply(both.ls,read.table)\n",
    "neither.L <- lapply(neither.ls,read.table)"
   ]
  },
  {
   "cell_type": "code",
   "execution_count": 36,
   "id": "6d3c5af4",
   "metadata": {},
   "outputs": [
    {
     "data": {
      "text/html": [
       "<style>\n",
       ".list-inline {list-style: none; margin:0; padding: 0}\n",
       ".list-inline>li {display: inline-block}\n",
       ".list-inline>li:not(:last-child)::after {content: \"\\00b7\"; padding: 0 .5ex}\n",
       "</style>\n",
       "<ol class=list-inline><li>'eN.xor'</li><li>'iN.xor'</li><li>'iPC.xor'</li><li>'RG.xor'</li></ol>\n"
      ],
      "text/latex": [
       "\\begin{enumerate*}\n",
       "\\item 'eN.xor'\n",
       "\\item 'iN.xor'\n",
       "\\item 'iPC.xor'\n",
       "\\item 'RG.xor'\n",
       "\\end{enumerate*}\n"
      ],
      "text/markdown": [
       "1. 'eN.xor'\n",
       "2. 'iN.xor'\n",
       "3. 'iPC.xor'\n",
       "4. 'RG.xor'\n",
       "\n",
       "\n"
      ],
      "text/plain": [
       "[1] \"eN.xor\"  \"iN.xor\"  \"iPC.xor\" \"RG.xor\" "
      ]
     },
     "metadata": {},
     "output_type": "display_data"
    },
    {
     "data": {
      "text/html": [
       "<style>\n",
       ".list-inline {list-style: none; margin:0; padding: 0}\n",
       ".list-inline>li {display: inline-block}\n",
       ".list-inline>li:not(:last-child)::after {content: \"\\00b7\"; padding: 0 .5ex}\n",
       "</style>\n",
       "<ol class=list-inline><li>'eN.both'</li><li>'iN.both'</li><li>'iPC.both'</li><li>'RG.both'</li></ol>\n"
      ],
      "text/latex": [
       "\\begin{enumerate*}\n",
       "\\item 'eN.both'\n",
       "\\item 'iN.both'\n",
       "\\item 'iPC.both'\n",
       "\\item 'RG.both'\n",
       "\\end{enumerate*}\n"
      ],
      "text/markdown": [
       "1. 'eN.both'\n",
       "2. 'iN.both'\n",
       "3. 'iPC.both'\n",
       "4. 'RG.both'\n",
       "\n",
       "\n"
      ],
      "text/plain": [
       "[1] \"eN.both\"  \"iN.both\"  \"iPC.both\" \"RG.both\" "
      ]
     },
     "metadata": {},
     "output_type": "display_data"
    },
    {
     "data": {
      "text/html": [
       "<style>\n",
       ".list-inline {list-style: none; margin:0; padding: 0}\n",
       ".list-inline>li {display: inline-block}\n",
       ".list-inline>li:not(:last-child)::after {content: \"\\00b7\"; padding: 0 .5ex}\n",
       "</style>\n",
       "<ol class=list-inline><li>'eN.neither'</li><li>'iN.neither'</li><li>'iPC.neither'</li><li>'RG.neither'</li></ol>\n"
      ],
      "text/latex": [
       "\\begin{enumerate*}\n",
       "\\item 'eN.neither'\n",
       "\\item 'iN.neither'\n",
       "\\item 'iPC.neither'\n",
       "\\item 'RG.neither'\n",
       "\\end{enumerate*}\n"
      ],
      "text/markdown": [
       "1. 'eN.neither'\n",
       "2. 'iN.neither'\n",
       "3. 'iPC.neither'\n",
       "4. 'RG.neither'\n",
       "\n",
       "\n"
      ],
      "text/plain": [
       "[1] \"eN.neither\"  \"iN.neither\"  \"iPC.neither\" \"RG.neither\" "
      ]
     },
     "metadata": {},
     "output_type": "display_data"
    }
   ],
   "source": [
    "xor.ls \n",
    "both.ls\n",
    "neither.ls"
   ]
  },
  {
   "cell_type": "code",
   "execution_count": 37,
   "id": "4233174c",
   "metadata": {},
   "outputs": [],
   "source": [
    "staDF <- rbind(xor.L[[1]] %>% mutate(cell=\"eN\"),\n",
    "      xor.L[[2]] %>% mutate(cell=\"iN\"),\n",
    "      xor.L[[3]] %>% mutate(cell=\"iPC\"),\n",
    "      xor.L[[4]] %>% mutate(cell=\"RG\"),\n",
    "      both.L[[1]] %>% mutate(cell=\"eN\"),\n",
    "      both.L[[2]] %>% mutate(cell=\"iN\"),\n",
    "      both.L[[3]] %>% mutate(cell=\"iPC\"),\n",
    "      both.L[[4]] %>% mutate(cell=\"RG\"),\n",
    "      neither.L[[1]] %>% mutate(cell=\"eN\"),\n",
    "      neither.L[[2]] %>% mutate(cell=\"iN\"),\n",
    "      neither.L[[3]] %>% mutate(cell=\"iPC\"),\n",
    "      neither.L[[4]] %>% mutate(cell=\"RG\"))"
   ]
  },
  {
   "cell_type": "code",
   "execution_count": 86,
   "id": "f10c99e9",
   "metadata": {},
   "outputs": [],
   "source": [
    "RG <- staDF %>% filter(cell==\"RG\") %>% mutate(length=V6-V3) \n",
    "eN <- staDF %>% filter(cell==\"eN\") %>% mutate(length=V6-V3) \n",
    "iPC <- staDF %>% filter(cell==\"iPC\") %>% mutate(length=V6-V3) \n",
    "iN <- staDF %>% filter(cell==\"iN\") %>% mutate(length=V6-V3) "
   ]
  },
  {
   "cell_type": "code",
   "execution_count": 87,
   "id": "f7281782",
   "metadata": {},
   "outputs": [],
   "source": [
    "plotDF2 <- rbind(RG,iPC,eN,iN)"
   ]
  },
  {
   "cell_type": "code",
   "execution_count": 55,
   "id": "bfa06b37",
   "metadata": {},
   "outputs": [
    {
     "data": {
      "text/html": [
       "<table class=\"dataframe\">\n",
       "<caption>A data.frame: 6 × 9</caption>\n",
       "<thead>\n",
       "\t<tr><th></th><th scope=col>V1</th><th scope=col>V2</th><th scope=col>V3</th><th scope=col>V4</th><th scope=col>V5</th><th scope=col>V6</th><th scope=col>V7</th><th scope=col>cell</th><th scope=col>length</th></tr>\n",
       "\t<tr><th></th><th scope=col>&lt;chr&gt;</th><th scope=col>&lt;int&gt;</th><th scope=col>&lt;int&gt;</th><th scope=col>&lt;chr&gt;</th><th scope=col>&lt;int&gt;</th><th scope=col>&lt;int&gt;</th><th scope=col>&lt;chr&gt;</th><th scope=col>&lt;chr&gt;</th><th scope=col>&lt;int&gt;</th></tr>\n",
       "</thead>\n",
       "<tbody>\n",
       "\t<tr><th scope=row>1</th><td>chr10</td><td>101600000</td><td>101625000</td><td>chr10</td><td>101775000</td><td>101800000</td><td>xor</td><td>RG</td><td>175000</td></tr>\n",
       "\t<tr><th scope=row>2</th><td>chr10</td><td>101600000</td><td>101625000</td><td>chr10</td><td>101800000</td><td>101825000</td><td>xor</td><td>RG</td><td>200000</td></tr>\n",
       "\t<tr><th scope=row>3</th><td>chr10</td><td>102950000</td><td>102975000</td><td>chr10</td><td>103300000</td><td>103325000</td><td>xor</td><td>RG</td><td>350000</td></tr>\n",
       "\t<tr><th scope=row>4</th><td>chr10</td><td>102950000</td><td>102975000</td><td>chr10</td><td>103500000</td><td>103525000</td><td>xor</td><td>RG</td><td>550000</td></tr>\n",
       "\t<tr><th scope=row>5</th><td>chr10</td><td>102975000</td><td>103000000</td><td>chr10</td><td>103300000</td><td>103325000</td><td>xor</td><td>RG</td><td>325000</td></tr>\n",
       "\t<tr><th scope=row>6</th><td>chr10</td><td>103625000</td><td>103650000</td><td>chr10</td><td>103750000</td><td>103775000</td><td>xor</td><td>RG</td><td>125000</td></tr>\n",
       "</tbody>\n",
       "</table>\n"
      ],
      "text/latex": [
       "A data.frame: 6 × 9\n",
       "\\begin{tabular}{r|lllllllll}\n",
       "  & V1 & V2 & V3 & V4 & V5 & V6 & V7 & cell & length\\\\\n",
       "  & <chr> & <int> & <int> & <chr> & <int> & <int> & <chr> & <chr> & <int>\\\\\n",
       "\\hline\n",
       "\t1 & chr10 & 101600000 & 101625000 & chr10 & 101775000 & 101800000 & xor & RG & 175000\\\\\n",
       "\t2 & chr10 & 101600000 & 101625000 & chr10 & 101800000 & 101825000 & xor & RG & 200000\\\\\n",
       "\t3 & chr10 & 102950000 & 102975000 & chr10 & 103300000 & 103325000 & xor & RG & 350000\\\\\n",
       "\t4 & chr10 & 102950000 & 102975000 & chr10 & 103500000 & 103525000 & xor & RG & 550000\\\\\n",
       "\t5 & chr10 & 102975000 & 103000000 & chr10 & 103300000 & 103325000 & xor & RG & 325000\\\\\n",
       "\t6 & chr10 & 103625000 & 103650000 & chr10 & 103750000 & 103775000 & xor & RG & 125000\\\\\n",
       "\\end{tabular}\n"
      ],
      "text/markdown": [
       "\n",
       "A data.frame: 6 × 9\n",
       "\n",
       "| <!--/--> | V1 &lt;chr&gt; | V2 &lt;int&gt; | V3 &lt;int&gt; | V4 &lt;chr&gt; | V5 &lt;int&gt; | V6 &lt;int&gt; | V7 &lt;chr&gt; | cell &lt;chr&gt; | length &lt;int&gt; |\n",
       "|---|---|---|---|---|---|---|---|---|---|\n",
       "| 1 | chr10 | 101600000 | 101625000 | chr10 | 101775000 | 101800000 | xor | RG | 175000 |\n",
       "| 2 | chr10 | 101600000 | 101625000 | chr10 | 101800000 | 101825000 | xor | RG | 200000 |\n",
       "| 3 | chr10 | 102950000 | 102975000 | chr10 | 103300000 | 103325000 | xor | RG | 350000 |\n",
       "| 4 | chr10 | 102950000 | 102975000 | chr10 | 103500000 | 103525000 | xor | RG | 550000 |\n",
       "| 5 | chr10 | 102975000 | 103000000 | chr10 | 103300000 | 103325000 | xor | RG | 325000 |\n",
       "| 6 | chr10 | 103625000 | 103650000 | chr10 | 103750000 | 103775000 | xor | RG | 125000 |\n",
       "\n"
      ],
      "text/plain": [
       "  V1    V2        V3        V4    V5        V6        V7  cell length\n",
       "1 chr10 101600000 101625000 chr10 101775000 101800000 xor RG   175000\n",
       "2 chr10 101600000 101625000 chr10 101800000 101825000 xor RG   200000\n",
       "3 chr10 102950000 102975000 chr10 103300000 103325000 xor RG   350000\n",
       "4 chr10 102950000 102975000 chr10 103500000 103525000 xor RG   550000\n",
       "5 chr10 102975000 103000000 chr10 103300000 103325000 xor RG   325000\n",
       "6 chr10 103625000 103650000 chr10 103750000 103775000 xor RG   125000"
      ]
     },
     "metadata": {},
     "output_type": "display_data"
    }
   ],
   "source": [
    "head(plotDF2)"
   ]
  },
  {
   "cell_type": "code",
   "execution_count": 99,
   "id": "99b15afa",
   "metadata": {},
   "outputs": [
    {
     "data": {
      "image/png": "[encoded data removed]",
      "text/plain": [
       "plot without title"
      ]
     },
     "metadata": {
      "image/png": {
       "height": 240,
       "width": 240
      }
     },
     "output_type": "display_data"
    }
   ],
   "source": [
    "options(repr.plot.width=4,repr.plot.height=4)\n",
    "ggplot(data = plotDF2 %>% mutate(cell=factor(plotDF2$cell,levels=c(\"RG\",\"iPC\",\"eN\",\"iN\"))),\n",
    "       aes(x = cell, y = length/1000000, color = cell)) +\n",
    "  #geom_violin()+\n",
    "  geom_boxplot(width=0.7,outlier.size = 0.6,\n",
    "               position = position_dodge(.6))+\n",
    "  scale_color_manual(values = c(\"royalblue\",\"gold\",\"forestgreen\",\"purple\"))+\n",
    "coord_cartesian(ylim = c(0,2.2))+\n",
    "#geom_jitter(size=.1)+\n",
    "#geom_sina(size=0.01,alpha=1)+\n",
    "  theme_classic()\n",
    "ggsave(\"../../../FINAL_figures/humanBrain_fithicLoops.length.sta.pdf\",width=3,height=3)"
   ]
  },
  {
   "cell_type": "code",
   "execution_count": 14,
   "id": "7b5f70a2",
   "metadata": {},
   "outputs": [
    {
     "name": "stderr",
     "output_type": "stream",
     "text": [
      "\u001b[1m\u001b[22m`summarise()` has grouped output by 'V7'. You can override using the `.groups` argument.\n"
     ]
    }
   ],
   "source": [
    "plotDF <- rbind(xor.L[[1]] %>% mutate(cell=\"eN\"),\n",
    "      xor.L[[2]] %>% mutate(cell=\"iN\"),\n",
    "      xor.L[[3]] %>% mutate(cell=\"iPC\"),\n",
    "      xor.L[[4]] %>% mutate(cell=\"RG\"),\n",
    "      both.L[[1]] %>% mutate(cell=\"eN\"),\n",
    "      both.L[[2]] %>% mutate(cell=\"iN\"),\n",
    "      both.L[[3]] %>% mutate(cell=\"iPC\"),\n",
    "      both.L[[4]] %>% mutate(cell=\"RG\"),\n",
    "      neither.L[[1]] %>% mutate(cell=\"eN\"),\n",
    "      neither.L[[2]] %>% mutate(cell=\"iN\"),\n",
    "      neither.L[[3]] %>% mutate(cell=\"iPC\"),\n",
    "      neither.L[[4]] %>% mutate(cell=\"RG\"))%>% group_by(V7,cell) %>%\n",
    "summarise(N=n())"
   ]
  },
  {
   "cell_type": "code",
   "execution_count": 27,
   "id": "984e7842",
   "metadata": {},
   "outputs": [],
   "source": [
    "plotDF$V7 <- factor(plotDF$V7,levels=c(\"both\",\"xor\",\"neither\"))\n",
    "plotDF$cell <- factor(plotDF$cell,levels=c(\"RG\",\"iPC\",\"eN\",\"iN\"))"
   ]
  },
  {
   "cell_type": "code",
   "execution_count": 35,
   "id": "6146fc89",
   "metadata": {},
   "outputs": [
    {
     "data": {
      "image/png": "[encoded data removed]",
      "text/plain": [
       "plot without title"
      ]
     },
     "metadata": {
      "image/png": {
       "height": 240,
       "width": 240
      }
     },
     "output_type": "display_data"
    }
   ],
   "source": [
    "options(repr.plot.width = 4, repr.plot.height = 4)\n",
    "ggplot(plotDF,\n",
    "       aes(x = cell, weight = N, fill = V7)) +\n",
    "  geom_bar(color = \"black\", width = .7, position = 'fill') +\n",
    "  labs( y = 'Ratio') +\n",
    "  scale_fill_brewer(palette = \"Set3\")+\n",
    "  #scale_color_manual(values = c(\"royalblue\",\"gold\",\"forestgreen\"))+\n",
    "#coord_cartesian(ylim = c(0,8))+\n",
    "#geom_jitter(size=.1)+\n",
    "#geom_sina(size=0.01,alpha=1)+\n",
    "  theme_classic()\n",
    "ggsave(\"../../../FINAL_figures/humanBrain_fithicLoops.overlappedwithATAC.sta.pdf\",width=3,height=3)"
   ]
  },
  {
   "cell_type": "markdown",
   "id": "1023baa0",
   "metadata": {},
   "source": [
    "# RNA"
   ]
  },
  {
   "cell_type": "code",
   "execution_count": 282,
   "id": "53013b76",
   "metadata": {},
   "outputs": [],
   "source": [
    "mm9 <- read.table(\"/lustre/user/liclab/cuizj/OCEANC2.0/public-data/public_mouse_data/single_cell_data/scRNA-seq/scRNA.data/E14.5_E15.5_RG_IPC_eN_iN_count.txt\",header = T)\n",
    "hg19 <- read.table(\"/lustre/user/liclab/jialm/Project/SCOPEC/publicdata/human_scRNAseq_RG.iPC.eN.avg.psudoExp.txt\",header = T)\n",
    "rhe10 <- read.table(\"/lustre/user/liclab/cuizj/OCEANC2.0/public-data/public-macaque-brain/from_yt_data/macaque_2rep_subset_RNA_counts.txt\",header = T)"
   ]
  },
  {
   "cell_type": "code",
   "execution_count": 179,
   "id": "248b25d3",
   "metadata": {},
   "outputs": [],
   "source": [
    "library(edgeR)"
   ]
  },
  {
   "cell_type": "code",
   "execution_count": 283,
   "id": "e0cdec3f",
   "metadata": {},
   "outputs": [],
   "source": [
    "hg19$symbol <- rownames(hg19)\n",
    "hg19 <- hg19 %>% mutate(symbol=toupper(symbol))"
   ]
  },
  {
   "cell_type": "code",
   "execution_count": 284,
   "id": "f5598728",
   "metadata": {},
   "outputs": [],
   "source": [
    "mm9 <- mm9 %>% mutate(RG=(RG.E14.5+RG.E15.5)/2,\n",
    "               eN=(eN.E14.5+eN.E15.5)/2,\n",
    "               symbol=toupper(symbol))"
   ]
  },
  {
   "cell_type": "code",
   "execution_count": 285,
   "id": "31fa6d9c",
   "metadata": {},
   "outputs": [],
   "source": [
    "rhe10 <- rhe10 %>% mutate(RG=(RG.rep1+RG.rep2)/2,\n",
    "               eN=(eN.rep1+eN.rep2)/2)\n",
    "rhe10$symbol <- rownames(rhe10)"
   ]
  },
  {
   "cell_type": "code",
   "execution_count": 286,
   "id": "b3679a75",
   "metadata": {},
   "outputs": [],
   "source": [
    "rhe10 <- rhe10[,c(11,9,10)] \n",
    "hg19 <- hg19[,c(4,3,1)]\n",
    "mm9 <- mm9[,c(1,10,11)]"
   ]
  },
  {
   "cell_type": "code",
   "execution_count": 287,
   "id": "005979ed",
   "metadata": {},
   "outputs": [],
   "source": [
    "dat <- dplyr::inner_join(hg19,rhe10,by=\"symbol\") %>%\n",
    "dplyr::inner_join(.,mm9,by=\"symbol\") %>%\n",
    "replace(is.na(.),0) %>%\n",
    "set_names(\"symbol\",\"hRG\",\"heN\",\"rRG\",\"reN\",\"mRG\",\"meN\") "
   ]
  },
  {
   "cell_type": "code",
   "execution_count": 288,
   "id": "482dd3c6",
   "metadata": {},
   "outputs": [],
   "source": [
    "CPM <- cpm(dat[,-1]) %>% as.data.frame()\n",
    "CPM$symbol <- dat$symbol"
   ]
  },
  {
   "cell_type": "code",
   "execution_count": 289,
   "id": "2fb24fe1",
   "metadata": {},
   "outputs": [],
   "source": [
    "eN.sio <- read.table(\"/lustre/user/liclab/jialm/Project/SCOPEC/analysis/fithicLoop/RG_eN/eN.SIO.overRG.gene.final.res\")\n",
    "RG.sio <- read.table(\"/lustre/user/liclab/jialm/Project/SCOPEC/analysis/fithicLoop/RG_eN/RG.SIO.overeN.gene.final.res\")"
   ]
  },
  {
   "cell_type": "code",
   "execution_count": 290,
   "id": "f6a90056",
   "metadata": {},
   "outputs": [],
   "source": [
    "CPM <- CPM %>% mutate(hmean=(log2(hRG+1) + log2(heN+1))/2,\n",
    "               rmean=(log2(rRG+1) + log2(reN+1))/2,\n",
    "               mmean=(log2(mRG+1) + log2(meN+1))/2) %>%\n",
    "mutate(hRG=log2(hRG+1)-hmean,\n",
    "       heN=log2(heN+1)-hmean,\n",
    "       rRG=log2(rRG+1)-rmean,\n",
    "       reN=log2(reN+1)-rmean,\n",
    "       mRG=log2(mRG+1)-mmean,\n",
    "       meN=log2(meN+1)-mmean) %>%\n",
    "select(-c(hmean,rmean,mmean))"
   ]
  },
  {
   "cell_type": "code",
   "execution_count": 348,
   "id": "aa92e4ea",
   "metadata": {},
   "outputs": [],
   "source": [
    "AnnDat <- CPM %>% filter(symbol %in% eN.sio$V8) %>% filter(heN>=-1)%>% \n",
    "         arrange(desc(heN)) "
   ]
  },
  {
   "cell_type": "code",
   "execution_count": 350,
   "id": "ff2316cc",
   "metadata": {},
   "outputs": [],
   "source": [
    "AnnDat$rank <- 1:63"
   ]
  },
  {
   "cell_type": "code",
   "execution_count": 359,
   "id": "7e602949",
   "metadata": {},
   "outputs": [],
   "source": [
    "ha <- rowAnnotation(\n",
    "  foo = anno_mark(\n",
    "    at =  AnnDat %>% filter(symbol %in% c(\"KLHL29\",\"SATB2\",\"SLA\",\n",
    "                                          \"FTCDNL1\",\"PLCL1\",\"MIAT\",\"MN1\")) %>% .$rank, \n",
    "    labels = AnnDat %>% filter(symbol %in% c(\"KLHL29\",\"SATB2\",\"SLA\",\n",
    "                                             \"FTCDNL1\",\"PLCL1\",\"MIAT\",\"MN1\")) %>% .$symbol)\n",
    "  )"
   ]
  },
  {
   "cell_type": "code",
   "execution_count": 381,
   "id": "40104121",
   "metadata": {},
   "outputs": [
    {
     "name": "stderr",
     "output_type": "stream",
     "text": [
      "Warning message:\n",
      "“The input is a data frame, convert it to the matrix.”\n",
      "Warning message:\n",
      "“`breaks` does not have the same length as `color`. The colors are\n",
      "interpolated from the minimal to the maximal of `breaks`.”\n"
     ]
    },
    {
     "data": {
      "image/png": "[encoded data removed]",
      "text/plain": [
       "plot without title"
      ]
     },
     "metadata": {
      "image/png": {
       "height": 240,
       "width": 240
      }
     },
     "output_type": "display_data"
    }
   ],
   "source": [
    "#pdf(\"../../FINAL_figures/huamnBrain.1k.RG_eN_overbetween.SIO.PE.RNA.heatmap_2.pdf\",width=2.8,height=4)\n",
    "options(repr.plot.width = 4, repr.plot.height = 4)\n",
    "ComplexHeatmap::pheatmap(CPM %>% filter(symbol %in% eN.sio$V8) %>% filter(heN>=-1) %>% \n",
    "         arrange(desc(heN)) %>% select(-symbol,-rRG,-reN),\n",
    "         breaks=c(-3,3),clustering_method = \"complete\",\n",
    "         cluster_cols = F,cluster_rows = F,\n",
    "         right_annotation = ha,\n",
    "         col=colorRampPalette(c(\"royalblue3\",\"white\",\"firebrick3\"))(200),\n",
    "         show_colnames = T,\n",
    "         border_color = NA\n",
    "         )\n",
    "#dev.off()"
   ]
  },
  {
   "cell_type": "code",
   "execution_count": null,
   "id": "850a91b8",
   "metadata": {},
   "outputs": [],
   "source": [
    "plotDF3 <- rbind(CPM %>% filter(symbol %in% eN.sio$V8) %>% \n",
    "                select(symbol,hRG) %>% \n",
    "                set_names(\"symbol\",\"enrich\")%>%\n",
    "                mutate(species=\"human\",cell=\"RG\"),\n",
    "                CPM %>% filter(symbol %in% eN.sio$V8) %>% \n",
    "                select(symbol,heN) %>% \n",
    "                set_names(\"symbol\",\"enrich\")%>%\n",
    "                mutate(species=\"human\",cell=\"eN\"),\n",
    "                 \n",
    "                CPM %>% filter(symbol %in% eN.sio$V8) %>% \n",
    "                select(symbol,rRG) %>% \n",
    "                set_names(\"symbol\",\"enrich\")%>%\n",
    "                mutate(species=\"rhesus\",cell=\"RG\"),\n",
    "                CPM %>% filter(symbol %in% eN.sio$V8) %>% \n",
    "                select(symbol,reN) %>% \n",
    "                set_names(\"symbol\",\"enrich\")%>%\n",
    "                mutate(species=\"rhesus\",cell=\"eN\"),\n",
    "                 \n",
    "                CPM %>% filter(symbol %in% eN.sio$V8) %>% \n",
    "                select(symbol,mRG) %>% \n",
    "                set_names(\"symbol\",\"enrich\")%>%\n",
    "                mutate(species=\"mouse\",cell=\"RG\"),\n",
    "                CPM %>% filter(symbol %in% eN.sio$V8) %>% \n",
    "                select(symbol,meN) %>% \n",
    "                set_names(\"symbol\",\"enrich\")%>%\n",
    "                mutate(species=\"mouse\",cell=\"eN\"))"
   ]
  },
  {
   "cell_type": "code",
   "execution_count": 297,
   "id": "b5906796",
   "metadata": {},
   "outputs": [],
   "source": [
    "plotDF3  <- plotDF3 %>% mutate(species=factor(plotDF3$species,levels=c(\"human\",\"rhesus\",\"mouse\")),\n",
    "                                 cell=factor(plotDF3$cell,levels=c(\"RG\",\"eN\")))"
   ]
  },
  {
   "cell_type": "code",
   "execution_count": 308,
   "id": "7dfdad94",
   "metadata": {},
   "outputs": [
    {
     "data": {
      "image/png": "[encoded data removed]",
      "text/plain": [
       "plot without title"
      ]
     },
     "metadata": {
      "image/png": {
       "height": 240,
       "width": 240
      }
     },
     "output_type": "display_data"
    }
   ],
   "source": [
    "ggplot(data = plotDF3,\n",
    "       aes(x = species, y = enrich, color = cell)) +\n",
    "  #geom_violin()+\n",
    "  geom_boxplot(width=0.5,outlier.size = 0.6,\n",
    "               position = position_dodge(.6))+\n",
    "  scale_color_manual(values = c(\"royalblue\",\"forestgreen\"))+\n",
    "#coord_cartesian(ylim = c(0,1000))+\n",
    "#geom_jitter(size=.05)+\n",
    "#geom_sina(size=0.01,alpha=1)+\n",
    "  theme_classic()\n",
    "ggsave(\"../../../FINAL_figures/humanBrain_fithicLoops.dynamicSIOexp.HumanResusMuse.boxlot.pdf\",width=3,height=3)"
   ]
  },
  {
   "cell_type": "code",
   "execution_count": 299,
   "id": "471470b1",
   "metadata": {},
   "outputs": [
    {
     "data": {
      "text/plain": [
       "\n",
       "\tWilcoxon rank sum test with continuity correction\n",
       "\n",
       "data:  plotDF3 %>% filter(species == \"human\", cell == \"RG\") %>% .$enrich and plotDF3 %>% filter(species == \"human\", cell == \"eN\") %>% .$enrich\n",
       "W = 959, p-value = 5.386e-09\n",
       "alternative hypothesis: true location shift is less than 0\n"
      ]
     },
     "metadata": {},
     "output_type": "display_data"
    },
    {
     "data": {
      "text/plain": [
       "\n",
       "\tWilcoxon rank sum test with continuity correction\n",
       "\n",
       "data:  plotDF3 %>% filter(species == \"rhesus\", cell == \"RG\") %>% .$enrich and plotDF3 %>% filter(species == \"rhesus\", cell == \"eN\") %>% .$enrich\n",
       "W = 1667, p-value = 0.00512\n",
       "alternative hypothesis: true location shift is less than 0\n"
      ]
     },
     "metadata": {},
     "output_type": "display_data"
    },
    {
     "data": {
      "text/plain": [
       "\n",
       "\tWilcoxon rank sum test with continuity correction\n",
       "\n",
       "data:  plotDF3 %>% filter(species == \"mouse\", cell == \"RG\") %>% .$enrich and plotDF3 %>% filter(species == \"mouse\", cell == \"eN\") %>% .$enrich\n",
       "W = 1254.5, p-value = 5.329e-06\n",
       "alternative hypothesis: true location shift is less than 0\n"
      ]
     },
     "metadata": {},
     "output_type": "display_data"
    }
   ],
   "source": [
    "wilcox.test(plotDF3 %>%filter(species==\"human\",cell==\"RG\") %>% .$enrich,\n",
    "            plotDF3 %>%filter(species==\"human\",cell==\"eN\") %>% .$enrich,\n",
    "            alternative = \"less\")\n",
    "wilcox.test(plotDF3 %>%filter(species==\"rhesus\",cell==\"RG\") %>% .$enrich,\n",
    "            plotDF3 %>%filter(species==\"rhesus\",cell==\"eN\") %>% .$enrich,\n",
    "            alternative = \"less\")\n",
    "wilcox.test(plotDF3 %>%filter(species==\"mouse\",cell==\"RG\") %>% .$enrich,\n",
    "            plotDF3 %>%filter(species==\"mouse\",cell==\"eN\") %>% .$enrich,\n",
    "            alternative = \"less\")"
   ]
  },
  {
   "cell_type": "code",
   "execution_count": 300,
   "id": "2aba5ade",
   "metadata": {},
   "outputs": [
    {
     "data": {
      "text/plain": [
       "\n",
       "\tWilcoxon rank sum test with continuity correction\n",
       "\n",
       "data:  plotDF3 %>% filter(species == \"human\", cell == \"RG\") %>% .$enrich and plotDF3 %>% filter(species == \"mouse\", cell == \"RG\") %>% .$enrich\n",
       "W = 2017, p-value = 0.8448\n",
       "alternative hypothesis: true location shift is greater than 0\n"
      ]
     },
     "metadata": {},
     "output_type": "display_data"
    },
    {
     "data": {
      "text/plain": [
       "\n",
       "\tWilcoxon rank sum test with continuity correction\n",
       "\n",
       "data:  plotDF3 %>% filter(species == \"human\", cell == \"eN\") %>% .$enrich and plotDF3 %>% filter(species == \"mouse\", cell == \"eN\") %>% .$enrich\n",
       "W = 2472, p-value = 0.1562\n",
       "alternative hypothesis: true location shift is greater than 0\n"
      ]
     },
     "metadata": {},
     "output_type": "display_data"
    },
    {
     "data": {
      "text/plain": [
       "\n",
       "\tWilcoxon rank sum test with continuity correction\n",
       "\n",
       "data:  plotDF3 %>% filter(species == \"human\", cell == \"RG\") %>% .$enrich and plotDF3 %>% filter(species == \"rhesus\", cell == \"RG\") %>% .$enrich\n",
       "W = 1633, p-value = 0.9968\n",
       "alternative hypothesis: true location shift is greater than 0\n"
      ]
     },
     "metadata": {},
     "output_type": "display_data"
    },
    {
     "data": {
      "text/plain": [
       "\n",
       "\tWilcoxon rank sum test with continuity correction\n",
       "\n",
       "data:  plotDF3 %>% filter(species == \"human\", cell == \"eN\") %>% .$enrich and plotDF3 %>% filter(species == \"rhesus\", cell == \"eN\") %>% .$enrich\n",
       "W = 2856, p-value = 0.003275\n",
       "alternative hypothesis: true location shift is greater than 0\n"
      ]
     },
     "metadata": {},
     "output_type": "display_data"
    }
   ],
   "source": [
    "wilcox.test(plotDF3 %>%filter(species==\"human\",cell==\"RG\") %>% .$enrich,\n",
    "            plotDF3 %>%filter(species==\"mouse\",cell==\"RG\") %>% .$enrich,\n",
    "            alternative = \"greater\")\n",
    "wilcox.test(plotDF3 %>%filter(species==\"human\",cell==\"eN\") %>% .$enrich,\n",
    "            plotDF3 %>%filter(species==\"mouse\",cell==\"eN\") %>% .$enrich,\n",
    "            alternative = \"greater\")\n",
    "wilcox.test(plotDF3 %>%filter(species==\"human\",cell==\"RG\") %>% .$enrich,\n",
    "            plotDF3 %>%filter(species==\"rhesus\",cell==\"RG\") %>% .$enrich,\n",
    "            alternative = \"greater\")\n",
    "wilcox.test(plotDF3 %>%filter(species==\"human\",cell==\"eN\") %>% .$enrich,\n",
    "            plotDF3 %>%filter(species==\"rhesus\",cell==\"eN\") %>% .$enrich,\n",
    "            alternative = \"greater\")"
   ]
  }
 ],
 "metadata": {
  "kernelspec": {
   "display_name": "R 4.1.1",
   "language": "R",
   "name": "ir411"
  },
  "language_info": {
   "codemirror_mode": "r",
   "file_extension": ".r",
   "mimetype": "text/x-r-source",
   "name": "R",
   "pygments_lexer": "r",
   "version": "4.1.1"
  }
 },
 "nbformat": 4,
 "nbformat_minor": 5
}
