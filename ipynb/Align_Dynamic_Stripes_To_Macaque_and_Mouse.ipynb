{
 "cells": [
  {
   "cell_type": "markdown",
   "id": "a7ffa49f",
   "metadata": {},
   "source": [
    "# SetUP"
   ]
  },
  {
   "cell_type": "code",
   "execution_count": 58,
   "id": "c5ca0310",
   "metadata": {},
   "outputs": [],
   "source": [
    "setwd(\"/lustre/user/liclab/jialm/Project/SCOPEC/analysis/stripes/\")"
   ]
  },
  {
   "cell_type": "code",
   "execution_count": 59,
   "id": "fbb72dee",
   "metadata": {},
   "outputs": [],
   "source": [
    "suppressPackageStartupMessages({\n",
    "library(dplyr)\n",
    "library(tidyverse)\n",
    "library(data.table)\n",
    "library(ggplot2)\n",
    "library(edgeR)\n",
    "library(RColorBrewer)\n",
    "library(GenomicRanges)\n",
    "library(ComplexHeatmap)\n",
    "#library(igraph)\n",
    "})"
   ]
  },
  {
   "cell_type": "markdown",
   "id": "f3906bfc",
   "metadata": {},
   "source": [
    "# adjust"
   ]
  },
  {
   "cell_type": "code",
   "execution_count": null,
   "id": "ce63fc63",
   "metadata": {},
   "outputs": [],
   "source": [
    "stripes.25 <- read.table(\"./25kb/RG.eN.merged.stripes\")\n",
    "stripes.25 <- stripes.25 %>% \n",
    "mutate(V5=case_when((V3-V2==25000) & (V5 >= V2) ~ V5,\n",
    "                    (V3-V2==25000) & (V5 < V2) ~ V2,\n",
    "                    (V3-V2 >25000 ~ V5)),\n",
    "       V3=case_when((V6-V5==25000) & (V3 > V6) ~ V6,\n",
    "                    (V6-V5==25000) & (V3 <= V6) ~ V3,\n",
    "                    (V6-V5 >25000 ~ V3))\n",
    "       ) %>% distinct()\n",
    "write.table(stripes.25,\"./25kb/RG.eN.merged.stripes.adjust\",col.names = F,row.names = F,sep=\"\\t\",quote=F)"
   ]
  },
  {
   "cell_type": "code",
   "execution_count": 21,
   "id": "69f07d8a",
   "metadata": {},
   "outputs": [],
   "source": [
    "stripes.50 <- read.table(\"./50kb/RG.eN.merged.stripes.50kb\")\n",
    "stripes.50 <- stripes.50 %>% \n",
    "mutate(V5=case_when((V3-V2==50000) & (V5 >= V2) ~ V5,\n",
    "                    (V3-V2==50000) & (V5 < V2) ~ V2,\n",
    "                    (V3-V2 >50000 ~ V5)),\n",
    "       V3=case_when((V6-V5==50000) & (V3 > V6) ~ V6,\n",
    "                    (V6-V5==50000) & (V3 <= V6) ~ V3,\n",
    "                    (V6-V5 >50000 ~ V3))\n",
    "       ) %>% distinct()\n",
    "write.table(stripes.50,\"./50kb/RG.eN.merged.stripes.50kb.adjust\",col.names = F,row.names = F,sep=\"\\t\",quote=F)"
   ]
  },
  {
   "cell_type": "markdown",
   "id": "f53684bf",
   "metadata": {},
   "source": [
    "# 25kb"
   ]
  },
  {
   "cell_type": "code",
   "execution_count": 60,
   "id": "6e5e5cda",
   "metadata": {},
   "outputs": [],
   "source": [
    "setwd(\"/lustre/user/liclab/jialm/Project/SCOPEC/analysis/stripes/25kb.res/\")"
   ]
  },
  {
   "cell_type": "code",
   "execution_count": 61,
   "id": "98ead4e4",
   "metadata": {},
   "outputs": [],
   "source": [
    "file.ls <- list.files(\"./\",pattern=\"sta\")"
   ]
  },
  {
   "cell_type": "code",
   "execution_count": 62,
   "id": "97c07b6e",
   "metadata": {},
   "outputs": [],
   "source": [
    "stripes.sta <- lapply(file.ls,read.table)"
   ]
  },
  {
   "cell_type": "code",
   "execution_count": 63,
   "id": "0028a1ab",
   "metadata": {},
   "outputs": [],
   "source": [
    "names(stripes.sta) <- gsub(\".allValidPairs.cis.bedpe.sta\",\"\",file.ls) "
   ]
  },
  {
   "cell_type": "code",
   "execution_count": 64,
   "id": "b5cfc4a6",
   "metadata": {},
   "outputs": [],
   "source": [
    "Input <- cbind(stripes.sta$RG.eN.merged.stripe.V1.RG.allV1,stripes.sta$RG.eN.merged.stripes.PFC.RG.all[,7],\n",
    "      stripes.sta$RG.eN.merged.stripe.V1.eN.allV1[,7],stripes.sta$RG.eN.merged.stripes.PFC.eN.all[,7]) %>%\n",
    "set_names(\"seq1\",\"start1\",\"end1\",\"seq2\",\"start2\",\"end2\",\"RG.1\",\"RG.2\",\"eN.1\",\"eN.2\")"
   ]
  },
  {
   "cell_type": "code",
   "execution_count": 65,
   "id": "fd346972",
   "metadata": {},
   "outputs": [
    {
     "name": "stderr",
     "output_type": "stream",
     "text": [
      "Using classic mode.\n",
      "\n"
     ]
    }
   ],
   "source": [
    "data <- Input[,-(1:6)] \n",
    "group <- c(rep(\"RG\",2),rep(\"eN\",2))\n",
    "genes <- Input[,1:6]\n",
    "dge <- DGEList(counts = data, genes = genes, group = group)\n",
    "#keep <- filterByExpr(dge, group = group)\n",
    "dge <- calcNormFactors(dge)\n",
    "#dge <- dge[keep,]\n",
    "dge <- estimateDisp(dge)\n",
    "design <- model.matrix(~ 0 + group, data = dge$samples)\n",
    "fit <- glmQLFit(dge, design = design)\n",
    "AvsB <- makeContrasts(groupeN-groupRG, levels=design)\n",
    "qlf <- glmQLFTest(fit, contrast= AvsB)\n"
   ]
  },
  {
   "cell_type": "code",
   "execution_count": 14,
   "id": "1c07ca33",
   "metadata": {},
   "outputs": [
    {
     "data": {
      "text/html": [
       "<table class=\"dataframe\">\n",
       "<caption>A tibble: 3 × 2</caption>\n",
       "<thead>\n",
       "\t<tr><th scope=col>Group</th><th scope=col>n</th></tr>\n",
       "\t<tr><th scope=col>&lt;chr&gt;</th><th scope=col>&lt;int&gt;</th></tr>\n",
       "</thead>\n",
       "<tbody>\n",
       "\t<tr><td>Down</td><td> 195</td></tr>\n",
       "\t<tr><td>Not </td><td>1998</td></tr>\n",
       "\t<tr><td>Up  </td><td> 227</td></tr>\n",
       "</tbody>\n",
       "</table>\n"
      ],
      "text/latex": [
       "A tibble: 3 × 2\n",
       "\\begin{tabular}{ll}\n",
       " Group & n\\\\\n",
       " <chr> & <int>\\\\\n",
       "\\hline\n",
       "\t Down &  195\\\\\n",
       "\t Not  & 1998\\\\\n",
       "\t Up   &  227\\\\\n",
       "\\end{tabular}\n"
      ],
      "text/markdown": [
       "\n",
       "A tibble: 3 × 2\n",
       "\n",
       "| Group &lt;chr&gt; | n &lt;int&gt; |\n",
       "|---|---|\n",
       "| Down |  195 |\n",
       "| Not  | 1998 |\n",
       "| Up   |  227 |\n",
       "\n"
      ],
      "text/plain": [
       "  Group n   \n",
       "1 Down   195\n",
       "2 Not   1998\n",
       "3 Up     227"
      ]
     },
     "metadata": {},
     "output_type": "display_data"
    }
   ],
   "source": [
    "RGtoeN <- topTags(qlf, n = Inf)$table %>% mutate(Group=case_when(logFC >=0.4 & FDR<=0.05~\"Up\",\n",
    "                                                       logFC <= -0.4 & FDR<=0.05~\"Down\",\n",
    "                                                        abs(logFC) <0.4 | FDR>0.05~\"Not\"))\n",
    "RGtoeN %>% group_by(Group) %>% summarise(n=n())"
   ]
  },
  {
   "cell_type": "code",
   "execution_count": 15,
   "id": "d2a395e4",
   "metadata": {},
   "outputs": [],
   "source": [
    "write.table(RGtoeN,\"./RG2eN.25kb.stripes.edgeR.res.txt\",col.names = F,row.names = F,sep=\"\\t\",quote=F)"
   ]
  },
  {
   "cell_type": "markdown",
   "id": "01bdcdf4",
   "metadata": {},
   "source": [
    "# 50kb"
   ]
  },
  {
   "cell_type": "code",
   "execution_count": 30,
   "id": "c8350c5e",
   "metadata": {},
   "outputs": [],
   "source": [
    "setwd(\"/lustre/user/liclab/jialm/Project/SCOPEC/analysis/stripes/50kb/\")"
   ]
  },
  {
   "cell_type": "code",
   "execution_count": 31,
   "id": "5dabff76",
   "metadata": {},
   "outputs": [],
   "source": [
    "file.ls <- list.files(\"./\",pattern=\"sta\")"
   ]
  },
  {
   "cell_type": "code",
   "execution_count": 32,
   "id": "cd4d349a",
   "metadata": {},
   "outputs": [
    {
     "data": {
      "text/html": [
       "<style>\n",
       ".list-inline {list-style: none; margin:0; padding: 0}\n",
       ".list-inline>li {display: inline-block}\n",
       ".list-inline>li:not(:last-child)::after {content: \"\\00b7\"; padding: 0 .5ex}\n",
       "</style>\n",
       "<ol class=list-inline><li>'RG.eN.merged.stripes.50kb.PFC.eN.all.allValidPairs.cis.bedpe.sta'</li><li>'RG.eN.merged.stripes.50kb.PFC.RG.all.allValidPairs.cis.bedpe.sta'</li><li>'RG.eN.merged.stripes.50kb.V1.eN.allV1.allValidPairs.cis.bedpe.sta'</li><li>'RG.eN.merged.stripes.50kb.V1.RG.allV1.allValidPairs.cis.bedpe.sta'</li></ol>\n"
      ],
      "text/latex": [
       "\\begin{enumerate*}\n",
       "\\item 'RG.eN.merged.stripes.50kb.PFC.eN.all.allValidPairs.cis.bedpe.sta'\n",
       "\\item 'RG.eN.merged.stripes.50kb.PFC.RG.all.allValidPairs.cis.bedpe.sta'\n",
       "\\item 'RG.eN.merged.stripes.50kb.V1.eN.allV1.allValidPairs.cis.bedpe.sta'\n",
       "\\item 'RG.eN.merged.stripes.50kb.V1.RG.allV1.allValidPairs.cis.bedpe.sta'\n",
       "\\end{enumerate*}\n"
      ],
      "text/markdown": [
       "1. 'RG.eN.merged.stripes.50kb.PFC.eN.all.allValidPairs.cis.bedpe.sta'\n",
       "2. 'RG.eN.merged.stripes.50kb.PFC.RG.all.allValidPairs.cis.bedpe.sta'\n",
       "3. 'RG.eN.merged.stripes.50kb.V1.eN.allV1.allValidPairs.cis.bedpe.sta'\n",
       "4. 'RG.eN.merged.stripes.50kb.V1.RG.allV1.allValidPairs.cis.bedpe.sta'\n",
       "\n",
       "\n"
      ],
      "text/plain": [
       "[1] \"RG.eN.merged.stripes.50kb.PFC.eN.all.allValidPairs.cis.bedpe.sta\" \n",
       "[2] \"RG.eN.merged.stripes.50kb.PFC.RG.all.allValidPairs.cis.bedpe.sta\" \n",
       "[3] \"RG.eN.merged.stripes.50kb.V1.eN.allV1.allValidPairs.cis.bedpe.sta\"\n",
       "[4] \"RG.eN.merged.stripes.50kb.V1.RG.allV1.allValidPairs.cis.bedpe.sta\""
      ]
     },
     "metadata": {},
     "output_type": "display_data"
    }
   ],
   "source": [
    "file.ls"
   ]
  },
  {
   "cell_type": "code",
   "execution_count": 33,
   "id": "44fc8b05",
   "metadata": {},
   "outputs": [],
   "source": [
    "stripes.sta <- lapply(file.ls,read.table)"
   ]
  },
  {
   "cell_type": "code",
   "execution_count": 34,
   "id": "20046db1",
   "metadata": {},
   "outputs": [],
   "source": [
    "names(stripes.sta) <- gsub(\".allValidPairs.cis.bedpe.sta\",\"\",file.ls) "
   ]
  },
  {
   "cell_type": "code",
   "execution_count": 35,
   "id": "b81c556e",
   "metadata": {},
   "outputs": [],
   "source": [
    "Input <- cbind(stripes.sta$RG.eN.merged.stripes.50kb.PFC.RG.all,stripes.sta$RG.eN.merged.stripes.50kb.V1.RG.allV1[,7],\n",
    "               stripes.sta$RG.eN.merged.stripes.50kb.PFC.eN.all[,7],stripes.sta$RG.eN.merged.stripes.50kb.V1.eN.allV1[,7]) %>%\n",
    "set_names(\"seq1\",\"start1\",\"end1\",\"seq2\",\"start2\",\"end2\",\"RG.1\",\"RG.2\",\"eN.1\",\"eN.2\")"
   ]
  },
  {
   "cell_type": "code",
   "execution_count": 36,
   "id": "bec0473d",
   "metadata": {},
   "outputs": [
    {
     "name": "stderr",
     "output_type": "stream",
     "text": [
      "Using classic mode.\n",
      "\n"
     ]
    }
   ],
   "source": [
    "data <- Input[,-(1:6)] \n",
    "group <- c(rep(\"RG\",2),rep(\"eN\",2))\n",
    "genes <- Input[,1:6]\n",
    "dge <- DGEList(counts = data, genes = genes, group = group)\n",
    "#keep <- filterByExpr(dge, group = group)\n",
    "dge <- calcNormFactors(dge)\n",
    "#dge <- dge[keep,]\n",
    "dge <- estimateDisp(dge)\n",
    "design <- model.matrix(~ 0 + group, data = dge$samples)\n",
    "fit <- glmQLFit(dge, design = design)\n",
    "AvsB <- makeContrasts(groupeN-groupRG, levels=design)\n",
    "qlf <- glmQLFTest(fit, contrast= AvsB)\n"
   ]
  },
  {
   "cell_type": "code",
   "execution_count": 37,
   "id": "48b145d9",
   "metadata": {},
   "outputs": [
    {
     "data": {
      "text/html": [
       "<table class=\"dataframe\">\n",
       "<caption>A tibble: 3 × 2</caption>\n",
       "<thead>\n",
       "\t<tr><th scope=col>Group</th><th scope=col>n</th></tr>\n",
       "\t<tr><th scope=col>&lt;chr&gt;</th><th scope=col>&lt;int&gt;</th></tr>\n",
       "</thead>\n",
       "<tbody>\n",
       "\t<tr><td>Down</td><td> 119</td></tr>\n",
       "\t<tr><td>Not </td><td>2836</td></tr>\n",
       "\t<tr><td>Up  </td><td> 331</td></tr>\n",
       "</tbody>\n",
       "</table>\n"
      ],
      "text/latex": [
       "A tibble: 3 × 2\n",
       "\\begin{tabular}{ll}\n",
       " Group & n\\\\\n",
       " <chr> & <int>\\\\\n",
       "\\hline\n",
       "\t Down &  119\\\\\n",
       "\t Not  & 2836\\\\\n",
       "\t Up   &  331\\\\\n",
       "\\end{tabular}\n"
      ],
      "text/markdown": [
       "\n",
       "A tibble: 3 × 2\n",
       "\n",
       "| Group &lt;chr&gt; | n &lt;int&gt; |\n",
       "|---|---|\n",
       "| Down |  119 |\n",
       "| Not  | 2836 |\n",
       "| Up   |  331 |\n",
       "\n"
      ],
      "text/plain": [
       "  Group n   \n",
       "1 Down   119\n",
       "2 Not   2836\n",
       "3 Up     331"
      ]
     },
     "metadata": {},
     "output_type": "display_data"
    }
   ],
   "source": [
    "RGtoeN <- topTags(qlf, n = Inf)$table %>% mutate(Group=case_when(logFC >=0.5 & FDR<=0.05~\"Up\",\n",
    "                                                       logFC <= -0.5 & FDR<=0.05~\"Down\",\n",
    "                                                        abs(logFC) <0.5 | FDR>0.05~\"Not\"))\n",
    "RGtoeN %>% group_by(Group) %>% summarise(n=n())"
   ]
  },
  {
   "cell_type": "code",
   "execution_count": 38,
   "id": "9a9a6dbe",
   "metadata": {},
   "outputs": [],
   "source": [
    "write.table(RGtoeN,\"./RG2eN.50kb.stripes.edgeR.res.txt\",col.names = F,row.names = F,sep=\"\\t\",quote=F)"
   ]
  },
  {
   "cell_type": "markdown",
   "id": "73330e23",
   "metadata": {},
   "source": [
    "# HRM"
   ]
  },
  {
   "cell_type": "code",
   "execution_count": 66,
   "id": "cc646852",
   "metadata": {},
   "outputs": [],
   "source": [
    "setwd(\"/lustre/user/liclab/jialm/Project/SCOPEC/analysis/stripes/25_50kb.stripes.liftOver\")"
   ]
  },
  {
   "cell_type": "markdown",
   "id": "13b1bb8f",
   "metadata": {},
   "source": [
    "## 25kb"
   ]
  },
  {
   "cell_type": "code",
   "execution_count": null,
   "id": "b2df20b7",
   "metadata": {},
   "outputs": [],
   "source": [
    "H2R <- read.table(\"./RG2eN.25kb.stripes.edgeR.res.txt.range.rheMac\") %>% \n",
    "filter(V5==1) %>% \n",
    "mutate(ID=paste0(V1,\":\",V2+1,\"-\",V3))\n",
    "R2M <- read.table(\"./RG2eN.25kb.stripes.edgeR.res.txt.range.rheMac.mm\") %>% \n",
    "filter(V5==1) %>% \n",
    "mutate(ID=paste0(V1,\":\",V2+1,\"-\",V3))"
   ]
  },
  {
   "cell_type": "code",
   "execution_count": 53,
   "id": "e105cd22",
   "metadata": {},
   "outputs": [],
   "source": [
    "HA <- read.table(\"./RG2eN.25kb.stripes.edgeR.res.txt\") %>% \n",
    "mutate(V2=V2+1,H=paste0(V1,\":\",V2,\"-\",V6))"
   ]
  },
  {
   "cell_type": "code",
   "execution_count": 32,
   "id": "4b2faec5",
   "metadata": {},
   "outputs": [
    {
     "name": "stderr",
     "output_type": "stream",
     "text": [
      "Warning message in dplyr::inner_join(H2R, R2M, by = c(ID = \"V4\")):\n",
      "“\u001b[1m\u001b[22mDetected an unexpected many-to-many relationship between `x` and `y`.\n",
      "\u001b[36mℹ\u001b[39m Row 735 of `x` matches multiple rows in `y`.\n",
      "\u001b[36mℹ\u001b[39m Row 991 of `y` matches multiple rows in `x`.\n",
      "\u001b[36mℹ\u001b[39m If a many-to-many relationship is expected, set `relationship = \"many-to-many\"` to silence this warning.”\n"
     ]
    }
   ],
   "source": [
    "HRM <- dplyr::inner_join(H2R,R2M,by=c(\"ID\"=\"V4\"))"
   ]
  },
  {
   "cell_type": "code",
   "execution_count": 40,
   "id": "0780acef",
   "metadata": {},
   "outputs": [],
   "source": [
    "HRM <- HRM[,c(4,6,11)] %>% distinct()\n",
    "colnames(HRM) <- c(\"H\",\"R\",\"M\")"
   ]
  },
  {
   "cell_type": "code",
   "execution_count": 56,
   "id": "50f9ceba",
   "metadata": {},
   "outputs": [],
   "source": [
    "HRM <- HRM %>% dplyr::left_join(.,HA,by=\"H\") %>%\n",
    "select(H,R,M,V12)"
   ]
  },
  {
   "cell_type": "code",
   "execution_count": 57,
   "id": "e871db82",
   "metadata": {},
   "outputs": [],
   "source": [
    "write.table(HRM, \"./RG.eN.25kb.stripes.HRM.paired\",col.names = F,row.names = F,sep=\"\\t\",quote=F)"
   ]
  },
  {
   "cell_type": "code",
   "execution_count": 68,
   "id": "f052afbf",
   "metadata": {},
   "outputs": [],
   "source": [
    "HRM <- read.table(\"./RG.eN.25kb.stripes.HRM.paired.bed\")"
   ]
  },
  {
   "cell_type": "code",
   "execution_count": 84,
   "id": "7e3a2260",
   "metadata": {},
   "outputs": [],
   "source": [
    "HA <- read.table(\"./RG2eN.25kb.stripes.edgeR.res.txt\") %>% \n",
    "mutate(V2=V2+1)%>% \n",
    "mutate(g=case_when(V3-V2==24999 ~ \"L\",\n",
    "                   V6-V5==25000 ~ \"R\")) %>%\n",
    "select(V1,V2,V6,g)"
   ]
  },
  {
   "cell_type": "code",
   "execution_count": 87,
   "id": "5973eca6",
   "metadata": {},
   "outputs": [],
   "source": [
    "HRM <- HRM %>% dplyr::left_join(.,HA,by=c(\"V1\"=\"V1\",\"V2\"=\"V2\",\"V3\"=\"V6\"))"
   ]
  },
  {
   "cell_type": "code",
   "execution_count": 88,
   "id": "f66ca080",
   "metadata": {},
   "outputs": [],
   "source": [
    "write.table(HRM, \"./RG.eN.25kb.stripes.HRM.paired.bed\",col.names = F,row.names = F,sep=\"\\t\",quote=F)"
   ]
  },
  {
   "cell_type": "markdown",
   "id": "7d913e89",
   "metadata": {},
   "source": [
    "## 50kb"
   ]
  },
  {
   "cell_type": "code",
   "execution_count": null,
   "id": "ce885caa",
   "metadata": {},
   "outputs": [],
   "source": [
    "H2R <- read.table(\"./RG2eN.50kb.stripes.edgeR.res.txt.range.rheMac\") %>% \n",
    "filter(V5==1) %>% \n",
    "mutate(ID=paste0(V1,\":\",V2+1,\"-\",V3))\n",
    "R2M <- read.table(\"./RG2eN.50kb.stripes.edgeR.res.txt.range.rheMac.mm\") %>% \n",
    "filter(V5==1) %>% \n",
    "mutate(ID=paste0(V1,\":\",V2+1,\"-\",V3))"
   ]
  },
  {
   "cell_type": "code",
   "execution_count": 30,
   "id": "fd10d72b",
   "metadata": {},
   "outputs": [
    {
     "name": "stderr",
     "output_type": "stream",
     "text": [
      "Warning message in dplyr::inner_join(H2R, R2M, by = c(ID = \"V4\")):\n",
      "“\u001b[1m\u001b[22mEach row in `x` is expected to match at most 1 row in `y`.\n",
      "\u001b[36mℹ\u001b[39m Row 86 of `x` matches multiple rows.\n",
      "\u001b[36mℹ\u001b[39m If multiple matches are expected, set `multiple = \"all\"` to silence this warning.”\n"
     ]
    }
   ],
   "source": [
    "HRM <- dplyr::inner_join(H2R,R2M,by=c(\"ID\"=\"V4\"))"
   ]
  },
  {
   "cell_type": "code",
   "execution_count": 31,
   "id": "c9c5b26a",
   "metadata": {},
   "outputs": [],
   "source": [
    "HRM <- HRM[,c(4,6,11)] %>% distinct()\n",
    "colnames(HRM) <- c(\"H\",\"R\",\"M\")"
   ]
  },
  {
   "cell_type": "code",
   "execution_count": 33,
   "id": "b27ee75a",
   "metadata": {},
   "outputs": [],
   "source": [
    "write.table(HRM, \"./RG.eN.50kb.stripes.HRM.paired\",col.names = F,row.names = F,sep=\"\\t\",quote=F)"
   ]
  },
  {
   "cell_type": "code",
   "execution_count": 56,
   "id": "17a147df",
   "metadata": {},
   "outputs": [],
   "source": [
    "range <- read.table(\"./RG2eN.50kb.stripes.edgeR.res.txt.range\") %>% mutate(V2=V2+1)"
   ]
  },
  {
   "cell_type": "code",
   "execution_count": 57,
   "id": "63e6aea5",
   "metadata": {},
   "outputs": [],
   "source": [
    "res <- read.table(\"./RG.eN.50kb.stripes.HRM.paired.bed\") %>%\n",
    "dplyr::left_join(.,range,by=c(\"V1\",\"V2\",\"V3\")) "
   ]
  },
  {
   "cell_type": "code",
   "execution_count": 59,
   "id": "12374d9d",
   "metadata": {},
   "outputs": [],
   "source": [
    "write.table(res[,-11], \"./RG.eN.50kb.stripes.HRM.paired\",col.names = F,row.names = F,sep=\"\\t\",quote=F)"
   ]
  }
 ],
 "metadata": {
  "kernelspec": {
   "display_name": "Python 3 (ipykernel)",
   "language": "python",
   "name": "python3"
  },
  "language_info": {
   "codemirror_mode": {
    "name": "ipython",
    "version": 3
   },
   "file_extension": ".py",
   "mimetype": "text/x-python",
   "name": "python",
   "nbconvert_exporter": "python",
   "pygments_lexer": "ipython3",
   "version": "3.10.12"
  }
 },
 "nbformat": 4,
 "nbformat_minor": 5
}
