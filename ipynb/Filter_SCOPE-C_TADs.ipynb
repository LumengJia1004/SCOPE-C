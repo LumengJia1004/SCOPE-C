{
 "cells": [
  {
   "cell_type": "markdown",
   "id": "0f1020b3",
   "metadata": {},
   "source": [
    "# SetUP"
   ]
  },
  {
   "cell_type": "code",
   "execution_count": 3,
   "id": "58d14b6d",
   "metadata": {},
   "outputs": [],
   "source": [
    "setwd(\"/lustre/user/liclab/jialm/Project/SCOPEC/cleanData/TAD/humanBrain_PFCV1_1k_merge/\")"
   ]
  },
  {
   "cell_type": "code",
   "execution_count": 4,
   "id": "77f0046a",
   "metadata": {},
   "outputs": [],
   "source": [
    "suppressPackageStartupMessages({\n",
    "library(dplyr)\n",
    "library(tidyverse)\n",
    "library(data.table)\n",
    "library(ggplot2)\n",
    "library(edgeR)\n",
    "library(RColorBrewer)\n",
    "library(GenomicRanges)\n",
    "library(ComplexHeatmap)\n",
    "library(Signac)\n",
    "library(Seurat)\n",
    "#library(rtracklayer)\n",
    "#library(igraph)\n",
    "})"
   ]
  },
  {
   "cell_type": "code",
   "execution_count": 16,
   "id": "da622a51",
   "metadata": {},
   "outputs": [],
   "source": [
    "RG <- read.table(\"./RG.boundaries.merged.bed\") %>% mutate(V3=V3-1) %>%\n",
    "set_names(\"seqnames\",\"start\",\"end\") %>%\n",
    "makeGRangesFromDataFrame() \n",
    "eN <- read.table(\"./eN.boundaries.merged.bed\") %>% mutate(V3=V3-1) %>%\n",
    "set_names(\"seqnames\",\"start\",\"end\") %>%\n",
    "makeGRangesFromDataFrame() "
   ]
  },
  {
   "cell_type": "code",
   "execution_count": 30,
   "id": "4df55106",
   "metadata": {},
   "outputs": [],
   "source": [
    "RG.TAD <- gaps(RG) %>% as.data.frame() %>% filter(width<=10000000,start !=1)\n",
    "eN.TAD <- gaps(eN) %>% as.data.frame() %>% filter(width<=10000000,start !=1)"
   ]
  },
  {
   "cell_type": "code",
   "execution_count": 31,
   "id": "d5f5e481",
   "metadata": {},
   "outputs": [],
   "source": [
    "write.table(RG.TAD,\"./RG.TAD.bed\",col.names = F,row.names = F,sep=\"\\t\",quote=F)\n",
    "write.table(eN.TAD,\"./eN.TAD.bed\",col.names = F,row.names = F,sep=\"\\t\",quote=F)"
   ]
  },
  {
   "cell_type": "code",
   "execution_count": null,
   "id": "b6c686fe",
   "metadata": {},
   "outputs": [],
   "source": []
  },
  {
   "cell_type": "code",
   "execution_count": null,
   "id": "c0057a95",
   "metadata": {},
   "outputs": [],
   "source": []
  },
  {
   "cell_type": "code",
   "execution_count": null,
   "id": "fd980474",
   "metadata": {},
   "outputs": [],
   "source": []
  }
 ],
 "metadata": {
  "kernelspec": {
   "display_name": "R 4.1.1",
   "language": "R",
   "name": "ir411"
  },
  "language_info": {
   "codemirror_mode": "r",
   "file_extension": ".r",
   "mimetype": "text/x-r-source",
   "name": "R",
   "pygments_lexer": "r",
   "version": "4.1.1"
  }
 },
 "nbformat": 4,
 "nbformat_minor": 5
}
