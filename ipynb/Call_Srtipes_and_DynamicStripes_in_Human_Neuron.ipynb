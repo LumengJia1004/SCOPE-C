{
 "cells": [
  {
   "cell_type": "markdown",
   "id": "9187721c",
   "metadata": {},
   "source": [
    "# SetUP"
   ]
  },
  {
   "cell_type": "code",
   "execution_count": 1,
   "id": "0679a7e6",
   "metadata": {},
   "outputs": [],
   "source": [
    "setwd(\"/lustre/user/liclab/jialm/Project/SCOPEC/analysis/stripes/res/allhumanBrain_1k_PFC_V1/\")"
   ]
  },
  {
   "cell_type": "code",
   "execution_count": 2,
   "id": "7c074bb5",
   "metadata": {},
   "outputs": [],
   "source": [
    "suppressPackageStartupMessages({\n",
    "library(dplyr)\n",
    "library(tidyverse)\n",
    "library(data.table)\n",
    "library(ggplot2)\n",
    "library(edgeR)\n",
    "library(RColorBrewer)\n",
    "library(GenomicRanges)\n",
    "library(ComplexHeatmap)\n",
    "#library(igraph)\n",
    "})"
   ]
  },
  {
   "cell_type": "code",
   "execution_count": 3,
   "id": "661cbc23",
   "metadata": {},
   "outputs": [],
   "source": [
    "file.ls <- list.files(\"./\",pattern=\"sta\")"
   ]
  },
  {
   "cell_type": "code",
   "execution_count": 5,
   "id": "3a3f6260",
   "metadata": {},
   "outputs": [],
   "source": [
    "stripes.sta <- lapply(file.ls,read.table)"
   ]
  },
  {
   "cell_type": "code",
   "execution_count": 9,
   "id": "1795f368",
   "metadata": {},
   "outputs": [],
   "source": [
    "names(stripes.sta) <- file.ls "
   ]
  },
  {
   "cell_type": "code",
   "execution_count": 17,
   "id": "8d9f63f3",
   "metadata": {},
   "outputs": [],
   "source": [
    "counts <- dplyr::full_join(stripes.sta$`human_1K-PFC_V1_merge.RG.iPC.eN.iN.stripes.PFC.RG.counts.sta`,\n",
    "                 stripes.sta$`human_1K-PFC_V1_merge.RG.iPC.eN.iN.stripes.V1.RG.counts.sta`,\n",
    "                 by=paste0(\"V\",1:6)) %>%\n",
    "dplyr::full_join(.,stripes.sta$`human_1K-PFC_V1_merge.RG.iPC.eN.iN.stripes.PFC.iPC.counts.sta`,by=paste0(\"V\",1:6))%>%\n",
    "dplyr::full_join(.,stripes.sta$`human_1K-PFC_V1_merge.RG.iPC.eN.iN.stripes.V1.iPC.counts.sta`,by=paste0(\"V\",1:6))%>%\n",
    "dplyr::full_join(.,stripes.sta$`human_1K-PFC_V1_merge.RG.iPC.eN.iN.stripes.PFC.eN.counts.sta`,by=paste0(\"V\",1:6))%>%\n",
    "dplyr::full_join(.,stripes.sta$`human_1K-PFC_V1_merge.RG.iPC.eN.iN.stripes.V1.eN.counts.sta`,by=paste0(\"V\",1:6))%>%\n",
    "dplyr::full_join(.,stripes.sta$`human_1K-PFC_V1_merge.RG.iPC.eN.iN.stripes.PFC.iN.counts.sta`,by=paste0(\"V\",1:6))%>%\n",
    "dplyr::full_join(.,stripes.sta$`human_1K-PFC_V1_merge.RG.iPC.eN.iN.stripes.V1.iN.counts.sta`,by=paste0(\"V\",1:6)) %>%\n",
    "replace(is.na(.),0) %>%\n",
    "set_names(c(paste0(\"V\",1:6),\"RG.1\",\"RG.2\",\"iPC.1\",\"iPC.2\",\"eN.1\",\"eN.2\",\"iN.1\",\"iN.2\"))"
   ]
  },
  {
   "cell_type": "code",
   "execution_count": 101,
   "id": "02ed00a9",
   "metadata": {},
   "outputs": [
    {
     "name": "stderr",
     "output_type": "stream",
     "text": [
      "Using classic mode.\n",
      "\n"
     ]
    },
    {
     "data": {
      "text/html": [
       "<table class=\"dataframe\">\n",
       "<caption>A tibble: 3 × 2</caption>\n",
       "<thead>\n",
       "\t<tr><th scope=col>Group</th><th scope=col>n</th></tr>\n",
       "\t<tr><th scope=col>&lt;chr&gt;</th><th scope=col>&lt;int&gt;</th></tr>\n",
       "</thead>\n",
       "<tbody>\n",
       "\t<tr><td>Down</td><td> 2260</td></tr>\n",
       "\t<tr><td>Not </td><td>23345</td></tr>\n",
       "\t<tr><td>Up  </td><td> 2629</td></tr>\n",
       "</tbody>\n",
       "</table>\n"
      ],
      "text/latex": [
       "A tibble: 3 × 2\n",
       "\\begin{tabular}{ll}\n",
       " Group & n\\\\\n",
       " <chr> & <int>\\\\\n",
       "\\hline\n",
       "\t Down &  2260\\\\\n",
       "\t Not  & 23345\\\\\n",
       "\t Up   &  2629\\\\\n",
       "\\end{tabular}\n"
      ],
      "text/markdown": [
       "\n",
       "A tibble: 3 × 2\n",
       "\n",
       "| Group &lt;chr&gt; | n &lt;int&gt; |\n",
       "|---|---|\n",
       "| Down |  2260 |\n",
       "| Not  | 23345 |\n",
       "| Up   |  2629 |\n",
       "\n"
      ],
      "text/plain": [
       "  Group n    \n",
       "1 Down   2260\n",
       "2 Not   23345\n",
       "3 Up     2629"
      ]
     },
     "metadata": {},
     "output_type": "display_data"
    }
   ],
   "source": [
    "##RGToeN\n",
    "\n",
    "data <- Inpt[,c(1,2,5,6)] %>% set_names(\"RG.1\",\"RG.2\",\"eN.1\",\"eN.2\")\n",
    "group <- c(rep(\"RG\",2),rep(\"eN\",2))\n",
    "genes <- counts[,1:6]\n",
    "dge <- DGEList(counts = data, genes = genes, group = group)\n",
    "#keep <- filterByExpr(dge, group = group)\n",
    "dge <- calcNormFactors(dge)\n",
    "#dge <- dge[keep,]\n",
    "dge <- estimateDisp(dge)\n",
    "design <- model.matrix(~ 0 + group, data = dge$samples)\n",
    "fit <- glmQLFit(dge, design = design)\n",
    "AvsB <- makeContrasts(groupeN-groupRG, levels=design)\n",
    "qlf <- glmQLFTest(fit, contrast= AvsB)\n",
    "\n",
    "RGtoeN <- topTags(qlf, n = Inf)$table %>% mutate(Group=case_when(logFC >=0.5 & FDR<=0.05~\"Up\",\n",
    "                                                       logFC <= -0.5 & FDR<=0.05~\"Down\",\n",
    "                                                        abs(logFC) <0.5 | FDR>0.05~\"Not\"))\n",
    "RGtoeN %>% group_by(Group) %>% summarise(n=n())"
   ]
  },
  {
   "cell_type": "code",
   "execution_count": 124,
   "id": "f34bc68c",
   "metadata": {},
   "outputs": [
    {
     "name": "stderr",
     "output_type": "stream",
     "text": [
      "Using classic mode.\n",
      "\n"
     ]
    },
    {
     "data": {
      "text/html": [
       "<table class=\"dataframe\">\n",
       "<caption>A tibble: 3 × 2</caption>\n",
       "<thead>\n",
       "\t<tr><th scope=col>Group</th><th scope=col>n</th></tr>\n",
       "\t<tr><th scope=col>&lt;chr&gt;</th><th scope=col>&lt;int&gt;</th></tr>\n",
       "</thead>\n",
       "<tbody>\n",
       "\t<tr><td>Down</td><td>  517</td></tr>\n",
       "\t<tr><td>Not </td><td>26963</td></tr>\n",
       "\t<tr><td>Up  </td><td>  754</td></tr>\n",
       "</tbody>\n",
       "</table>\n"
      ],
      "text/latex": [
       "A tibble: 3 × 2\n",
       "\\begin{tabular}{ll}\n",
       " Group & n\\\\\n",
       " <chr> & <int>\\\\\n",
       "\\hline\n",
       "\t Down &   517\\\\\n",
       "\t Not  & 26963\\\\\n",
       "\t Up   &   754\\\\\n",
       "\\end{tabular}\n"
      ],
      "text/markdown": [
       "\n",
       "A tibble: 3 × 2\n",
       "\n",
       "| Group &lt;chr&gt; | n &lt;int&gt; |\n",
       "|---|---|\n",
       "| Down |   517 |\n",
       "| Not  | 26963 |\n",
       "| Up   |   754 |\n",
       "\n"
      ],
      "text/plain": [
       "  Group n    \n",
       "1 Down    517\n",
       "2 Not   26963\n",
       "3 Up      754"
      ]
     },
     "metadata": {},
     "output_type": "display_data"
    }
   ],
   "source": [
    "##eNToOthers\n",
    "\n",
    "data <- Inpt[,c(5,6,1:4,7,8)] %>% set_names(\"eN.1\",\"eN.2\",\"other.1\",\"other.2\",\"other.3\",\"other.4\",\"other.5\",\"other.6\")\n",
    "group <- c(rep(\"eN\",2),rep(\"other\",6))\n",
    "genes <- counts[,1:6]\n",
    "dge <- DGEList(counts = data, genes = genes, group = group)\n",
    "#keep <- filterByExpr(dge, group = group)\n",
    "dge <- calcNormFactors(dge)\n",
    "#dge <- dge[keep,]\n",
    "dge <- estimateDisp(dge)\n",
    "design <- model.matrix(~ 0 + group, data = dge$samples)\n",
    "fit <- glmQLFit(dge, design = design)\n",
    "AvsB <- makeContrasts(groupeN-groupother, levels=design)\n",
    "qlf <- glmQLFTest(fit, contrast= AvsB)\n",
    "\n",
    "eNtoOther <- topTags(qlf, n = Inf)$table %>% mutate(Group=case_when(logFC >=0.5 & FDR<=0.05~\"Up\",\n",
    "                                                       logFC <= -0.5 & FDR<=0.05~\"Down\",\n",
    "                                                        abs(logFC) <0.5 | FDR>0.05~\"Not\"))\n",
    "eNtoOther %>% group_by(Group) %>% summarise(n=n())"
   ]
  },
  {
   "cell_type": "code",
   "execution_count": 128,
   "id": "a5614c09",
   "metadata": {},
   "outputs": [
    {
     "name": "stderr",
     "output_type": "stream",
     "text": [
      "Using classic mode.\n",
      "\n"
     ]
    },
    {
     "data": {
      "text/html": [
       "<table class=\"dataframe\">\n",
       "<caption>A tibble: 3 × 2</caption>\n",
       "<thead>\n",
       "\t<tr><th scope=col>Group</th><th scope=col>n</th></tr>\n",
       "\t<tr><th scope=col>&lt;chr&gt;</th><th scope=col>&lt;int&gt;</th></tr>\n",
       "</thead>\n",
       "<tbody>\n",
       "\t<tr><td>Down</td><td>  385</td></tr>\n",
       "\t<tr><td>Not </td><td>27622</td></tr>\n",
       "\t<tr><td>Up  </td><td>  227</td></tr>\n",
       "</tbody>\n",
       "</table>\n"
      ],
      "text/latex": [
       "A tibble: 3 × 2\n",
       "\\begin{tabular}{ll}\n",
       " Group & n\\\\\n",
       " <chr> & <int>\\\\\n",
       "\\hline\n",
       "\t Down &   385\\\\\n",
       "\t Not  & 27622\\\\\n",
       "\t Up   &   227\\\\\n",
       "\\end{tabular}\n"
      ],
      "text/markdown": [
       "\n",
       "A tibble: 3 × 2\n",
       "\n",
       "| Group &lt;chr&gt; | n &lt;int&gt; |\n",
       "|---|---|\n",
       "| Down |   385 |\n",
       "| Not  | 27622 |\n",
       "| Up   |   227 |\n",
       "\n"
      ],
      "text/plain": [
       "  Group n    \n",
       "1 Down    385\n",
       "2 Not   27622\n",
       "3 Up      227"
      ]
     },
     "metadata": {},
     "output_type": "display_data"
    }
   ],
   "source": [
    "##RGToOthers\n",
    "\n",
    "data <- Inpt %>% set_names(\"RG.1\",\"RG.2\",\"other.1\",\"other.2\",\"other.3\",\"other.4\",\"other.5\",\"other.6\")\n",
    "group <- c(rep(\"RG\",2),rep(\"other\",6))\n",
    "genes <- counts[,1:6]\n",
    "dge <- DGEList(counts = data, genes = genes, group = group)\n",
    "#keep <- filterByExpr(dge, group = group)\n",
    "dge <- calcNormFactors(dge)\n",
    "#dge <- dge[keep,]\n",
    "dge <- estimateDisp(dge)\n",
    "design <- model.matrix(~ 0 + group, data = dge$samples)\n",
    "fit <- glmQLFit(dge, design = design)\n",
    "AvsB <- makeContrasts(groupRG-groupother, levels=design)\n",
    "qlf <- glmQLFTest(fit, contrast= AvsB)\n",
    "\n",
    "RGtoOther <- topTags(qlf, n = Inf)$table %>% mutate(Group=case_when(logFC >=0.5 & FDR<=0.1~\"Up\",\n",
    "                                                       logFC <= -0.5 & FDR<=0.1~\"Down\",\n",
    "                                                        abs(logFC) <0.5 | FDR>0.1~\"Not\"))\n",
    "RGtoOther %>% group_by(Group) %>% summarise(n=n())"
   ]
  },
  {
   "cell_type": "code",
   "execution_count": 121,
   "id": "82401067",
   "metadata": {},
   "outputs": [],
   "source": [
    "write.table(RGtoeN,\"./all.humanBrain.eNtoRG.PFCV1.1k.stripes_20_50_S+L.edgeR.FDR0.05_log2FC0.5.res\",\n",
    "            col.names = F,row.names = F,sep=\"\\t\",quote = F)"
   ]
  },
  {
   "cell_type": "code",
   "execution_count": 129,
   "id": "a0e92fd0",
   "metadata": {},
   "outputs": [],
   "source": [
    "write.table(eNtoOther,\"./all.humanBrain.eNtoOthers.PFCV1.1k.stripes_20_50_S+L.edgeR.FDR0.05_log2FC0.5.res\",\n",
    "            col.names = F,row.names = F,sep=\"\\t\",quote = F)"
   ]
  },
  {
   "cell_type": "code",
   "execution_count": 130,
   "id": "5d28c956",
   "metadata": {},
   "outputs": [],
   "source": [
    "write.table(RGtoOther,\"./all.humanBrain.RGtoOthers.PFCV1.1k.stripes_20_50_S+L.edgeR.FDR0.1_log2FC0.5.res\",\n",
    "            col.names = F,row.names = F,sep=\"\\t\",quote = F)"
   ]
  }
 ],
 "metadata": {
  "kernelspec": {
   "display_name": "R 4.1.1",
   "language": "R",
   "name": "ir411"
  },
  "language_info": {
   "codemirror_mode": "r",
   "file_extension": ".r",
   "mimetype": "text/x-r-source",
   "name": "R",
   "pygments_lexer": "r",
   "version": "4.1.1"
  }
 },
 "nbformat": 4,
 "nbformat_minor": 5
}
