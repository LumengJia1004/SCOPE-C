{
 "cells": [
  {
   "cell_type": "markdown",
   "id": "b808ae18",
   "metadata": {},
   "source": [
    "# SetUP"
   ]
  },
  {
   "cell_type": "code",
   "execution_count": 1,
   "id": "58534ab7",
   "metadata": {},
   "outputs": [],
   "source": [
    "setwd(\"/lustre/user/liclab/jialm/Project/SCOPEC/\")"
   ]
  },
  {
   "cell_type": "code",
   "execution_count": 2,
   "id": "7b286729",
   "metadata": {},
   "outputs": [],
   "source": [
    "suppressPackageStartupMessages({\n",
    "library(dplyr)\n",
    "library(tidyverse)\n",
    "library(data.table)\n",
    "library(GENOVA)\n",
    "library(HiTC)\n",
    "})"
   ]
  },
  {
   "cell_type": "markdown",
   "id": "847f37f6",
   "metadata": {},
   "source": [
    "# load data"
   ]
  },
  {
   "cell_type": "markdown",
   "id": "48f07e3a",
   "metadata": {},
   "source": [
    "# humanBrain"
   ]
  },
  {
   "cell_type": "markdown",
   "id": "44e6419c",
   "metadata": {},
   "source": [
    "## 500kb"
   ]
  },
  {
   "cell_type": "code",
   "execution_count": null,
   "id": "ef8237e1",
   "metadata": {},
   "outputs": [],
   "source": [
    "RG <- load_contacts(\n",
    "    signal_path = './juicer/humanBrain_1k_PFC_APPEND/RG.all.allValidPairs.hic',\n",
    "    resolution = 500000,\n",
    "    sample_name = \"RG\",\n",
    "    scale_cis = TRUE,\n",
    "    balancing = FALSE,\n",
    "    scale_bp=NULL,\n",
    "    colour = rgb(46,132,176,maxColorValue = 255))"
   ]
  },
  {
   "cell_type": "code",
   "execution_count": null,
   "id": "f3b7a1f8",
   "metadata": {},
   "outputs": [],
   "source": [
    "iPC <- load_contacts(\n",
    "    signal_path = './juicer/humanBrain_1k_PFC_APPEND/iPC.all.allValidPairs.hic',\n",
    "    resolution = 500000,\n",
    "    sample_name = \"iPC\",\n",
    "    scale_cis = TRUE,\n",
    "    balancing = FALSE,\n",
    "    scale_bp=NULL,\n",
    "    colour = rgb(46,132,176,maxColorValue = 255))"
   ]
  },
  {
   "cell_type": "code",
   "execution_count": null,
   "id": "b227c6d1",
   "metadata": {},
   "outputs": [],
   "source": [
    "eN <- load_contacts(\n",
    "    signal_path = './juicer/humanBrain_1k_PFC_APPEND/eN.all.allValidPairs.hic',\n",
    "    resolution = 500000,\n",
    "    sample_name = \"eN\",\n",
    "    scale_cis = TRUE,\n",
    "    balancing = FALSE,\n",
    "    scale_bp=NULL,\n",
    "    colour = rgb(46,132,176,maxColorValue = 255))"
   ]
  },
  {
   "cell_type": "code",
   "execution_count": null,
   "id": "72e589c4",
   "metadata": {},
   "outputs": [],
   "source": [
    "write.table(RG$MAT,\"./juicer/humanBrain_1k_PFC_APPEND/RG.all.allValidPairs.hic.500kb.mat\",quote=F,\n",
    "            col.names = F,row.names = F,sep=\"\\t\")"
   ]
  },
  {
   "cell_type": "code",
   "execution_count": null,
   "id": "c026814b",
   "metadata": {},
   "outputs": [],
   "source": [
    "write.table(RG$MAT,\"./juicer/humanBrain_1k_PFC_APPEND/RG.all.allValidPairs.hic.500kb.mat\",quote=F,\n",
    "            col.names = F,row.names = F,sep=\"\\t\")"
   ]
  },
  {
   "cell_type": "code",
   "execution_count": null,
   "id": "683b632b",
   "metadata": {},
   "outputs": [],
   "source": [
    "write.table(iPC$MAT,\"./juicer/humanBrain_1k_PFC_APPEND/iPC.all.allValidPairs.hic.500kb.mat\",quote=F,\n",
    "            col.names = F,row.names = F,sep=\"\\t\")"
   ]
  },
  {
   "cell_type": "code",
   "execution_count": null,
   "id": "0fdb358a",
   "metadata": {},
   "outputs": [],
   "source": [
    "write.table(iPC$IDX,\"./juicer/humanBrain_1k_PFC_APPEND/iPC.all.allValidPairs.hic.500kb.idx\",quote=F,\n",
    "            col.names = F,row.names = F,sep=\"\\t\")"
   ]
  },
  {
   "cell_type": "code",
   "execution_count": null,
   "id": "67a1b925",
   "metadata": {},
   "outputs": [],
   "source": [
    "write.table(RG$IDX,\"./juicer/humanBrain_1k_PFC_APPEND/RG.all.allValidPairs.hic.500kb.idx\",quote=F,\n",
    "            col.names = F,row.names = F,sep=\"\\t\")"
   ]
  },
  {
   "cell_type": "code",
   "execution_count": null,
   "id": "fb287d98",
   "metadata": {},
   "outputs": [],
   "source": [
    "write.table(eN$IDX,\"./juicer/humanBrain_1k_PFC_APPEND/eN.all.allValidPairs.hic.500kb.idx\",quote=F,\n",
    "            col.names = F,row.names = F,sep=\"\\t\")"
   ]
  },
  {
   "cell_type": "code",
   "execution_count": null,
   "id": "690f5778",
   "metadata": {},
   "outputs": [],
   "source": [
    "library(HiTC)"
   ]
  },
  {
   "cell_type": "code",
   "execution_count": null,
   "id": "b9534cd1",
   "metadata": {},
   "outputs": [],
   "source": [
    "RG.mat <- importC(con=\"./juicer/humanBrain_1k_PFC_APPEND/RG.all.allValidPairs.hic.500kb.mat\",rm.trans = T,\n",
    "        xgi.bed = \"./juicer/humanBrain_1k_PFC_APPEND/RG.all.allValidPairs.hic.500kb.idx\",\n",
    "        ygi.bed = \"./juicer/humanBrain_1k_PFC_APPEND/RG.all.allValidPairs.hic.500kb.idx\")"
   ]
  },
  {
   "cell_type": "code",
   "execution_count": null,
   "id": "080f5888",
   "metadata": {},
   "outputs": [],
   "source": [
    "iPC.mat <- importC(con=\"./juicer/humanBrain_1k_PFC_APPEND/iPC.all.allValidPairs.hic.500kb.mat\",rm.trans = T,\n",
    "        xgi.bed = \"./juicer/humanBrain_1k_PFC_APPEND/iPC.all.allValidPairs.hic.500kb.idx\",\n",
    "        ygi.bed = \"./juicer/humanBrain_1k_PFC_APPEND/iPC.all.allValidPairs.hic.500kb.idx\")"
   ]
  },
  {
   "cell_type": "code",
   "execution_count": null,
   "id": "d2d64079",
   "metadata": {},
   "outputs": [],
   "source": [
    "eN.mat <- importC(con=\"./juicer/humanBrain_1k_PFC_APPEND/eN.all.allValidPairs.hic.500kb.mat\",,rm.trans = T,\n",
    "        xgi.bed = \"./juicer/humanBrain_1k_PFC_APPEND/eN.all.allValidPairs.hic.500kb.idx\",\n",
    "        ygi.bed = \"./juicer/humanBrain_1k_PFC_APPEND/eN.all.allValidPairs.hic.500kb.idx\")"
   ]
  },
  {
   "cell_type": "code",
   "execution_count": null,
   "id": "7b499d47",
   "metadata": {},
   "outputs": [],
   "source": [
    "RGnpc2 <- lapply(1:22,function(idx){\n",
    "    pca.hic(RG.mat[[idx]], normPerExpected=TRUE, method=\"loess\", npc=2) %>% as.data.frame() \n",
    "})"
   ]
  },
  {
   "cell_type": "code",
   "execution_count": null,
   "id": "c5fb2799",
   "metadata": {},
   "outputs": [],
   "source": [
    "iPCnpc2 <- lapply(1:22,function(idx){\n",
    "    pca.hic(iPC.mat[[idx]], normPerExpected=TRUE, method=\"loess\", npc=2) %>% as.data.frame() \n",
    "})"
   ]
  },
  {
   "cell_type": "code",
   "execution_count": null,
   "id": "172b5278",
   "metadata": {},
   "outputs": [],
   "source": [
    "eNnpc2 <- lapply(1:22,function(idx){\n",
    "    pca.hic(eN.mat[[idx]], normPerExpected=TRUE, method=\"loess\", npc=2) %>% as.data.frame() \n",
    "})"
   ]
  },
  {
   "cell_type": "code",
   "execution_count": null,
   "id": "d53afe7f",
   "metadata": {},
   "outputs": [],
   "source": [
    "RG.p1 <- do.call(rbind,RGnpc2[c(1:8,10:20,22)]) %>% filter(group_name==\"PC1\")\n",
    "RG.p2 <- do.call(rbind,RGnpc2[-c(1:8,10:20,22)]) %>% filter(group_name==\"PC2\")\n",
    "RG.pc.beforeAdj <- rbind(RG.p1,RG.p2)"
   ]
  },
  {
   "cell_type": "code",
   "execution_count": null,
   "id": "eba613aa",
   "metadata": {},
   "outputs": [],
   "source": [
    "iPC.p1 <- do.call(rbind,iPCnpc2[c(1:8,10:20,22)]) %>% filter(group_name==\"PC1\")\n",
    "iPC.p2 <- do.call(rbind,iPCnpc2[-c(1:8,10:20,22)]) %>% filter(group_name==\"PC2\")\n",
    "iPC.pc.beforeAdj <- rbind(iPC.p1,iPC.p2)"
   ]
  },
  {
   "cell_type": "code",
   "execution_count": null,
   "id": "f62c9a64",
   "metadata": {},
   "outputs": [],
   "source": [
    "eN.p1 <- do.call(rbind,eNnpc2[c(1:8,10:20,22)])%>% filter(group_name==\"PC1\")\n",
    "eN.p2 <- do.call(rbind,eNnpc2[-c(1:8,10:20,22)])%>% filter(group_name==\"PC2\")\n",
    "eN.pc.beforeAdj <- rbind(eN.p1,eN.p2)"
   ]
  },
  {
   "cell_type": "code",
   "execution_count": null,
   "id": "ec83654c",
   "metadata": {},
   "outputs": [],
   "source": [
    "eN.peaks.gr <- read.table(\"./cleanData/MACS2.narrowPeak/human/humanBrain_1k_PFC/mergePeak/peaks//eN.mergeTocall.peak.FDR.filtered.narrowPeaks\") %>%\n",
    "set_names(\"seqnames\",\"start\",\"end\",\"ID\",c(paste0(\"V\",5:11))) %>% makeGRangesFromDataFrame()"
   ]
  },
  {
   "cell_type": "code",
   "execution_count": null,
   "id": "7244efaa",
   "metadata": {},
   "outputs": [],
   "source": [
    "iPC.peaks.gr <- read.table(\"./cleanData/MACS2.narrowPeak/human/humanBrain_1k_PFC/mergePeak/peaks//iPC.mergeTocall.peak.FDR.filtered.narrowPeaks\") %>%\n",
    "set_names(\"seqnames\",\"start\",\"end\",\"ID\",c(paste0(\"V\",5:11))) %>% makeGRangesFromDataFrame()"
   ]
  },
  {
   "cell_type": "code",
   "execution_count": null,
   "id": "25ee1a2f",
   "metadata": {},
   "outputs": [],
   "source": [
    "RG.peaks.gr <- read.table(\"./cleanData/MACS2.narrowPeak/human/humanBrain_1k_PFC/mergePeak/peaks//RG.mergeTocall.peak.FDR.filtered.narrowPeaks\") %>%\n",
    "set_names(\"seqnames\",\"start\",\"end\",\"ID\",c(paste0(\"V\",5:11))) %>% makeGRangesFromDataFrame()"
   ]
  },
  {
   "cell_type": "code",
   "execution_count": null,
   "id": "0eec99d6",
   "metadata": {},
   "outputs": [],
   "source": [
    "#RG.pc.beforeAdj$seqnames <- paste0(\"chr\",RG.pc.beforeAdj$seqnames)\n",
    "#eN.pc.beforeAdj$seqnames <- paste0(\"chr\",eN.pc.beforeAdj$seqnames)\n",
    "iPC.pc.beforeAdj$seqnames <- paste0(\"chr\",iPC.pc.beforeAdj$seqnames)"
   ]
  },
  {
   "cell_type": "code",
   "execution_count": null,
   "id": "9bafaa27",
   "metadata": {},
   "outputs": [],
   "source": [
    "RG.comp.adj <- lapply(paste0(\"chr\",1:22),function(idx){\n",
    "    dat <- RG.pc.beforeAdj %>% filter(seqnames==idx) \n",
    "    dat.gr <- makeGRangesFromDataFrame(dat,keep.extra.columns = T)\n",
    "    dat.res <- dat %>% mutate(gene.counts=countOverlaps(dat.gr,RG.peaks.gr)) %>% \n",
    "     mutate(group=case_when(score <0 ~ \"N\",\n",
    "                            score >0 ~ \"P\")) %>%\n",
    "group_by(seqnames,group) %>% summarise(gene.counts.sum=sum(gene.counts))\n",
    "    \n",
    "if(dat.res[2,3] > dat.res[1,3]){\n",
    "    dat$score.adj <- dat$score\n",
    "}else(\n",
    "    dat$score.adj <- -(dat$score)\n",
    ")\n",
    "    return(dat)\n",
    "})"
   ]
  },
  {
   "cell_type": "code",
   "execution_count": null,
   "id": "81312804",
   "metadata": {},
   "outputs": [],
   "source": [
    "iPC.comp.adj <- lapply(paste0(\"chr\",1:22),function(idx){\n",
    "    dat <- iPC.pc.beforeAdj %>% filter(seqnames==idx) \n",
    "    dat.gr <- makeGRangesFromDataFrame(dat,keep.extra.columns = T)\n",
    "    dat.res <- dat %>% mutate(gene.counts=countOverlaps(dat.gr,iPC.peaks.gr)) %>% \n",
    "     mutate(group=case_when(score <0 ~ \"N\",\n",
    "                            score >0 ~ \"P\")) %>%\n",
    "group_by(seqnames,group) %>% summarise(gene.counts.sum=sum(gene.counts))\n",
    "    \n",
    "if(dat.res[2,3] > dat.res[1,3]){\n",
    "    dat$score.adj <- dat$score\n",
    "}else(\n",
    "    dat$score.adj <- -(dat$score)\n",
    ")\n",
    "    return(dat)\n",
    "})"
   ]
  },
  {
   "cell_type": "code",
   "execution_count": null,
   "id": "3f1356cd",
   "metadata": {},
   "outputs": [],
   "source": [
    "eN.comp.adj <- lapply(paste0(\"chr\",1:22),function(idx){\n",
    "    dat <- eN.pc.beforeAdj %>% filter(seqnames==idx) \n",
    "    dat.gr <- makeGRangesFromDataFrame(dat,keep.extra.columns = T)\n",
    "    dat.res <- dat %>% mutate(gene.counts=countOverlaps(dat.gr,eN.peaks.gr)) %>% \n",
    "     mutate(group=case_when(score <0 ~ \"N\",\n",
    "                            score >0 ~ \"P\")) %>%\n",
    "group_by(seqnames,group) %>% summarise(gene.counts.sum=sum(gene.counts))\n",
    "    \n",
    "if(dat.res[2,3] > dat.res[1,3]){\n",
    "    dat$score.adj <- dat$score\n",
    "}else(\n",
    "    dat$score.adj <- -(dat$score)\n",
    ")\n",
    "    return(dat)\n",
    "})"
   ]
  },
  {
   "cell_type": "code",
   "execution_count": null,
   "id": "c0b2d0a0",
   "metadata": {},
   "outputs": [],
   "source": [
    "RG.comp.adj.dat <- do.call(rbind,RG.comp.adj) %>% \n",
    "mutate(comp=case_when(score.adj >0 ~ \"A\",\n",
    "                       score.adj <0 ~ \"B\"))"
   ]
  },
  {
   "cell_type": "code",
   "execution_count": null,
   "id": "7ac10eca",
   "metadata": {},
   "outputs": [],
   "source": [
    "iPC.comp.adj.dat <- do.call(rbind,iPC.comp.adj) %>% \n",
    "mutate(comp=case_when(score.adj >0 ~ \"A\",\n",
    "                       score.adj <0 ~ \"B\"))"
   ]
  },
  {
   "cell_type": "code",
   "execution_count": null,
   "id": "c7772886",
   "metadata": {},
   "outputs": [],
   "source": [
    "eN.comp.adj.dat <- do.call(rbind,eN.comp.adj) %>% \n",
    "mutate(comp=case_when(score.adj >0 ~ \"A\",\n",
    "                       score.adj <0 ~ \"B\"))"
   ]
  },
  {
   "cell_type": "code",
   "execution_count": null,
   "id": "aa4f4c2b",
   "metadata": {},
   "outputs": [],
   "source": [
    "barplot(RG.comp.adj.dat %>% filter(seqnames==\"chr19\") %>% .$score.adj)\n",
    "barplot(eN.comp.adj.dat %>% filter(seqnames==\"chr19\") %>% .$score.adj)"
   ]
  },
  {
   "cell_type": "code",
   "execution_count": null,
   "id": "723d2a90",
   "metadata": {},
   "outputs": [],
   "source": [
    "write.table(RG.comp.adj.dat[,c(3:5,9,10)] %>% replace(is.na(.),0),\"./cleanData/comp/humanBrain_500kb.HiTC.RG.comp.bedgraph\",\n",
    "           ,quote=F,col.names = F,row.names = F,sep=\"\\t\")"
   ]
  },
  {
   "cell_type": "code",
   "execution_count": null,
   "id": "923d0f92",
   "metadata": {},
   "outputs": [],
   "source": [
    "write.table(eN.comp.adj.dat[,c(3:5,9,10)]%>% replace(is.na(.),0),\"./cleanData/comp/humanBrain_500kb.HiTC.eN.comp.bedgraph\",\n",
    "           ,quote=F,col.names = F,row.names = F,sep=\"\\t\")"
   ]
  },
  {
   "cell_type": "code",
   "execution_count": null,
   "id": "8656938a",
   "metadata": {},
   "outputs": [],
   "source": [
    "write.table(iPC.comp.adj.dat[,c(3:5,9,10)]%>% replace(is.na(.),0),\"./cleanData/comp/humanBrain_500kb.HiTC.iPC.comp.bedgraph\",\n",
    "           ,quote=F,col.names = F,row.names = F,sep=\"\\t\")"
   ]
  },
  {
   "cell_type": "markdown",
   "id": "3c2d1a48",
   "metadata": {},
   "source": [
    "## 50kb"
   ]
  },
  {
   "cell_type": "code",
   "execution_count": null,
   "id": "c7db3aaa",
   "metadata": {},
   "outputs": [],
   "source": [
    "RG <- load_contacts(\n",
    "    signal_path = './juicer/humanBrain_1k_PFC_APPEND/RG.all.allValidPairs.hic',\n",
    "    resolution = 50000,\n",
    "    sample_name = \"RG\",\n",
    "    scale_cis = TRUE,\n",
    "    balancing = FALSE,\n",
    "    scale_bp=NULL,\n",
    "    colour = rgb(46,132,176,maxColorValue = 255))"
   ]
  },
  {
   "cell_type": "code",
   "execution_count": null,
   "id": "de693fe4",
   "metadata": {},
   "outputs": [],
   "source": [
    "eN <- load_contacts(\n",
    "    signal_path = './juicer/humanBrain_1k_PFC_APPEND/eN.all.allValidPairs.hic',\n",
    "    resolution = 50000,\n",
    "    sample_name = \"eN\",\n",
    "    scale_cis = TRUE,\n",
    "    balancing = FALSE,\n",
    "    scale_bp=NULL,\n",
    "    colour = rgb(46,132,176,maxColorValue = 255))"
   ]
  },
  {
   "cell_type": "code",
   "execution_count": null,
   "id": "19859b1a",
   "metadata": {},
   "outputs": [],
   "source": [
    "write.table(RG$MAT,\"./juicer/humanBrain_1k_PFC_APPEND/RG.all.allValidPairs.hic.50kb.mat\",quote=F,\n",
    "            col.names = F,row.names = F,sep=\"\\t\")"
   ]
  },
  {
   "cell_type": "code",
   "execution_count": null,
   "id": "5b9c0679",
   "metadata": {},
   "outputs": [],
   "source": [
    "write.table(eN$MAT,\"./juicer/humanBrain_1k_PFC_APPEND/eN.all.allValidPairs.hic.50kb.mat\",quote=F,\n",
    "            col.names = F,row.names = F,sep=\"\\t\")"
   ]
  },
  {
   "cell_type": "code",
   "execution_count": null,
   "id": "11f04bf0",
   "metadata": {},
   "outputs": [],
   "source": [
    "write.table(RG$IDX,\"./juicer/humanBrain_1k_PFC_APPEND/RG.all.allValidPairs.hic.50kb.idx\",quote=F,\n",
    "            col.names = F,row.names = F,sep=\"\\t\")"
   ]
  },
  {
   "cell_type": "code",
   "execution_count": null,
   "id": "55b788b6",
   "metadata": {},
   "outputs": [],
   "source": [
    "write.table(eN$IDX,\"./juicer/humanBrain_1k_PFC_APPEND/eN.all.allValidPairs.hic.50kb.idx\",quote=F,\n",
    "            col.names = F,row.names = F,sep=\"\\t\")"
   ]
  },
  {
   "cell_type": "code",
   "execution_count": 3,
   "id": "3e87eee8",
   "metadata": {},
   "outputs": [
    {
     "name": "stderr",
     "output_type": "stream",
     "text": [
      "Loading Genomic intervals ...\n",
      "\n",
      "Reading file ...\n",
      "\n",
      "Convert 'C' file in HTCexp object(s)\n",
      "\n"
     ]
    }
   ],
   "source": [
    "RG.mat <- importC(con=\"./juicer/humanBrain_1k_PFC_APPEND/RG.all.allValidPairs.hic.50kb.mat\",rm.trans = T,\n",
    "        xgi.bed = \"./juicer/humanBrain_1k_PFC_APPEND/RG.all.allValidPairs.hic.50kb.idx\",\n",
    "        ygi.bed = \"./juicer/humanBrain_1k_PFC_APPEND/RG.all.allValidPairs.hic.50kb.idx\")"
   ]
  },
  {
   "cell_type": "code",
   "execution_count": 4,
   "id": "aaa74369",
   "metadata": {},
   "outputs": [
    {
     "name": "stderr",
     "output_type": "stream",
     "text": [
      "Loading Genomic intervals ...\n",
      "\n",
      "Reading file ...\n",
      "\n",
      "Convert 'C' file in HTCexp object(s)\n",
      "\n"
     ]
    }
   ],
   "source": [
    "eN.mat <- importC(con=\"./juicer/humanBrain_1k_PFC_APPEND/eN.all.allValidPairs.hic.50kb.mat\",,rm.trans = T,\n",
    "        xgi.bed = \"./juicer/humanBrain_1k_PFC_APPEND/eN.all.allValidPairs.hic.50kb.idx\",\n",
    "        ygi.bed = \"./juicer/humanBrain_1k_PFC_APPEND/eN.all.allValidPairs.hic.50kb.idx\")"
   ]
  },
  {
   "cell_type": "code",
   "execution_count": 17,
   "id": "6aa8f76d",
   "metadata": {},
   "outputs": [
    {
     "data": {
      "image/png": "[encoded data removed]",
      "text/plain": [
       "plot without title"
      ]
     },
     "metadata": {
      "image/png": {
       "height": 180,
       "width": 960
      }
     },
     "output_type": "display_data"
    },
    {
     "data": {
      "image/png": "[encoded data removed]",
      "text/plain": [
       "plot without title"
      ]
     },
     "metadata": {
      "image/png": {
       "height": 180,
       "width": 960
      }
     },
     "output_type": "display_data"
    }
   ],
   "source": [
    "options(repr.plot.width=16,repr.plot.height=3)\n",
    "barplot(RGnpc2[[2]] %>% filter(group_name==\"PC1\") %>% .$score)\n",
    "barplot(eNnpc2[[2]] %>% filter(group_name==\"PC1\") %>% .$score)"
   ]
  },
  {
   "cell_type": "code",
   "execution_count": 7,
   "id": "cb2c227d",
   "metadata": {},
   "outputs": [
    {
     "name": "stderr",
     "output_type": "stream",
     "text": [
      "Estimate expected using mean contact frequency per genomic distance ...\n",
      "\n",
      "Discard 676 'x' intervals\n",
      "\n",
      "Discard 676 'y' intervals\n",
      "\n",
      "Estimate expected using mean contact frequency per genomic distance ...\n",
      "\n",
      "Discard 326 'x' intervals\n",
      "\n",
      "Discard 326 'y' intervals\n",
      "\n",
      "Estimate expected using mean contact frequency per genomic distance ...\n",
      "\n",
      "Discard 255 'x' intervals\n",
      "\n",
      "Discard 255 'y' intervals\n",
      "\n",
      "Estimate expected using mean contact frequency per genomic distance ...\n",
      "\n",
      "Discard 248 'x' intervals\n",
      "\n",
      "Discard 248 'y' intervals\n",
      "\n",
      "Estimate expected using mean contact frequency per genomic distance ...\n",
      "\n",
      "Discard 239 'x' intervals\n",
      "\n",
      "Discard 239 'y' intervals\n",
      "\n",
      "Estimate expected using mean contact frequency per genomic distance ...\n",
      "\n",
      "Discard 232 'x' intervals\n",
      "\n",
      "Discard 232 'y' intervals\n",
      "\n",
      "Estimate expected using mean contact frequency per genomic distance ...\n",
      "\n",
      "Discard 217 'x' intervals\n",
      "\n",
      "Discard 217 'y' intervals\n",
      "\n",
      "Estimate expected using mean contact frequency per genomic distance ...\n",
      "\n",
      "Discard 204 'x' intervals\n",
      "\n",
      "Discard 204 'y' intervals\n",
      "\n",
      "Estimate expected using mean contact frequency per genomic distance ...\n",
      "\n",
      "Discard 518 'x' intervals\n",
      "\n",
      "Discard 518 'y' intervals\n",
      "\n",
      "Estimate expected using mean contact frequency per genomic distance ...\n",
      "\n",
      "Discard 202 'x' intervals\n",
      "\n",
      "Discard 202 'y' intervals\n",
      "\n",
      "Estimate expected using mean contact frequency per genomic distance ...\n",
      "\n",
      "Discard 200 'x' intervals\n",
      "\n",
      "Discard 200 'y' intervals\n",
      "\n",
      "Estimate expected using mean contact frequency per genomic distance ...\n",
      "\n",
      "Discard 191 'x' intervals\n",
      "\n",
      "Discard 191 'y' intervals\n",
      "\n",
      "Estimate expected using mean contact frequency per genomic distance ...\n",
      "\n",
      "Discard 101 'x' intervals\n",
      "\n",
      "Discard 101 'y' intervals\n",
      "\n",
      "Estimate expected using mean contact frequency per genomic distance ...\n",
      "\n",
      "Discard 89 'x' intervals\n",
      "\n",
      "Discard 89 'y' intervals\n",
      "\n",
      "Estimate expected using mean contact frequency per genomic distance ...\n",
      "\n",
      "Discard 93 'x' intervals\n",
      "\n",
      "Discard 93 'y' intervals\n",
      "\n",
      "Estimate expected using mean contact frequency per genomic distance ...\n",
      "\n",
      "Discard 303 'x' intervals\n",
      "\n",
      "Discard 303 'y' intervals\n",
      "\n",
      "Estimate expected using mean contact frequency per genomic distance ...\n",
      "\n",
      "Discard 140 'x' intervals\n",
      "\n",
      "Discard 140 'y' intervals\n",
      "\n",
      "Estimate expected using mean contact frequency per genomic distance ...\n",
      "\n",
      "Discard 138 'x' intervals\n",
      "\n",
      "Discard 138 'y' intervals\n",
      "\n",
      "Estimate expected using mean contact frequency per genomic distance ...\n",
      "\n",
      "Discard 117 'x' intervals\n",
      "\n",
      "Discard 117 'y' intervals\n",
      "\n",
      "Estimate expected using mean contact frequency per genomic distance ...\n",
      "\n",
      "Discard 123 'x' intervals\n",
      "\n",
      "Discard 123 'y' intervals\n",
      "\n",
      "Estimate expected using mean contact frequency per genomic distance ...\n",
      "\n",
      "Discard 101 'x' intervals\n",
      "\n",
      "Discard 101 'y' intervals\n",
      "\n",
      "Estimate expected using mean contact frequency per genomic distance ...\n",
      "\n",
      "Discard 38 'x' intervals\n",
      "\n",
      "Discard 38 'y' intervals\n",
      "\n"
     ]
    }
   ],
   "source": [
    "RGnpc2 <- lapply(1:22,function(idx){\n",
    "    pca.hic(RG.mat[[idx]], normPerExpected=TRUE, method=\"mean\", npc=2) %>% as.data.frame() \n",
    "})"
   ]
  },
  {
   "cell_type": "code",
   "execution_count": 8,
   "id": "f57914fe",
   "metadata": {},
   "outputs": [
    {
     "name": "stderr",
     "output_type": "stream",
     "text": [
      "Estimate expected using mean contact frequency per genomic distance ...\n",
      "\n",
      "Discard 678 'x' intervals\n",
      "\n",
      "Discard 678 'y' intervals\n",
      "\n",
      "Estimate expected using mean contact frequency per genomic distance ...\n",
      "\n",
      "Discard 328 'x' intervals\n",
      "\n",
      "Discard 328 'y' intervals\n",
      "\n",
      "Estimate expected using mean contact frequency per genomic distance ...\n",
      "\n",
      "Discard 255 'x' intervals\n",
      "\n",
      "Discard 255 'y' intervals\n",
      "\n",
      "Estimate expected using mean contact frequency per genomic distance ...\n",
      "\n",
      "Discard 249 'x' intervals\n",
      "\n",
      "Discard 249 'y' intervals\n",
      "\n",
      "Estimate expected using mean contact frequency per genomic distance ...\n",
      "\n",
      "Discard 237 'x' intervals\n",
      "\n",
      "Discard 237 'y' intervals\n",
      "\n",
      "Estimate expected using mean contact frequency per genomic distance ...\n",
      "\n",
      "Discard 231 'x' intervals\n",
      "\n",
      "Discard 231 'y' intervals\n",
      "\n",
      "Estimate expected using mean contact frequency per genomic distance ...\n",
      "\n",
      "Discard 218 'x' intervals\n",
      "\n",
      "Discard 218 'y' intervals\n",
      "\n",
      "Estimate expected using mean contact frequency per genomic distance ...\n",
      "\n",
      "Discard 206 'x' intervals\n",
      "\n",
      "Discard 206 'y' intervals\n",
      "\n",
      "Estimate expected using mean contact frequency per genomic distance ...\n",
      "\n",
      "Discard 516 'x' intervals\n",
      "\n",
      "Discard 516 'y' intervals\n",
      "\n",
      "Estimate expected using mean contact frequency per genomic distance ...\n",
      "\n",
      "Discard 202 'x' intervals\n",
      "\n",
      "Discard 202 'y' intervals\n",
      "\n",
      "Estimate expected using mean contact frequency per genomic distance ...\n",
      "\n",
      "Discard 200 'x' intervals\n",
      "\n",
      "Discard 200 'y' intervals\n",
      "\n",
      "Estimate expected using mean contact frequency per genomic distance ...\n",
      "\n",
      "Discard 191 'x' intervals\n",
      "\n",
      "Discard 191 'y' intervals\n",
      "\n",
      "Estimate expected using mean contact frequency per genomic distance ...\n",
      "\n",
      "Discard 101 'x' intervals\n",
      "\n",
      "Discard 101 'y' intervals\n",
      "\n",
      "Estimate expected using mean contact frequency per genomic distance ...\n",
      "\n",
      "Discard 89 'x' intervals\n",
      "\n",
      "Discard 89 'y' intervals\n",
      "\n",
      "Estimate expected using mean contact frequency per genomic distance ...\n",
      "\n",
      "Discard 91 'x' intervals\n",
      "\n",
      "Discard 91 'y' intervals\n",
      "\n",
      "Estimate expected using mean contact frequency per genomic distance ...\n",
      "\n",
      "Discard 303 'x' intervals\n",
      "\n",
      "Discard 303 'y' intervals\n",
      "\n",
      "Estimate expected using mean contact frequency per genomic distance ...\n",
      "\n",
      "Discard 140 'x' intervals\n",
      "\n",
      "Discard 140 'y' intervals\n",
      "\n",
      "Estimate expected using mean contact frequency per genomic distance ...\n",
      "\n",
      "Discard 138 'x' intervals\n",
      "\n",
      "Discard 138 'y' intervals\n",
      "\n",
      "Estimate expected using mean contact frequency per genomic distance ...\n",
      "\n",
      "Discard 117 'x' intervals\n",
      "\n",
      "Discard 117 'y' intervals\n",
      "\n",
      "Estimate expected using mean contact frequency per genomic distance ...\n",
      "\n",
      "Discard 123 'x' intervals\n",
      "\n",
      "Discard 123 'y' intervals\n",
      "\n",
      "Estimate expected using mean contact frequency per genomic distance ...\n",
      "\n",
      "Discard 101 'x' intervals\n",
      "\n",
      "Discard 101 'y' intervals\n",
      "\n",
      "Estimate expected using mean contact frequency per genomic distance ...\n",
      "\n",
      "Discard 38 'x' intervals\n",
      "\n",
      "Discard 38 'y' intervals\n",
      "\n"
     ]
    }
   ],
   "source": [
    "eNnpc2 <- lapply(1:22,function(idx){\n",
    "    pca.hic(eN.mat[[idx]], normPerExpected=TRUE, method=\"mean\", npc=2) %>% as.data.frame() \n",
    "})"
   ]
  },
  {
   "cell_type": "markdown",
   "id": "2becd9bd",
   "metadata": {},
   "source": []
  },
  {
   "cell_type": "markdown",
   "id": "0baaca09",
   "metadata": {},
   "source": []
  },
  {
   "cell_type": "code",
   "execution_count": null,
   "id": "0aca062c",
   "metadata": {},
   "outputs": [],
   "source": []
  },
  {
   "cell_type": "code",
   "execution_count": null,
   "id": "7eac143f",
   "metadata": {},
   "outputs": [],
   "source": []
  },
  {
   "cell_type": "code",
   "execution_count": null,
   "id": "139f5bbb",
   "metadata": {},
   "outputs": [],
   "source": []
  },
  {
   "cell_type": "code",
   "execution_count": null,
   "id": "379da712",
   "metadata": {},
   "outputs": [],
   "source": []
  },
  {
   "cell_type": "code",
   "execution_count": null,
   "id": "cdc33e4c",
   "metadata": {},
   "outputs": [],
   "source": [
    "RG.p1 <- do.call(rbind,RGnpc2[c(1:8,10:20,22)]) %>% filter(group_name==\"PC1\")\n",
    "RG.p2 <- do.call(rbind,RGnpc2[-c(1:8,10:20,22)]) %>% filter(group_name==\"PC2\")\n",
    "RG.pc.beforeAdj <- rbind(RG.p1,RG.p2)"
   ]
  },
  {
   "cell_type": "code",
   "execution_count": null,
   "id": "b7c37321",
   "metadata": {},
   "outputs": [],
   "source": [
    "iPC.p1 <- do.call(rbind,iPCnpc2[c(1:8,10:20,22)]) %>% filter(group_name==\"PC1\")\n",
    "iPC.p2 <- do.call(rbind,iPCnpc2[-c(1:8,10:20,22)]) %>% filter(group_name==\"PC2\")\n",
    "iPC.pc.beforeAdj <- rbind(iPC.p1,iPC.p2)"
   ]
  },
  {
   "cell_type": "code",
   "execution_count": null,
   "id": "43b92e04",
   "metadata": {},
   "outputs": [],
   "source": [
    "eN.p1 <- do.call(rbind,eNnpc2[c(1:8,10:20,22)])%>% filter(group_name==\"PC1\")\n",
    "eN.p2 <- do.call(rbind,eNnpc2[-c(1:8,10:20,22)])%>% filter(group_name==\"PC2\")\n",
    "eN.pc.beforeAdj <- rbind(eN.p1,eN.p2)"
   ]
  },
  {
   "cell_type": "code",
   "execution_count": null,
   "id": "2c632492",
   "metadata": {},
   "outputs": [],
   "source": [
    "eN.peaks.gr <- read.table(\"./cleanData/MACS2.narrowPeak/human/humanBrain_1k_PFC/mergePeak/peaks//eN.mergeTocall.peak.FDR.filtered.narrowPeaks\") %>%\n",
    "set_names(\"seqnames\",\"start\",\"end\",\"ID\",c(paste0(\"V\",5:11))) %>% makeGRangesFromDataFrame()"
   ]
  },
  {
   "cell_type": "code",
   "execution_count": null,
   "id": "f4a64ed8",
   "metadata": {},
   "outputs": [],
   "source": [
    "iPC.peaks.gr <- read.table(\"./cleanData/MACS2.narrowPeak/human/humanBrain_1k_PFC/mergePeak/peaks//iPC.mergeTocall.peak.FDR.filtered.narrowPeaks\") %>%\n",
    "set_names(\"seqnames\",\"start\",\"end\",\"ID\",c(paste0(\"V\",5:11))) %>% makeGRangesFromDataFrame()"
   ]
  },
  {
   "cell_type": "code",
   "execution_count": null,
   "id": "0b7c6d07",
   "metadata": {},
   "outputs": [],
   "source": [
    "RG.peaks.gr <- read.table(\"./cleanData/MACS2.narrowPeak/human/humanBrain_1k_PFC/mergePeak/peaks//RG.mergeTocall.peak.FDR.filtered.narrowPeaks\") %>%\n",
    "set_names(\"seqnames\",\"start\",\"end\",\"ID\",c(paste0(\"V\",5:11))) %>% makeGRangesFromDataFrame()"
   ]
  },
  {
   "cell_type": "code",
   "execution_count": null,
   "id": "027c4e27",
   "metadata": {},
   "outputs": [],
   "source": [
    "#RG.pc.beforeAdj$seqnames <- paste0(\"chr\",RG.pc.beforeAdj$seqnames)\n",
    "#eN.pc.beforeAdj$seqnames <- paste0(\"chr\",eN.pc.beforeAdj$seqnames)\n",
    "iPC.pc.beforeAdj$seqnames <- paste0(\"chr\",iPC.pc.beforeAdj$seqnames)"
   ]
  },
  {
   "cell_type": "code",
   "execution_count": null,
   "id": "caa3d96c",
   "metadata": {},
   "outputs": [],
   "source": [
    "RG.comp.adj <- lapply(paste0(\"chr\",1:22),function(idx){\n",
    "    dat <- RG.pc.beforeAdj %>% filter(seqnames==idx) \n",
    "    dat.gr <- makeGRangesFromDataFrame(dat,keep.extra.columns = T)\n",
    "    dat.res <- dat %>% mutate(gene.counts=countOverlaps(dat.gr,RG.peaks.gr)) %>% \n",
    "     mutate(group=case_when(score <0 ~ \"N\",\n",
    "                            score >0 ~ \"P\")) %>%\n",
    "group_by(seqnames,group) %>% summarise(gene.counts.sum=sum(gene.counts))\n",
    "    \n",
    "if(dat.res[2,3] > dat.res[1,3]){\n",
    "    dat$score.adj <- dat$score\n",
    "}else(\n",
    "    dat$score.adj <- -(dat$score)\n",
    ")\n",
    "    return(dat)\n",
    "})"
   ]
  },
  {
   "cell_type": "code",
   "execution_count": null,
   "id": "1d18d4a0",
   "metadata": {},
   "outputs": [],
   "source": [
    "iPC.comp.adj <- lapply(paste0(\"chr\",1:22),function(idx){\n",
    "    dat <- iPC.pc.beforeAdj %>% filter(seqnames==idx) \n",
    "    dat.gr <- makeGRangesFromDataFrame(dat,keep.extra.columns = T)\n",
    "    dat.res <- dat %>% mutate(gene.counts=countOverlaps(dat.gr,iPC.peaks.gr)) %>% \n",
    "     mutate(group=case_when(score <0 ~ \"N\",\n",
    "                            score >0 ~ \"P\")) %>%\n",
    "group_by(seqnames,group) %>% summarise(gene.counts.sum=sum(gene.counts))\n",
    "    \n",
    "if(dat.res[2,3] > dat.res[1,3]){\n",
    "    dat$score.adj <- dat$score\n",
    "}else(\n",
    "    dat$score.adj <- -(dat$score)\n",
    ")\n",
    "    return(dat)\n",
    "})"
   ]
  },
  {
   "cell_type": "code",
   "execution_count": null,
   "id": "e572d546",
   "metadata": {},
   "outputs": [],
   "source": [
    "eN.comp.adj <- lapply(paste0(\"chr\",1:22),function(idx){\n",
    "    dat <- eN.pc.beforeAdj %>% filter(seqnames==idx) \n",
    "    dat.gr <- makeGRangesFromDataFrame(dat,keep.extra.columns = T)\n",
    "    dat.res <- dat %>% mutate(gene.counts=countOverlaps(dat.gr,eN.peaks.gr)) %>% \n",
    "     mutate(group=case_when(score <0 ~ \"N\",\n",
    "                            score >0 ~ \"P\")) %>%\n",
    "group_by(seqnames,group) %>% summarise(gene.counts.sum=sum(gene.counts))\n",
    "    \n",
    "if(dat.res[2,3] > dat.res[1,3]){\n",
    "    dat$score.adj <- dat$score\n",
    "}else(\n",
    "    dat$score.adj <- -(dat$score)\n",
    ")\n",
    "    return(dat)\n",
    "})"
   ]
  },
  {
   "cell_type": "code",
   "execution_count": null,
   "id": "dda830c4",
   "metadata": {},
   "outputs": [],
   "source": [
    "RG.comp.adj.dat <- do.call(rbind,RG.comp.adj) %>% \n",
    "mutate(comp=case_when(score.adj >0 ~ \"A\",\n",
    "                       score.adj <0 ~ \"B\"))"
   ]
  },
  {
   "cell_type": "code",
   "execution_count": null,
   "id": "cfdc7357",
   "metadata": {},
   "outputs": [],
   "source": [
    "iPC.comp.adj.dat <- do.call(rbind,iPC.comp.adj) %>% \n",
    "mutate(comp=case_when(score.adj >0 ~ \"A\",\n",
    "                       score.adj <0 ~ \"B\"))"
   ]
  },
  {
   "cell_type": "code",
   "execution_count": null,
   "id": "7e1241f7",
   "metadata": {},
   "outputs": [],
   "source": [
    "eN.comp.adj.dat <- do.call(rbind,eN.comp.adj) %>% \n",
    "mutate(comp=case_when(score.adj >0 ~ \"A\",\n",
    "                       score.adj <0 ~ \"B\"))"
   ]
  },
  {
   "cell_type": "code",
   "execution_count": null,
   "id": "011967ef",
   "metadata": {},
   "outputs": [],
   "source": [
    "barplot(RG.comp.adj.dat %>% filter(seqnames==\"chr19\") %>% .$score.adj)\n",
    "barplot(eN.comp.adj.dat %>% filter(seqnames==\"chr19\") %>% .$score.adj)"
   ]
  },
  {
   "cell_type": "code",
   "execution_count": null,
   "id": "f9d70f98",
   "metadata": {},
   "outputs": [],
   "source": [
    "write.table(RG.comp.adj.dat[,c(3:5,9,10)] %>% replace(is.na(.),0),\"./cleanData/comp/humanBrain_500kb.HiTC.RG.comp.bedgraph\",\n",
    "           ,quote=F,col.names = F,row.names = F,sep=\"\\t\")"
   ]
  },
  {
   "cell_type": "code",
   "execution_count": null,
   "id": "4001136a",
   "metadata": {},
   "outputs": [],
   "source": [
    "write.table(eN.comp.adj.dat[,c(3:5,9,10)]%>% replace(is.na(.),0),\"./cleanData/comp/humanBrain_500kb.HiTC.eN.comp.bedgraph\",\n",
    "           ,quote=F,col.names = F,row.names = F,sep=\"\\t\")"
   ]
  },
  {
   "cell_type": "code",
   "execution_count": null,
   "id": "6bc7257e",
   "metadata": {},
   "outputs": [],
   "source": [
    "write.table(iPC.comp.adj.dat[,c(3:5,9,10)]%>% replace(is.na(.),0),\"./cleanData/comp/humanBrain_500kb.HiTC.iPC.comp.bedgraph\",\n",
    "           ,quote=F,col.names = F,row.names = F,sep=\"\\t\")"
   ]
  },
  {
   "cell_type": "code",
   "execution_count": null,
   "id": "c457a015",
   "metadata": {},
   "outputs": [],
   "source": []
  },
  {
   "cell_type": "code",
   "execution_count": null,
   "id": "b5a73e6c",
   "metadata": {},
   "outputs": [],
   "source": []
  },
  {
   "cell_type": "code",
   "execution_count": null,
   "id": "35ee8573",
   "metadata": {},
   "outputs": [],
   "source": []
  },
  {
   "cell_type": "code",
   "execution_count": null,
   "id": "13651c0d",
   "metadata": {},
   "outputs": [],
   "source": []
  },
  {
   "cell_type": "markdown",
   "id": "4b981d1f",
   "metadata": {},
   "source": [
    "# macacaBrain"
   ]
  },
  {
   "cell_type": "markdown",
   "id": "067f990c",
   "metadata": {},
   "source": [
    "## 500Mb"
   ]
  },
  {
   "cell_type": "code",
   "execution_count": null,
   "id": "8500c3d9",
   "metadata": {},
   "outputs": [],
   "source": [
    "RG <- load_contacts(\n",
    "    signal_path = './juicer/Macaca_1K_PFC/macacaBrain.all.1k.2batch.merge.RG.allValidPairs.hic',\n",
    "    resolution = 500000,\n",
    "    sample_name = \"RG\",\n",
    "    scale_cis = TRUE,\n",
    "    balancing = FALSE,\n",
    "    scale_bp=NULL,\n",
    "    colour = rgb(46,132,176,maxColorValue = 255))"
   ]
  },
  {
   "cell_type": "code",
   "execution_count": null,
   "id": "9a14c486",
   "metadata": {},
   "outputs": [],
   "source": [
    "eN <- load_contacts(\n",
    "    signal_path = './juicer/Macaca_1K_PFC/macacaBrain.all.1k.2batch.merge.eN.allValidPairs.hic',\n",
    "    resolution = 500000,\n",
    "    sample_name = \"eN\",\n",
    "    scale_cis = TRUE,\n",
    "    balancing = FALSE,\n",
    "    scale_bp=NULL,\n",
    "    colour = rgb(46,132,176,maxColorValue = 255))"
   ]
  },
  {
   "cell_type": "code",
   "execution_count": null,
   "id": "b1ffad1e",
   "metadata": {},
   "outputs": [],
   "source": [
    "write.table(RG$MAT,\"./juicer/Macaca_1K_PFC/RG.all.allValidPairs.hic.500kb.mat\",quote=F,\n",
    "            col.names = F,row.names = F,sep=\"\\t\")"
   ]
  },
  {
   "cell_type": "code",
   "execution_count": null,
   "id": "1a767ab4",
   "metadata": {},
   "outputs": [],
   "source": [
    "write.table(eN$MAT,\"./juicer/Macaca_1K_PFC/eN.all.allValidPairs.hic.500kb.mat\",quote=F,\n",
    "            col.names = F,row.names = F,sep=\"\\t\")"
   ]
  },
  {
   "cell_type": "code",
   "execution_count": null,
   "id": "ff2db020",
   "metadata": {},
   "outputs": [],
   "source": [
    "write.table(RG$IDX,\"./juicer/Macaca_1K_PFC/RG.all.allValidPairs.hic.500kb.idx\",quote=F,\n",
    "            col.names = F,row.names = F,sep=\"\\t\")"
   ]
  },
  {
   "cell_type": "code",
   "execution_count": null,
   "id": "388601a3",
   "metadata": {},
   "outputs": [],
   "source": [
    "write.table(eN$IDX,\"./juicer/Macaca_1K_PFC/eN.all.allValidPairs.hic.500kb.idx\",quote=F,\n",
    "            col.names = F,row.names = F,sep=\"\\t\")"
   ]
  },
  {
   "cell_type": "code",
   "execution_count": null,
   "id": "d9e14496",
   "metadata": {},
   "outputs": [],
   "source": [
    "RG.mat <- importC(con=\"./juicer/Macaca_1K_PFC/RG.all.allValidPairs.hic.500kb.mat\",rm.trans = T,\n",
    "        xgi.bed = \"./juicer/Macaca_1K_PFC/RG.all.allValidPairs.hic.500kb.idx\",\n",
    "        ygi.bed = \"./juicer/Macaca_1K_PFC/RG.all.allValidPairs.hic.500kb.idx\")"
   ]
  },
  {
   "cell_type": "code",
   "execution_count": null,
   "id": "91258ff9",
   "metadata": {},
   "outputs": [],
   "source": [
    "eN.mat <- importC(con=\"./juicer/Macaca_1K_PFC/eN.all.allValidPairs.hic.500kb.mat\",,rm.trans = T,\n",
    "        xgi.bed = \"./juicer/Macaca_1K_PFC/eN.all.allValidPairs.hic.500kb.idx\",\n",
    "        ygi.bed = \"./juicer/Macaca_1K_PFC/eN.all.allValidPairs.hic.500kb.idx\")"
   ]
  },
  {
   "cell_type": "code",
   "execution_count": null,
   "id": "951c36c1",
   "metadata": {},
   "outputs": [],
   "source": [
    "RGnpc2 <- lapply(1:20,function(idx){\n",
    "    pca.hic(RG.mat[[idx]], normPerExpected=TRUE, method=\"loess\", npc=2) %>% as.data.frame() \n",
    "})"
   ]
  },
  {
   "cell_type": "code",
   "execution_count": null,
   "id": "54d954e3",
   "metadata": {},
   "outputs": [],
   "source": [
    "eNnpc2 <- lapply(1:20,function(idx){\n",
    "    pca.hic(eN.mat[[idx]], normPerExpected=TRUE, method=\"loess\", npc=2) %>% as.data.frame() \n",
    "})"
   ]
  },
  {
   "cell_type": "code",
   "execution_count": null,
   "id": "1423b752",
   "metadata": {},
   "outputs": [],
   "source": []
  },
  {
   "cell_type": "code",
   "execution_count": null,
   "id": "1a0fa45d",
   "metadata": {},
   "outputs": [],
   "source": [
    "RG.p1 <- do.call(rbind,RGnpc2[-c(4,5)]) %>% filter(group_name==\"PC1\")\n",
    "RG.p2 <- do.call(rbind,RGnpc2[c(4,5)]) %>% filter(group_name==\"PC2\")\n",
    "RG.pc.beforeAdj <- rbind(RG.p1,RG.p2)"
   ]
  },
  {
   "cell_type": "code",
   "execution_count": null,
   "id": "da1ded50",
   "metadata": {},
   "outputs": [],
   "source": [
    "eN.p1 <- do.call(rbind,eNnpc2[-c(4,5)])%>% filter(group_name==\"PC1\")\n",
    "eN.p2 <- do.call(rbind,eNnpc2[c(4,5)])%>% filter(group_name==\"PC2\")\n",
    "eN.pc.beforeAdj <- rbind(eN.p1,eN.p2)"
   ]
  },
  {
   "cell_type": "code",
   "execution_count": null,
   "id": "dada3433",
   "metadata": {},
   "outputs": [],
   "source": [
    "eN.peaks.gr <- read.table(\"./cleanData/MACS2.narrowPeak/macaca/1k/mergePeak/peaks//eN.mergeTocall.peak.FDR.filtered.narrowPeaks\") %>%\n",
    "set_names(\"seqnames\",\"start\",\"end\",\"ID\",c(paste0(\"V\",5:11))) %>% makeGRangesFromDataFrame()"
   ]
  },
  {
   "cell_type": "code",
   "execution_count": null,
   "id": "8b6798aa",
   "metadata": {},
   "outputs": [],
   "source": [
    "RG.peaks.gr <- read.table(\"./cleanData/MACS2.narrowPeak/macaca/1k/mergePeak/peaks/RG.mergeTocall.peak.FDR.filtered.narrowPeaks\") %>%\n",
    "set_names(\"seqnames\",\"start\",\"end\",\"ID\",c(paste0(\"V\",5:11))) %>% makeGRangesFromDataFrame()"
   ]
  },
  {
   "cell_type": "code",
   "execution_count": null,
   "id": "f202863a",
   "metadata": {},
   "outputs": [],
   "source": [
    "RG.comp.adj <- lapply(paste0(\"chr\",1:20),function(idx){\n",
    "    dat <- RG.pc.beforeAdj %>% filter(seqnames==idx) \n",
    "    dat.gr <- makeGRangesFromDataFrame(dat,keep.extra.columns = T)\n",
    "    dat.res <- dat %>% mutate(gene.counts=countOverlaps(dat.gr,RG.peaks.gr)) %>% \n",
    "     mutate(group=case_when(score <0 ~ \"N\",\n",
    "                            score >0 ~ \"P\")) %>%\n",
    "group_by(seqnames,group) %>% summarise(gene.counts.sum=sum(gene.counts))\n",
    "    \n",
    "if(dat.res[2,3] > dat.res[1,3]){\n",
    "    dat$score.adj <- dat$score\n",
    "}else(\n",
    "    dat$score.adj <- -(dat$score)\n",
    ")\n",
    "    return(dat)\n",
    "})"
   ]
  },
  {
   "cell_type": "code",
   "execution_count": null,
   "id": "409eb8c3",
   "metadata": {},
   "outputs": [],
   "source": [
    "eN.comp.adj <- lapply(paste0(\"chr\",1:20),function(idx){\n",
    "    dat <- eN.pc.beforeAdj %>% filter(seqnames==idx) \n",
    "    dat.gr <- makeGRangesFromDataFrame(dat,keep.extra.columns = T)\n",
    "    dat.res <- dat %>% mutate(gene.counts=countOverlaps(dat.gr,eN.peaks.gr)) %>% \n",
    "     mutate(group=case_when(score <0 ~ \"N\",\n",
    "                            score >0 ~ \"P\")) %>%\n",
    "group_by(seqnames,group) %>% summarise(gene.counts.sum=sum(gene.counts))\n",
    "    \n",
    "if(dat.res[2,3] > dat.res[1,3]){\n",
    "    dat$score.adj <- dat$score\n",
    "}else(\n",
    "    dat$score.adj <- -(dat$score)\n",
    ")\n",
    "    return(dat)\n",
    "})"
   ]
  },
  {
   "cell_type": "code",
   "execution_count": null,
   "id": "c2c534db",
   "metadata": {},
   "outputs": [],
   "source": [
    "RG.comp.adj.dat <- do.call(rbind,RG.comp.adj) %>% \n",
    "mutate(comp=case_when(score.adj >0 ~ \"A\",\n",
    "                       score.adj <0 ~ \"B\"))"
   ]
  },
  {
   "cell_type": "code",
   "execution_count": null,
   "id": "c0575c33",
   "metadata": {},
   "outputs": [],
   "source": [
    "eN.comp.adj.dat <- do.call(rbind,eN.comp.adj) %>% \n",
    "mutate(comp=case_when(score.adj >0 ~ \"A\",\n",
    "                       score.adj <0 ~ \"B\"))"
   ]
  },
  {
   "cell_type": "code",
   "execution_count": null,
   "id": "9f85d10f",
   "metadata": {},
   "outputs": [],
   "source": [
    "write.table(RG.comp.adj.dat[,c(3:5,9,10)] %>% replace(is.na(.),0),\"./cleanData/comp/macacaBrain_500kb.HiTC.RG.comp.bedgraph\",\n",
    "           ,quote=F,col.names = F,row.names = F,sep=\"\\t\")"
   ]
  },
  {
   "cell_type": "code",
   "execution_count": null,
   "id": "1ac05e88",
   "metadata": {},
   "outputs": [],
   "source": [
    "write.table(eN.comp.adj.dat[,c(3:5,9,10)]%>% replace(is.na(.),0),\"./cleanData/comp/macacaBrain_500kb.HiTC.eN.comp.bedgraph\",\n",
    "           ,quote=F,col.names = F,row.names = F,sep=\"\\t\")"
   ]
  },
  {
   "cell_type": "code",
   "execution_count": null,
   "id": "783e69a7",
   "metadata": {},
   "outputs": [],
   "source": [
    "barplot(eN.comp.adj.dat %>% filter(seqnames==\"chr2\") %>% .$score.adj)\n",
    "barplot(eNnpc2[[2]] %>% filter(group_name==\"PC2\") %>% .$score)"
   ]
  },
  {
   "cell_type": "markdown",
   "id": "5e1aac95",
   "metadata": {},
   "source": [
    "## 50Mb"
   ]
  },
  {
   "cell_type": "code",
   "execution_count": 3,
   "id": "a1346f34",
   "metadata": {},
   "outputs": [
    {
     "name": "stderr",
     "output_type": "stream",
     "text": [
      "Reading data...\n",
      "\n"
     ]
    }
   ],
   "source": [
    "RG <- load_contacts(\n",
    "    signal_path = './juicer/Macaca_1K_PFC/macacaBrain.all.1k.2batch.merge.RG.allValidPairs.hic',\n",
    "    resolution = 50000,\n",
    "    sample_name = \"RG\",\n",
    "    scale_cis = TRUE,\n",
    "    balancing = FALSE,\n",
    "    scale_bp=NULL,\n",
    "    colour = rgb(46,132,176,maxColorValue = 255))"
   ]
  },
  {
   "cell_type": "code",
   "execution_count": 4,
   "id": "f2634daf",
   "metadata": {},
   "outputs": [
    {
     "name": "stderr",
     "output_type": "stream",
     "text": [
      "Reading data...\n",
      "\n"
     ]
    }
   ],
   "source": [
    "eN <- load_contacts(\n",
    "    signal_path = './juicer/Macaca_1K_PFC/macacaBrain.all.1k.2batch.merge.eN.allValidPairs.hic',\n",
    "    resolution = 50000,\n",
    "    sample_name = \"eN\",\n",
    "    scale_cis = TRUE,\n",
    "    balancing = FALSE,\n",
    "    scale_bp=NULL,\n",
    "    colour = rgb(46,132,176,maxColorValue = 255))"
   ]
  },
  {
   "cell_type": "code",
   "execution_count": 9,
   "id": "acfd8d87",
   "metadata": {},
   "outputs": [],
   "source": [
    "write.table(RG$IDX,\"./juicer/Macaca_1K_PFC/RG.all.allValidPairs.hic.50kb.idx\",quote=F,\n",
    "            col.names = F,row.names = F,sep=\"\\t\")"
   ]
  },
  {
   "cell_type": "code",
   "execution_count": 10,
   "id": "64def00b",
   "metadata": {},
   "outputs": [],
   "source": [
    "write.table(eN$IDX,\"./juicer/Macaca_1K_PFC/eN.all.allValidPairs.hic.50kb.idx\",quote=F,\n",
    "            col.names = F,row.names = F,sep=\"\\t\")"
   ]
  },
  {
   "cell_type": "code",
   "execution_count": 11,
   "id": "f28beebe",
   "metadata": {},
   "outputs": [],
   "source": [
    "write.table(RG$MAT,\"./juicer/Macaca_1K_PFC/RG.all.allValidPairs.hic.50kb.mat\",quote=F,\n",
    "            col.names = F,row.names = F,sep=\"\\t\")"
   ]
  },
  {
   "cell_type": "code",
   "execution_count": 12,
   "id": "fd49128f",
   "metadata": {},
   "outputs": [],
   "source": [
    "write.table(eN$MAT,\"./juicer/Macaca_1K_PFC/eN.all.allValidPairs.hic.50kb.mat\",quote=F,\n",
    "            col.names = F,row.names = F,sep=\"\\t\")"
   ]
  },
  {
   "cell_type": "code",
   "execution_count": null,
   "id": "cec9fa01",
   "metadata": {},
   "outputs": [],
   "source": []
  },
  {
   "cell_type": "code",
   "execution_count": null,
   "id": "e9153c05",
   "metadata": {},
   "outputs": [],
   "source": []
  },
  {
   "cell_type": "code",
   "execution_count": null,
   "id": "2842c42f",
   "metadata": {},
   "outputs": [],
   "source": []
  },
  {
   "cell_type": "code",
   "execution_count": null,
   "id": "43a5324e",
   "metadata": {},
   "outputs": [],
   "source": []
  }
 ],
 "metadata": {
  "kernelspec": {
   "display_name": "R",
   "language": "R",
   "name": "ir"
  },
  "language_info": {
   "codemirror_mode": "r",
   "file_extension": ".r",
   "mimetype": "text/x-r-source",
   "name": "R",
   "pygments_lexer": "r",
   "version": "4.1.1"
  }
 },
 "nbformat": 4,
 "nbformat_minor": 5
}
