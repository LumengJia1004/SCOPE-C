{
 "cells": [
  {
   "cell_type": "markdown",
   "id": "3079c4ff",
   "metadata": {},
   "source": [
    "# SetUP"
   ]
  },
  {
   "cell_type": "code",
   "execution_count": 2,
   "id": "6caa9743",
   "metadata": {},
   "outputs": [],
   "source": [
    "setwd(\"/lustre/user/liclab/jialm/Project/SCOPEC/analysis/fithicLoop/RG_iPC_eN_iN/\")"
   ]
  },
  {
   "cell_type": "code",
   "execution_count": 3,
   "id": "a4086142",
   "metadata": {},
   "outputs": [],
   "source": [
    "suppressPackageStartupMessages({\n",
    "library(dplyr)\n",
    "library(tidyverse)\n",
    "library(data.table)\n",
    "library(ggplot2)\n",
    "library(edgeR)\n",
    "library(RColorBrewer)\n",
    "library(GenomicRanges)\n",
    "library(ComplexHeatmap)\n",
    "#library(igraph)\n",
    "library(ggsci)\n",
    "})"
   ]
  },
  {
   "cell_type": "code",
   "execution_count": 4,
   "id": "bdd271c5",
   "metadata": {},
   "outputs": [],
   "source": [
    "calculate_cutoff <- function(inputVector, drawPlot=TRUE,...){\n",
    " \tinputVector <- sort(inputVector)\n",
    "\tinputVector[inputVector<0]<-0 #set those regions with more control than ranking equal to zero\n",
    "\tslope <- (max(inputVector)-min(inputVector))/length(inputVector) #This is the slope of the line we want to slide. This is the diagonal.\n",
    "\txPt <- floor(optimize(numPts_below_line,lower=1,upper=length(inputVector),myVector= inputVector,slope=slope)$minimum) #Find the x-axis point where a line passing through that point has the minimum number of points below it. (ie. tangent)\n",
    "\ty_cutoff <- inputVector[xPt] #The y-value at this x point. This is our cutoff.\n",
    "\t\n",
    "\tif(drawPlot){  #if TRUE, draw the plot\n",
    "\t\tplot(1:length(inputVector),inputVector,type=\"p\",pch=20,lwd=.75,xlab=\"rank\",ylab=\"sum(-log10Pvalue)\")\n",
    "\t\tb <- y_cutoff-(slope* xPt)\n",
    "\t\tabline(v= xPt,h= y_cutoff,lty=2,col=8,lwd=.75)\n",
    "\t\tpoints(xPt,y_cutoff,pch=20,cex=1.5,col=2)\n",
    "\t\tabline(coef=c(b,slope),col=2,lwd=.75)\n",
    "\t\ttitle(paste(\"x=\",xPt,\"\\ny=\",signif(y_cutoff,3),sep=\"\"))\n",
    "\t\taxis(1,sum(inputVector==0),sum(inputVector==0),col.axis=\"pink\",col=\"pink\") #Number of regions with zero signal\n",
    "\t}\n",
    "\treturn(list(absolute=y_cutoff,overMedian=y_cutoff/median(inputVector),overMean=y_cutoff/mean(inputVector)))\n",
    "}"
   ]
  },
  {
   "cell_type": "code",
   "execution_count": 5,
   "id": "83f33c6a",
   "metadata": {},
   "outputs": [],
   "source": [
    "numPts_below_line <- function(myVector,slope,x){\n",
    "\tyPt <- myVector[x]\n",
    "\tb <- yPt-(slope*x)\n",
    "\txPts <- 1:length(myVector)\n",
    "\treturn(sum(myVector<=(xPts*slope+b)))\n",
    "}"
   ]
  },
  {
   "cell_type": "markdown",
   "id": "457c474b",
   "metadata": {},
   "source": [
    "# Load peaks and promoters"
   ]
  },
  {
   "cell_type": "code",
   "execution_count": 6,
   "id": "0c85a6b2",
   "metadata": {},
   "outputs": [],
   "source": [
    "promoter <- read.table(\"../../../../../Annotation/promoter/hg19.refseq.gene.promoter.3k.bed\")\n",
    "colnames(promoter) <- c(\"seqnames\",\"start\",\"end\",\"symbol\")"
   ]
  },
  {
   "cell_type": "code",
   "execution_count": 7,
   "id": "7ad43c74",
   "metadata": {},
   "outputs": [],
   "source": [
    "promoter.gr <- makeGRangesFromDataFrame(promoter,keep.extra.columns = T)"
   ]
  },
  {
   "cell_type": "markdown",
   "id": "9144a8e7",
   "metadata": {},
   "source": [
    "# sta loop distance"
   ]
  },
  {
   "cell_type": "code",
   "execution_count": 8,
   "id": "1b9853ba",
   "metadata": {},
   "outputs": [],
   "source": [
    "RGL <- read.table(\"../../../cleanData/Fithic-loops/RG_intraOnly.spline_pass1.res25000.significances.bedpe.rmBLackList.larger50Kb-smaller10Mb.C3.Q0.00001.bedpe\")\n",
    "eNL <- read.table(\"../../../cleanData/Fithic-loops/eN_intraOnly.spline_pass1.res25000.significances.bedpe.rmBLackList.larger50Kb-smaller10Mb.C3.Q0.00001.bedpe\")\n",
    "iPCL <- read.table(\"../../../cleanData/Fithic-loops/IPC_intraOnly.spline_pass1.res25000.significances.Q0.00001.count3.50kb.10Mb.bedpe.rmBlackList.bedpe\")\n",
    "iNL <- read.table(\"../../../cleanData/Fithic-loops/iN_intraOnly.spline_pass1.res25000.significances.Q0.00001.count3.50kb.10Mb.bedpe.rmBlackList.bedpe\")"
   ]
  },
  {
   "cell_type": "code",
   "execution_count": 9,
   "id": "a0d89f71",
   "metadata": {},
   "outputs": [],
   "source": [
    "colnames(RGL) <- c(\"c1\",\"s1\",\"e1\",\"c2\",\"s2\",\"e2\",\"counts\",\"q\")\n",
    "colnames(eNL) <- c(\"c1\",\"s1\",\"e1\",\"c2\",\"s2\",\"e2\",\"counts\",\"q\")\n",
    "colnames(iPCL) <- c(\"c1\",\"s1\",\"e1\",\"c2\",\"s2\",\"e2\",\"counts\",\"q\")\n",
    "colnames(iNL) <- c(\"c1\",\"s1\",\"e1\",\"c2\",\"s2\",\"e2\",\"counts\",\"q\")"
   ]
  },
  {
   "cell_type": "code",
   "execution_count": 10,
   "id": "90235f92",
   "metadata": {},
   "outputs": [],
   "source": [
    "RGL <- RGL %>% mutate(dis=abs(e2-e1),cell=\"RG\")\n",
    "iPCL <- iPCL %>% mutate(dis=abs(e2-e1),cell=\"IPC\")\n",
    "eNL <- eNL %>% mutate(dis=abs(e2-e1),cell=\"EN\")\n",
    "iNL <- iNL %>% mutate(dis=abs(e2-e1),cell=\"IN\")"
   ]
  },
  {
   "cell_type": "code",
   "execution_count": 11,
   "id": "dba4bb9d",
   "metadata": {},
   "outputs": [],
   "source": [
    "inpt <- rbind(RGL,iPCL,eNL,iNL)\n",
    "inpt$cell <- factor(inpt$cell,levels=c(\"RG\",\"IPC\",\"EN\",\"IN\"))"
   ]
  },
  {
   "cell_type": "code",
   "execution_count": 12,
   "id": "c9e3f5a5",
   "metadata": {},
   "outputs": [
    {
     "data": {
      "image/png": "[encoded data removed]",
      "text/plain": [
       "plot without title"
      ]
     },
     "metadata": {
      "image/png": {
       "height": 240,
       "width": 270
      }
     },
     "output_type": "display_data"
    }
   ],
   "source": [
    "options(repr.plot.width=4.5,repr.plot.height=4)\n",
    "ggplot(inpt, aes(log10(dis),color=cell)) + stat_ecdf(geom = \"line\") + \n",
    "scale_color_npg()+\n",
    "theme_classic()+\n",
    "xlim(4.8,7)\n",
    "ggsave(\"../../../FINAL_figures/loop_distance_humanRG_IPC_EN_IN.pdf\",height=4.5,width=4)"
   ]
  },
  {
   "cell_type": "code",
   "execution_count": 13,
   "id": "b230a02a",
   "metadata": {},
   "outputs": [
    {
     "data": {
      "text/html": [
       "610946.717411989"
      ],
      "text/latex": [
       "610946.717411989"
      ],
      "text/markdown": [
       "610946.717411989"
      ],
      "text/plain": [
       "[1] 610946.7"
      ]
     },
     "metadata": {},
     "output_type": "display_data"
    },
    {
     "data": {
      "text/html": [
       "623088.51905451"
      ],
      "text/latex": [
       "623088.51905451"
      ],
      "text/markdown": [
       "623088.51905451"
      ],
      "text/plain": [
       "[1] 623088.5"
      ]
     },
     "metadata": {},
     "output_type": "display_data"
    },
    {
     "data": {
      "text/html": [
       "754730.596536241"
      ],
      "text/latex": [
       "754730.596536241"
      ],
      "text/markdown": [
       "754730.596536241"
      ],
      "text/plain": [
       "[1] 754730.6"
      ]
     },
     "metadata": {},
     "output_type": "display_data"
    },
    {
     "data": {
      "text/html": [
       "683810.143042913"
      ],
      "text/latex": [
       "683810.143042913"
      ],
      "text/markdown": [
       "683810.143042913"
      ],
      "text/plain": [
       "[1] 683810.1"
      ]
     },
     "metadata": {},
     "output_type": "display_data"
    }
   ],
   "source": [
    "mean(RGL$dis)\n",
    "mean(iPCL$dis)\n",
    "mean(eNL$dis)\n",
    "mean(iNL$dis)"
   ]
  },
  {
   "cell_type": "code",
   "execution_count": 14,
   "id": "e67c832a",
   "metadata": {},
   "outputs": [
    {
     "data": {
      "text/plain": [
       "\n",
       "\tWilcoxon rank sum test with continuity correction\n",
       "\n",
       "data:  RGL$dis and eNL$dis\n",
       "W = 27375998, p-value < 2.2e-16\n",
       "alternative hypothesis: true location shift is less than 0\n"
      ]
     },
     "metadata": {},
     "output_type": "display_data"
    },
    {
     "data": {
      "text/plain": [
       "\n",
       "\tWilcoxon rank sum test with continuity correction\n",
       "\n",
       "data:  iPCL$dis and eNL$dis\n",
       "W = 22791436, p-value < 2.2e-16\n",
       "alternative hypothesis: true location shift is less than 0\n"
      ]
     },
     "metadata": {},
     "output_type": "display_data"
    },
    {
     "data": {
      "text/plain": [
       "\n",
       "\tWilcoxon rank sum test with continuity correction\n",
       "\n",
       "data:  iNL$dis and eNL$dis\n",
       "W = 6993159, p-value = 0.02397\n",
       "alternative hypothesis: true location shift is less than 0\n"
      ]
     },
     "metadata": {},
     "output_type": "display_data"
    }
   ],
   "source": [
    "#wilcox.test(RGL$dis,iPCL$dis,alternative = \"less\")\n",
    "wilcox.test(RGL$dis,eNL$dis,alternative = \"less\")\n",
    "#wilcox.test(RGL$dis,iNL$dis,alternative = \"less\")\n",
    "wilcox.test(iPCL$dis,eNL$dis,alternative = \"less\")\n",
    "#wilcox.test(iPCL$dis,iNL$dis,alternative = \"less\")\n",
    "wilcox.test(iNL$dis,eNL$dis,alternative = \"less\")"
   ]
  },
  {
   "cell_type": "code",
   "execution_count": 15,
   "id": "4a384093",
   "metadata": {},
   "outputs": [
    {
     "data": {
      "image/png": "[encoded data removed]",
      "text/plain": [
       "plot without title"
      ]
     },
     "metadata": {
      "image/png": {
       "height": 240,
       "width": 270
      }
     },
     "output_type": "display_data"
    }
   ],
   "source": [
    "ggplot(data = inpt,\n",
    "       aes(x = cell, y = log10(dis), color = cell)) +\n",
    "  #geom_violin()+\n",
    "  geom_boxplot(width=0.5,outlier.size = 1,\n",
    "               position = position_dodge(.6))+\n",
    "  scale_color_npg()+\n",
    "  #ggpubr::s\n",
    "#coord_cartesian(ylim = c(4.8,6.5))+\n",
    "#geom_jitter(size=.05)+\n",
    "  theme_classic()\n",
    "ggsave(\"../../../FINAL_figures/humanBrain_fithicLoops.distance_boxplot.pdf\",width=3.5,height=3)"
   ]
  },
  {
   "cell_type": "markdown",
   "id": "90c8ccc3",
   "metadata": {},
   "source": [
    "# SIO"
   ]
  },
  {
   "cell_type": "code",
   "execution_count": 16,
   "id": "564e9c6b",
   "metadata": {},
   "outputs": [],
   "source": [
    "RGL <- read.table(\"../../../cleanData/Fithic-loops/RG_intraOnly.spline_pass1.res25000.significances.bedpe.rmBLackList.larger50Kb-smaller10Mb.C3.Q0.00001.bedpe\")\n",
    "eNL <- read.table(\"../../../cleanData/Fithic-loops/eN_intraOnly.spline_pass1.res25000.significances.bedpe.rmBLackList.larger50Kb-smaller10Mb.C3.Q0.00001.bedpe\")\n",
    "iPCL <- read.table(\"../../../cleanData/Fithic-loops/IPC_intraOnly.spline_pass1.res25000.significances.Q0.00001.count3.50kb.10Mb.bedpe.rmBlackList.bedpe\")\n",
    "iNL <- read.table(\"../../../cleanData/Fithic-loops/iN_intraOnly.spline_pass1.res25000.significances.Q0.00001.count3.50kb.10Mb.bedpe.rmBlackList.bedpe\")"
   ]
  },
  {
   "cell_type": "code",
   "execution_count": 17,
   "id": "5f3ac0a8",
   "metadata": {},
   "outputs": [],
   "source": [
    "colnames(RGL) <- c(\"c1\",\"s1\",\"e1\",\"c2\",\"s2\",\"e2\",\"counts\",\"q\")\n",
    "colnames(eNL) <- c(\"c1\",\"s1\",\"e1\",\"c2\",\"s2\",\"e2\",\"counts\",\"q\")\n",
    "colnames(iPCL) <- c(\"c1\",\"s1\",\"e1\",\"c2\",\"s2\",\"e2\",\"counts\",\"q\")\n",
    "colnames(iNL) <- c(\"c1\",\"s1\",\"e1\",\"c2\",\"s2\",\"e2\",\"counts\",\"q\")"
   ]
  },
  {
   "cell_type": "code",
   "execution_count": 18,
   "id": "af9dac34",
   "metadata": {},
   "outputs": [],
   "source": [
    "RGL <- RGL%>%\n",
    "filter(!(c1==\"chr15\"&s1==20550000)) %>% filter(!(c2==\"chr15\"&s2==20550000))%>%\n",
    "mutate(ID1=paste(c1,s1,e1,sep=\"-\"),ID2=paste(c2,s2,e2,sep=\"-\"))\n",
    "eNL <- eNL%>%\n",
    "filter(!(c1==\"chr15\"&s1==20550000)) %>% filter(!(c2==\"chr15\"&s2==20550000))%>%\n",
    "mutate(ID1=paste(c1,s1,e1,sep=\"-\"),ID2=paste(c2,s2,e2,sep=\"-\"))\n",
    "iPCL <- iPCL%>%\n",
    "filter(!(c1==\"chr15\"&s1==20550000)) %>% filter(!(c2==\"chr15\"&s2==20550000))%>%\n",
    "mutate(ID1=paste(c1,s1,e1,sep=\"-\"),ID2=paste(c2,s2,e2,sep=\"-\"))\n",
    "iNL <- iNL%>%\n",
    "filter(!(c1==\"chr15\"&s1==20550000)) %>% filter(!(c2==\"chr15\"&s2==20550000))%>%\n",
    "mutate(ID1=paste(c1,s1,e1,sep=\"-\"),ID2=paste(c2,s2,e2,sep=\"-\"))"
   ]
  },
  {
   "cell_type": "code",
   "execution_count": 19,
   "id": "da54d085",
   "metadata": {},
   "outputs": [
    {
     "name": "stderr",
     "output_type": "stream",
     "text": [
      "\u001b[1m\u001b[22m`summarise()` has grouped output by 'c', 's'. You can override using the `.groups` argument.\n"
     ]
    }
   ],
   "source": [
    "RG.io <- rbind(RGL %>% mutate(logQ=-log10(q)) %>% dplyr::select(-c2,-s2,-e2,-ID1,-ID2) %>%\n",
    "      set_names(\"c\",\"s\",\"e\",\"counts\",\"q\",\"logQ\"),\n",
    "      RGL %>% mutate(logQ=-log10(q)) %>% dplyr::select(-c1,-s1,-e1,-ID1,-ID2) %>%\n",
    "      set_names(\"c\",\"s\",\"e\",\"counts\",\"q\",\"logQ\")) %>%\n",
    "group_by(c,s,e) %>% \n",
    "summarise(sumC=sum(counts),\n",
    "          sumFDR=sum(logQ),\n",
    "          N=n()) %>% \n",
    "arrange(sumFDR) \n",
    "RG.io$rank <- 1:dim(RG.io)[1]"
   ]
  },
  {
   "cell_type": "code",
   "execution_count": 20,
   "id": "941a7112",
   "metadata": {},
   "outputs": [
    {
     "name": "stderr",
     "output_type": "stream",
     "text": [
      "\u001b[1m\u001b[22m`summarise()` has grouped output by 'c', 's'. You can override using the `.groups` argument.\n"
     ]
    }
   ],
   "source": [
    "iPC.io <- rbind(iPCL %>% mutate(logQ=-log10(q)) %>% dplyr::select(-c2,-s2,-e2,-ID1,-ID2) %>%\n",
    "      set_names(\"c\",\"s\",\"e\",\"counts\",\"q\",\"logQ\"),\n",
    "      iPCL %>% mutate(logQ=-log10(q)) %>% dplyr::select(-c1,-s1,-e1,-ID1,-ID2) %>%\n",
    "      set_names(\"c\",\"s\",\"e\",\"counts\",\"q\",\"logQ\")) %>%\n",
    "group_by(c,s,e) %>% \n",
    "summarise(sumC=sum(counts),\n",
    "          sumFDR=sum(logQ),\n",
    "          N=n()) %>% \n",
    "arrange(sumFDR) \n",
    "iPC.io$rank <- 1:dim(iPC.io)[1]"
   ]
  },
  {
   "cell_type": "code",
   "execution_count": 21,
   "id": "e5870e72",
   "metadata": {},
   "outputs": [
    {
     "name": "stderr",
     "output_type": "stream",
     "text": [
      "\u001b[1m\u001b[22m`summarise()` has grouped output by 'c', 's'. You can override using the `.groups` argument.\n"
     ]
    }
   ],
   "source": [
    "eN.io <- rbind(eNL %>% mutate(logQ=-log10(q)) %>% dplyr::select(-c2,-s2,-e2,-ID1,-ID2) %>%\n",
    "      set_names(\"c\",\"s\",\"e\",\"counts\",\"q\",\"logQ\"),\n",
    "      eNL %>% mutate(logQ=-log10(q)) %>% dplyr::select(-c1,-s1,-e1,-ID1,-ID2) %>%\n",
    "      set_names(\"c\",\"s\",\"e\",\"counts\",\"q\",\"logQ\")) %>%\n",
    "group_by(c,s,e) %>% \n",
    "summarise(sumC=sum(counts),\n",
    "          sumFDR=sum(logQ),\n",
    "          N=n()) %>% \n",
    "arrange(sumFDR) \n",
    "eN.io$rank <- 1:dim(eN.io)[1]"
   ]
  },
  {
   "cell_type": "code",
   "execution_count": 22,
   "id": "6275a70f",
   "metadata": {},
   "outputs": [
    {
     "name": "stderr",
     "output_type": "stream",
     "text": [
      "\u001b[1m\u001b[22m`summarise()` has grouped output by 'c', 's'. You can override using the `.groups` argument.\n"
     ]
    }
   ],
   "source": [
    "iN.io <- rbind(iNL %>% mutate(logQ=-log10(q)) %>% dplyr::select(-c2,-s2,-e2,-ID1,-ID2) %>%\n",
    "      set_names(\"c\",\"s\",\"e\",\"counts\",\"q\",\"logQ\"),\n",
    "      iNL %>% mutate(logQ=-log10(q)) %>% dplyr::select(-c1,-s1,-e1,-ID1,-ID2) %>%\n",
    "      set_names(\"c\",\"s\",\"e\",\"counts\",\"q\",\"logQ\")) %>%\n",
    "group_by(c,s,e) %>% \n",
    "summarise(sumC=sum(counts),\n",
    "          sumFDR=sum(logQ),\n",
    "          N=n()) %>% \n",
    "arrange(sumFDR) \n",
    "iN.io$rank <- 1:dim(iN.io)[1]"
   ]
  },
  {
   "cell_type": "code",
   "execution_count": 23,
   "id": "d4777dfb",
   "metadata": {},
   "outputs": [
    {
     "data": {
      "text/html": [
       "<style>\n",
       ".dl-inline {width: auto; margin:0; padding: 0}\n",
       ".dl-inline>dt, .dl-inline>dd {float: none; width: auto; display: inline-block}\n",
       ".dl-inline>dt::after {content: \":\\0020\"; padding-right: .5ex}\n",
       ".dl-inline>dt:not(:first-of-type) {padding-left: .5ex}\n",
       "</style><dl class=dl-inline><dt>30%</dt><dd>6.46394949915162</dd><dt>80%</dt><dd>21.6227993966712</dd></dl>\n"
      ],
      "text/latex": [
       "\\begin{description*}\n",
       "\\item[30\\textbackslash{}\\%] 6.46394949915162\n",
       "\\item[80\\textbackslash{}\\%] 21.6227993966712\n",
       "\\end{description*}\n"
      ],
      "text/markdown": [
       "30%\n",
       ":   6.4639494991516280%\n",
       ":   21.6227993966712\n",
       "\n"
      ],
      "text/plain": [
       "      30%       80% \n",
       " 6.463949 21.622799 "
      ]
     },
     "metadata": {},
     "output_type": "display_data"
    },
    {
     "data": {
      "text/html": [
       "<style>\n",
       ".dl-inline {width: auto; margin:0; padding: 0}\n",
       ".dl-inline>dt, .dl-inline>dd {float: none; width: auto; display: inline-block}\n",
       ".dl-inline>dt::after {content: \":\\0020\"; padding-right: .5ex}\n",
       ".dl-inline>dt:not(:first-of-type) {padding-left: .5ex}\n",
       "</style><dl class=dl-inline><dt>30%</dt><dd>6.31267182377093</dd><dt>80%</dt><dd>20.2965343848386</dd></dl>\n"
      ],
      "text/latex": [
       "\\begin{description*}\n",
       "\\item[30\\textbackslash{}\\%] 6.31267182377093\n",
       "\\item[80\\textbackslash{}\\%] 20.2965343848386\n",
       "\\end{description*}\n"
      ],
      "text/markdown": [
       "30%\n",
       ":   6.3126718237709380%\n",
       ":   20.2965343848386\n",
       "\n"
      ],
      "text/plain": [
       "      30%       80% \n",
       " 6.312672 20.296534 "
      ]
     },
     "metadata": {},
     "output_type": "display_data"
    },
    {
     "data": {
      "text/html": [
       "<style>\n",
       ".dl-inline {width: auto; margin:0; padding: 0}\n",
       ".dl-inline>dt, .dl-inline>dd {float: none; width: auto; display: inline-block}\n",
       ".dl-inline>dt::after {content: \":\\0020\"; padding-right: .5ex}\n",
       ".dl-inline>dt:not(:first-of-type) {padding-left: .5ex}\n",
       "</style><dl class=dl-inline><dt>30%</dt><dd>6.18693433292714</dd><dt>80%</dt><dd>17.5869397584863</dd></dl>\n"
      ],
      "text/latex": [
       "\\begin{description*}\n",
       "\\item[30\\textbackslash{}\\%] 6.18693433292714\n",
       "\\item[80\\textbackslash{}\\%] 17.5869397584863\n",
       "\\end{description*}\n"
      ],
      "text/markdown": [
       "30%\n",
       ":   6.1869343329271480%\n",
       ":   17.5869397584863\n",
       "\n"
      ],
      "text/plain": [
       "      30%       80% \n",
       " 6.186934 17.586940 "
      ]
     },
     "metadata": {},
     "output_type": "display_data"
    },
    {
     "data": {
      "text/html": [
       "<style>\n",
       ".dl-inline {width: auto; margin:0; padding: 0}\n",
       ".dl-inline>dt, .dl-inline>dd {float: none; width: auto; display: inline-block}\n",
       ".dl-inline>dt::after {content: \":\\0020\"; padding-right: .5ex}\n",
       ".dl-inline>dt:not(:first-of-type) {padding-left: .5ex}\n",
       "</style><dl class=dl-inline><dt>30%</dt><dd>5.93727816162829</dd><dt>80%</dt><dd>13.8615877155262</dd></dl>\n"
      ],
      "text/latex": [
       "\\begin{description*}\n",
       "\\item[30\\textbackslash{}\\%] 5.93727816162829\n",
       "\\item[80\\textbackslash{}\\%] 13.8615877155262\n",
       "\\end{description*}\n"
      ],
      "text/markdown": [
       "30%\n",
       ":   5.9372781616282980%\n",
       ":   13.8615877155262\n",
       "\n"
      ],
      "text/plain": [
       "      30%       80% \n",
       " 5.937278 13.861588 "
      ]
     },
     "metadata": {},
     "output_type": "display_data"
    }
   ],
   "source": [
    "quantile(RG.io$sumFDR,c(.3,.8))\n",
    "quantile(iPC.io$sumFDR,c(.3,.8))\n",
    "quantile(eN.io$sumFDR,c(.3,.8))\n",
    "quantile(iN.io$sumFDR,c(.3,.8))"
   ]
  },
  {
   "cell_type": "code",
   "execution_count": 82,
   "id": "8b6d654e",
   "metadata": {},
   "outputs": [
    {
     "data": {
      "text/html": [
       "<dl>\n",
       "\t<dt>$absolute</dt>\n",
       "\t\t<dd>33.5948790653437</dd>\n",
       "\t<dt>$overMedian</dt>\n",
       "\t\t<dd>3.66663678071947</dd>\n",
       "\t<dt>$overMean</dt>\n",
       "\t\t<dd>2.14606945084412</dd>\n",
       "</dl>\n"
      ],
      "text/latex": [
       "\\begin{description}\n",
       "\\item[\\$absolute] 33.5948790653437\n",
       "\\item[\\$overMedian] 3.66663678071947\n",
       "\\item[\\$overMean] 2.14606945084412\n",
       "\\end{description}\n"
      ],
      "text/markdown": [
       "$absolute\n",
       ":   33.5948790653437\n",
       "$overMedian\n",
       ":   3.66663678071947\n",
       "$overMean\n",
       ":   2.14606945084412\n",
       "\n",
       "\n"
      ],
      "text/plain": [
       "$absolute\n",
       "[1] 33.59488\n",
       "\n",
       "$overMedian\n",
       "[1] 3.666637\n",
       "\n",
       "$overMean\n",
       "[1] 2.146069\n"
      ]
     },
     "metadata": {},
     "output_type": "display_data"
    },
    {
     "data": {
      "image/png": "[encoded data removed]",
      "text/plain": [
       "Plot with title “x=10593\n",
       "y=33.6”"
      ]
     },
     "metadata": {
      "image/png": {
       "height": 270,
       "width": 240
      }
     },
     "output_type": "display_data"
    },
    {
     "data": {
      "text/html": [
       "<dl>\n",
       "\t<dt>$absolute</dt>\n",
       "\t\t<dd>39.7229720637205</dd>\n",
       "\t<dt>$overMedian</dt>\n",
       "\t\t<dd>4.65199367387475</dd>\n",
       "\t<dt>$overMean</dt>\n",
       "\t\t<dd>2.58843598932334</dd>\n",
       "</dl>\n"
      ],
      "text/latex": [
       "\\begin{description}\n",
       "\\item[\\$absolute] 39.7229720637205\n",
       "\\item[\\$overMedian] 4.65199367387475\n",
       "\\item[\\$overMean] 2.58843598932334\n",
       "\\end{description}\n"
      ],
      "text/markdown": [
       "$absolute\n",
       ":   39.7229720637205\n",
       "$overMedian\n",
       ":   4.65199367387475\n",
       "$overMean\n",
       ":   2.58843598932334\n",
       "\n",
       "\n"
      ],
      "text/plain": [
       "$absolute\n",
       "[1] 39.72297\n",
       "\n",
       "$overMedian\n",
       "[1] 4.651994\n",
       "\n",
       "$overMean\n",
       "[1] 2.588436\n"
      ]
     },
     "metadata": {},
     "output_type": "display_data"
    },
    {
     "data": {
      "image/png": "[encoded data removed]",
      "text/plain": [
       "Plot with title “x=8598\n",
       "y=39.7”"
      ]
     },
     "metadata": {
      "image/png": {
       "height": 270,
       "width": 240
      }
     },
     "output_type": "display_data"
    },
    {
     "data": {
      "text/html": [
       "<dl>\n",
       "\t<dt>$absolute</dt>\n",
       "\t\t<dd>37.8023413674133</dd>\n",
       "\t<dt>$overMedian</dt>\n",
       "\t\t<dd>4.732289067193</dd>\n",
       "\t<dt>$overMean</dt>\n",
       "\t\t<dd>2.77731199820991</dd>\n",
       "</dl>\n"
      ],
      "text/latex": [
       "\\begin{description}\n",
       "\\item[\\$absolute] 37.8023413674133\n",
       "\\item[\\$overMedian] 4.732289067193\n",
       "\\item[\\$overMean] 2.77731199820991\n",
       "\\end{description}\n"
      ],
      "text/markdown": [
       "$absolute\n",
       ":   37.8023413674133\n",
       "$overMedian\n",
       ":   4.732289067193\n",
       "$overMean\n",
       ":   2.77731199820991\n",
       "\n",
       "\n"
      ],
      "text/plain": [
       "$absolute\n",
       "[1] 37.80234\n",
       "\n",
       "$overMedian\n",
       "[1] 4.732289\n",
       "\n",
       "$overMean\n",
       "[1] 2.777312\n"
      ]
     },
     "metadata": {},
     "output_type": "display_data"
    },
    {
     "data": {
      "image/png": "[encoded data removed]",
      "text/plain": [
       "Plot with title “x=7072\n",
       "y=37.8”"
      ]
     },
     "metadata": {
      "image/png": {
       "height": 270,
       "width": 240
      }
     },
     "output_type": "display_data"
    },
    {
     "data": {
      "text/html": [
       "<dl>\n",
       "\t<dt>$absolute</dt>\n",
       "\t\t<dd>20.6703027945506</dd>\n",
       "\t<dt>$overMedian</dt>\n",
       "\t\t<dd>2.90258118635608</dd>\n",
       "\t<dt>$overMean</dt>\n",
       "\t\t<dd>1.88897500717039</dd>\n",
       "</dl>\n"
      ],
      "text/latex": [
       "\\begin{description}\n",
       "\\item[\\$absolute] 20.6703027945506\n",
       "\\item[\\$overMedian] 2.90258118635608\n",
       "\\item[\\$overMean] 1.88897500717039\n",
       "\\end{description}\n"
      ],
      "text/markdown": [
       "$absolute\n",
       ":   20.6703027945506\n",
       "$overMedian\n",
       ":   2.90258118635608\n",
       "$overMean\n",
       ":   1.88897500717039\n",
       "\n",
       "\n"
      ],
      "text/plain": [
       "$absolute\n",
       "[1] 20.6703\n",
       "\n",
       "$overMedian\n",
       "[1] 2.902581\n",
       "\n",
       "$overMean\n",
       "[1] 1.888975\n"
      ]
     },
     "metadata": {},
     "output_type": "display_data"
    },
    {
     "data": {
      "image/png": "[encoded data removed]",
      "text/plain": [
       "Plot with title “x=2950\n",
       "y=20.7”"
      ]
     },
     "metadata": {
      "image/png": {
       "height": 270,
       "width": 240
      }
     },
     "output_type": "display_data"
    }
   ],
   "source": [
    "options(repr.plot.width=4,repr.plot.height=4.5)\n",
    "calculate_cutoff(RG.io$sumFDR)\n",
    "calculate_cutoff(iPC.io$sumFDR)\n",
    "calculate_cutoff(eN.io$sumFDR)\n",
    "calculate_cutoff(iN.io$sumFDR)"
   ]
  },
  {
   "cell_type": "code",
   "execution_count": 24,
   "id": "92e93f31",
   "metadata": {},
   "outputs": [],
   "source": [
    "RG.io <- RG.io %>% \n",
    "mutate(type=case_when(sumFDR<=6.46394949915162 ~ \"WIO\",\n",
    "                      sumFDR>= 33.5948790653437 ~ \"SIO\",\n",
    "                      sumFDR< 33.5948790653437 && sumFDR> 6.46394949915162  ~ \"IO\")) \n",
    "\n",
    "iPC.io <- iPC.io %>% \n",
    "mutate(type=case_when(sumFDR<=8.53891360317229 ~ \"WIO\",\n",
    "                      sumFDR>= 39.7229720637205 ~ \"SIO\",\n",
    "                      sumFDR< 39.7229720637205 && sumFDR> 8.53891360317229  ~ \"IO\")) \n",
    "\n",
    "eN.io <- eN.io %>% \n",
    "mutate(type=case_when(sumFDR<=7.98817249552257 ~ \"WIO\",\n",
    "                      sumFDR>= 37.8023413674133 ~ \"SIO\",\n",
    "                      sumFDR< 37.8023413674133 && sumFDR> 7.98817249552257 ~ \"IO\")) \n",
    "\n",
    "iN.io <- iN.io %>% \n",
    "mutate(type=case_when(sumFDR<=7.12135215776694 ~ \"WIO\",\n",
    "                      sumFDR>= 20.6703027945506 ~ \"SIO\",\n",
    "                      sumFDR< 20.6703027945506 && sumFDR> 7.12135215776694 ~ \"IO\")) "
   ]
  },
  {
   "cell_type": "code",
   "execution_count": 25,
   "id": "5b79eb26",
   "metadata": {},
   "outputs": [],
   "source": [
    "all.SIO2WIO <- dplyr::full_join(RG.io[,c(1:3,5)],iPC.io[,c(1:3,5)],by=c(\"c\",\"s\",\"e\")) %>%\n",
    "dplyr::full_join(eN.io[,c(1:3,5)],by=c(\"c\",\"s\",\"e\"))%>%\n",
    "#dplyr::full_join(iN.io[,c(1:3,5)],by=c(\"c\",\"s\",\"e\")) %>%\n",
    "replace(is.na(.),0) \n",
    "#filter(type.x==\"SIO\" | type.y==\"SIO\" | type.x.x==\"SIO\" | type.y.y==\"SIO\") %>%\n",
    "#replace_na(list(sumFDR.x=0,type.x=\"WIO\",\n",
    "#                sumFDR.y=0,type.y=\"WIO\",\n",
    "#                sumFDR.x.x=0,type.x.x=\"WIO\",\n",
    "#                sumFDR.y.y=0,type.y.y=\"WIO\")) %>%\n",
    "#filter(type.x!=\"IO\",type.y!=\"IO\",type.x.x!=\"IO\",type.y.y!=\"IO\") %>%\n",
    "#mutate(class=paste(type.x,type.y,type.x.x,type.y.y,sep=\"-\"))"
   ]
  },
  {
   "cell_type": "code",
   "execution_count": 26,
   "id": "5fbe3c43",
   "metadata": {},
   "outputs": [],
   "source": [
    "write.table(all.SIO2WIO,\"./RGiPCeN_allsumSCORE.bed\",col.names = F,row.names = F,quote=F,sep=\"\\t\")"
   ]
  },
  {
   "cell_type": "code",
   "execution_count": 27,
   "id": "59ea272a",
   "metadata": {},
   "outputs": [],
   "source": [
    "all.SIO2WIO$rowSum <- rowSums(all.SIO2WIO[,4:6])"
   ]
  },
  {
   "cell_type": "code",
   "execution_count": 28,
   "id": "9f64515a",
   "metadata": {},
   "outputs": [],
   "source": [
    "G1 <- all.SIO2WIO %>% \n",
    "         as.data.frame() %>%\n",
    "arrange(desc(sumFDR.x))%>% filter(sumFDR.y <= 10,sumFDR <= 10,sumFDR.x>=20)"
   ]
  },
  {
   "cell_type": "code",
   "execution_count": 29,
   "id": "3e4b01ff",
   "metadata": {},
   "outputs": [],
   "source": [
    "G2 <- all.SIO2WIO %>% \n",
    "         as.data.frame() %>%\n",
    "arrange(desc(sumFDR.y))%>% filter(sumFDR.x <= 10,sumFDR <= 10,sumFDR.y>=20)"
   ]
  },
  {
   "cell_type": "code",
   "execution_count": 30,
   "id": "658886eb",
   "metadata": {},
   "outputs": [],
   "source": [
    "G3 <- all.SIO2WIO %>% \n",
    "         as.data.frame() %>%\n",
    "arrange(desc(sumFDR))%>% filter(sumFDR.x <= 10,sumFDR.y <= 10,sumFDR>=20)"
   ]
  },
  {
   "cell_type": "code",
   "execution_count": 31,
   "id": "1e78a944",
   "metadata": {},
   "outputs": [],
   "source": [
    "G4 <- all.SIO2WIO %>% \n",
    "         as.data.frame() %>%\n",
    "filter(sumFDR.x > 20,sumFDR.y > 20,sumFDR>20)"
   ]
  },
  {
   "cell_type": "code",
   "execution_count": 32,
   "id": "b3f335ec",
   "metadata": {},
   "outputs": [],
   "source": [
    "G5 <- all.SIO2WIO %>% \n",
    "         as.data.frame() %>%\n",
    "filter(sumFDR.x > 20,sumFDR.y > 20,sumFDR<=10)"
   ]
  },
  {
   "cell_type": "code",
   "execution_count": 33,
   "id": "8db0ce12",
   "metadata": {},
   "outputs": [
    {
     "name": "stderr",
     "output_type": "stream",
     "text": [
      "Warning message:\n",
      "“The input is a data frame, convert it to the matrix.”\n",
      "Warning message:\n",
      "“`breaks` does not have the same length as `color`. The colors are\n",
      "interpolated from the minimal to the maximal of `breaks`.”\n"
     ]
    },
    {
     "data": {
      "image/png": "[encoded data removed]",
      "text/plain": [
       "plot without title"
      ]
     },
     "metadata": {
      "image/png": {
       "height": 240,
       "width": 150
      }
     },
     "output_type": "display_data"
    }
   ],
   "source": [
    "options(repr.plot.width=2.5,repr.plot.height=4)\n",
    "pheatmap(rbind(G1,G2,G3) %>% \n",
    "         dplyr::select(sumFDR.x,sumFDR.y,sumFDR),\n",
    "         breaks=c(0,40),cluster_cols = F,cluster_rows = F,cellheight = .2,\n",
    "         col=colorRampPalette(c(\"navy\",\"white\",\"red1\"))(500)\n",
    "         )"
   ]
  },
  {
   "cell_type": "code",
   "execution_count": 92,
   "id": "7b48ff3f",
   "metadata": {},
   "outputs": [
    {
     "name": "stderr",
     "output_type": "stream",
     "text": [
      "Warning message:\n",
      "“The input is a data frame, convert it to the matrix.”\n",
      "Warning message:\n",
      "“`breaks` does not have the same length as `color`. The colors are\n",
      "interpolated from the minimal to the maximal of `breaks`.”\n"
     ]
    },
    {
     "data": {
      "image/png": "[encoded data removed]",
      "text/plain": [
       "plot without title"
      ]
     },
     "metadata": {
      "image/png": {
       "height": 240,
       "width": 150
      }
     },
     "output_type": "display_data"
    }
   ],
   "source": [
    "pheatmap(G4 %>% \n",
    "         dplyr::select(sumFDR.x,sumFDR.y,sumFDR),\n",
    "         breaks=c(0,40),cluster_cols = F,cluster_rows = T,\n",
    "         clustering_method = \"ward.D\",\n",
    "         treeheight_row = 0,cellheight = .2,\n",
    "         col=colorRampPalette(c(\"navy\",\"white\",\"red1\"))(500))"
   ]
  },
  {
   "cell_type": "code",
   "execution_count": 93,
   "id": "94a5153d",
   "metadata": {},
   "outputs": [
    {
     "name": "stderr",
     "output_type": "stream",
     "text": [
      "Warning message:\n",
      "“The input is a data frame, convert it to the matrix.”\n",
      "Warning message:\n",
      "“`breaks` does not have the same length as `color`. The colors are\n",
      "interpolated from the minimal to the maximal of `breaks`.”\n"
     ]
    },
    {
     "data": {
      "image/png": "[encoded data removed]",
      "text/plain": [
       "plot without title"
      ]
     },
     "metadata": {
      "image/png": {
       "height": 240,
       "width": 150
      }
     },
     "output_type": "display_data"
    }
   ],
   "source": [
    "pheatmap(G5 %>% \n",
    "         dplyr::select(sumFDR.x,sumFDR.y,sumFDR),\n",
    "         breaks=c(0,40),cluster_cols = F,cluster_rows = T,\n",
    "         clustering_method = \"ward.D2\",\n",
    "         treeheight_row = 0,cellheight = .2,\n",
    "         col=colorRampPalette(c(\"navy\",\"white\",\"red1\"))(500))"
   ]
  },
  {
   "cell_type": "code",
   "execution_count": 94,
   "id": "4f028475",
   "metadata": {},
   "outputs": [],
   "source": [
    "allGroup <- rbind(G1 %>% mutate(G=\"G1\"),\n",
    "G2 %>% mutate(G=\"G2\"),\n",
    "G3 %>% mutate(G=\"G3\"),\n",
    "G4 %>% mutate(G=\"G4\"),\n",
    "G5 %>% mutate(G=\"G5\"))"
   ]
  },
  {
   "cell_type": "code",
   "execution_count": null,
   "id": "fdada157",
   "metadata": {},
   "outputs": [],
   "source": [
    "write.table(allGroup,\"./RGiPCeN_allGroup_IO.bed\",col.names = F,row.names = F,quote=F,sep=\"\\t\")"
   ]
  },
  {
   "cell_type": "markdown",
   "id": "1a60a406",
   "metadata": {},
   "source": [
    "# addGene"
   ]
  },
  {
   "cell_type": "code",
   "execution_count": 34,
   "id": "141ba13e",
   "metadata": {},
   "outputs": [],
   "source": [
    "RG.gene <- read.table(\"./RG.final.res\")\n",
    "iPC.gene <- read.table(\"./iPC.final.res\")\n",
    "eN.gene <- read.table(\"./eN.final.res\")"
   ]
  },
  {
   "cell_type": "code",
   "execution_count": 35,
   "id": "1ae24440",
   "metadata": {},
   "outputs": [],
   "source": [
    "G1.gene <- dplyr::left_join(G1,RG.gene,by=c(\"c\"=\"V1\",\"s\"=\"V2\",\"e\"=\"V3\")) %>%\n",
    "select(c,s,e,sumFDR.x,sumFDR.y,sumFDR,V8) %>% distinct() \n",
    "G2.gene <- dplyr::left_join(G2,iPC.gene,by=c(\"c\"=\"V1\",\"s\"=\"V2\",\"e\"=\"V3\")) %>%\n",
    "select(c,s,e,sumFDR.x,sumFDR.y,sumFDR,V8) %>% distinct() \n",
    "G3.gene <- dplyr::left_join(G3,eN.gene,by=c(\"c\"=\"V1\",\"s\"=\"V2\",\"e\"=\"V3\")) %>%\n",
    "select(c,s,e,sumFDR.x,sumFDR.y,sumFDR,V8) %>% distinct() "
   ]
  },
  {
   "cell_type": "code",
   "execution_count": 36,
   "id": "53d62b6e",
   "metadata": {},
   "outputs": [],
   "source": [
    "G4.gene <- dplyr::left_join(G1,rbind(RG.gene,iPC.gene),by=c(\"c\"=\"V1\",\"s\"=\"V2\",\"e\"=\"V3\")) %>%\n",
    "select(c,s,e,sumFDR.x,sumFDR.y,sumFDR,V8) %>% distinct() "
   ]
  },
  {
   "cell_type": "code",
   "execution_count": 37,
   "id": "0a840d1e",
   "metadata": {},
   "outputs": [],
   "source": [
    "G5.gene <- dplyr::left_join(G1,rbind(RG.gene,iPC.gene),by=c(\"c\"=\"V1\",\"s\"=\"V2\",\"e\"=\"V3\")) %>%\n",
    "select(c,s,e,sumFDR.x,sumFDR.y,sumFDR,V8) %>% distinct() "
   ]
  },
  {
   "cell_type": "code",
   "execution_count": 38,
   "id": "0892a55e",
   "metadata": {},
   "outputs": [],
   "source": [
    "RNA <- read.table(\"../sc_human_average_CPM.txt\") %>% filter(RG>0.5 | IPC >0.5 | eN >0.5 | iN >0.5)\n",
    "RNA$symbol <- rownames(RNA)"
   ]
  },
  {
   "cell_type": "code",
   "execution_count": 39,
   "id": "7c09d37a",
   "metadata": {},
   "outputs": [],
   "source": [
    "G1.RNA <- dplyr::inner_join(G1.gene,RNA,by=c(\"V8\"=\"symbol\")) %>% select(-iN) %>%\n",
    "mutate(logRG=log2(RG+1),logIPC=log2(IPC+1),logeN=log2(eN+1)) %>% \n",
    "mutate(mean=(logRG+logIPC+logeN)/3,RG=logRG-mean,IPC=logIPC-mean,eN=logeN-mean)\n",
    "G2.RNA <- dplyr::inner_join(G2.gene,RNA,by=c(\"V8\"=\"symbol\")) %>% select(-iN) %>%\n",
    "mutate(logRG=log2(RG+1),logIPC=log2(IPC+1),logeN=log2(eN+1)) %>% \n",
    "mutate(mean=(logRG+logIPC+logeN)/3,RG=logRG-mean,IPC=logIPC-mean,eN=logeN-mean)\n",
    "G3.RNA <- dplyr::inner_join(G3.gene,RNA,by=c(\"V8\"=\"symbol\")) %>% select(-iN) %>%\n",
    "mutate(logRG=log2(RG+1),logIPC=log2(IPC+1),logeN=log2(eN+1)) %>% \n",
    "mutate(mean=(logRG+logIPC+logeN)/3,RG=logRG-mean,IPC=logIPC-mean,eN=logeN-mean)\n",
    "G4.RNA <- dplyr::inner_join(G4.gene,RNA,by=c(\"V8\"=\"symbol\")) %>% select(-iN) %>%\n",
    "mutate(logRG=log2(RG+1),logIPC=log2(IPC+1),logeN=log2(eN+1)) %>% \n",
    "mutate(mean=(logRG+logIPC+logeN)/3,RG=logRG-mean,IPC=logIPC-mean,eN=logeN-mean)\n",
    "G5.RNA <- dplyr::inner_join(G5.gene,RNA,by=c(\"V8\"=\"symbol\")) %>% select(-iN) %>%\n",
    "mutate(logRG=log2(RG+1),logIPC=log2(IPC+1),logeN=log2(eN+1)) %>% \n",
    "mutate(mean=(logRG+logIPC+logeN)/3,RG=logRG-mean,IPC=logIPC-mean,eN=logeN-mean)"
   ]
  },
  {
   "cell_type": "code",
   "execution_count": 390,
   "id": "bb1a67f4",
   "metadata": {},
   "outputs": [],
   "source": [
    "G1.RNA.adjust <- G1.RNA %>% filter(!V8 %in% G3.RNA$V8) %>%\n",
    "filter(!V8 %in% G2.RNA$V8)\n",
    "G2.RNA.adjust <- G2.RNA %>% filter(!V8 %in% G1.RNA$V8) %>%\n",
    "filter(!V8 %in% G3.RNA$V8)\n",
    "G3.RNA.adjust <- G3.RNA %>% filter(!V8 %in% G1.RNA$V8) %>%\n",
    "filter(!V8 %in% G2.RNA$V8)"
   ]
  },
  {
   "cell_type": "code",
   "execution_count": 391,
   "id": "726baee6",
   "metadata": {},
   "outputs": [],
   "source": [
    "markPE <- read.table(\"./RGiPCeN_allGroup_IO.bed.PromoterOrEnhancer\") %>%\n",
    "mutate(CRE=case_when(V5==\".\"  ~ \"distal\",\n",
    "                     V5!=\".\"  ~ \"promoter\"),\n",
    "      CRE.all=paste0(CRE,\"-\",V5)) %>% \n",
    "select(V1,V2,V3,CRE,CRE.all) %>% distinct()"
   ]
  },
  {
   "cell_type": "code",
   "execution_count": 392,
   "id": "16c7a9e9",
   "metadata": {},
   "outputs": [
    {
     "name": "stderr",
     "output_type": "stream",
     "text": [
      "Warning message in dplyr::left_join(G1.RNA.adjust, markPE, by = c(c = \"V1\", s = \"V2\", :\n",
      "“\u001b[1m\u001b[22mDetected an unexpected many-to-many relationship between `x` and `y`.\n",
      "\u001b[36mℹ\u001b[39m Row 1 of `x` matches multiple rows in `y`.\n",
      "\u001b[36mℹ\u001b[39m Row 1 of `y` matches multiple rows in `x`.\n",
      "\u001b[36mℹ\u001b[39m If a many-to-many relationship is expected, set `relationship = \"many-to-many\"` to silence this warning.”\n"
     ]
    }
   ],
   "source": [
    "G1.RNA.adjust <- dplyr::left_join(G1.RNA.adjust,markPE,by=c(\"c\"=\"V1\",\"s\"=\"V2\",\"e\"=\"V3\"))\n",
    "G1.RNA.adjust.ID <- G1.RNA.adjust %>% select(c,s,e) %>% distinct() %>% mutate(ID=1:565)"
   ]
  },
  {
   "cell_type": "code",
   "execution_count": 393,
   "id": "ec31bb87",
   "metadata": {},
   "outputs": [
    {
     "name": "stderr",
     "output_type": "stream",
     "text": [
      "Warning message in dplyr::left_join(G3.RNA.adjust, markPE, by = c(c = \"V1\", s = \"V2\", :\n",
      "“\u001b[1m\u001b[22mDetected an unexpected many-to-many relationship between `x` and `y`.\n",
      "\u001b[36mℹ\u001b[39m Row 20 of `x` matches multiple rows in `y`.\n",
      "\u001b[36mℹ\u001b[39m Row 1019 of `y` matches multiple rows in `x`.\n",
      "\u001b[36mℹ\u001b[39m If a many-to-many relationship is expected, set `relationship = \"many-to-many\"` to silence this warning.”\n"
     ]
    }
   ],
   "source": [
    "G3.RNA.adjust <- dplyr::left_join(G3.RNA.adjust,markPE,by=c(\"c\"=\"V1\",\"s\"=\"V2\",\"e\"=\"V3\")) \n",
    "G3.RNA.adjust.ID <- G3.RNA.adjust %>% select(c,s,e) %>% distinct() %>% mutate(ID=1:111)"
   ]
  },
  {
   "cell_type": "code",
   "execution_count": 394,
   "id": "ea8a7b50",
   "metadata": {},
   "outputs": [
    {
     "name": "stderr",
     "output_type": "stream",
     "text": [
      "Warning message in dplyr::left_join(G2.RNA.adjust, markPE, by = c(c = \"V1\", s = \"V2\", :\n",
      "“\u001b[1m\u001b[22mDetected an unexpected many-to-many relationship between `x` and `y`.\n",
      "\u001b[36mℹ\u001b[39m Row 35 of `x` matches multiple rows in `y`.\n",
      "\u001b[36mℹ\u001b[39m Row 764 of `y` matches multiple rows in `x`.\n",
      "\u001b[36mℹ\u001b[39m If a many-to-many relationship is expected, set `relationship = \"many-to-many\"` to silence this warning.”\n"
     ]
    }
   ],
   "source": [
    "G2.RNA.adjust <- dplyr::left_join(G2.RNA.adjust,markPE,by=c(\"c\"=\"V1\",\"s\"=\"V2\",\"e\"=\"V3\")) \n",
    "G2.RNA.adjust.ID <- G2.RNA.adjust %>% select(c,s,e) %>% distinct() %>% mutate(ID=1:168)"
   ]
  },
  {
   "cell_type": "code",
   "execution_count": 402,
   "id": "fcf816fc",
   "metadata": {},
   "outputs": [
    {
     "name": "stderr",
     "output_type": "stream",
     "text": [
      "\u001b[1m\u001b[22m`summarise()` has grouped output by 'V8'. You can override using the `.groups` argument.\n"
     ]
    }
   ],
   "source": [
    "G3.sta <- G3.RNA.adjust %>% dplyr::left_join(.,G3.RNA.adjust.ID,by=c(\"c\",\"s\",\"e\")) %>% \n",
    "select(V8,ID,CRE,CRE.all) %>% distinct() %>% group_by(V8,CRE) %>% \n",
    "summarise(N=n()) %>%\n",
    "tidyr::pivot_wider(id_cols = c(\"V8\"), names_from = \"CRE\", values_from = \"N\")  %>%\n",
    "replace(is.na(.),0)%>% as.data.frame()"
   ]
  },
  {
   "cell_type": "code",
   "execution_count": 403,
   "id": "bfcd283e",
   "metadata": {},
   "outputs": [
    {
     "name": "stderr",
     "output_type": "stream",
     "text": [
      "\u001b[1m\u001b[22m`summarise()` has grouped output by 'V8'. You can override using the `.groups` argument.\n"
     ]
    }
   ],
   "source": [
    "G1.sta <- G1.RNA.adjust %>% dplyr::left_join(.,G1.RNA.adjust.ID,by=c(\"c\",\"s\",\"e\")) %>% \n",
    "select(V8,ID,CRE,CRE.all) %>% distinct() %>% group_by(V8,CRE) %>% \n",
    "summarise(N=n()) %>%\n",
    "tidyr::pivot_wider(id_cols = c(\"V8\"), names_from = \"CRE\", values_from = \"N\")  %>%\n",
    "replace(is.na(.),0)%>% as.data.frame()"
   ]
  },
  {
   "cell_type": "code",
   "execution_count": 453,
   "id": "7db79ebb",
   "metadata": {},
   "outputs": [
    {
     "name": "stderr",
     "output_type": "stream",
     "text": [
      "\u001b[1m\u001b[22m`summarise()` has grouped output by 'V8'. You can override using the `.groups` argument.\n"
     ]
    }
   ],
   "source": [
    "G2.sta <- G2.RNA.adjust %>% dplyr::left_join(.,G2.RNA.adjust.ID,by=c(\"c\",\"s\",\"e\")) %>% \n",
    "select(V8,ID,CRE,CRE.all) %>% distinct() %>% group_by(V8,CRE) %>% \n",
    "summarise(N=n()) %>%\n",
    "tidyr::pivot_wider(id_cols = c(\"V8\"), names_from = \"CRE\", values_from = \"N\")  %>%\n",
    "replace(is.na(.),0)%>% as.data.frame()"
   ]
  },
  {
   "cell_type": "code",
   "execution_count": 405,
   "id": "9f704616",
   "metadata": {},
   "outputs": [],
   "source": [
    "G3.sta.plotDF <- rbind(G3.sta[,1:2] %>% set_names(\"symbol\",\"counts\") %>% mutate(group=\"distal\"),\n",
    "G3.sta[,c(1,3)] %>% set_names(\"symbol\",\"counts\") %>% mutate(group=\"promoter\")) %>% as.data.frame()"
   ]
  },
  {
   "cell_type": "code",
   "execution_count": 406,
   "id": "8b4f0fba",
   "metadata": {},
   "outputs": [],
   "source": [
    "G1.sta.plotDF <- rbind(G1.sta[,1:2] %>% set_names(\"symbol\",\"counts\") %>% mutate(group=\"distal\"),\n",
    "G1.sta[,c(1,3)] %>% set_names(\"symbol\",\"counts\") %>% mutate(group=\"promoter\")) %>% as.data.frame()"
   ]
  },
  {
   "cell_type": "code",
   "execution_count": 451,
   "id": "fbcf2187",
   "metadata": {},
   "outputs": [],
   "source": [
    "G2.sta.plotDF <- rbind(G2.sta[,1:2] %>% set_names(\"symbol\",\"counts\") %>% mutate(group=\"distal\"),\n",
    "G2.sta[,c(1,3)] %>% set_names(\"symbol\",\"counts\") %>% mutate(group=\"promoter\")) %>% as.data.frame()"
   ]
  },
  {
   "cell_type": "code",
   "execution_count": 460,
   "id": "eb73a382",
   "metadata": {},
   "outputs": [],
   "source": [
    "G3.mat <- matrix(0,ncol = 5,nrow = 5) %>% as.data.frame()\n",
    "G1.mat <- matrix(0,ncol = 9,nrow = 9) %>% as.data.frame()\n",
    "G2.mat <- matrix(0,ncol = 9,nrow = 9) %>% as.data.frame()"
   ]
  },
  {
   "cell_type": "code",
   "execution_count": 461,
   "id": "abae67e9",
   "metadata": {},
   "outputs": [],
   "source": [
    "for(i in 1:dim(G3.sta)[1]){\n",
    "   r=G3.sta[i,3]+1\n",
    "   c=G3.sta[i,2]+1\n",
    "   #print(r)\n",
    "   #print(c)\n",
    "   G3.mat[r,c] <- G3.mat[r,c]+1\n",
    "   #G3.mat[c,r] <- G3.mat[c,r]+1      \n",
    "}\n",
    "for(i in 1:dim(G1.sta)[1]){\n",
    "   r=G1.sta[i,3]+1\n",
    "   c=G1.sta[i,2]+1\n",
    "   #print(r)\n",
    "   #print(c)\n",
    "   G1.mat[r,c] <- G1.mat[r,c]+1\n",
    "   #G3.mat[c,r] <- G3.mat[c,r]+1      \n",
    "}\n",
    "for(i in 1:dim(G2.sta)[1]){\n",
    "   c=G2.sta[i,3]+1\n",
    "   r=G2.sta[i,2]+1\n",
    "   #print(r)\n",
    "   #print(c)\n",
    "   G2.mat[r,c] <- G2.mat[r,c]+1\n",
    "   #G3.mat[c,r] <- G3.mat[c,r]+1      \n",
    "}"
   ]
  },
  {
   "cell_type": "code",
   "execution_count": 473,
   "id": "2339a463",
   "metadata": {},
   "outputs": [
    {
     "data": {
      "text/html": [
       "<table class=\"dataframe\">\n",
       "<caption>A data.frame: 4 × 3</caption>\n",
       "<thead>\n",
       "\t<tr><th scope=col>V8</th><th scope=col>promoter</th><th scope=col>distal</th></tr>\n",
       "\t<tr><th scope=col>&lt;chr&gt;</th><th scope=col>&lt;int&gt;</th><th scope=col>&lt;int&gt;</th></tr>\n",
       "</thead>\n",
       "<tbody>\n",
       "\t<tr><td>DALRD3 </td><td>7</td><td>0</td></tr>\n",
       "\t<tr><td>IMPDH2 </td><td>7</td><td>0</td></tr>\n",
       "\t<tr><td>NDUFAF3</td><td>7</td><td>0</td></tr>\n",
       "\t<tr><td>SLC26A6</td><td>7</td><td>0</td></tr>\n",
       "</tbody>\n",
       "</table>\n"
      ],
      "text/latex": [
       "A data.frame: 4 × 3\n",
       "\\begin{tabular}{lll}\n",
       " V8 & promoter & distal\\\\\n",
       " <chr> & <int> & <int>\\\\\n",
       "\\hline\n",
       "\t DALRD3  & 7 & 0\\\\\n",
       "\t IMPDH2  & 7 & 0\\\\\n",
       "\t NDUFAF3 & 7 & 0\\\\\n",
       "\t SLC26A6 & 7 & 0\\\\\n",
       "\\end{tabular}\n"
      ],
      "text/markdown": [
       "\n",
       "A data.frame: 4 × 3\n",
       "\n",
       "| V8 &lt;chr&gt; | promoter &lt;int&gt; | distal &lt;int&gt; |\n",
       "|---|---|---|\n",
       "| DALRD3  | 7 | 0 |\n",
       "| IMPDH2  | 7 | 0 |\n",
       "| NDUFAF3 | 7 | 0 |\n",
       "| SLC26A6 | 7 | 0 |\n",
       "\n"
      ],
      "text/plain": [
       "  V8      promoter distal\n",
       "1 DALRD3  7        0     \n",
       "2 IMPDH2  7        0     \n",
       "3 NDUFAF3 7        0     \n",
       "4 SLC26A6 7        0     "
      ]
     },
     "metadata": {},
     "output_type": "display_data"
    }
   ],
   "source": [
    "G2.sta %>% filter(distal==0,promoter==7)"
   ]
  },
  {
   "cell_type": "code",
   "execution_count": 475,
   "id": "23e13643",
   "metadata": {},
   "outputs": [
    {
     "name": "stderr",
     "output_type": "stream",
     "text": [
      "Warning message:\n",
      "“The input is a data frame, convert it to the matrix.”\n"
     ]
    },
    {
     "data": {
      "image/png": "[encoded data removed]",
      "text/plain": [
       "plot without title"
      ]
     },
     "metadata": {
      "image/png": {
       "height": 300,
       "width": 360
      }
     },
     "output_type": "display_data"
    }
   ],
   "source": [
    "pheatmap(log2(G3.mat+1),cluster_rows = F,cluster_cols = F,display_numbers = F,\n",
    "         color = coul)"
   ]
  },
  {
   "cell_type": "code",
   "execution_count": 477,
   "id": "dbd3cc0e",
   "metadata": {},
   "outputs": [
    {
     "name": "stderr",
     "output_type": "stream",
     "text": [
      "Warning message:\n",
      "“The input is a data frame, convert it to the matrix.”\n"
     ]
    },
    {
     "data": {
      "image/png": "[encoded data removed]",
      "text/plain": [
       "plot without title"
      ]
     },
     "metadata": {
      "image/png": {
       "height": 300,
       "width": 360
      }
     },
     "output_type": "display_data"
    }
   ],
   "source": [
    "pheatmap(log2(G2.mat+1),cluster_rows = F,cluster_cols = F,display_numbers = F,\n",
    "         color = coul)"
   ]
  },
  {
   "cell_type": "code",
   "execution_count": 469,
   "id": "5f534d01",
   "metadata": {},
   "outputs": [
    {
     "name": "stderr",
     "output_type": "stream",
     "text": [
      "Warning message:\n",
      "“The input is a data frame, convert it to the matrix.”\n"
     ]
    },
    {
     "data": {
      "text/html": [
       "<strong>png:</strong> 2"
      ],
      "text/latex": [
       "\\textbf{png:} 2"
      ],
      "text/markdown": [
       "**png:** 2"
      ],
      "text/plain": [
       "png \n",
       "  2 "
      ]
     },
     "metadata": {},
     "output_type": "display_data"
    },
    {
     "name": "stderr",
     "output_type": "stream",
     "text": [
      "Warning message:\n",
      "“The input is a data frame, convert it to the matrix.”\n"
     ]
    },
    {
     "data": {
      "text/html": [
       "<strong>png:</strong> 2"
      ],
      "text/latex": [
       "\\textbf{png:} 2"
      ],
      "text/markdown": [
       "**png:** 2"
      ],
      "text/plain": [
       "png \n",
       "  2 "
      ]
     },
     "metadata": {},
     "output_type": "display_data"
    },
    {
     "name": "stderr",
     "output_type": "stream",
     "text": [
      "Warning message:\n",
      "“The input is a data frame, convert it to the matrix.”\n"
     ]
    },
    {
     "data": {
      "text/html": [
       "<strong>png:</strong> 2"
      ],
      "text/latex": [
       "\\textbf{png:} 2"
      ],
      "text/markdown": [
       "**png:** 2"
      ],
      "text/plain": [
       "png \n",
       "  2 "
      ]
     },
     "metadata": {},
     "output_type": "display_data"
    }
   ],
   "source": [
    "coul <- colorRampPalette(brewer.pal(9, \"OrRd\"))(50)\n",
    "pdf(\"../../../FINAL_figures/SIO_group_in_human.eN.pdf\",width=5,height=4.5)\n",
    "pheatmap(log2(G3.mat+1),cluster_rows = F,cluster_cols = F,display_numbers = F,\n",
    "         color = coul)\n",
    "dev.off()\n",
    "pdf(\"../../../FINAL_figures/SIO_group_in_human.RG.pdf\",width=5,height=4.5)\n",
    "pheatmap(log2(G1.mat+1),cluster_rows = F,cluster_cols = F,display_numbers = F,\n",
    "         color = coul)\n",
    "dev.off()\n",
    "pdf(\"../../../FINAL_figures/SIO_group_in_human.iPC.pdf\",width=5,height=4.5)\n",
    "pheatmap(log2(G2.mat+1),cluster_rows = F,cluster_cols = F,display_numbers = F,\n",
    "         color = coul)\n",
    "dev.off()"
   ]
  },
  {
   "cell_type": "code",
   "execution_count": 167,
   "id": "7761451c",
   "metadata": {},
   "outputs": [],
   "source": [
    "RGSIP.gene <- read.table(\"/lustre/user/liclab/jialm/Project/SCOPEC/analysis/SIP/RG_SIPand5kinbin_gene.filtered.uniq\")\n",
    "ENSIP.gene <- read.table(\"/lustre/user/liclab/jialm/Project/SCOPEC/analysis/SIP/EN_SIPand5kinbin_gene.filtered.uniq\")"
   ]
  },
  {
   "cell_type": "code",
   "execution_count": 178,
   "id": "4826669a",
   "metadata": {},
   "outputs": [],
   "source": [
    "sip.rg.spec <- setdiff(RGSIP.gene$V1,ENSIP.gene$V1) %>% as.data.frame() %>% set_names(\"symbol\")\n",
    "sip.en.spec <- setdiff(ENSIP.gene$V1,RGSIP.gene$V1) %>% as.data.frame() %>% set_names(\"symbol\")"
   ]
  },
  {
   "cell_type": "code",
   "execution_count": 181,
   "id": "20df6a72",
   "metadata": {},
   "outputs": [
    {
     "name": "stderr",
     "output_type": "stream",
     "text": [
      "\u001b[1m\u001b[22mJoining with `by = join_by(symbol)`\n",
      "\u001b[1m\u001b[22mJoining with `by = join_by(symbol)`\n"
     ]
    }
   ],
   "source": [
    "sip.en.spec.RNAadj <- dplyr::inner_join(sip.en.spec,RNA)\n",
    "sip.rg.spec.RNAadj <- dplyr::inner_join(sip.rg.spec,RNA)"
   ]
  },
  {
   "cell_type": "code",
   "execution_count": 113,
   "id": "c4459897",
   "metadata": {},
   "outputs": [
    {
     "name": "stderr",
     "output_type": "stream",
     "text": [
      "\u001b[1m\u001b[22m`stat_bin()` using `bins = 30`. Pick better value with `binwidth`.\n",
      "\u001b[1m\u001b[22m`stat_bin()` using `bins = 30`. Pick better value with `binwidth`.\n"
     ]
    },
    {
     "data": {
      "image/png": "[encoded data removed]",
      "text/plain": [
       "plot without title"
      ]
     },
     "metadata": {
      "image/png": {
       "height": 240,
       "width": 240
      }
     },
     "output_type": "display_data"
    }
   ],
   "source": [
    "options(repr.plot.width=4,repr.plot.height=4)\n",
    "ggplot(G3.sta) +\n",
    "  geom_histogram(aes(promoter,y = after_stat(count)),fill=\"red\")+\n",
    "  geom_label(aes(x=3.5, y=80, label=\"promoter\"), color=\"red\") +\n",
    "  geom_histogram(aes(distal,y = -after_stat(count)),fill=\"navy\")+\n",
    "  geom_label(aes(x=3.5, y=-80, label=\"distal\"), color=\"navy\") +\n",
    "ylab(\"gene\")+\n",
    "theme_classic()"
   ]
  },
  {
   "cell_type": "code",
   "execution_count": 102,
   "id": "6e5df7e7",
   "metadata": {},
   "outputs": [],
   "source": [
    "library(ComplexHeatmap)"
   ]
  },
  {
   "cell_type": "code",
   "execution_count": 241,
   "id": "339629b4",
   "metadata": {},
   "outputs": [],
   "source": [
    "G1.ha <- rowAnnotation(\n",
    "  foo = anno_mark(\n",
    "    at = G1.RNA.adjust %>% mutate(rank=1:dim(G1.RNA.adjust)[1]) %>% \n",
    "filter(RG>=2.5,IPC<=-0.5,eN<=-0.5) %>%\n",
    "filter(!grepl(\"-AS1\",.$V8))%>% .$rank, \n",
    "    labels = G1.RNA.adjust %>% mutate(rank=1:dim(G1.RNA.adjust)[1]) %>% \n",
    "filter(RG>=2.5,IPC<=-0.5,eN<=-0.5)%>%\n",
    "filter(!grepl(\"-AS1\",.$V8)) %>% .$V8)\n",
    "  )\n",
    "\n",
    "G2.ha <- rowAnnotation(\n",
    "  foo = anno_mark(\n",
    "    at = G2.RNA.adjust %>% mutate(rank=1:dim(G2.RNA.adjust)[1]) %>% \n",
    "filter(IPC>=2.4,eN<=1,RG<=1)%>%\n",
    "filter(!grepl(\"-AS1\",.$V8))%>% .$rank, \n",
    "    labels = G2.RNA.adjust %>% mutate(rank=1:dim(G2.RNA.adjust)[1]) %>% \n",
    "filter(IPC>=2.4,eN<=1,RG<=1)%>%\n",
    "filter(!grepl(\"-AS1\",.$V8))%>% .$V8)\n",
    "  )\n",
    "\n",
    "G3.ha <- rowAnnotation(\n",
    "  foo = anno_mark(\n",
    "    at = G3.RNA.adjust %>% mutate(rank=1:dim(G3.RNA.adjust)[1]) %>% \n",
    "filter(eN>=2.4,IPC<=1,RG<=1)%>%\n",
    "filter(!grepl(\"-AS1\",.$V8),logeN>=9)%>% .$rank, \n",
    "    labels = G3.RNA.adjust %>% mutate(rank=1:dim(G3.RNA.adjust)[1]) %>% \n",
    "filter(eN>=2.4,IPC<=1,RG<=1)%>%\n",
    "filter(!grepl(\"-AS1\",.$V8),logeN>=9)%>% .$V8)\n",
    "  )"
   ]
  },
  {
   "cell_type": "code",
   "execution_count": 242,
   "id": "e03c9c6e",
   "metadata": {},
   "outputs": [],
   "source": [
    "ann_colors=list(CRE=c(distal=\"black\",promoter=\"lightgray\")) "
   ]
  },
  {
   "cell_type": "code",
   "execution_count": 243,
   "id": "f1d6c23b",
   "metadata": {},
   "outputs": [
    {
     "data": {
      "text/html": [
       "<table class=\"dataframe\">\n",
       "<caption>A tibble: 2 × 2</caption>\n",
       "<thead>\n",
       "\t<tr><th scope=col>CRE</th><th scope=col>N</th></tr>\n",
       "\t<tr><th scope=col>&lt;chr&gt;</th><th scope=col>&lt;int&gt;</th></tr>\n",
       "</thead>\n",
       "<tbody>\n",
       "\t<tr><td>distal  </td><td>1162</td></tr>\n",
       "\t<tr><td>promoter</td><td> 775</td></tr>\n",
       "</tbody>\n",
       "</table>\n"
      ],
      "text/latex": [
       "A tibble: 2 × 2\n",
       "\\begin{tabular}{ll}\n",
       " CRE & N\\\\\n",
       " <chr> & <int>\\\\\n",
       "\\hline\n",
       "\t distal   & 1162\\\\\n",
       "\t promoter &  775\\\\\n",
       "\\end{tabular}\n"
      ],
      "text/markdown": [
       "\n",
       "A tibble: 2 × 2\n",
       "\n",
       "| CRE &lt;chr&gt; | N &lt;int&gt; |\n",
       "|---|---|\n",
       "| distal   | 1162 |\n",
       "| promoter |  775 |\n",
       "\n"
      ],
      "text/plain": [
       "  CRE      N   \n",
       "1 distal   1162\n",
       "2 promoter  775"
      ]
     },
     "metadata": {},
     "output_type": "display_data"
    }
   ],
   "source": [
    "markPE %>% distinct() %>% group_by(CRE) %>% summarise(N=n())"
   ]
  },
  {
   "cell_type": "code",
   "execution_count": 244,
   "id": "a8a2a1f1",
   "metadata": {},
   "outputs": [],
   "source": [
    "G123_genePromoter <- rbind(G1.RNA.adjust,G2.RNA.adjust,G3.RNA.adjust) %>% \n",
    "mutate(ID=1:1903) %>% \n",
    "select(V8,ID) %>% \n",
    "dplyr::left_join(.,promoter,by=c(\"V8\"=\"symbol\")) "
   ]
  },
  {
   "cell_type": "code",
   "execution_count": 245,
   "id": "82ef6ea9",
   "metadata": {},
   "outputs": [],
   "source": [
    "G123_genePromoter.gr <- rbind(G1.RNA.adjust,G2.RNA.adjust,G3.RNA.adjust) %>% \n",
    "mutate(ID=1:1903) %>% \n",
    "select(V8,ID) %>% \n",
    "dplyr::left_join(.,promoter,by=c(\"V8\"=\"symbol\")) %>% makeGRangesFromDataFrame(.,keep.extra.columns = T)"
   ]
  },
  {
   "cell_type": "code",
   "execution_count": 246,
   "id": "3d0f814d",
   "metadata": {},
   "outputs": [],
   "source": [
    "RGpeak <- read.table(\"./RG.all.merge.DEPairs.AB.merge.rmd.DEPairs.bed.macs2.ext200.shift100.0.01_peaks.narrowPeak\") %>% select(V1,V2,V3,V9) %>% set_names(\"seqnames\",\"start\",\"end\",\"FDR\") %>%\n",
    "mutate(FDR=FDR/sum(FDR)*9000000)\n",
    "IPCpeak <- read.table(\"./iPC.all.merge.DEPairs.AB.merge.rmd.DEPairs.bed.macs2.ext200.shift100.0.01_peaks.narrowPeak\") %>% select(V1,V2,V3,V9) %>% set_names(\"seqnames\",\"start\",\"end\",\"FDR\") %>%\n",
    "mutate(FDR=FDR/sum(FDR)*11000000)\n",
    "ENpeak <- read.table(\"./eN.all.merge.DEPairs.AB.merge.rmd.DEPairs.bed.macs2.ext200.shift100.0.01_peaks.narrowPeak\") %>% select(V1,V2,V3,V9) %>% set_names(\"seqnames\",\"start\",\"end\",\"FDR\") %>%\n",
    "mutate(FDR=FDR/sum(FDR)*10000000)\n",
    "RGATAC <- read.table(\"../RG_eN/RG.ATAC-seq.38TO19.narrowPeak\")%>% select(V1,V2,V3,V9) %>% set_names(\"seqnames\",\"start\",\"end\",\"FDR\") %>%\n",
    "mutate(FDR=FDR/sum(FDR)*10000000)\n",
    "IPCATAC <- read.table(\"../RG_eN/IPC.ATAC-seq.38TO19.narrowPeak\")%>% select(V1,V2,V3,V9) %>% set_names(\"seqnames\",\"start\",\"end\",\"FDR\") %>%\n",
    "mutate(FDR=FDR/sum(FDR)*11000000)\n",
    "ENATAC <- read.table(\"../RG_eN/eN.ATAC-seq.38TO19.narrowPeak\")%>% select(V1,V2,V3,V9) %>% set_names(\"seqnames\",\"start\",\"end\",\"FDR\") %>%\n",
    "mutate(FDR=FDR/sum(FDR)*10000000)\n",
    "RGpeak.gr <- makeGRangesFromDataFrame(RGpeak,keep.extra.columns = T)\n",
    "IPCpeak.gr <- makeGRangesFromDataFrame(IPCpeak,keep.extra.columns = T)\n",
    "ENpeak.gr <- makeGRangesFromDataFrame(ENpeak,keep.extra.columns = T)\n",
    "RGATAC.gr <- makeGRangesFromDataFrame(RGATAC,keep.extra.columns = T)\n",
    "IPCATAC.gr <- makeGRangesFromDataFrame(IPCATAC,keep.extra.columns = T)\n",
    "ENATAC.gr <- makeGRangesFromDataFrame(ENATAC,keep.extra.columns = T)"
   ]
  },
  {
   "cell_type": "code",
   "execution_count": 247,
   "id": "d3068ef3",
   "metadata": {},
   "outputs": [
    {
     "name": "stderr",
     "output_type": "stream",
     "text": [
      "\u001b[1m\u001b[22m`summarise()` has grouped output by 'symbol'. You can override using the `.groups` argument.\n",
      "\u001b[1m\u001b[22m`summarise()` has grouped output by 'symbol'. You can override using the `.groups` argument.\n",
      "\u001b[1m\u001b[22m`summarise()` has grouped output by 'symbol'. You can override using the `.groups` argument.\n"
     ]
    }
   ],
   "source": [
    "RGC <- cbind(G123_genePromoter[queryHits(findOverlaps(G123_genePromoter.gr,RGpeak.gr,select = \"all\")),],\n",
    "RGpeak[subjectHits(findOverlaps(G123_genePromoter.gr,RGpeak.gr,select = \"all\")),]) %>% set_names(\"symbol\",\"ID\",\"seqnames\",\"start\",\"end\",\"chromsome\",\"peak.start\",\"peak.end\",\"FDR\") %>% \n",
    "group_by(symbol,ID) %>% summarise(FDR=sum(FDR)) %>% arrange(ID) %>% as.data.frame()\n",
    "\n",
    "IPCC <- cbind(G123_genePromoter[queryHits(findOverlaps(G123_genePromoter.gr,IPCpeak.gr,select = \"all\")),],\n",
    "IPCpeak[subjectHits(findOverlaps(G123_genePromoter.gr,IPCpeak.gr,select = \"all\")),]) %>% set_names(\"symbol\",\"ID\",\"seqnames\",\"start\",\"end\",\"chromsome\",\"peak.start\",\"peak.end\",\"FDR\") %>% \n",
    "group_by(symbol,ID) %>% summarise(FDR=sum(FDR)) %>% arrange(ID) %>% as.data.frame()\n",
    "\n",
    "ENC <- cbind(G123_genePromoter[queryHits(findOverlaps(G123_genePromoter.gr,ENpeak.gr,select = \"all\")),],\n",
    "ENpeak[subjectHits(findOverlaps(G123_genePromoter.gr,ENpeak.gr,select = \"all\")),]) %>% set_names(\"symbol\",\"ID\",\"seqnames\",\"start\",\"end\",\"chromsome\",\"peak.start\",\"peak.end\",\"FDR\") %>% \n",
    "group_by(symbol,ID) %>% summarise(FDR=sum(FDR)) %>% arrange(ID) %>% as.data.frame()"
   ]
  },
  {
   "cell_type": "code",
   "execution_count": 248,
   "id": "e8e9d47d",
   "metadata": {},
   "outputs": [
    {
     "name": "stderr",
     "output_type": "stream",
     "text": [
      "\u001b[1m\u001b[22m`summarise()` has grouped output by 'symbol'. You can override using the `.groups` argument.\n",
      "\u001b[1m\u001b[22m`summarise()` has grouped output by 'symbol'. You can override using the `.groups` argument.\n",
      "\u001b[1m\u001b[22m`summarise()` has grouped output by 'symbol'. You can override using the `.groups` argument.\n"
     ]
    }
   ],
   "source": [
    "RGA <- cbind(G123_genePromoter[queryHits(findOverlaps(G123_genePromoter.gr,RGATAC.gr,select = \"all\")),],\n",
    "RGATAC[subjectHits(findOverlaps(G123_genePromoter.gr,RGATAC.gr,select = \"all\")),]) %>% set_names(\"symbol\",\"ID\",\"seqnames\",\"start\",\"end\",\"chromsome\",\"peak.start\",\"peak.end\",\"FDR\") %>% \n",
    "group_by(symbol,ID) %>% summarise(FDR=sum(FDR)) %>% arrange(ID) %>% as.data.frame()\n",
    "\n",
    "IPCA <- cbind(G123_genePromoter[queryHits(findOverlaps(G123_genePromoter.gr,IPCATAC.gr,select = \"all\")),],\n",
    "IPCATAC[subjectHits(findOverlaps(G123_genePromoter.gr,IPCATAC.gr,select = \"all\")),]) %>% set_names(\"symbol\",\"ID\",\"seqnames\",\"start\",\"end\",\"chromsome\",\"peak.start\",\"peak.end\",\"FDR\") %>% \n",
    "group_by(symbol,ID) %>% summarise(FDR=sum(FDR)) %>% arrange(ID) %>% as.data.frame()\n",
    "\n",
    "ENA <- cbind(G123_genePromoter[queryHits(findOverlaps(G123_genePromoter.gr,ENATAC.gr,select = \"all\")),],\n",
    "ENATAC[subjectHits(findOverlaps(G123_genePromoter.gr,ENATAC.gr,select = \"all\")),]) %>% set_names(\"symbol\",\"ID\",\"seqnames\",\"start\",\"end\",\"chromsome\",\"peak.start\",\"peak.end\",\"FDR\") %>% \n",
    "group_by(symbol,ID) %>% summarise(FDR=sum(FDR)) %>% arrange(ID) %>% as.data.frame()"
   ]
  },
  {
   "cell_type": "code",
   "execution_count": 249,
   "id": "664b7b95",
   "metadata": {},
   "outputs": [],
   "source": [
    "res <- dplyr::left_join(G123_genePromoter[,1:2],RGC,by=c(\"V8\"=\"symbol\",\"ID\"=\"ID\")) %>%\n",
    "dplyr::left_join(.,IPCC,by=c(\"V8\"=\"symbol\",\"ID\"=\"ID\")) %>%\n",
    "dplyr::left_join(.,ENC,by=c(\"V8\"=\"symbol\",\"ID\"=\"ID\")) %>%\n",
    "dplyr::left_join(.,RGA,by=c(\"V8\"=\"symbol\",\"ID\"=\"ID\")) %>%\n",
    "dplyr::left_join(.,IPCA,by=c(\"V8\"=\"symbol\",\"ID\"=\"ID\")) %>%\n",
    "dplyr::left_join(.,ENA,by=c(\"V8\"=\"symbol\",\"ID\"=\"ID\")) %>%\n",
    "replace(is.na(.),100) %>% \n",
    "set_names(\"symbol\",\"ID\",\"RG.SC\",\"IPC.SC\",\"EN.SC\",\"RG.ATAC\",\"IPC.ATAC\",\"EN.ATAC\")"
   ]
  },
  {
   "cell_type": "code",
   "execution_count": 250,
   "id": "92154005",
   "metadata": {},
   "outputs": [
    {
     "name": "stderr",
     "output_type": "stream",
     "text": [
      "Warning message:\n",
      "“The input is a data frame, convert it to the matrix.”\n",
      "Warning message:\n",
      "“`breaks` does not have the same length as `color`. The colors are\n",
      "interpolated from the minimal to the maximal of `breaks`.”\n"
     ]
    },
    {
     "data": {
      "image/png": "[encoded data removed]",
      "text/plain": [
       "plot without title"
      ]
     },
     "metadata": {
      "image/png": {
       "height": 240,
       "width": 150
      }
     },
     "output_type": "display_data"
    }
   ],
   "source": [
    "options(repr.plot.width=2.5,repr.plot.height=4)\n",
    "#pdf(\"../../../FINAL_figures/RGiPCeN_IO_clusterG123_SCOPEC1D.pdf\",width=5,height=8)\n",
    "pheatmap(res[,c(3:5)],breaks=c(0,350),\n",
    "         #right_annotation = G1.ha,\n",
    "         cluster_cols = F,cluster_rows = F,cellheight = .15,cellwidth = 30,\n",
    "         col=colorRampPalette(c(\"white\",\"pink\",\"red\"))(500)\n",
    "         )\n",
    "#dev.off()"
   ]
  },
  {
   "cell_type": "code",
   "execution_count": 322,
   "id": "4a96b40f",
   "metadata": {},
   "outputs": [
    {
     "name": "stderr",
     "output_type": "stream",
     "text": [
      "Warning message:\n",
      "“The input is a data frame, convert it to the matrix.”\n",
      "Warning message:\n",
      "“`breaks` does not have the same length as `color`. The colors are\n",
      "interpolated from the minimal to the maximal of `breaks`.”\n"
     ]
    },
    {
     "data": {
      "text/html": [
       "<strong>png:</strong> 2"
      ],
      "text/latex": [
       "\\textbf{png:} 2"
      ],
      "text/markdown": [
       "**png:** 2"
      ],
      "text/plain": [
       "png \n",
       "  2 "
      ]
     },
     "metadata": {},
     "output_type": "display_data"
    }
   ],
   "source": [
    "pdf(\"../../../FINAL_figures/RGiPCeN_IO_clusterG123_ATACpeak.pdf\",width=5,height=8)\n",
    "pheatmap(res[,c(6:8)],breaks=c(0,1400),\n",
    "         #right_annotation = G1.ha,\n",
    "         cluster_cols = F,cluster_rows = F,cellheight = .15,cellwidth = 30,\n",
    "         col=colorRampPalette(c(\"white\",\"forestgreen\",\"black\"))(500)\n",
    "         )\n",
    "dev.off()"
   ]
  },
  {
   "cell_type": "code",
   "execution_count": 137,
   "id": "3e7a41f8",
   "metadata": {},
   "outputs": [
    {
     "name": "stderr",
     "output_type": "stream",
     "text": [
      "Warning message:\n",
      "“The input is a data frame, convert it to the matrix.”\n",
      "Warning message:\n",
      "“`breaks` does not have the same length as `color`. The colors are\n",
      "interpolated from the minimal to the maximal of `breaks`.”\n"
     ]
    },
    {
     "data": {
      "image/png": "[encoded data removed]",
      "text/plain": [
       "plot without title"
      ]
     },
     "metadata": {
      "image/png": {
       "height": 240,
       "width": 150
      }
     },
     "output_type": "display_data"
    }
   ],
   "source": [
    "ComplexHeatmap::pheatmap(G1.RNA.adjust[G1.RNA.adjust$CRE==\"promoter\",c(4:6)],\n",
    "         breaks=c(0,40),\n",
    "         cluster_cols = F,cluster_rows = F,cellheight = .15,cellwidth = 30,\n",
    "         col=colorRampPalette(c(\"royalblue3\",\"white\",\"firebrick3\"))(500))"
   ]
  },
  {
   "cell_type": "code",
   "execution_count": 139,
   "id": "253707bd",
   "metadata": {},
   "outputs": [
    {
     "name": "stderr",
     "output_type": "stream",
     "text": [
      "Warning message:\n",
      "“The input is a data frame, convert it to the matrix.”\n",
      "Warning message:\n",
      "“`breaks` does not have the same length as `color`. The colors are\n",
      "interpolated from the minimal to the maximal of `breaks`.”\n"
     ]
    },
    {
     "data": {
      "image/png": "[encoded data removed]",
      "text/plain": [
       "plot without title"
      ]
     },
     "metadata": {
      "image/png": {
       "height": 240,
       "width": 150
      }
     },
     "output_type": "display_data"
    }
   ],
   "source": [
    "ComplexHeatmap::pheatmap(G1.RNA.adjust[G1.RNA.adjust$CRE==\"distal\",c(4:6)],\n",
    "         breaks=c(0,40),\n",
    "         cluster_cols = F,cluster_rows = F,cellheight = .15,cellwidth = 30,\n",
    "         col=colorRampPalette(c(\"royalblue3\",\"white\",\"firebrick3\"))(500))"
   ]
  },
  {
   "cell_type": "code",
   "execution_count": 61,
   "id": "fcb4abd5",
   "metadata": {},
   "outputs": [
    {
     "name": "stderr",
     "output_type": "stream",
     "text": [
      "Warning message:\n",
      "“The input is a data frame, convert it to the matrix.”\n",
      "Warning message:\n",
      "“`breaks` does not have the same length as `color`. The colors are\n",
      "interpolated from the minimal to the maximal of `breaks`.”\n"
     ]
    },
    {
     "data": {
      "image/png": "[encoded data removed]",
      "text/plain": [
       "plot without title"
      ]
     },
     "metadata": {
      "image/png": {
       "height": 480,
       "width": 300
      }
     },
     "output_type": "display_data"
    }
   ],
   "source": [
    "ComplexHeatmap::pheatmap(G1.RNA.adjust[,c(4:6)],\n",
    "         breaks=c(0,40),annotation_row=dplyr::left_join(G1.RNA.adjust,markPE,by=c(\"c\"=\"V1\",\"s\"=\"V2\",\"e\"=\"V3\")) %>% \n",
    "                         select(CRE),annotation_colors=ann_colors,\n",
    "         cluster_cols = F,cluster_rows = F,cellheight = .15,cellwidth = 30,\n",
    "         col=colorRampPalette(c(\"royalblue3\",\"white\",\"firebrick3\"))(500))"
   ]
  },
  {
   "cell_type": "code",
   "execution_count": null,
   "id": "ba9253f8",
   "metadata": {
    "tags": []
   },
   "outputs": [],
   "source": [
    "options(repr.plot.width=2.5,repr.plot.height=4)\n",
    "pdf(\"../../../FINAL_figures/RGiPCeN_IO_clusterG1_RNAseq.pdf\",width=2.5,height=4)\n",
    "ComplexHeatmap::pheatmap(G1.RNA.adjust[,c(8,9,10)],\n",
    "         breaks=c(-1,2),right_annotation = G1.ha,\n",
    "         cluster_cols = F,cluster_rows = F,cellheight = .15,cellwidth = 30,\n",
    "         col=colorRampPalette(c(\"white\",\"slategray2\",\"midnightblue\"))(500)\n",
    "         )\n",
    "dev.off()\n",
    "\n",
    "pdf(\"../../../FINAL_figures/RGiPCeN_IO_clusterG1_interactiveScore.pdf\",width=2.5,height=4)\n",
    "ComplexHeatmap::pheatmap(G1.RNA.adjust[,c(4:6)],\n",
    "         breaks=c(0,40),annotation_row=dplyr::left_join(G1.RNA.adjust,markPE,by=c(\"c\"=\"V1\",\"s\"=\"V2\",\"e\"=\"V3\")) %>% \n",
    "                         select(CRE),annotation_colors=ann_colors,\n",
    "         cluster_cols = F,cluster_rows = F,cellheight = .15,cellwidth = 30,\n",
    "         col=colorRampPalette(c(\"royalblue3\",\"white\",\"firebrick3\"))(500)\n",
    "         )\n",
    "dev.off()"
   ]
  },
  {
   "cell_type": "code",
   "execution_count": null,
   "id": "d1e66169",
   "metadata": {},
   "outputs": [],
   "source": [
    "pdf(\"../../../FINAL_figures/RGiPCeN_IO_clusterG2_RNAseq.pdf\",width=2.5,height=4)\n",
    "ComplexHeatmap::pheatmap(G2.RNA.adjust[,c(8,9,10)],\n",
    "         breaks=c(-1,2),right_annotation = G2.ha,\n",
    "         cluster_cols = F,cluster_rows = F,cellheight = .3,cellwidth = 30,\n",
    "         col=colorRampPalette(c(\"white\",\"slategray2\",\"midnightblue\"))(500)\n",
    "         )\n",
    "dev.off()\n",
    "\n",
    "pdf(\"../../../FINAL_figures/RGiPCeN_IO_clusterG2_interactiveScore.pdf\",width=2.5,height=4)\n",
    "ComplexHeatmap::pheatmap(G2.RNA.adjust[,c(4:6)],\n",
    "         breaks=c(0,40),annotation_row=dplyr::left_join(G2.RNA.adjust,markPE,by=c(\"c\"=\"V1\",\"s\"=\"V2\",\"e\"=\"V3\")) %>% \n",
    "                         select(CRE),annotation_colors=ann_colors,\n",
    "         cluster_cols = F,cluster_rows = F,cellheight = .3,cellwidth = 30,\n",
    "         col=colorRampPalette(c(\"royalblue3\",\"white\",\"firebrick3\"))(500)\n",
    "         )\n",
    "dev.off()"
   ]
  },
  {
   "cell_type": "code",
   "execution_count": null,
   "id": "22a7f2c9",
   "metadata": {},
   "outputs": [],
   "source": [
    "pdf(\"../../../FINAL_figures/RGiPCeN_IO_clusterG3_RNAseq.pdf\",width=2.5,height=4)\n",
    "ComplexHeatmap::pheatmap(G3.RNA.adjust[,c(8,9,10)],\n",
    "         breaks=c(-1,2),right_annotation = G3.ha,\n",
    "         cluster_cols = F,cluster_rows = F,cellheight = .3,cellwidth = 30,\n",
    "         col=colorRampPalette(c(\"white\",\"slategray2\",\"midnightblue\"))(500)\n",
    "         )\n",
    "dev.off()\n",
    "\n",
    "pdf(\"../../../FINAL_figures/RGiPCeN_IO_clusterG3_interactiveScore.pdf\",width=2.5,height=4)\n",
    "ComplexHeatmap::pheatmap(G3.RNA.adjust[,c(4:6)],\n",
    "         breaks=c(0,40),annotation_row=dplyr::left_join(G3.RNA.adjust,markPE,by=c(\"c\"=\"V1\",\"s\"=\"V2\",\"e\"=\"V3\")) %>% \n",
    "                         select(CRE),annotation_colors=ann_colors,\n",
    "         cluster_cols = F,cluster_rows = F,cellheight = .3,cellwidth = 30,\n",
    "         col=colorRampPalette(c(\"royalblue3\",\"white\",\"firebrick3\"))(500)\n",
    "         )\n",
    "dev.off()"
   ]
  },
  {
   "cell_type": "code",
   "execution_count": 252,
   "id": "349d1c62",
   "metadata": {},
   "outputs": [],
   "source": [
    "G1.RNA.adjust <- G1.RNA.adjust %>% mutate(exp=\"G1\")\n",
    "G2.RNA.adjust <- G2.RNA.adjust %>% mutate(exp=\"G2\")\n",
    "G3.RNA.adjust <- G3.RNA.adjust %>% mutate(exp=\"G3\")"
   ]
  },
  {
   "cell_type": "code",
   "execution_count": 328,
   "id": "49b01a07",
   "metadata": {},
   "outputs": [],
   "source": [
    "RNAplotDF <- rbind(G1.RNA.adjust[,c(7,11,15)] %>% \n",
    "      set_names(\"symbol\",\"logCPM\",\"Group\") %>% mutate(exp=\"RG\"),\n",
    "                   G1.RNA.adjust[,c(7,12,15)] %>% \n",
    "      set_names(\"symbol\",\"logCPM\",\"Group\") %>% mutate(exp=\"iPC\"),\n",
    "                   G1.RNA.adjust[,c(7,13,15)] %>% \n",
    "      set_names(\"symbol\",\"logCPM\",\"Group\") %>% mutate(exp=\"eN\"),\n",
    "                   G2.RNA.adjust[,c(7,11,15)] %>% \n",
    "      set_names(\"symbol\",\"logCPM\",\"Group\") %>% mutate(exp=\"RG\"),\n",
    "                   G2.RNA.adjust[,c(7,12,15)] %>% \n",
    "      set_names(\"symbol\",\"logCPM\",\"Group\") %>% mutate(exp=\"iPC\"),\n",
    "                   G2.RNA.adjust[,c(7,13,15)] %>% \n",
    "      set_names(\"symbol\",\"logCPM\",\"Group\") %>% mutate(exp=\"eN\"),\n",
    "                   G3.RNA.adjust[,c(7,11,15)] %>% \n",
    "      set_names(\"symbol\",\"logCPM\",\"Group\") %>% mutate(exp=\"RG\"),\n",
    "                   G3.RNA.adjust[,c(7,12,15)] %>% \n",
    "      set_names(\"symbol\",\"logCPM\",\"Group\") %>% mutate(exp=\"iPC\"),\n",
    "                   G3.RNA.adjust[,c(7,13,15)] %>% \n",
    "      set_names(\"symbol\",\"logCPM\",\"Group\") %>% mutate(exp=\"eN\")\n",
    "                   \n",
    "      )"
   ]
  },
  {
   "cell_type": "code",
   "execution_count": 258,
   "id": "2d0e8942",
   "metadata": {},
   "outputs": [
    {
     "data": {
      "text/html": [
       "<style>\n",
       ".list-inline {list-style: none; margin:0; padding: 0}\n",
       ".list-inline>li {display: inline-block}\n",
       ".list-inline>li:not(:last-child)::after {content: \"\\00b7\"; padding: 0 .5ex}\n",
       "</style>\n",
       "<ol class=list-inline><li>1410</li><li>16</li></ol>\n"
      ],
      "text/latex": [
       "\\begin{enumerate*}\n",
       "\\item 1410\n",
       "\\item 16\n",
       "\\end{enumerate*}\n"
      ],
      "text/markdown": [
       "1. 1410\n",
       "2. 16\n",
       "\n",
       "\n"
      ],
      "text/plain": [
       "[1] 1410   16"
      ]
     },
     "metadata": {},
     "output_type": "display_data"
    },
    {
     "data": {
      "text/html": [
       "<style>\n",
       ".list-inline {list-style: none; margin:0; padding: 0}\n",
       ".list-inline>li {display: inline-block}\n",
       ".list-inline>li:not(:last-child)::after {content: \"\\00b7\"; padding: 0 .5ex}\n",
       "</style>\n",
       "<ol class=list-inline><li>291</li><li>16</li></ol>\n"
      ],
      "text/latex": [
       "\\begin{enumerate*}\n",
       "\\item 291\n",
       "\\item 16\n",
       "\\end{enumerate*}\n"
      ],
      "text/markdown": [
       "1. 291\n",
       "2. 16\n",
       "\n",
       "\n"
      ],
      "text/plain": [
       "[1] 291  16"
      ]
     },
     "metadata": {},
     "output_type": "display_data"
    },
    {
     "data": {
      "text/html": [
       "<style>\n",
       ".list-inline {list-style: none; margin:0; padding: 0}\n",
       ".list-inline>li {display: inline-block}\n",
       ".list-inline>li:not(:last-child)::after {content: \"\\00b7\"; padding: 0 .5ex}\n",
       "</style>\n",
       "<ol class=list-inline><li>202</li><li>16</li></ol>\n"
      ],
      "text/latex": [
       "\\begin{enumerate*}\n",
       "\\item 202\n",
       "\\item 16\n",
       "\\end{enumerate*}\n"
      ],
      "text/markdown": [
       "1. 202\n",
       "2. 16\n",
       "\n",
       "\n"
      ],
      "text/plain": [
       "[1] 202  16"
      ]
     },
     "metadata": {},
     "output_type": "display_data"
    }
   ],
   "source": [
    "dim(G1.RNA.adjust)\n",
    "dim(G2.RNA.adjust)\n",
    "dim(G3.RNA.adjust)"
   ]
  },
  {
   "cell_type": "code",
   "execution_count": 330,
   "id": "cb10012f",
   "metadata": {},
   "outputs": [],
   "source": [
    "library(ggforce)"
   ]
  },
  {
   "cell_type": "code",
   "execution_count": 329,
   "id": "1bb48fcd",
   "metadata": {},
   "outputs": [
    {
     "data": {
      "image/png": "[encoded data removed]",
      "text/plain": [
       "plot without title"
      ]
     },
     "metadata": {
      "image/png": {
       "height": 300,
       "width": 360
      }
     },
     "output_type": "display_data"
    }
   ],
   "source": [
    "options(repr.plot.width=6,repr.plot.height=5)\n",
    "ggplot(data = RNAplotDF %>% mutate(exp=factor(RNAplotDF$exp,levels=c(\"RG\",\"iPC\",\"eN\"))),\n",
    "       aes(x = Group, y = logCPM, color = exp)) +\n",
    "  #geom_violin()+\n",
    "  geom_boxplot(width=0.5,\n",
    "               position = position_dodge(.6))+\n",
    "  scale_color_manual(values = c(\"royalblue\",\"gold\",\"forestgreen\"))+\n",
    "#coord_cartesian(ylim = c(0,8))+\n",
    "#geom_jitter(size=.1)+\n",
    "#geom_sina(size=0.01,alpha=1)+\n",
    "  theme_classic()"
   ]
  },
  {
   "cell_type": "code",
   "execution_count": 282,
   "id": "48fd1163",
   "metadata": {},
   "outputs": [],
   "source": [
    "exp <-rbind(G1.RNA.adjust %>% filter(exp==\"G1\") %>% \n",
    "select(V8,logRG,logIPC,logeN) %>% distinct() %>% \n",
    "mutate(cell=\"RG\"),\n",
    "G2.RNA.adjust %>% filter(exp==\"G2\") %>% \n",
    "select(V8,logRG,logIPC,logeN) %>% distinct() %>% \n",
    "mutate(cell=\"IPC\"),\n",
    "G3.RNA.adjust %>% filter(exp==\"G3\") %>% \n",
    "select(V8,logRG,logIPC,logeN) %>% distinct() %>% \n",
    "mutate(cell=\"EN\"))"
   ]
  },
  {
   "cell_type": "code",
   "execution_count": 288,
   "id": "b63b8f56",
   "metadata": {},
   "outputs": [],
   "source": [
    "exp.plotDF <- rbind(exp[,c(1,2,5)] %>% set_names(\"symbol\",\"logCPM\",\"cell\")%>% mutate(RNA=\"RG\"),\n",
    "                    exp[,c(1,3,5)] %>% set_names(\"symbol\",\"logCPM\",\"cell\")%>% mutate(RNA=\"IPC\"),\n",
    "                    exp[,c(1,4,5)] %>% set_names(\"symbol\",\"logCPM\",\"cell\")%>% mutate(RNA=\"EN\")\n",
    "                    )"
   ]
  },
  {
   "cell_type": "code",
   "execution_count": 294,
   "id": "ccb72552",
   "metadata": {},
   "outputs": [],
   "source": [
    "exp.plotDF$cell <- factor(exp.plotDF$cell,levels=c(\"RG\",\"IPC\",\"EN\"))\n",
    "exp.plotDF$RNA <- factor(exp.plotDF$RNA,levels=c(\"RG\",\"IPC\",\"EN\"))"
   ]
  },
  {
   "cell_type": "code",
   "execution_count": 1,
   "id": "61c76a39",
   "metadata": {},
   "outputs": [
    {
     "ename": "ERROR",
     "evalue": "Error in ggplot(data = exp.plotDF, aes(x = cell, y = logCPM, color = RNA)): 没有\"ggplot\"这个函数\n",
     "output_type": "error",
     "traceback": [
      "Error in ggplot(data = exp.plotDF, aes(x = cell, y = logCPM, color = RNA)): 没有\"ggplot\"这个函数\nTraceback:\n"
     ]
    }
   ],
   "source": [
    "options(repr.plot.width=5,repr.plot.height=4)\n",
    "ggplot(data = exp.plotDF,\n",
    "       aes(x = cell, y = logCPM, color = RNA)) +\n",
    "  #geom_violin()+\n",
    "  geom_boxplot(width=0.5,outlier.size = 0.6,\n",
    "               position = position_dodge(.6))+\n",
    "  scale_color_manual(values = c(\"royalblue\",\"orange\",\"forestgreen\"))+\n",
    "#coord_cartesian(ylim = c(0,8))+\n",
    "#geom_jitter(size=.05)+\n",
    "#geom_sina(size=0.01,alpha=1)+\n",
    "  theme_classic()\n",
    "ggsave(\"../../../FINAL_figures/humanBrain_RGIPCEN_SIORelgenelogCPM.boxplot.pdf\",width=5,height=4)"
   ]
  },
  {
   "cell_type": "code",
   "execution_count": 315,
   "id": "b3ba86e1",
   "metadata": {},
   "outputs": [
    {
     "data": {
      "text/plain": [
       "\n",
       "\tWilcoxon rank sum test with continuity correction\n",
       "\n",
       "data:  exp %>% filter(cell == \"RG\") %>% .$logRG and exp %>% filter(cell == \"RG\") %>% .$logIPC\n",
       "W = 654691, p-value = 0.0009642\n",
       "alternative hypothesis: true location shift is greater than 0\n"
      ]
     },
     "metadata": {},
     "output_type": "display_data"
    },
    {
     "data": {
      "text/plain": [
       "\n",
       "\tWilcoxon rank sum test with continuity correction\n",
       "\n",
       "data:  exp %>% filter(cell == \"RG\") %>% .$logRG and exp %>% filter(cell == \"RG\") %>% .$logeN\n",
       "W = 653374, p-value = 0.001294\n",
       "alternative hypothesis: true location shift is greater than 0\n"
      ]
     },
     "metadata": {},
     "output_type": "display_data"
    }
   ],
   "source": [
    "wilcox.test(exp %>% filter(cell==\"RG\") %>% .$logRG,\n",
    "            exp %>% filter(cell==\"RG\") %>% .$logIPC,alternative=\"greater\")\n",
    "wilcox.test(exp %>% filter(cell==\"RG\") %>% .$logRG,\n",
    "            exp %>% filter(cell==\"RG\") %>% .$logeN,alternative=\"greater\")"
   ]
  },
  {
   "cell_type": "code",
   "execution_count": 316,
   "id": "57fb675d",
   "metadata": {},
   "outputs": [
    {
     "data": {
      "text/plain": [
       "\n",
       "\tWilcoxon rank sum test with continuity correction\n",
       "\n",
       "data:  exp %>% filter(cell == \"IPC\") %>% .$logIPC and exp %>% filter(cell == \"IPC\") %>% .$logRG\n",
       "W = 31813, p-value = 0.2532\n",
       "alternative hypothesis: true location shift is greater than 0\n"
      ]
     },
     "metadata": {},
     "output_type": "display_data"
    },
    {
     "data": {
      "text/plain": [
       "\n",
       "\tWilcoxon rank sum test with continuity correction\n",
       "\n",
       "data:  exp %>% filter(cell == \"IPC\") %>% .$logIPC and exp %>% filter(cell == \"IPC\") %>% .$logeN\n",
       "W = 31638, p-value = 0.2896\n",
       "alternative hypothesis: true location shift is greater than 0\n"
      ]
     },
     "metadata": {},
     "output_type": "display_data"
    }
   ],
   "source": [
    "wilcox.test(exp %>% filter(cell==\"IPC\") %>% .$logIPC,\n",
    "            exp %>% filter(cell==\"IPC\") %>% .$logRG,alternative=\"greater\")\n",
    "wilcox.test(exp %>% filter(cell==\"IPC\") %>% .$logIPC,\n",
    "            exp %>% filter(cell==\"IPC\") %>% .$logeN,alternative=\"greater\")"
   ]
  },
  {
   "cell_type": "code",
   "execution_count": 320,
   "id": "4fbdcf9a",
   "metadata": {},
   "outputs": [
    {
     "data": {
      "text/plain": [
       "\n",
       "\tWilcoxon rank sum test with continuity correction\n",
       "\n",
       "data:  exp %>% filter(cell == \"EN\") %>% .$logeN and exp %>% filter(cell == \"EN\") %>% .$logRG\n",
       "W = 16020, p-value = 0.01607\n",
       "alternative hypothesis: true location shift is greater than 0\n"
      ]
     },
     "metadata": {},
     "output_type": "display_data"
    },
    {
     "data": {
      "text/plain": [
       "\n",
       "\tWilcoxon rank sum test with continuity correction\n",
       "\n",
       "data:  exp %>% filter(cell == \"EN\") %>% .$logeN and exp %>% filter(cell == \"EN\") %>% .$logIPC\n",
       "W = 15679, p-value = 0.03924\n",
       "alternative hypothesis: true location shift is greater than 0\n"
      ]
     },
     "metadata": {},
     "output_type": "display_data"
    }
   ],
   "source": [
    "wilcox.test(exp %>% filter(cell==\"EN\") %>% .$logeN,\n",
    "            exp %>% filter(cell==\"EN\") %>% .$logRG,alternative=\"greater\")\n",
    "wilcox.test(exp %>% filter(cell==\"EN\") %>% .$logeN,\n",
    "            exp %>% filter(cell==\"EN\") %>% .$logIPC,alternative=\"greater\")"
   ]
  },
  {
   "cell_type": "code",
   "execution_count": 324,
   "id": "6098bff9",
   "metadata": {},
   "outputs": [
    {
     "data": {
      "text/plain": [
       "\n",
       "\tWilcoxon rank sum test with continuity correction\n",
       "\n",
       "data:  G1.RNA.adjust$logRG and G1.RNA.adjust$logIPC\n",
       "W = 1079803, p-value = 3.644e-05\n",
       "alternative hypothesis: true location shift is greater than 0\n"
      ]
     },
     "metadata": {},
     "output_type": "display_data"
    },
    {
     "data": {
      "text/plain": [
       "\n",
       "\tWilcoxon rank sum test with continuity correction\n",
       "\n",
       "data:  G1.RNA.adjust$logRG and G1.RNA.adjust$logeN\n",
       "W = 1071150, p-value = 0.000181\n",
       "alternative hypothesis: true location shift is greater than 0\n"
      ]
     },
     "metadata": {},
     "output_type": "display_data"
    }
   ],
   "source": [
    "wilcox.test(G1.RNA.adjust$logRG,G1.RNA.adjust$logIPC,alternative = \"greater\")\n",
    "wilcox.test(G1.RNA.adjust$logRG,G1.RNA.adjust$logeN,alternative = \"greater\")"
   ]
  },
  {
   "cell_type": "code",
   "execution_count": 327,
   "id": "e96118e3",
   "metadata": {},
   "outputs": [
    {
     "name": "stderr",
     "output_type": "stream",
     "text": [
      "\n",
      "\n",
      "Registered S3 method overwritten by 'ggtree':\n",
      "  method      from \n",
      "  identify.gg ggfun\n",
      "\n",
      "clusterProfiler v4.2.2  For help: https://yulab-smu.top/biomedical-knowledge-mining-book/\n",
      "\n",
      "If you use clusterProfiler in published research, please cite:\n",
      "T Wu, E Hu, S Xu, M Chen, P Guo, Z Dai, T Feng, L Zhou, W Tang, L Zhan, X Fu, S Liu, X Bo, and G Yu. clusterProfiler 4.0: A universal enrichment tool for interpreting omics data. The Innovation. 2021, 2(3):100141\n",
      "\n",
      "\n",
      "载入程辑包：‘clusterProfiler’\n",
      "\n",
      "\n",
      "The following object is masked from ‘package:IRanges’:\n",
      "\n",
      "    slice\n",
      "\n",
      "\n",
      "The following object is masked from ‘package:S4Vectors’:\n",
      "\n",
      "    rename\n",
      "\n",
      "\n",
      "The following object is masked from ‘package:purrr’:\n",
      "\n",
      "    simplify\n",
      "\n",
      "\n",
      "The following object is masked from ‘package:stats’:\n",
      "\n",
      "    filter\n",
      "\n",
      "\n",
      "DOSE v3.20.1  For help: https://yulab-smu.top/biomedical-knowledge-mining-book/\n",
      "\n",
      "If you use DOSE in published research, please cite:\n",
      "Guangchuang Yu, Li-Gen Wang, Guang-Rong Yan, Qing-Yu He. DOSE: an R/Bioconductor package for Disease Ontology Semantic and Enrichment analysis. Bioinformatics 2015, 31(4):608-609\n",
      "\n",
      "\n"
     ]
    }
   ],
   "source": [
    "library(gprofiler2)\n",
    "library(clusterProfiler)\n",
    "library(enrichplot)\n",
    "library(DOSE)"
   ]
  },
  {
   "cell_type": "code",
   "execution_count": null,
   "id": "b2cd2247",
   "metadata": {},
   "outputs": [],
   "source": [
    "G1res <- gost(query = unique(G1.RNA.adjust$V8),\n",
    "organism = \"hsapiens\")\n",
    "G2res <- gost(query = unique(G2.RNA.adjust$V8),\n",
    "organism = \"hsapiens\")\n",
    "G3res <- gost(query = unique(G3.RNA.adjust$V8),\n",
    "organism = \"hsapiens\")"
   ]
  },
  {
   "cell_type": "code",
   "execution_count": null,
   "id": "e96cc94c",
   "metadata": {},
   "outputs": [],
   "source": [
    "G1res$result %>% filter(source ==\"GO:BP\") %>% \n",
    "arrange(p_value) %>%  \n",
    "filter(term_size <= 5000) %>% \n",
    "select(p_value,source,term_size,term_name,intersection_size,term_id,p_value) %>%\n",
    "distinct() %>% head()"
   ]
  },
  {
   "cell_type": "code",
   "execution_count": null,
   "id": "fe77b9b6",
   "metadata": {},
   "outputs": [],
   "source": [
    "RNA <- RNA %>% mutate(logRG=log2(RG+1),logIPC=log2(IPC+1),logeN=log2(eN+1))"
   ]
  },
  {
   "cell_type": "code",
   "execution_count": null,
   "id": "8dcd5615",
   "metadata": {},
   "outputs": [],
   "source": [
    "allRG.exp.gene <- RNA %>% filter(RG>0.5) %>% .$symbol %>% unique()\n",
    "RG.exp.withoutSIO <- setdiff(allRG.exp.gene,unique(G1.RNA.adjust$V8))"
   ]
  },
  {
   "cell_type": "code",
   "execution_count": null,
   "id": "f1cd08d7",
   "metadata": {},
   "outputs": [],
   "source": [
    "options(repr.plot.width=6,repr.plot.height=3)\n",
    "gostplot(G1res, capped = T, interactive = F)"
   ]
  },
  {
   "cell_type": "markdown",
   "id": "88acdfac",
   "metadata": {},
   "source": [
    "## enrich analysis"
   ]
  },
  {
   "cell_type": "code",
   "execution_count": null,
   "id": "745a77c9",
   "metadata": {},
   "outputs": [],
   "source": [
    "RG.sio_names = gconvert(unique(G1.RNA.adjust$V8))\n",
    "IPC.sio_names = gconvert(unique(G2.RNA.adjust$V8))\n",
    "eN.sio_names = gconvert(unique(G3.RNA.adjust$V8))"
   ]
  },
  {
   "cell_type": "code",
   "execution_count": null,
   "id": "1a2534bb",
   "metadata": {},
   "outputs": [],
   "source": [
    "Groups.multi_gp = gost(list(\"RG\" = RG.sio_names$name,\n",
    "                            \"iPC\" = IPC.sio_names$name,\n",
    "                            \"eN\" = eN.sio_names$name), \n",
    "                       multi_query = FALSE, evcodes = TRUE)"
   ]
  },
  {
   "cell_type": "code",
   "execution_count": null,
   "id": "70ec1208",
   "metadata": {},
   "outputs": [],
   "source": [
    "# modify the g:Profiler data frame\n",
    "gp_mod =Groups.multi_gp$result[,c(\"query\", \"source\", \"term_id\",\n",
    "                                \"term_name\", \"p_value\", \"query_size\", \n",
    "                                \"intersection_size\", \"term_size\", \n",
    "                                \"effective_domain_size\", \"intersection\")]\n",
    "gp_mod$GeneRatio = paste0(gp_mod$intersection_size,  \"/\", gp_mod$query_size)\n",
    "gp_mod$BgRatio = paste0(gp_mod$term_size, \"/\", gp_mod$effective_domain_size)\n",
    "names(gp_mod) = c(\"Cluster\", \"Category\", \"ID\", \"Description\", \"p.adjust\", \n",
    "                    \"query_size\", \"Count\", \"term_size\", \"effective_domain_size\", \n",
    "                    \"geneID\", \"GeneRatio\", \"BgRatio\")\n",
    "gp_mod$geneID = gsub(\",\", \"/\", gp_mod$geneID)\n",
    "row.names(gp_mod) = paste0(gp_mod$ID,\"-\",gp_mod$Cluster)\n"
   ]
  },
  {
   "cell_type": "code",
   "execution_count": null,
   "id": "5535349b",
   "metadata": {},
   "outputs": [],
   "source": [
    "# define as compareClusterResult object\n",
    "gp_mod_cluster.BP = new(\"compareClusterResult\", \n",
    "                     compareClusterResult = gp_mod %>% \n",
    "                     filter(Category==\"GO:BP\"))\n",
    "gp_mod_cluster.TF = new(\"compareClusterResult\", \n",
    "                     compareClusterResult = gp_mod %>% \n",
    "                     filter(Category==\"TF\"))"
   ]
  },
  {
   "cell_type": "code",
   "execution_count": null,
   "id": "d9dcf7af",
   "metadata": {},
   "outputs": [],
   "source": [
    "options(repr.plot.width=4,repr.plot.height=4)\n",
    "enrichplot::dotplot(gp_mod_cluster.BP) + theme_classic() #+ \n",
    "#scale_color_gradientn(colours=c(\"blue\",\"white\",\"red\"))\n",
    "#scale_color_distiller(palette = \"Spectral\")\n",
    "ggsave(\"../../../FINAL_figures/RGiPCeN_SIO_Gprofiler.BP.pdf\",height = 4,width=4)"
   ]
  }
 ],
 "metadata": {
  "kernelspec": {
   "display_name": "Python 3 (ipykernel)",
   "language": "python",
   "name": "python3"
  },
  "language_info": {
   "codemirror_mode": {
    "name": "ipython",
    "version": 3
   },
   "file_extension": ".py",
   "mimetype": "text/x-python",
   "name": "python",
   "nbconvert_exporter": "python",
   "pygments_lexer": "ipython3",
   "version": "3.10.12"
  },
  "toc-autonumbering": false,
  "toc-showcode": false,
  "toc-showmarkdowntxt": false,
  "toc-showtags": false
 },
 "nbformat": 4,
 "nbformat_minor": 5
}
