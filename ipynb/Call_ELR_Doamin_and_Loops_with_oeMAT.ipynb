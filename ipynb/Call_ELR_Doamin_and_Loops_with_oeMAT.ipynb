{
 "cells": [
  {
   "cell_type": "markdown",
   "id": "1a3d2a83",
   "metadata": {},
   "source": [
    "# SetUP"
   ]
  },
  {
   "cell_type": "code",
   "execution_count": 13,
   "id": "46d984c3",
   "metadata": {},
   "outputs": [],
   "source": [
    "setwd(\"/lustre/user/liclab/jialm/Project/SCOPEC/analysis/stripes/res/allhumanBrain_1k_PFC_V1/\")"
   ]
  },
  {
   "cell_type": "code",
   "execution_count": 14,
   "id": "ff43ba69",
   "metadata": {},
   "outputs": [],
   "source": [
    "suppressPackageStartupMessages({\n",
    "library(dplyr)\n",
    "library(tidyverse)\n",
    "library(data.table)\n",
    "library(ggplot2)\n",
    "library(edgeR)\n",
    "library(RColorBrewer)\n",
    "library(GenomicRanges)\n",
    "library(ComplexHeatmap)\n",
    "library(HiTC)\n",
    "#library(Signac)\n",
    "#library(rtracklayer)\n",
    "#library(igraph)\n",
    "})"
   ]
  },
  {
   "cell_type": "markdown",
   "id": "3d2c6877",
   "metadata": {},
   "source": [
    "# Function"
   ]
  },
  {
   "cell_type": "code",
   "execution_count": 15,
   "id": "59316049",
   "metadata": {},
   "outputs": [],
   "source": [
    "AggregateMat <- function(loops,mat,...){\n",
    "    lapply(1:dim(loops)[1],function(i){\n",
    "        chrom=paste0(loops[i,1],loops[i,1])\n",
    "        matID=which(names(mat)==chrom)\n",
    "        id=loops[i,7]\n",
    "        L=loops[i,8]\n",
    "        R=loops[i,9]\n",
    "        x=which(colnames(mat[[matID]])==L)\n",
    "        y=which(colnames(mat[[matID]])==R)\n",
    "        if(x-5>0&y-5>0&y+5<=dim(mat[[matID]])[1]&x+5<=dim(mat[[matID]])[1]){\n",
    "        center <- mat[[matID]][(x-1):(x+1),(y-1):(y+1)]\n",
    "        BL <- mat[[matID]][(x-5):(x-1),(y-5):(y-1)]\n",
    "        BL[1,5] <-0\n",
    "        ST<- mat[[matID]][(x-1):(x+1),(y+2):(y+5)]\n",
    "        SB<- mat[[matID]][(x-1):(x+1),(y-5):(y-2)]\n",
    "        SL<- mat[[matID]][(x-5):(x-2),(y-1):(y+1)]\n",
    "        SR<- mat[[matID]][(x+2):(x+5),(y-1):(y+1)]\n",
    "        #print(id)\n",
    "        #print(sum(center))\n",
    "        #print(sum(BL))\n",
    "        #print(sum(center)/sum(BL))\n",
    "        res <- data.frame(ID=id,\n",
    "                          Center=sum(center)/9,\n",
    "                          BL=sum(BL)/24,\n",
    "                          ST=sum(ST)/12,\n",
    "                          SB=sum(SB)/12,\n",
    "                          SL=sum(SL)/12,\n",
    "                          SR=sum(SR)/12\n",
    "                          )}else{\n",
    "        center <- mat[[matID]][(x-1):(x+1),(y-1):(y+1)]\n",
    "        res <- data.frame(ID=id,\n",
    "                          Center=sum(center)/9,\n",
    "                          BL=NA,\n",
    "                          ST=NA,\n",
    "                          SB=NA,\n",
    "                          SL=NA,\n",
    "                          SR=NA)}  \n",
    "        return(res)})\n",
    "}"
   ]
  },
  {
   "cell_type": "code",
   "execution_count": 16,
   "id": "ff0d2a50",
   "metadata": {},
   "outputs": [],
   "source": [
    "makeAPA <- function(loops,mat,...){\n",
    "    lapply(1:dim(loops)[1],function(i){\n",
    "        chrom=paste0(loops[i,1],loops[i,1])\n",
    "        matID=which(names(mat)==chrom)\n",
    "        id=loops[i,7]\n",
    "        L=loops[i,8]\n",
    "        R=loops[i,9]\n",
    "        x=which(colnames(mat[[matID]])==L)\n",
    "        y=which(colnames(mat[[matID]])==R)\n",
    "        if(x-5>0&y-5>0&y+5<=dim(mat[[matID]])[1]&x+5<=dim(mat[[matID]])[1]){\n",
    "          res <- mat[[matID]][(x-5):(x+5),(y-5):(y+5)]  \n",
    "        }else(res <- matrix(0,11,11))  \n",
    "        return(res)})\n",
    "    \n",
    "}"
   ]
  },
  {
   "cell_type": "markdown",
   "id": "fc5eb70f",
   "metadata": {},
   "source": [
    "# Load Data"
   ]
  },
  {
   "cell_type": "code",
   "execution_count": 30,
   "id": "78c2cc48",
   "metadata": {},
   "outputs": [],
   "source": [
    "dat <- read.table(\"./human_1K-PFC_V1_merge.RG.iPC.eN.iN.stripes.PFC.RG.counts.sta\") %>% filter(V3-V2==50000 | V6-V5==50000) "
   ]
  },
  {
   "cell_type": "code",
   "execution_count": 575,
   "id": "22f0809f",
   "metadata": {},
   "outputs": [],
   "source": [
    "eNrawMAT <- readRDS(\"../../../../cleanData/rawMAT/humanBrain_1k_PFCV1_merge/humanBrain_PFCV1_1K_eN.50.raw.mat.RDS\")\n",
    "RGrawMAT <- readRDS(\"../../../../cleanData/rawMAT/humanBrain_1k_PFCV1_merge/humanBrain_PFCV1_1K_RG.50.raw.mat.RDS\")"
   ]
  },
  {
   "cell_type": "code",
   "execution_count": 17,
   "id": "2255d66a",
   "metadata": {},
   "outputs": [],
   "source": [
    "CP.oe <- readRDS(\"../../../../cleanData/oeMAT/human_pubHiC-fromyt/CP.50.oe.mat.RDS\")\n",
    "GZ.oe <- readRDS(\"../../../../cleanData/oeMAT/human_pubHiC-fromyt/GZ.50.oe.mat.RDS\")"
   ]
  },
  {
   "cell_type": "code",
   "execution_count": 18,
   "id": "0a62605a",
   "metadata": {},
   "outputs": [],
   "source": [
    "idx <- read.table(\"../../../../../../Annotation/genomeBin/eN.all.allValidPairs.hic.50kb.idx.bed\")"
   ]
  },
  {
   "cell_type": "code",
   "execution_count": 578,
   "id": "f47889b1",
   "metadata": {},
   "outputs": [],
   "source": [
    "eNrawMAT.hitc <- dplyr::inner_join(eNrawMAT,idx,by=c(\"seqnames\"=\"V1\",\"V1\"=\"V2\")) %>% \n",
    "dplyr::inner_join(.,idx,by=c(\"seqnames\"=\"V1\",\"V2\"=\"V2\")) %>% select(V4.x,V4.y,V3.x)\n",
    "RGrawMAT.hitc <- dplyr::inner_join(RGrawMAT,idx,by=c(\"seqnames\"=\"V1\",\"V1\"=\"V2\")) %>% \n",
    "dplyr::inner_join(.,idx,by=c(\"seqnames\"=\"V1\",\"V2\"=\"V2\")) %>% select(V4.x,V4.y,V3.x)"
   ]
  },
  {
   "cell_type": "code",
   "execution_count": 24,
   "id": "749f0118",
   "metadata": {},
   "outputs": [],
   "source": [
    "CP.oe.hitc <- dplyr::inner_join(CP.oe,idx,by=c(\"seqnames\"=\"V1\",\"V1\"=\"V2\")) %>% \n",
    "dplyr::inner_join(.,idx,by=c(\"seqnames\"=\"V1\",\"V2\"=\"V2\")) %>% select(V4.x,V4.y,V3.x) %>% filter(!is.na(V3.x))\n",
    "GZ.oe.hitc <- dplyr::inner_join(GZ.oe,idx,by=c(\"seqnames\"=\"V1\",\"V1\"=\"V2\")) %>% \n",
    "dplyr::inner_join(.,idx,by=c(\"seqnames\"=\"V1\",\"V2\"=\"V2\")) %>% select(V4.x,V4.y,V3.x) %>% filter(!is.na(V3.x))"
   ]
  },
  {
   "cell_type": "code",
   "execution_count": 580,
   "id": "b8dfb68b",
   "metadata": {},
   "outputs": [],
   "source": [
    "write.table(eNrawMAT.hitc,\"../../../../cleanData/rawMAT/humanBrain_1k_PFCV1_merge/humanBrain_PFCV1_1K_eN.50.raw.hicpro.mat\",\n",
    "           ,col.names = F,row.names = F,sep=\"\\t\",quote=F)\n",
    "write.table(RGrawMAT.hitc,\"../../../../cleanData/rawMAT/humanBrain_1k_PFCV1_merge/humanBrain_PFCV1_1K_RG.50.raw.hicpro.mat\",\n",
    "           ,col.names = F,row.names = F,sep=\"\\t\",quote=F)"
   ]
  },
  {
   "cell_type": "code",
   "execution_count": 26,
   "id": "0893fa37",
   "metadata": {},
   "outputs": [],
   "source": [
    "write.table(CP.oe.hitc,\"../../../../cleanData/oeMAT/human_pubHiC-fromyt/CP.50.oe.mat.hicpro.mat\",\n",
    "           ,col.names = F,row.names = F,sep=\"\\t\",quote=F)\n",
    "write.table(GZ.oe.hitc,\"../../../../cleanData/oeMAT/human_pubHiC-fromyt/GZ.50.oe.mat.hicpro.mat\",\n",
    "           ,col.names = F,row.names = F,sep=\"\\t\",quote=F)"
   ]
  },
  {
   "cell_type": "code",
   "execution_count": 6,
   "id": "2fe17443",
   "metadata": {},
   "outputs": [
    {
     "name": "stderr",
     "output_type": "stream",
     "text": [
      "Loading Genomic intervals ...\n",
      "\n",
      "Reading file ...\n",
      "\n",
      "Convert 'C' file in HTCexp object(s)\n",
      "\n",
      "Loading Genomic intervals ...\n",
      "\n",
      "Reading file ...\n",
      "\n",
      "Convert 'C' file in HTCexp object(s)\n",
      "\n"
     ]
    }
   ],
   "source": [
    "RGoe <- importC(con=\"../../../../cleanData/oeMAT/humanBrain_1k_PFCV1_merge/humanBrain_PFCV1_1K_RG.50.oe.hicpro.mat\",rm.trans = T,\n",
    "        xgi.bed = \"../../../../../../Annotation/genomeBin/eN.all.allValidPairs.hic.50kb.idx.bed\",\n",
    "        ygi.bed = \"../../../../../../Annotation/genomeBin/eN.all.allValidPairs.hic.50kb.idx.bed\")\n",
    "eNoe <- importC(con=\"../../../../cleanData/oeMAT/humanBrain_1k_PFCV1_merge/humanBrain_PFCV1_1K_eN.50.oe.hicpro.mat\",rm.trans = T,\n",
    "        xgi.bed = \"../../../../../../Annotation/genomeBin/eN.all.allValidPairs.hic.50kb.idx.bed\",\n",
    "        ygi.bed = \"../../../../../../Annotation/genomeBin/eN.all.allValidPairs.hic.50kb.idx.bed\")"
   ]
  },
  {
   "cell_type": "code",
   "execution_count": 28,
   "id": "20642703",
   "metadata": {},
   "outputs": [
    {
     "name": "stderr",
     "output_type": "stream",
     "text": [
      "Loading Genomic intervals ...\n",
      "\n",
      "Reading file ...\n",
      "\n",
      "Convert 'C' file in HTCexp object(s)\n",
      "\n",
      "Loading Genomic intervals ...\n",
      "\n",
      "Reading file ...\n",
      "\n",
      "Convert 'C' file in HTCexp object(s)\n",
      "\n"
     ]
    }
   ],
   "source": [
    "CPoe <- importC(con=\"../../../../cleanData/oeMAT/human_pubHiC-fromyt/CP.50.oe.mat.hicpro.mat\",rm.trans = T,\n",
    "        xgi.bed = \"../../../../../../Annotation/genomeBin/eN.all.allValidPairs.hic.50kb.idx.bed\",\n",
    "        ygi.bed = \"../../../../../../Annotation/genomeBin/eN.all.allValidPairs.hic.50kb.idx.bed\")\n",
    "GZoe <- importC(con=\"../../../../cleanData/oeMAT/human_pubHiC-fromyt/GZ.50.oe.mat.hicpro.mat\",rm.trans = T,\n",
    "        xgi.bed = \"../../../../../../Annotation/genomeBin/eN.all.allValidPairs.hic.50kb.idx.bed\",\n",
    "        ygi.bed = \"../../../../../../Annotation/genomeBin/eN.all.allValidPairs.hic.50kb.idx.bed\")"
   ]
  },
  {
   "cell_type": "code",
   "execution_count": 7,
   "id": "8d3724f2",
   "metadata": {},
   "outputs": [
    {
     "name": "stderr",
     "output_type": "stream",
     "text": [
      "Loading Genomic intervals ...\n",
      "\n",
      "Reading file ...\n",
      "\n",
      "Convert 'C' file in HTCexp object(s)\n",
      "\n",
      "Loading Genomic intervals ...\n",
      "\n",
      "Reading file ...\n",
      "\n",
      "Convert 'C' file in HTCexp object(s)\n",
      "\n"
     ]
    }
   ],
   "source": [
    "RGraw <- importC(con=\"../../../../cleanData/rawMAT/humanBrain_1k_PFCV1_merge/humanBrain_PFCV1_1K_RG.50.raw.hicpro.mat\",rm.trans = T,\n",
    "        xgi.bed = \"../../../../../../Annotation/genomeBin/eN.all.allValidPairs.hic.50kb.idx.bed\",\n",
    "        ygi.bed = \"../../../../../../Annotation/genomeBin/eN.all.allValidPairs.hic.50kb.idx.bed\")\n",
    "eNraw <- importC(con=\"../../../../cleanData/rawMAT/humanBrain_1k_PFCV1_merge/humanBrain_PFCV1_1K_eN.50.raw.hicpro.mat\",rm.trans = T,\n",
    "        xgi.bed = \"../../../../../../Annotation/genomeBin/eN.all.allValidPairs.hic.50kb.idx.bed\",\n",
    "        ygi.bed = \"../../../../../../Annotation/genomeBin/eN.all.allValidPairs.hic.50kb.idx.bed\")"
   ]
  },
  {
   "cell_type": "code",
   "execution_count": 8,
   "id": "c395237e",
   "metadata": {},
   "outputs": [],
   "source": [
    "RGoe.matrix <- lapply(RGoe, function(idx){\n",
    "  as.matrix(intdata(idx))  \n",
    "})\n",
    "eNoe.matrix <- lapply(eNoe, function(idx){\n",
    "  as.matrix(intdata(idx))  \n",
    "})"
   ]
  },
  {
   "cell_type": "code",
   "execution_count": 9,
   "id": "5222e100",
   "metadata": {},
   "outputs": [],
   "source": [
    "RGraw.matrix <- lapply(RGraw, function(idx){\n",
    "  mat <- as.matrix(intdata(idx)) \n",
    "  mat <- mat/sum(mat)*10000000\n",
    "  return(mat)\n",
    "})\n",
    "eNraw.matrix <- lapply(eNraw, function(idx){\n",
    "   mat <- as.matrix(intdata(idx)) \n",
    "   mat <- mat/sum(mat)*10000000 \n",
    "   return(mat) \n",
    "})"
   ]
  },
  {
   "cell_type": "code",
   "execution_count": 29,
   "id": "fafd58d1",
   "metadata": {},
   "outputs": [],
   "source": [
    "CPoe.matrix <- lapply(CPoe, function(idx){\n",
    "  as.matrix(intdata(idx))  \n",
    "})\n",
    "GZoe.matrix <- lapply(GZoe, function(idx){\n",
    "  as.matrix(intdata(idx))  \n",
    "})"
   ]
  },
  {
   "cell_type": "markdown",
   "id": "44b8d542",
   "metadata": {},
   "source": [
    "# Loops prepare"
   ]
  },
  {
   "cell_type": "code",
   "execution_count": 31,
   "id": "fd78c3fe",
   "metadata": {},
   "outputs": [
    {
     "name": "stderr",
     "output_type": "stream",
     "text": [
      "\u001b[1m\u001b[22m`summarise()` has grouped output by 'V1', 'V2'. You can override using the `.groups` argument.\n"
     ]
    }
   ],
   "source": [
    "L <- dat %>% \n",
    "filter(V3-V2==50000) %>% \n",
    "group_by(V1,V2,V3) %>% summarise(s=max(V6)) %>% as.data.frame() %>% select(V1,V2,s) %>% \n",
    "set_names(c(\"seqnames\",\"start\",\"end\")) %>% mutate(type=\"L\",start=start+1) %>% distinct()"
   ]
  },
  {
   "cell_type": "code",
   "execution_count": 32,
   "id": "95879822",
   "metadata": {},
   "outputs": [
    {
     "name": "stderr",
     "output_type": "stream",
     "text": [
      "\u001b[1m\u001b[22m`summarise()` has grouped output by 'V4', 'V5'. You can override using the `.groups` argument.\n"
     ]
    }
   ],
   "source": [
    "R <- dat %>% filter(V6-V5 ==50000) %>%\n",
    "group_by(V4,V5,V6) %>% summarise(s=min(V2)) %>% as.data.frame() %>% select(V4,s,V6) %>% \n",
    "set_names(c(\"seqnames\",\"start\",\"end\"))%>% mutate(type=\"R\",start=start+1)%>% distinct()"
   ]
  },
  {
   "cell_type": "code",
   "execution_count": 33,
   "id": "68944532",
   "metadata": {},
   "outputs": [],
   "source": [
    "LA <- dat %>% \n",
    "filter(V3-V2==50000)%>% select(V1,V2,V3) %>% set_names(c(\"Seqnames\",\"Start\",\"End\")) %>% mutate(Type=\"LA\",Start=Start+1)"
   ]
  },
  {
   "cell_type": "code",
   "execution_count": 34,
   "id": "491dedf6",
   "metadata": {},
   "outputs": [],
   "source": [
    "RA <- dat %>% \n",
    "filter(V6-V5==50000)%>% select(V4,V5,V6) %>% set_names(c(\"Seqnames\",\"Start\",\"End\")) %>% mutate(Type=\"RA\",Start=Start+1)"
   ]
  },
  {
   "cell_type": "code",
   "execution_count": 35,
   "id": "9501c293",
   "metadata": {},
   "outputs": [],
   "source": [
    "L.gr <- makeGRangesFromDataFrame(L)\n",
    "R.gr <- makeGRangesFromDataFrame(R)\n",
    "LA.gr <- makeGRangesFromDataFrame(LA)\n",
    "RA.gr <- makeGRangesFromDataFrame(RA)"
   ]
  },
  {
   "cell_type": "code",
   "execution_count": 36,
   "id": "1f906586",
   "metadata": {},
   "outputs": [],
   "source": [
    "L.loops.candidate <- cbind(L[queryHits(findOverlaps(L.gr,RA.gr)),],\n",
    "RA[subjectHits(findOverlaps(L.gr,RA.gr)),]) %>% filter(Start > start) %>% mutate(end=start+50000-1) %>% select(seqnames,start,end,Seqnames,Start,End) %>% distinct()"
   ]
  },
  {
   "cell_type": "code",
   "execution_count": 37,
   "id": "a5724cd1",
   "metadata": {},
   "outputs": [],
   "source": [
    "R.loops.candidate <-cbind(R[queryHits(findOverlaps(R.gr,LA.gr)),],\n",
    "LA[subjectHits(findOverlaps(R.gr,LA.gr)),]) %>% filter(End < end) %>% mutate(start=end-50000+1) %>% select(Seqnames,Start,End,seqnames,start,end) %>% distinct() %>%\n",
    "set_names(c(\"seqnames\",\"start\",\"end\",\"Seqnames\",\"Start\",\"End\"))"
   ]
  },
  {
   "cell_type": "code",
   "execution_count": 38,
   "id": "d5ee9b9b",
   "metadata": {},
   "outputs": [],
   "source": [
    "all.ELRL.candidate <- rbind(L.loops.candidate,R.loops.candidate) %>% distinct() %>% mutate(start=start-1,Start=Start-1) %>% filter(End-end >= 300000) %>% mutate(ID=1:14580) %>%\n",
    "dplyr::left_join(.,idx,by=c(\"seqnames\"=\"V1\",\"start\"=\"V2\")) %>% dplyr::left_join(.,idx,by=c(\"Seqnames\"=\"V1\",\"Start\"=\"V2\")) %>%\n",
    "select(-c(V3.x,V3.y)) %>% filter(seqnames != \"chrX\")"
   ]
  },
  {
   "cell_type": "markdown",
   "id": "7f91b0ee",
   "metadata": {},
   "source": [
    "# call loops"
   ]
  },
  {
   "cell_type": "code",
   "execution_count": null,
   "id": "ec10d713",
   "metadata": {},
   "outputs": [],
   "source": [
    "RGloops.all <- AggregateMat(all.ELRL.candidate,RGraw.matrix)\n",
    "RGloops.all.dat <- do.call(rbind,RGloops.all)\n",
    "RG.sig.ID <- RGloops.all.dat %>% filter(!is.na(ST)) %>% filter(Center >=quantile(RGloops.all.dat$Center,.3),Center/BL >=1.5,Center/ST>=1.2,Center/SB>=1.2,Center/SL>=1.2,Center/SR>=1.2) %>% .$ID"
   ]
  },
  {
   "cell_type": "code",
   "execution_count": null,
   "id": "78f18f2c",
   "metadata": {},
   "outputs": [],
   "source": [
    "eNloops.all <- AggregateMat(all.ELRL.candidate,eNraw.matrix)\n",
    "eNloops.all.dat <- do.call(rbind,eNloops.all)\n",
    "eN.sig.ID <-eNloops.all.dat %>% filter(!is.na(ST)) %>% filter(Center >=quantile(eNloops.all.dat$Center,.3),Center/BL >=1.5,Center/ST>=1.2,Center/SB>=1.2,Center/SL>=1.2,Center/SR>=1.2) %>% .$ID"
   ]
  },
  {
   "cell_type": "code",
   "execution_count": null,
   "id": "c71464a7",
   "metadata": {},
   "outputs": [],
   "source": [
    "RG.sig.loops <- all.ELRL.candidate %>% filter(ID %in% RG.sig.ID) %>% \n",
    "mutate(group=case_when(End-end>=2000000 ~ \"long\",\n",
    "                       End-end<2000000 ~ \"short\"))\n",
    "eN.sig.loops <- all.ELRL.candidate %>% filter(ID %in% eN.sig.ID) %>% \n",
    "mutate(group=case_when(End-end>=2000000 ~ \"long\",\n",
    "                       End-end<2000000 ~ \"short\"))"
   ]
  },
  {
   "cell_type": "code",
   "execution_count": null,
   "id": "cf906139",
   "metadata": {},
   "outputs": [],
   "source": [
    "RG.specific <- dplyr::anti_join(RG.sig.loops[,1:9],eN.sig.loops[,1:9],by=\"ID\") %>% \n",
    "dplyr::inner_join(.,RGloops.all.dat,by=\"ID\") %>% \n",
    "dplyr::inner_join(.,eNloops.all.dat,by=\"ID\") %>%\n",
    "filter(Center.y / Center.x < 0.8) %>% mutate(type=\"RG\")"
   ]
  },
  {
   "cell_type": "code",
   "execution_count": null,
   "id": "d5fcb5fc",
   "metadata": {},
   "outputs": [],
   "source": [
    "eN.specific <- dplyr::anti_join(eN.sig.loops[,1:9],RG.sig.loops[,1:9],by=\"ID\") %>% \n",
    "dplyr::inner_join(.,eNloops.all.dat,by=\"ID\") %>% \n",
    "dplyr::inner_join(.,RGloops.all.dat,by=\"ID\") %>%\n",
    "filter(Center.y / Center.x < 0.8) %>% mutate(type=\"eN\")"
   ]
  },
  {
   "cell_type": "code",
   "execution_count": null,
   "id": "4c9cdc81",
   "metadata": {},
   "outputs": [],
   "source": [
    "both <- dplyr::inner_join(eN.sig.loops[,1:7],RG.sig.loops[,7:9],by=\"ID\") %>% \n",
    "dplyr::inner_join(.,eNloops.all.dat,by=\"ID\") %>% \n",
    "dplyr::inner_join(.,RGloops.all.dat,by=\"ID\") %>% mutate(type=\"both\")"
   ]
  },
  {
   "cell_type": "code",
   "execution_count": 39,
   "id": "11e8449f",
   "metadata": {},
   "outputs": [],
   "source": [
    "RG.specific <- read.table(\"./all.humanBrain.eNtoRG.PFCV1.1k.stripes_50_S+L.allLoops.RGspecific.bedpe\")\n",
    "eN.specific <- read.table(\"./all.humanBrain.eNtoRG.PFCV1.1k.stripes_50_S+L.allLoops.eNspecific.bedpe\")\n",
    "both <- read.table(\"./all.humanBrain.eNtoRG.PFCV1.1k.stripes_50_S+L.allLoops.RGeNBoth.bedpe\")"
   ]
  },
  {
   "cell_type": "code",
   "execution_count": null,
   "id": "f06977bf",
   "metadata": {},
   "outputs": [],
   "source": [
    "all.loops <- rbind(RG.specific,eN.specific,both) %>% mutate(distance=End-end)"
   ]
  },
  {
   "cell_type": "code",
   "execution_count": null,
   "id": "0b1f0791",
   "metadata": {},
   "outputs": [],
   "source": []
  },
  {
   "cell_type": "markdown",
   "id": "fce24095",
   "metadata": {},
   "source": [
    "# plot APA"
   ]
  },
  {
   "cell_type": "markdown",
   "id": "8ffb7c10",
   "metadata": {},
   "source": [
    "## SCOPEC"
   ]
  },
  {
   "cell_type": "code",
   "execution_count": null,
   "id": "aa5ff34a",
   "metadata": {},
   "outputs": [],
   "source": [
    "RG.specific.RG <- makeAPA(RG.specific,RGoe.matrix)\n",
    "RG.specific.RG.DF <- matrix(0,11,11)\n",
    "for (i in 1:length(RG.specific.RG)){\n",
    "     RG.specific.RG.DF <- RG.specific.RG.DF + RG.specific.RG[[i]]\n",
    "    }\n",
    "t <- lapply(RG.specific.RG,sum)\n",
    "L <- t[which(t!=0)] %>% length()\n",
    "RG.specific.RG.DF <- RG.specific.RG.DF/L\n",
    "\n",
    "RG.specific.eN <- makeAPA(RG.specific,eNoe.matrix)\n",
    "RG.specific.eN.DF <- matrix(0,11,11)\n",
    "for (i in 1:length(RG.specific.eN)){\n",
    "     RG.specific.eN.DF <- RG.specific.eN.DF + RG.specific.eN[[i]]\n",
    "    }\n",
    "t <- lapply(RG.specific.eN,sum)\n",
    "L <- t[which(t!=0)] %>% length()\n",
    "RG.specific.eN.DF <- RG.specific.eN.DF/L"
   ]
  },
  {
   "cell_type": "code",
   "execution_count": 656,
   "id": "4a66e85f",
   "metadata": {},
   "outputs": [
    {
     "name": "stderr",
     "output_type": "stream",
     "text": [
      "Warning message:\n",
      "“`breaks` does not have the same length as `color`. The colors are\n",
      "interpolated from the minimal to the maximal of `breaks`.”\n"
     ]
    },
    {
     "data": {
      "text/html": [
       "<strong>png:</strong> 2"
      ],
      "text/latex": [
       "\\textbf{png:} 2"
      ],
      "text/markdown": [
       "**png:** 2"
      ],
      "text/plain": [
       "png \n",
       "  2 "
      ]
     },
     "metadata": {},
     "output_type": "display_data"
    },
    {
     "name": "stderr",
     "output_type": "stream",
     "text": [
      "Warning message:\n",
      "“`breaks` does not have the same length as `color`. The colors are\n",
      "interpolated from the minimal to the maximal of `breaks`.”\n"
     ]
    },
    {
     "data": {
      "text/html": [
       "<strong>png:</strong> 2"
      ],
      "text/latex": [
       "\\textbf{png:} 2"
      ],
      "text/markdown": [
       "**png:** 2"
      ],
      "text/plain": [
       "png \n",
       "  2 "
      ]
     },
     "metadata": {},
     "output_type": "display_data"
    }
   ],
   "source": [
    "options(repr.plot.width=2,repr.plot.height=2)\n",
    "pdf(\"../../../../FINAL_figures/fig2/humanBrain_1k_PFCV1_eRGspecLoops.RG.signal.oeAPA.50kb.legend1-4.pdf\",width=2,height=2)\n",
    "ComplexHeatmap::pheatmap(RG.specific.RG.DF,fontsize = 8,show_colnames = F,show_rownames = F,legend = F,\n",
    "                         #color=viridis::turbo(500,direction = 1),\n",
    "                         color=colorRampPalette(c(\"royalblue\",\"white\",\"red\"))(500),\n",
    "                         breaks=c(1,4),\n",
    "                         cluster_cols = F,cluster_rows = F,border = NA)\n",
    "dev.off()\n",
    "pdf(\"../../../../FINAL_figures/fig2/humanBrain_1k_PFCV1_eRGspecLoops.eN.signal.oeAPA.50kb.legend1-4.pdf\",width=2,height=2)\n",
    "ComplexHeatmap::pheatmap(RG.specific.eN.DF,fontsize = 8,show_colnames = F,show_rownames = F,legend = F,\n",
    "                         #color=viridis::turbo(500,direction = 1),\n",
    "                         color=colorRampPalette(c(\"royalblue\",\"white\",\"red\"))(500),\n",
    "                         breaks=c(1,4),\n",
    "                         cluster_cols = F,cluster_rows = F,border = NA)\n",
    "dev.off()"
   ]
  },
  {
   "cell_type": "code",
   "execution_count": 657,
   "id": "fff6e4f7",
   "metadata": {},
   "outputs": [],
   "source": [
    "eN.specific.RG <- makeAPA(eN.specific,RGoe.matrix)\n",
    "eN.specific.RG.DF <- matrix(0,11,11)\n",
    "for (i in 1:length(eN.specific.RG)){\n",
    "     eN.specific.RG.DF <- eN.specific.RG.DF + eN.specific.RG[[i]]\n",
    "    }\n",
    "t <- lapply(eN.specific.RG,sum)\n",
    "L <- t[which(t!=0)] %>% length()\n",
    "eN.specific.RG.DF <- eN.specific.RG.DF/L\n",
    "\n",
    "eN.specific.eN <- makeAPA(eN.specific,eNoe.matrix)\n",
    "eN.specific.eN.DF <- matrix(0,11,11)\n",
    "for (i in 1:length(eN.specific.eN)){\n",
    "     eN.specific.eN.DF <- eN.specific.eN.DF + eN.specific.eN[[i]]\n",
    "    }\n",
    "t <- lapply(eN.specific.eN,sum)\n",
    "L <- t[which(t!=0)] %>% length()\n",
    "eN.specific.eN.DF <- eN.specific.eN.DF/L"
   ]
  },
  {
   "cell_type": "code",
   "execution_count": 660,
   "id": "36923ef8",
   "metadata": {},
   "outputs": [
    {
     "name": "stderr",
     "output_type": "stream",
     "text": [
      "Warning message:\n",
      "“`breaks` does not have the same length as `color`. The colors are\n",
      "interpolated from the minimal to the maximal of `breaks`.”\n"
     ]
    },
    {
     "data": {
      "text/html": [
       "<strong>png:</strong> 2"
      ],
      "text/latex": [
       "\\textbf{png:} 2"
      ],
      "text/markdown": [
       "**png:** 2"
      ],
      "text/plain": [
       "png \n",
       "  2 "
      ]
     },
     "metadata": {},
     "output_type": "display_data"
    },
    {
     "name": "stderr",
     "output_type": "stream",
     "text": [
      "Warning message:\n",
      "“`breaks` does not have the same length as `color`. The colors are\n",
      "interpolated from the minimal to the maximal of `breaks`.”\n"
     ]
    },
    {
     "data": {
      "text/html": [
       "<strong>png:</strong> 2"
      ],
      "text/latex": [
       "\\textbf{png:} 2"
      ],
      "text/markdown": [
       "**png:** 2"
      ],
      "text/plain": [
       "png \n",
       "  2 "
      ]
     },
     "metadata": {},
     "output_type": "display_data"
    }
   ],
   "source": [
    "options(repr.plot.width=2,repr.plot.height=2)\n",
    "pdf(\"../../../../FINAL_figures/fig2/humanBrain_1k_PFCV1_eNspecLoops.RG.signal.oeAPA.50kb.legend1-4.pdf\",width=2,height=2)\n",
    "ComplexHeatmap::pheatmap(eN.specific.RG.DF,fontsize = 8,show_colnames = F,show_rownames = F,legend = F,\n",
    "                         #color=viridis::turbo(500,direction = 1),\n",
    "                         color=colorRampPalette(c(\"royalblue\",\"white\",\"red\"))(500),\n",
    "                         breaks=c(1,4),\n",
    "                         cluster_cols = F,cluster_rows = F,border = NA)\n",
    "dev.off()\n",
    "pdf(\"../../../../FINAL_figures/fig2/humanBrain_1k_PFCV1_eNspecLoops.eN.signal.oeAPA.50kb.legend1-4.pdf\",width=2,height=2)\n",
    "ComplexHeatmap::pheatmap(eN.specific.eN.DF,fontsize = 8,show_colnames = F,show_rownames = F,legend = F,\n",
    "                         #color=viridis::turbo(500,direction = 1),\n",
    "                         color=colorRampPalette(c(\"royalblue\",\"white\",\"red\"))(500),\n",
    "                         breaks=c(1,4),\n",
    "                         cluster_cols = F,cluster_rows = F,border = NA)\n",
    "dev.off()"
   ]
  },
  {
   "cell_type": "code",
   "execution_count": 661,
   "id": "611bb53e",
   "metadata": {},
   "outputs": [],
   "source": [
    "both.RG <- makeAPA(both,RGoe.matrix)\n",
    "both.RG.DF <- matrix(0,11,11)\n",
    "for (i in 1:length(both.RG)){\n",
    "     both.RG.DF <- both.RG.DF + both.RG[[i]]\n",
    "    }\n",
    "t <- lapply(both.RG,sum)\n",
    "L <- t[which(t!=0)] %>% length()\n",
    "both.RG.DF <- both.RG.DF/L\n",
    "\n",
    "both.eN <- makeAPA(both,eNoe.matrix)\n",
    "both.eN.DF <- matrix(0,11,11)\n",
    "for (i in 1:length(both.eN)){\n",
    "     both.eN.DF <- both.eN.DF + both.eN[[i]]\n",
    "    }\n",
    "t <- lapply(both.eN,sum)\n",
    "L <- t[which(t!=0)] %>% length()\n",
    "both.eN.DF <- both.eN.DF/L"
   ]
  },
  {
   "cell_type": "code",
   "execution_count": 664,
   "id": "b33916b2",
   "metadata": {},
   "outputs": [
    {
     "name": "stderr",
     "output_type": "stream",
     "text": [
      "Warning message:\n",
      "“`breaks` does not have the same length as `color`. The colors are\n",
      "interpolated from the minimal to the maximal of `breaks`.”\n"
     ]
    },
    {
     "data": {
      "text/html": [
       "<strong>png:</strong> 2"
      ],
      "text/latex": [
       "\\textbf{png:} 2"
      ],
      "text/markdown": [
       "**png:** 2"
      ],
      "text/plain": [
       "png \n",
       "  2 "
      ]
     },
     "metadata": {},
     "output_type": "display_data"
    },
    {
     "name": "stderr",
     "output_type": "stream",
     "text": [
      "Warning message:\n",
      "“`breaks` does not have the same length as `color`. The colors are\n",
      "interpolated from the minimal to the maximal of `breaks`.”\n"
     ]
    },
    {
     "data": {
      "text/html": [
       "<strong>png:</strong> 2"
      ],
      "text/latex": [
       "\\textbf{png:} 2"
      ],
      "text/markdown": [
       "**png:** 2"
      ],
      "text/plain": [
       "png \n",
       "  2 "
      ]
     },
     "metadata": {},
     "output_type": "display_data"
    }
   ],
   "source": [
    "options(repr.plot.width=2,repr.plot.height=2)\n",
    "pdf(\"../../../../FINAL_figures/fig2/humanBrain_1k_PFCV1_bothLoops.RG.signal.oeAPA.50kb.legend1-4.pdf\",width=2,height=2)\n",
    "ComplexHeatmap::pheatmap(both.RG.DF,fontsize = 8,show_colnames = F,show_rownames = F,legend = F,\n",
    "                         #color=viridis::turbo(500,direction = 1),\n",
    "                         color=colorRampPalette(c(\"royalblue\",\"white\",\"red\"))(500),\n",
    "                         breaks=c(1,4),\n",
    "                         cluster_cols = F,cluster_rows = F,border = NA)\n",
    "dev.off()\n",
    "pdf(\"../../../../FINAL_figures/fig2/humanBrain_1k_PFCV1_bothLoops.eN.signal.oeAPA.50kb.legend1-4.pdf\",width=2,height=2)\n",
    "ComplexHeatmap::pheatmap(both.eN.DF,fontsize = 8,show_colnames = F,show_rownames = F,legend = F,\n",
    "                         #color=viridis::turbo(500,direction = 1),\n",
    "                         color=colorRampPalette(c(\"royalblue\",\"white\",\"red\"))(500),\n",
    "                         breaks=c(1,4),\n",
    "                         cluster_cols = F,cluster_rows = F,border = NA)\n",
    "dev.off()"
   ]
  },
  {
   "cell_type": "markdown",
   "id": "0d51f156",
   "metadata": {},
   "source": [
    "## HiC"
   ]
  },
  {
   "cell_type": "code",
   "execution_count": 40,
   "id": "23acf5dd",
   "metadata": {},
   "outputs": [],
   "source": [
    "RG.specific.CP <- makeAPA(RG.specific,CPoe.matrix)\n",
    "RG.specific.CP.DF <- matrix(0,11,11)\n",
    "for (i in 1:length(RG.specific.CP)){\n",
    "     RG.specific.CP.DF <- RG.specific.CP.DF + RG.specific.CP[[i]]\n",
    "    }\n",
    "t <- lapply(RG.specific.CP,sum)\n",
    "L <- t[which(t!=0)] %>% length()\n",
    "RG.specific.CP.DF <- RG.specific.CP.DF/L\n",
    "\n",
    "RG.specific.GZ <- makeAPA(RG.specific,GZoe.matrix)\n",
    "RG.specific.GZ.DF <- matrix(0,11,11)\n",
    "for (i in 1:length(RG.specific.GZ)){\n",
    "     RG.specific.GZ.DF <- RG.specific.GZ.DF + RG.specific.GZ[[i]]\n",
    "    }\n",
    "t <- lapply(RG.specific.GZ,sum)\n",
    "L <- t[which(t!=0)] %>% length()\n",
    "RG.specific.GZ.DF <- RG.specific.GZ.DF/L"
   ]
  },
  {
   "cell_type": "code",
   "execution_count": 48,
   "id": "66577571",
   "metadata": {},
   "outputs": [
    {
     "name": "stderr",
     "output_type": "stream",
     "text": [
      "Warning message:\n",
      "“`breaks` does not have the same length as `color`. The colors are\n",
      "interpolated from the minimal to the maximal of `breaks`.”\n"
     ]
    },
    {
     "data": {
      "text/html": [
       "<strong>png:</strong> 2"
      ],
      "text/latex": [
       "\\textbf{png:} 2"
      ],
      "text/markdown": [
       "**png:** 2"
      ],
      "text/plain": [
       "png \n",
       "  2 "
      ]
     },
     "metadata": {},
     "output_type": "display_data"
    },
    {
     "name": "stderr",
     "output_type": "stream",
     "text": [
      "Warning message:\n",
      "“`breaks` does not have the same length as `color`. The colors are\n",
      "interpolated from the minimal to the maximal of `breaks`.”\n"
     ]
    },
    {
     "data": {
      "text/html": [
       "<strong>png:</strong> 2"
      ],
      "text/latex": [
       "\\textbf{png:} 2"
      ],
      "text/markdown": [
       "**png:** 2"
      ],
      "text/plain": [
       "png \n",
       "  2 "
      ]
     },
     "metadata": {},
     "output_type": "display_data"
    }
   ],
   "source": [
    "options(repr.plot.width=2,repr.plot.height=2)\n",
    "pdf(\"../../../../FINAL_figures/fig2/humanBrain_1k_PFCV1_RGspecLoops.GZ.signal.oeAPA.50kb.legend1-3.pdf\",width=2,height=2)\n",
    "ComplexHeatmap::pheatmap(RG.specific.GZ.DF,fontsize = 8,show_colnames = F,show_rownames = F,legend = F,\n",
    "                         #color=viridis::turbo(500,direction = 1),\n",
    "                         color=colorRampPalette(c(\"royalblue\",\"white\",\"red\"))(500),\n",
    "                         breaks=c(1,3),\n",
    "                         cluster_cols = F,cluster_rows = F,border = NA)\n",
    "dev.off()\n",
    "pdf(\"../../../../FINAL_figures/fig2/humanBrain_1k_PFCV1_RGspecLoops.CP.signal.oeAPA.50kb.legend1-3.pdf\",width=2,height=2)\n",
    "ComplexHeatmap::pheatmap(RG.specific.CP.DF,fontsize = 8,show_colnames = F,show_rownames = F,legend = F,\n",
    "                         #color=viridis::turbo(500,direction = 1),\n",
    "                         color=colorRampPalette(c(\"royalblue\",\"white\",\"red\"))(500),\n",
    "                         breaks=c(1,3),\n",
    "                         cluster_cols = F,cluster_rows = F,border = NA)\n",
    "dev.off()"
   ]
  },
  {
   "cell_type": "code",
   "execution_count": 49,
   "id": "25fa84b8",
   "metadata": {},
   "outputs": [],
   "source": [
    "eN.specific.CP <- makeAPA(eN.specific,CPoe.matrix)\n",
    "eN.specific.CP.DF <- matrix(0,11,11)\n",
    "for (i in 1:length(eN.specific.CP)){\n",
    "     eN.specific.CP.DF <- eN.specific.CP.DF + eN.specific.CP[[i]]\n",
    "    }\n",
    "t <- lapply(eN.specific.CP,sum)\n",
    "L <- t[which(t!=0)] %>% length()\n",
    "eN.specific.CP.DF <- eN.specific.CP.DF/L\n",
    "\n",
    "eN.specific.GZ <- makeAPA(eN.specific,GZoe.matrix)\n",
    "eN.specific.GZ.DF <- matrix(0,11,11)\n",
    "for (i in 1:length(eN.specific.GZ)){\n",
    "     eN.specific.GZ.DF <- eN.specific.GZ.DF + eN.specific.GZ[[i]]\n",
    "    }\n",
    "t <- lapply(eN.specific.GZ,sum)\n",
    "L <- t[which(t!=0)] %>% length()\n",
    "eN.specific.GZ.DF <- eN.specific.GZ.DF/L"
   ]
  },
  {
   "cell_type": "code",
   "execution_count": 58,
   "id": "50885240",
   "metadata": {},
   "outputs": [
    {
     "name": "stderr",
     "output_type": "stream",
     "text": [
      "Warning message:\n",
      "“`breaks` does not have the same length as `color`. The colors are\n",
      "interpolated from the minimal to the maximal of `breaks`.”\n"
     ]
    },
    {
     "data": {
      "text/html": [
       "<strong>png:</strong> 2"
      ],
      "text/latex": [
       "\\textbf{png:} 2"
      ],
      "text/markdown": [
       "**png:** 2"
      ],
      "text/plain": [
       "png \n",
       "  2 "
      ]
     },
     "metadata": {},
     "output_type": "display_data"
    },
    {
     "name": "stderr",
     "output_type": "stream",
     "text": [
      "Warning message:\n",
      "“`breaks` does not have the same length as `color`. The colors are\n",
      "interpolated from the minimal to the maximal of `breaks`.”\n"
     ]
    },
    {
     "data": {
      "text/html": [
       "<strong>png:</strong> 2"
      ],
      "text/latex": [
       "\\textbf{png:} 2"
      ],
      "text/markdown": [
       "**png:** 2"
      ],
      "text/plain": [
       "png \n",
       "  2 "
      ]
     },
     "metadata": {},
     "output_type": "display_data"
    }
   ],
   "source": [
    "options(repr.plot.width=2,repr.plot.height=2)\n",
    "pdf(\"../../../../FINAL_figures/fig2/humanBrain_1k_PFCV1_eNspecLoops.GZ.signal.oeAPA.50kb.legend1-4.5.pdf\",width=2,height=2)\n",
    "ComplexHeatmap::pheatmap(eN.specific.GZ.DF,fontsize = 8,show_colnames = F,show_rownames = F,legend = F,\n",
    "                         #color=viridis::turbo(500,direction = 1),\n",
    "                         color=colorRampPalette(c(\"royalblue\",\"white\",\"red\"))(500),\n",
    "                         breaks=c(1,4.6),\n",
    "                         cluster_cols = F,cluster_rows = F,border = NA)\n",
    "dev.off()\n",
    "pdf(\"../../../../FINAL_figures/fig2/humanBrain_1k_PFCV1_eNspecLoops.CP.signal.oeAPA.50kb.legend1-4.5.pdf\",width=2,height=2)\n",
    "ComplexHeatmap::pheatmap(eN.specific.CP.DF,fontsize = 8,show_colnames = F,show_rownames = F,legend = F,\n",
    "                         #color=viridis::turbo(500,direction = 1),\n",
    "                         color=colorRampPalette(c(\"royalblue\",\"white\",\"red\"))(500),\n",
    "                         breaks=c(1,4.3),\n",
    "                         cluster_cols = F,cluster_rows = F,border = NA)\n",
    "dev.off()"
   ]
  },
  {
   "cell_type": "code",
   "execution_count": 60,
   "id": "e79efdab",
   "metadata": {},
   "outputs": [],
   "source": [
    "both.CP <- makeAPA(both,CPoe.matrix)\n",
    "both.CP.DF <- matrix(0,11,11)\n",
    "for (i in 1:length(both.CP)){\n",
    "     both.CP.DF <- both.CP.DF + both.CP[[i]]\n",
    "    }\n",
    "t <- lapply(both.CP,sum)\n",
    "L <- t[which(t!=0)] %>% length()\n",
    "both.CP.DF <- both.CP.DF/L\n",
    "\n",
    "both.GZ <- makeAPA(both,GZoe.matrix)\n",
    "both.GZ.DF <- matrix(0,11,11)\n",
    "for (i in 1:length(both.GZ)){\n",
    "     both.GZ.DF <- both.GZ.DF + both.GZ[[i]]\n",
    "    }\n",
    "t <- lapply(both.GZ,sum)\n",
    "L <- t[which(t!=0)] %>% length()\n",
    "both.GZ.DF <- both.GZ.DF/L"
   ]
  },
  {
   "cell_type": "code",
   "execution_count": 63,
   "id": "9528ceb3",
   "metadata": {},
   "outputs": [
    {
     "name": "stderr",
     "output_type": "stream",
     "text": [
      "Warning message:\n",
      "“`breaks` does not have the same length as `color`. The colors are\n",
      "interpolated from the minimal to the maximal of `breaks`.”\n"
     ]
    },
    {
     "data": {
      "text/html": [
       "<strong>png:</strong> 2"
      ],
      "text/latex": [
       "\\textbf{png:} 2"
      ],
      "text/markdown": [
       "**png:** 2"
      ],
      "text/plain": [
       "png \n",
       "  2 "
      ]
     },
     "metadata": {},
     "output_type": "display_data"
    },
    {
     "name": "stderr",
     "output_type": "stream",
     "text": [
      "Warning message:\n",
      "“`breaks` does not have the same length as `color`. The colors are\n",
      "interpolated from the minimal to the maximal of `breaks`.”\n"
     ]
    },
    {
     "data": {
      "text/html": [
       "<strong>png:</strong> 2"
      ],
      "text/latex": [
       "\\textbf{png:} 2"
      ],
      "text/markdown": [
       "**png:** 2"
      ],
      "text/plain": [
       "png \n",
       "  2 "
      ]
     },
     "metadata": {},
     "output_type": "display_data"
    }
   ],
   "source": [
    "options(repr.plot.width=2,repr.plot.height=2)\n",
    "pdf(\"../../../../FINAL_figures/fig2/humanBrain_1k_PFCV1_bothLoops.GZ.signal.oeAPA.50kb.legend1-4.pdf\",width=2,height=2)\n",
    "ComplexHeatmap::pheatmap(both.GZ.DF,fontsize = 8,show_colnames = F,show_rownames = F,legend = F,\n",
    "                         #color=viridis::turbo(500,direction = 1),\n",
    "                         color=colorRampPalette(c(\"royalblue\",\"white\",\"red\"))(500),\n",
    "                         breaks=c(1,4),\n",
    "                         cluster_cols = F,cluster_rows = F,border = NA)\n",
    "dev.off()\n",
    "pdf(\"../../../../FINAL_figures/fig2/humanBrain_1k_PFCV1_bothLoops.CP.signal.oeAPA.50kb.legend1-4.pdf\",width=2,height=2)\n",
    "ComplexHeatmap::pheatmap(both.CP.DF,fontsize = 8,show_colnames = F,show_rownames = F,legend = F,\n",
    "                         #color=viridis::turbo(500,direction = 1),\n",
    "                         color=colorRampPalette(c(\"royalblue\",\"white\",\"red\"))(500),\n",
    "                         breaks=c(1,4),\n",
    "                         cluster_cols = F,cluster_rows = F,border = NA)\n",
    "dev.off()"
   ]
  },
  {
   "cell_type": "markdown",
   "id": "dc5174e9",
   "metadata": {},
   "source": [
    "## sta loop length"
   ]
  },
  {
   "cell_type": "code",
   "execution_count": 665,
   "id": "2e4ba77c",
   "metadata": {},
   "outputs": [],
   "source": [
    "library(ggsci)"
   ]
  },
  {
   "cell_type": "code",
   "execution_count": 667,
   "id": "b64d36b0",
   "metadata": {},
   "outputs": [
    {
     "data": {
      "text/html": [
       "<table class=\"dataframe\">\n",
       "<caption>A tibble: 3 × 3</caption>\n",
       "<thead>\n",
       "\t<tr><th scope=col>type</th><th scope=col>median</th><th scope=col>log</th></tr>\n",
       "\t<tr><th scope=col>&lt;chr&gt;</th><th scope=col>&lt;dbl&gt;</th><th scope=col>&lt;dbl&gt;</th></tr>\n",
       "</thead>\n",
       "<tbody>\n",
       "\t<tr><td>both</td><td>1050000</td><td>6.021190</td></tr>\n",
       "\t<tr><td>eN  </td><td>1850000</td><td>6.267172</td></tr>\n",
       "\t<tr><td>RG  </td><td> 850000</td><td>5.929419</td></tr>\n",
       "</tbody>\n",
       "</table>\n"
      ],
      "text/latex": [
       "A tibble: 3 × 3\n",
       "\\begin{tabular}{lll}\n",
       " type & median & log\\\\\n",
       " <chr> & <dbl> & <dbl>\\\\\n",
       "\\hline\n",
       "\t both & 1050000 & 6.021190\\\\\n",
       "\t eN   & 1850000 & 6.267172\\\\\n",
       "\t RG   &  850000 & 5.929419\\\\\n",
       "\\end{tabular}\n"
      ],
      "text/markdown": [
       "\n",
       "A tibble: 3 × 3\n",
       "\n",
       "| type &lt;chr&gt; | median &lt;dbl&gt; | log &lt;dbl&gt; |\n",
       "|---|---|---|\n",
       "| both | 1050000 | 6.021190 |\n",
       "| eN   | 1850000 | 6.267172 |\n",
       "| RG   |  850000 | 5.929419 |\n",
       "\n"
      ],
      "text/plain": [
       "  type median  log     \n",
       "1 both 1050000 6.021190\n",
       "2 eN   1850000 6.267172\n",
       "3 RG    850000 5.929419"
      ]
     },
     "metadata": {},
     "output_type": "display_data"
    }
   ],
   "source": [
    "all.loops %>% group_by(type) %>% summarise(median=median(distance),log=log10(median+1))"
   ]
  },
  {
   "cell_type": "code",
   "execution_count": 671,
   "id": "414e318c",
   "metadata": {},
   "outputs": [
    {
     "data": {
      "image/png": "[encoded data removed]",
      "text/plain": [
       "plot without title"
      ]
     },
     "metadata": {
      "image/png": {
       "height": 120,
       "width": 240
      }
     },
     "output_type": "display_data"
    }
   ],
   "source": [
    "options(repr.plot.width=4,repr.plot.height=2)\n",
    "ggplot(all.loops %>% mutate(type=factor(all.loops$type,levels=c(\"RG\",\"both\",\"eN\")))) + \n",
    "  geom_boxplot(aes(y = type, x = log((distance+1),10), color = type),outlier.size = 0,outlier.color = NA)+\n",
    "  scale_color_npg()+\n",
    "  #scale_x_continuous(limits = c(5,7.2))+\n",
    "  #scale_y_continuous(limits = c(0.01,1))+\n",
    "  labs(x=\"Log10 Distance (bp)\", y=\"Cumulative \\n Distribution Function\")+\n",
    "  theme_classic()+\n",
    "theme(axis.text.x = element_text(color=\"black\", size=12),\n",
    "      axis.title.y = element_text(color=\"black\", size=12),\n",
    "      axis.title.x = element_text(color=\"black\", size=12),\n",
    "      legend.title = element_text(color=\"black\", size=12),\n",
    "      legend.text = element_text(color=\"black\", size=12),\n",
    "      axis.text.y = element_text(color=\"black\", size=12),legend.position=\"none\"\n",
    "      )\n",
    "ggsave(\"../../../../FINAL_figures/fig2/humanBrain_1k_PFCV1_loops.boxplot.pdf\",height = 2,width=3.5)"
   ]
  },
  {
   "cell_type": "code",
   "execution_count": 1,
   "id": "d6842b1a",
   "metadata": {},
   "outputs": [
    {
     "ename": "ERROR",
     "evalue": "Error in ggplot(all.loops %>% mutate(type = factor(all.loops$type, levels = c(\"RG\", : 没有\"ggplot\"这个函数\n",
     "output_type": "error",
     "traceback": [
      "Error in ggplot(all.loops %>% mutate(type = factor(all.loops$type, levels = c(\"RG\", : 没有\"ggplot\"这个函数\nTraceback:\n"
     ]
    }
   ],
   "source": [
    "options(repr.plot.width=4.2,repr.plot.height=2)\n",
    "ggplot(all.loops %>% mutate(type=factor(all.loops$type,levels=c(\"RG\",\"both\",\"eN\"))),\n",
    "       aes(log((distance+1),10))) + \n",
    "  stat_ecdf(aes(colour = type),geom = \"line\",size=0.75)+\n",
    "  scale_color_npg()+\n",
    "  scale_x_continuous(limits = c(5,7.2))+\n",
    "  #scale_y_continuous(limits = c(0.01,1))+\n",
    "  labs(x=\"Log10 Distance (bp)\", y=\"Cumulative \\n Distribution Function\")+\n",
    "  theme_classic()+\n",
    "theme(axis.text.x = element_text(color=\"black\", size=12),\n",
    "      axis.title.y = element_text(color=\"black\", size=12),\n",
    "      axis.title.x = element_text(color=\"black\", size=12),\n",
    "      legend.title = element_text(color=\"black\", size=12),\n",
    "      legend.text = element_text(color=\"black\", size=12),\n",
    "      axis.text.y = element_text(color=\"black\", size=12),\n",
    "      )\n",
    "#ggsave(\"../../../../FINAL_figures/fig2/humanBrain_1k_PFCV1_loops.CDF.pdf\",height = 2,width=4.5)"
   ]
  },
  {
   "cell_type": "code",
   "execution_count": 675,
   "id": "c2a65093",
   "metadata": {},
   "outputs": [],
   "source": [
    "write.table(RG.specific %>% mutate(start=as.integer(start),end=as.integer(end),Start=as.integer(Start),End=as.integer(End)),\n",
    "            \"./all.humanBrain.eNtoRG.PFCV1.1k.stripes_50_S+L.allLoops.RGspecific.bedpe\",col.names = F,row.names = F,sep=\"\\t\",quote=F)\n",
    "write.table(eN.specific %>% mutate(start=as.integer(start),end=as.integer(end),Start=as.integer(Start),End=as.integer(End)),\n",
    "            \"./all.humanBrain.eNtoRG.PFCV1.1k.stripes_50_S+L.allLoops.eNspecific.bedpe\",col.names = F,row.names = F,sep=\"\\t\",quote=F)\n",
    "write.table(both %>% mutate(start=as.integer(start),end=as.integer(end),Start=as.integer(Start),End=as.integer(End)),\n",
    "            \"./all.humanBrain.eNtoRG.PFCV1.1k.stripes_50_S+L.allLoops.RGeNBoth.bedpe\",col.names = F,row.names = F,sep=\"\\t\",quote=F)"
   ]
  },
  {
   "cell_type": "code",
   "execution_count": null,
   "id": "ecf951d1",
   "metadata": {},
   "outputs": [],
   "source": [
    "RG.specific"
   ]
  }
 ],
 "metadata": {
  "kernelspec": {
   "display_name": "R",
   "language": "R",
   "name": "ir"
  },
  "language_info": {
   "codemirror_mode": "r",
   "file_extension": ".r",
   "mimetype": "text/x-r-source",
   "name": "R",
   "pygments_lexer": "r",
   "version": "4.1.1"
  }
 },
 "nbformat": 4,
 "nbformat_minor": 5
}
