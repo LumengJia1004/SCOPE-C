{
 "cells": [
  {
   "cell_type": "markdown",
   "id": "b3e5d95d",
   "metadata": {},
   "source": [
    "# SetUP"
   ]
  },
  {
   "cell_type": "code",
   "execution_count": 1,
   "id": "df91a62a",
   "metadata": {},
   "outputs": [],
   "source": [
    "setwd(\"/lustre/user/liclab/jialm/Project/SCOPEC/cleanData/oeMAT/humanBrain_1k_PFCV1_merge/\")"
   ]
  },
  {
   "cell_type": "code",
   "execution_count": 2,
   "id": "f7a4ce02",
   "metadata": {},
   "outputs": [],
   "source": [
    "suppressPackageStartupMessages({\n",
    "library(dplyr)\n",
    "library(tidyverse)\n",
    "library(data.table)\n",
    "library(ggplot2)\n",
    "library(edgeR)\n",
    "library(RColorBrewer)\n",
    "library(GenomicRanges)\n",
    "library(ComplexHeatmap)\n",
    "library(Signac)\n",
    "#library(rtracklayer)\n",
    "#library(igraph)\n",
    "})"
   ]
  },
  {
   "cell_type": "markdown",
   "id": "ceb8c65d",
   "metadata": {},
   "source": [
    "# Functions"
   ]
  },
  {
   "cell_type": "code",
   "execution_count": 3,
   "id": "fdba0621",
   "metadata": {},
   "outputs": [],
   "source": [
    "getStripesPlotDF <- function(bed3,mat,...){\n",
    "    L <- lapply(1:dim(bed3)[1],function(idx){\n",
    "    seq=bed3[idx,1]\n",
    "    s=bed3[idx,2]\n",
    "    e=bed3[idx,3]\n",
    "    RG <- mat %>% filter(seqnames==seq,V1>=s,V2<=e) %>% \n",
    "    mutate(s=s,idl=((V1-s)/50000)+1,idr=((V2-s)/50000)+1)\n",
    "    return(RG)\n",
    "    })\n",
    "    \n",
    "    MAT <- matrix(0,ncol = 201,nrow=201)\n",
    "    ########\n",
    "    L.matrix <- lapply(L,function(idx){\n",
    "    mat <- matrix(0,ncol = 201,nrow=201)\n",
    "    for(i in 1:dim(idx)[1]){\n",
    "    id1 <- idx[i,6]\n",
    "    id2 <- idx[i,7]\n",
    "    score <- idx[i,3]\n",
    "    MAT[id1,id2] <- score\n",
    "    MAT[id2,id1] <- score\n",
    "    }\n",
    "    return(MAT)\n",
    "    })\n",
    "    \n",
    "    sumMAT.L <- matrix(0,ncol = 201,nrow=201)\n",
    "    \n",
    "    ########\n",
    "    for (i in 1:length(L.matrix)){\n",
    "     sumMAT.L <- sumMAT.L + L.matrix[[i]]\n",
    "    }\n",
    "    \n",
    "    ########\n",
    "    return(sumMAT.L)\n",
    "\n",
    "}"
   ]
  },
  {
   "cell_type": "markdown",
   "id": "55adf06c",
   "metadata": {},
   "source": [
    "# group stripes"
   ]
  },
  {
   "cell_type": "code",
   "execution_count": 4,
   "id": "84d74214",
   "metadata": {},
   "outputs": [],
   "source": [
    "Ustripes <- read.table(\"/lustre/user/liclab/jialm/Project/SCOPEC/analysis/stripes/res/allhumanBrain_1k_PFC_V1/all.humanBrain.eNtoRG.PFCV1.1k.stripes_20_50_S+L.edgeR.FDR0.05_log2FC0.5.res.Up.larger1Mb\")\n",
    "Dstripes <- read.table(\"/lustre/user/liclab/jialm/Project/SCOPEC/analysis/stripes/res/allhumanBrain_1k_PFC_V1/all.humanBrain.eNtoRG.PFCV1.1k.stripes_20_50_S+L.edgeR.FDR0.05_log2FC0.5.res.Down.larger1Mb\")\n",
    "Nstripes <- read.table(\"/lustre/user/liclab/jialm/Project/SCOPEC/analysis/stripes/res/allhumanBrain_1k_PFC_V1/all.humanBrain.eNtoRG.PFCV1.1k.stripes_20_50_S+L.edgeR.FDR0.05_log2FC0.5.res.Not.larger1Mb\")"
   ]
  },
  {
   "cell_type": "code",
   "execution_count": 5,
   "id": "959e83ef",
   "metadata": {},
   "outputs": [],
   "source": [
    "Inpt <- rbind(Ustripes,\n",
    "      Dstripes,\n",
    "      Nstripes) %>% \n",
    "mutate(L=V3-V2,R=V6-V5) %>% \n",
    "mutate(Group=case_when(L==50000 | L==20000 ~ \"Left\",\n",
    "                       R==50000 | R==20000 ~ \"Right\")) %>%\n",
    "filter(L==50000 | R==50000) "
   ]
  },
  {
   "cell_type": "code",
   "execution_count": 6,
   "id": "67352c32",
   "metadata": {},
   "outputs": [],
   "source": [
    "UL <- Inpt %>% filter(Group==\"Left\",V12==\"Up\") %>% select(V1,V2,V3) %>% \n",
    "distinct() %>% mutate(V2=V2-500000,V3=V2+10000000)\n",
    "DL <- Inpt %>% filter(Group==\"Left\",V12==\"Down\") %>% select(V1,V2,V3) %>% \n",
    "distinct() %>% mutate(V2=V2-500000,V3=V2+10000000)\n",
    "NL <- Inpt %>% filter(Group==\"Left\",V12==\"Not\") %>% select(V1,V2,V3) %>% \n",
    "distinct() %>% mutate(V2=V2-500000,V3=V2+10000000)\n",
    "UR <- Inpt %>% filter(Group==\"Right\",V12==\"Up\") %>% select(V4,V5,V6) %>% set_names(paste0(\"V\",1:3)) %>% \n",
    "distinct() %>%mutate(V3=V3+500000,V2=V3-10000000)\n",
    "DR <- Inpt %>% filter(Group==\"Right\",V12==\"Down\") %>% select(V4,V5,V6) %>% set_names(paste0(\"V\",1:3)) %>% \n",
    "distinct() %>%mutate(V3=V3+500000,V2=V3-10000000)\n",
    "NR <- Inpt %>% filter(Group==\"Right\",V12==\"Not\") %>% select(V4,V5,V6) %>% set_names(paste0(\"V\",1:3)) %>% \n",
    "distinct() %>%mutate(V3=V3+500000,V2=V3-10000000)"
   ]
  },
  {
   "cell_type": "code",
   "execution_count": 8,
   "id": "b0d31795",
   "metadata": {},
   "outputs": [],
   "source": [
    "UL <- Inpt %>% filter(Group==\"Left\",V12==\"Up\") %>% select(V1,V2,V3) %>% \n",
    "distinct() %>% mutate(V2=V2-1000000,V3=V2+8000000,G=\"UL\")\n",
    "DL <- Inpt %>% filter(Group==\"Left\",V12==\"Down\") %>% select(V1,V2,V3) %>% \n",
    "distinct() %>% mutate(V2=V2-1000000,V3=V2+8000000,G=\"DL\")\n",
    "NL <- Inpt %>% filter(Group==\"Left\",V12==\"Not\") %>% select(V1,V2,V3) %>% \n",
    "distinct() %>% mutate(V2=V2-1000000,V3=V2+8000000,G=\"NL\")\n",
    "UR <- Inpt %>% filter(Group==\"Right\",V12==\"Up\") %>% select(V4,V5,V6) %>% set_names(paste0(\"V\",1:3)) %>% \n",
    "distinct() %>%mutate(V3=V3+1000000,V2=V3-8000000,G=\"UR\")\n",
    "DR <- Inpt %>% filter(Group==\"Right\",V12==\"Down\") %>% select(V4,V5,V6) %>% set_names(paste0(\"V\",1:3)) %>% \n",
    "distinct() %>%mutate(V3=V3+1000000,V2=V3-8000000,G=\"DR\")\n",
    "NR <- Inpt %>% filter(Group==\"Right\",V12==\"Not\") %>% select(V4,V5,V6) %>% set_names(paste0(\"V\",1:3)) %>% \n",
    "distinct() %>%mutate(V3=V3+1000000,V2=V3-8000000,G=\"NR\")"
   ]
  },
  {
   "cell_type": "code",
   "execution_count": 16,
   "id": "21f89264",
   "metadata": {},
   "outputs": [],
   "source": [
    "all.stripes <- rbind(UL,DL,NL,UR,DR,NR) "
   ]
  },
  {
   "cell_type": "code",
   "execution_count": 21,
   "id": "3f533ab9",
   "metadata": {},
   "outputs": [],
   "source": [
    "write.table(all.stripes %>% mutate(V2=as.integer(V2),V3=as.integer(V3)),\n",
    "            \"/lustre/user/liclab/jialm/Project/SCOPEC/analysis/stripes/liftOver/humanBrain1K.PFCV1.50kb.larger1Mb.stripes.SAup1Mb-down8Mb.bed\",\n",
    "            col.names = F,row.names = F,sep=\"\\t\",quote=F)"
   ]
  },
  {
   "cell_type": "code",
   "execution_count": 245,
   "id": "34e034ee",
   "metadata": {},
   "outputs": [
    {
     "data": {
      "text/html": [
       "<style>\n",
       ".list-inline {list-style: none; margin:0; padding: 0}\n",
       ".list-inline>li {display: inline-block}\n",
       ".list-inline>li:not(:last-child)::after {content: \"\\00b7\"; padding: 0 .5ex}\n",
       "</style>\n",
       "<ol class=list-inline><li>387</li><li>3</li></ol>\n"
      ],
      "text/latex": [
       "\\begin{enumerate*}\n",
       "\\item 387\n",
       "\\item 3\n",
       "\\end{enumerate*}\n"
      ],
      "text/markdown": [
       "1. 387\n",
       "2. 3\n",
       "\n",
       "\n"
      ],
      "text/plain": [
       "[1] 387   3"
      ]
     },
     "metadata": {},
     "output_type": "display_data"
    },
    {
     "data": {
      "text/html": [
       "<style>\n",
       ".list-inline {list-style: none; margin:0; padding: 0}\n",
       ".list-inline>li {display: inline-block}\n",
       ".list-inline>li:not(:last-child)::after {content: \"\\00b7\"; padding: 0 .5ex}\n",
       "</style>\n",
       "<ol class=list-inline><li>55</li><li>3</li></ol>\n"
      ],
      "text/latex": [
       "\\begin{enumerate*}\n",
       "\\item 55\n",
       "\\item 3\n",
       "\\end{enumerate*}\n"
      ],
      "text/markdown": [
       "1. 55\n",
       "2. 3\n",
       "\n",
       "\n"
      ],
      "text/plain": [
       "[1] 55  3"
      ]
     },
     "metadata": {},
     "output_type": "display_data"
    },
    {
     "data": {
      "text/html": [
       "<style>\n",
       ".list-inline {list-style: none; margin:0; padding: 0}\n",
       ".list-inline>li {display: inline-block}\n",
       ".list-inline>li:not(:last-child)::after {content: \"\\00b7\"; padding: 0 .5ex}\n",
       "</style>\n",
       "<ol class=list-inline><li>1589</li><li>3</li></ol>\n"
      ],
      "text/latex": [
       "\\begin{enumerate*}\n",
       "\\item 1589\n",
       "\\item 3\n",
       "\\end{enumerate*}\n"
      ],
      "text/markdown": [
       "1. 1589\n",
       "2. 3\n",
       "\n",
       "\n"
      ],
      "text/plain": [
       "[1] 1589    3"
      ]
     },
     "metadata": {},
     "output_type": "display_data"
    },
    {
     "data": {
      "text/html": [
       "<style>\n",
       ".list-inline {list-style: none; margin:0; padding: 0}\n",
       ".list-inline>li {display: inline-block}\n",
       ".list-inline>li:not(:last-child)::after {content: \"\\00b7\"; padding: 0 .5ex}\n",
       "</style>\n",
       "<ol class=list-inline><li>395</li><li>3</li></ol>\n"
      ],
      "text/latex": [
       "\\begin{enumerate*}\n",
       "\\item 395\n",
       "\\item 3\n",
       "\\end{enumerate*}\n"
      ],
      "text/markdown": [
       "1. 395\n",
       "2. 3\n",
       "\n",
       "\n"
      ],
      "text/plain": [
       "[1] 395   3"
      ]
     },
     "metadata": {},
     "output_type": "display_data"
    },
    {
     "data": {
      "text/html": [
       "<style>\n",
       ".list-inline {list-style: none; margin:0; padding: 0}\n",
       ".list-inline>li {display: inline-block}\n",
       ".list-inline>li:not(:last-child)::after {content: \"\\00b7\"; padding: 0 .5ex}\n",
       "</style>\n",
       "<ol class=list-inline><li>49</li><li>3</li></ol>\n"
      ],
      "text/latex": [
       "\\begin{enumerate*}\n",
       "\\item 49\n",
       "\\item 3\n",
       "\\end{enumerate*}\n"
      ],
      "text/markdown": [
       "1. 49\n",
       "2. 3\n",
       "\n",
       "\n"
      ],
      "text/plain": [
       "[1] 49  3"
      ]
     },
     "metadata": {},
     "output_type": "display_data"
    },
    {
     "data": {
      "text/html": [
       "<style>\n",
       ".list-inline {list-style: none; margin:0; padding: 0}\n",
       ".list-inline>li {display: inline-block}\n",
       ".list-inline>li:not(:last-child)::after {content: \"\\00b7\"; padding: 0 .5ex}\n",
       "</style>\n",
       "<ol class=list-inline><li>1628</li><li>3</li></ol>\n"
      ],
      "text/latex": [
       "\\begin{enumerate*}\n",
       "\\item 1628\n",
       "\\item 3\n",
       "\\end{enumerate*}\n"
      ],
      "text/markdown": [
       "1. 1628\n",
       "2. 3\n",
       "\n",
       "\n"
      ],
      "text/plain": [
       "[1] 1628    3"
      ]
     },
     "metadata": {},
     "output_type": "display_data"
    }
   ],
   "source": [
    "dim(UL)\n",
    "dim(DL)\n",
    "dim(NL)\n",
    "dim(UR)\n",
    "dim(DR)\n",
    "dim(NR)"
   ]
  },
  {
   "cell_type": "markdown",
   "id": "c8ba27ea",
   "metadata": {},
   "source": [
    "# LoadData"
   ]
  },
  {
   "cell_type": "code",
   "execution_count": 103,
   "id": "db618ee3",
   "metadata": {},
   "outputs": [],
   "source": [
    "hRG.50 <- lapply(c(1:22,\"X\"),function(idx){\n",
    "    read.table(paste0(\"./RG.huamnBrain.PFCV1.1k.allValidPairs.hic.oeMAT/RG.huamnBrain.PFCV1.1k.allValidPairs.hic_\",idx,\"_NONE.50kb.mat\")) %>%\n",
    "    mutate(seqnames=idx) \n",
    "})\n",
    "\n",
    "heN.50 <- lapply(c(1:22,\"X\"),function(idx){\n",
    "    read.table(paste0(\"./eN.huamnBrain.PFCV1.1k.allValidPairs.hic.oeMAT/eN.huamnBrain.PFCV1.1k.allValidPairs.hic_\",idx,\"_NONE.50kb.mat\")) %>%\n",
    "    mutate(seqnames=idx) \n",
    "})\n"
   ]
  },
  {
   "cell_type": "code",
   "execution_count": 104,
   "id": "ca0dd56d",
   "metadata": {},
   "outputs": [],
   "source": [
    "hRG.50.mat <- do.call(rbind,hRG.50) %>% mutate(seqnames=paste0(\"chr\",seqnames))\n",
    "heN.50.mat <- do.call(rbind,heN.50) %>% mutate(seqnames=paste0(\"chr\",seqnames))"
   ]
  },
  {
   "cell_type": "code",
   "execution_count": 105,
   "id": "885caa43",
   "metadata": {},
   "outputs": [],
   "source": [
    "saveRDS(hRG.50.mat,\"./humanBrain_PFCV1_1K_RG.50.oe.mat.RDS\")\n",
    "saveRDS(heN.50.mat,\"./humanBrain_PFCV1_1K_eN.50.oe.mat.RDS\")"
   ]
  },
  {
   "cell_type": "code",
   "execution_count": null,
   "id": "a5ebe8e0",
   "metadata": {},
   "outputs": [],
   "source": [
    "#UL.RG.mat <- getStripesPlotDF(UL,hRG.50.mat)\n",
    "#UL.eN.mat <- getStripesPlotDF(UL,heN.50.mat)\n",
    "#DL.RG.mat <- getStripesPlotDF(DL,hRG.50.mat)\n",
    "#DL.eN.mat <- getStripesPlotDF(DL,heN.50.mat)\n",
    "#NL.RG.mat <- getStripesPlotDF(NL,hRG.50.mat)\n",
    "#NL.eN.mat <- getStripesPlotDF(NL,heN.50.mat)\n",
    "\n",
    "#UR.RG.mat <- getStripesPlotDF(UR,hRG.50.mat)\n",
    "#UR.eN.mat <- getStripesPlotDF(UR,heN.50.mat)\n",
    "#DR.RG.mat <- getStripesPlotDF(DR,hRG.50.mat)\n",
    "#DR.eN.mat <- getStripesPlotDF(DR,heN.50.mat)\n",
    "#NR.RG.mat <- getStripesPlotDF(NR,hRG.50.mat)\n",
    "#NR.eN.mat <- getStripesPlotDF(NR,heN.50.mat)"
   ]
  },
  {
   "cell_type": "code",
   "execution_count": null,
   "id": "6901e6ce",
   "metadata": {},
   "outputs": [],
   "source": [
    "saveRDS(UL.RG.mat,\"./humanBrain_1K_PFCV1_UL.RG.mat.RDS\")\n",
    "saveRDS(UL.eN.mat,\"./humanBrain_1K_PFCV1_UL.eN.mat.RDS\")\n",
    "saveRDS(DL.RG.mat,\"./humanBrain_1K_PFCV1_DL.RG.mat.RDS\")\n",
    "saveRDS(DL.eN.mat,\"./humanBrain_1K_PFCV1_DL.eN.mat.RDS\")\n",
    "saveRDS(NL.RG.mat,\"./humanBrain_1K_PFCV1_NL.RG.mat.RDS\")\n",
    "saveRDS(NL.eN.mat,\"./humanBrain_1K_PFCV1_NL.eN.mat.RDS\")\n",
    "saveRDS(UR.RG.mat,\"./humanBrain_1K_PFCV1_UR.RG.mat.RDS\")\n",
    "saveRDS(UR.eN.mat,\"./humanBrain_1K_PFCV1_UR.eN.mat.RDS\")\n",
    "saveRDS(DR.RG.mat,\"./humanBrain_1K_PFCV1_DR.RG.mat.RDS\")\n",
    "saveRDS(DR.eN.mat,\"./humanBrain_1K_PFCV1_DR.eN.mat.RDS\")\n",
    "saveRDS(NR.RG.mat,\"./humanBrain_1K_PFCV1_NR.RG.mat.RDS\")\n",
    "saveRDS(NR.eN.mat,\"./humanBrain_1K_PFCV1_NR.eN.mat.RDS\")"
   ]
  },
  {
   "cell_type": "code",
   "execution_count": 321,
   "id": "15b52c4d",
   "metadata": {},
   "outputs": [],
   "source": [
    "UL.RG.mat <- readRDS(\"./humanBrain_1K_PFCV1_UL.RG.mat.RDS\")\n",
    "UL.eN.mat <- readRDS(\"./humanBrain_1K_PFCV1_UL.eN.mat.RDS\")\n",
    "DL.RG.mat <- readRDS(\"./humanBrain_1K_PFCV1_DL.RG.mat.RDS\")\n",
    "DL.eN.mat <- readRDS(\"./humanBrain_1K_PFCV1_DL.eN.mat.RDS\")\n",
    "NL.RG.mat <- readRDS(\"./humanBrain_1K_PFCV1_NL.RG.mat.RDS\")\n",
    "NL.eN.mat <- readRDS(\"./humanBrain_1K_PFCV1_NL.eN.mat.RDS\")\n",
    "UR.RG.mat <- readRDS(\"./humanBrain_1K_PFCV1_UR.RG.mat.RDS\")\n",
    "UR.eN.mat <- readRDS(\"./humanBrain_1K_PFCV1_UR.eN.mat.RDS\")\n",
    "DR.RG.mat <- readRDS(\"./humanBrain_1K_PFCV1_DR.RG.mat.RDS\")\n",
    "DR.eN.mat <- readRDS(\"./humanBrain_1K_PFCV1_DR.eN.mat.RDS\")\n",
    "NR.RG.mat <- readRDS(\"./humanBrain_1K_PFCV1_NR.RG.mat.RDS\")\n",
    "NR.eN.mat <- readRDS(\"./humanBrain_1K_PFCV1_NR.eN.mat.RDS\")"
   ]
  },
  {
   "cell_type": "code",
   "execution_count": 363,
   "id": "bee8cea4",
   "metadata": {},
   "outputs": [
    {
     "name": "stderr",
     "output_type": "stream",
     "text": [
      "Warning message:\n",
      "“`breaks` does not have the same length as `color`. The colors are\n",
      "interpolated from the minimal to the maximal of `breaks`.”\n"
     ]
    },
    {
     "data": {
      "text/html": [
       "<strong>png:</strong> 2"
      ],
      "text/latex": [
       "\\textbf{png:} 2"
      ],
      "text/markdown": [
       "**png:** 2"
      ],
      "text/plain": [
       "png \n",
       "  2 "
      ]
     },
     "metadata": {},
     "output_type": "display_data"
    },
    {
     "name": "stderr",
     "output_type": "stream",
     "text": [
      "Warning message:\n",
      "“`breaks` does not have the same length as `color`. The colors are\n",
      "interpolated from the minimal to the maximal of `breaks`.”\n"
     ]
    },
    {
     "data": {
      "text/html": [
       "<strong>png:</strong> 2"
      ],
      "text/latex": [
       "\\textbf{png:} 2"
      ],
      "text/markdown": [
       "**png:** 2"
      ],
      "text/plain": [
       "png \n",
       "  2 "
      ]
     },
     "metadata": {},
     "output_type": "display_data"
    },
    {
     "name": "stderr",
     "output_type": "stream",
     "text": [
      "Warning message:\n",
      "“`breaks` does not have the same length as `color`. The colors are\n",
      "interpolated from the minimal to the maximal of `breaks`.”\n"
     ]
    },
    {
     "data": {
      "text/html": [
       "<strong>png:</strong> 2"
      ],
      "text/latex": [
       "\\textbf{png:} 2"
      ],
      "text/markdown": [
       "**png:** 2"
      ],
      "text/plain": [
       "png \n",
       "  2 "
      ]
     },
     "metadata": {},
     "output_type": "display_data"
    },
    {
     "name": "stderr",
     "output_type": "stream",
     "text": [
      "Warning message:\n",
      "“`breaks` does not have the same length as `color`. The colors are\n",
      "interpolated from the minimal to the maximal of `breaks`.”\n"
     ]
    },
    {
     "data": {
      "text/html": [
       "<strong>png:</strong> 2"
      ],
      "text/latex": [
       "\\textbf{png:} 2"
      ],
      "text/markdown": [
       "**png:** 2"
      ],
      "text/plain": [
       "png \n",
       "  2 "
      ]
     },
     "metadata": {},
     "output_type": "display_data"
    },
    {
     "name": "stderr",
     "output_type": "stream",
     "text": [
      "Warning message:\n",
      "“`breaks` does not have the same length as `color`. The colors are\n",
      "interpolated from the minimal to the maximal of `breaks`.”\n"
     ]
    },
    {
     "data": {
      "text/html": [
       "<strong>png:</strong> 2"
      ],
      "text/latex": [
       "\\textbf{png:} 2"
      ],
      "text/markdown": [
       "**png:** 2"
      ],
      "text/plain": [
       "png \n",
       "  2 "
      ]
     },
     "metadata": {},
     "output_type": "display_data"
    },
    {
     "name": "stderr",
     "output_type": "stream",
     "text": [
      "Warning message:\n",
      "“`breaks` does not have the same length as `color`. The colors are\n",
      "interpolated from the minimal to the maximal of `breaks`.”\n"
     ]
    },
    {
     "data": {
      "text/html": [
       "<strong>png:</strong> 2"
      ],
      "text/latex": [
       "\\textbf{png:} 2"
      ],
      "text/markdown": [
       "**png:** 2"
      ],
      "text/plain": [
       "png \n",
       "  2 "
      ]
     },
     "metadata": {},
     "output_type": "display_data"
    }
   ],
   "source": [
    "options(repr.plot.width=3,repr.plot.height=3)\n",
    "pdf(\"../../../FINAL_figures/fig2/humanBrain_1K_PFCV1_DL.RG.stripes.heatmap_1to3.pdf\",width=3,height=3)\n",
    "ComplexHeatmap::pheatmap(DL.RG.mat[1:51,1:51]/55,fontsize = 8,legend = F,\n",
    "                         #color=colours,\n",
    "                         color=colorRampPalette(c(\"navy\",\"white\",\"red\"))(500),\n",
    "                         #left_annotation = row_ha,\n",
    "                         #show_rownames = F,\n",
    "                         breaks=c(1,2.5),\n",
    "                         cluster_cols = F,cluster_rows = F,border = FALSE) \n",
    "dev.off()\n",
    "\n",
    "pdf(\"../../../FINAL_figures/fig2/humanBrain_1K_PFCV1_DL.eN.stripes.heatmap_1to3.pdf\",width=3,height=3)\n",
    "ComplexHeatmap::pheatmap(DL.eN.mat[1:51,1:51]/55,fontsize = 8,legend = F,\n",
    "                         #color=colours,\n",
    "                         color=colorRampPalette(c(\"navy\",\"white\",\"red\"))(500),\n",
    "                         #left_annotation = row_ha,\n",
    "                         #show_rownames = F,\n",
    "                         breaks=c(1,2.5),\n",
    "                         cluster_cols = F,cluster_rows = F,border = FALSE) \n",
    "dev.off()\n",
    "\n",
    "pdf(\"../../../FINAL_figures/fig2/humanBrain_1K_PFCV1_UL.RG.stripes.heatmap_1to3.pdf\",width=3,height=3)\n",
    "ComplexHeatmap::pheatmap(UL.RG.mat[1:101,1:101]/387,fontsize = 8,legend = F,\n",
    "                         #color=colours,\n",
    "                         color=colorRampPalette(c(\"navy\",\"white\",\"red\"))(500),\n",
    "                         #left_annotation = row_ha,\n",
    "                         #show_rownames = F,\n",
    "                         breaks=c(1,2.5),\n",
    "                         cluster_cols = F,cluster_rows = F,border = FALSE) \n",
    "dev.off()\n",
    "\n",
    "pdf(\"../../../FINAL_figures/fig2/humanBrain_1K_PFCV1_UL.eN.stripes.heatmap_1to3.pdf\",width=3,height=3)\n",
    "ComplexHeatmap::pheatmap(UL.eN.mat[1:101,1:101]/387,fontsize = 8,legend = F,\n",
    "                         #color=colours,\n",
    "                         color=colorRampPalette(c(\"navy\",\"white\",\"red\"))(500),\n",
    "                         #left_annotation = row_ha,\n",
    "                         #show_rownames = F,\n",
    "                         breaks=c(1,2.5),\n",
    "                         cluster_cols = F,cluster_rows = F,border = FALSE) \n",
    "dev.off()\n",
    "\n",
    "pdf(\"../../../FINAL_figures/fig2/humanBrain_1K_PFCV1_NL.RG.stripes.heatmap_1to3.pdf\",width=3,height=3)\n",
    "ComplexHeatmap::pheatmap(NL.RG.mat[1:101,1:101]/1589,fontsize = 8,\n",
    "                         #color=colours,\n",
    "                         color=colorRampPalette(c(\"navy\",\"white\",\"red\"))(500),\n",
    "                         #left_annotation = row_ha,\n",
    "                         #show_rownames = F,\n",
    "                         breaks=c(1,2.5),\n",
    "                         cluster_cols = F,cluster_rows = F,border = FALSE) \n",
    "dev.off()\n",
    "\n",
    "pdf(\"../../../FINAL_figures/fig2/humanBrain_1K_PFCV1_NL.eN.stripes.heatmap_1to3.pdf\",width=3,height=3)\n",
    "ComplexHeatmap::pheatmap(NL.eN.mat[1:101,1:101]/1589,fontsize = 8,legend = F,\n",
    "                         #color=colours,\n",
    "                         color=colorRampPalette(c(\"navy\",\"white\",\"red\"))(500),\n",
    "                         #left_annotation = row_ha,\n",
    "                         #show_rownames = F,\n",
    "                         breaks=c(1,2.5),\n",
    "                         cluster_cols = F,cluster_rows = F,border = FALSE) \n",
    "dev.off()\n",
    "\n"
   ]
  },
  {
   "cell_type": "code",
   "execution_count": 362,
   "id": "bf3fab50",
   "metadata": {},
   "outputs": [
    {
     "name": "stderr",
     "output_type": "stream",
     "text": [
      "Warning message:\n",
      "“`breaks` does not have the same length as `color`. The colors are\n",
      "interpolated from the minimal to the maximal of `breaks`.”\n"
     ]
    },
    {
     "data": {
      "text/html": [
       "<strong>png:</strong> 2"
      ],
      "text/latex": [
       "\\textbf{png:} 2"
      ],
      "text/markdown": [
       "**png:** 2"
      ],
      "text/plain": [
       "png \n",
       "  2 "
      ]
     },
     "metadata": {},
     "output_type": "display_data"
    },
    {
     "name": "stderr",
     "output_type": "stream",
     "text": [
      "Warning message:\n",
      "“`breaks` does not have the same length as `color`. The colors are\n",
      "interpolated from the minimal to the maximal of `breaks`.”\n"
     ]
    },
    {
     "data": {
      "text/html": [
       "<strong>png:</strong> 2"
      ],
      "text/latex": [
       "\\textbf{png:} 2"
      ],
      "text/markdown": [
       "**png:** 2"
      ],
      "text/plain": [
       "png \n",
       "  2 "
      ]
     },
     "metadata": {},
     "output_type": "display_data"
    },
    {
     "name": "stderr",
     "output_type": "stream",
     "text": [
      "Warning message:\n",
      "“`breaks` does not have the same length as `color`. The colors are\n",
      "interpolated from the minimal to the maximal of `breaks`.”\n"
     ]
    },
    {
     "data": {
      "text/html": [
       "<strong>png:</strong> 2"
      ],
      "text/latex": [
       "\\textbf{png:} 2"
      ],
      "text/markdown": [
       "**png:** 2"
      ],
      "text/plain": [
       "png \n",
       "  2 "
      ]
     },
     "metadata": {},
     "output_type": "display_data"
    },
    {
     "name": "stderr",
     "output_type": "stream",
     "text": [
      "Warning message:\n",
      "“`breaks` does not have the same length as `color`. The colors are\n",
      "interpolated from the minimal to the maximal of `breaks`.”\n"
     ]
    },
    {
     "data": {
      "text/html": [
       "<strong>png:</strong> 2"
      ],
      "text/latex": [
       "\\textbf{png:} 2"
      ],
      "text/markdown": [
       "**png:** 2"
      ],
      "text/plain": [
       "png \n",
       "  2 "
      ]
     },
     "metadata": {},
     "output_type": "display_data"
    },
    {
     "name": "stderr",
     "output_type": "stream",
     "text": [
      "Warning message:\n",
      "“`breaks` does not have the same length as `color`. The colors are\n",
      "interpolated from the minimal to the maximal of `breaks`.”\n"
     ]
    },
    {
     "data": {
      "text/html": [
       "<strong>png:</strong> 2"
      ],
      "text/latex": [
       "\\textbf{png:} 2"
      ],
      "text/markdown": [
       "**png:** 2"
      ],
      "text/plain": [
       "png \n",
       "  2 "
      ]
     },
     "metadata": {},
     "output_type": "display_data"
    },
    {
     "name": "stderr",
     "output_type": "stream",
     "text": [
      "Warning message:\n",
      "“`breaks` does not have the same length as `color`. The colors are\n",
      "interpolated from the minimal to the maximal of `breaks`.”\n"
     ]
    },
    {
     "data": {
      "text/html": [
       "<strong>png:</strong> 2"
      ],
      "text/latex": [
       "\\textbf{png:} 2"
      ],
      "text/markdown": [
       "**png:** 2"
      ],
      "text/plain": [
       "png \n",
       "  2 "
      ]
     },
     "metadata": {},
     "output_type": "display_data"
    }
   ],
   "source": [
    "pdf(\"../../../FINAL_figures/fig2/humanBrain_1K_PFCV1_DR.RG.stripes.heatmap_1to3.pdf\",width=3,height=3)\n",
    "ComplexHeatmap::pheatmap(DR.RG.mat[151:201,151:201]/49,fontsize = 8,\n",
    "                         #color=colours,\n",
    "                         color=colorRampPalette(c(\"navy\",\"white\",\"red\"))(500),legend = F,\n",
    "                         #left_annotation = row_ha,\n",
    "                         #show_rownames = F,\n",
    "                         breaks=c(1,2.5),\n",
    "                         cluster_cols = F,cluster_rows = F,border = FALSE) \n",
    "dev.off()\n",
    "\n",
    "pdf(\"../../../FINAL_figures/fig2/humanBrain_1K_PFCV1_DR.eN.stripes.heatmap_1to3.pdf\",width=3,height=3)\n",
    "ComplexHeatmap::pheatmap(DR.eN.mat[151:201,151:201]/49,fontsize = 8,\n",
    "                         #color=colours,\n",
    "                         color=colorRampPalette(c(\"navy\",\"white\",\"red\"))(500),legend = F,\n",
    "                         #left_annotation = row_ha,\n",
    "                         #show_rownames = F,\n",
    "                         breaks=c(1,2.5),\n",
    "                         cluster_cols = F,cluster_rows = F,border = FALSE) \n",
    "dev.off()\n",
    "\n",
    "pdf(\"../../../FINAL_figures/fig2/humanBrain_1K_PFCV1_UR.RG.stripes.heatmap_1to3.pdf\",width=3,height=3)\n",
    "ComplexHeatmap::pheatmap(UR.RG.mat[101:201,101:201]/395,fontsize = 8,\n",
    "                         #color=colours,\n",
    "                         color=colorRampPalette(c(\"navy\",\"white\",\"red\"))(500),legend = F,\n",
    "                         #left_annotation = row_ha,\n",
    "                         #show_rownames = F,\n",
    "                         breaks=c(1,2.5),\n",
    "                         cluster_cols = F,cluster_rows = F,border = FALSE) \n",
    "dev.off()\n",
    "\n",
    "pdf(\"../../../FINAL_figures/fig2/humanBrain_1K_PFCV1_UR.eN.stripes.heatmap_1to3.pdf\",width=3,height=3)\n",
    "ComplexHeatmap::pheatmap(UR.eN.mat[101:201,101:201]/395,fontsize = 8,\n",
    "                         #color=colours,\n",
    "                         color=colorRampPalette(c(\"navy\",\"white\",\"red\"))(500),legend = F,\n",
    "                         #left_annotation = row_ha,\n",
    "                         #show_rownames = F,\n",
    "                         breaks=c(1,2.5),\n",
    "                         cluster_cols = F,cluster_rows = F,border = FALSE) \n",
    "dev.off()\n",
    "\n",
    "pdf(\"../../../FINAL_figures/fig2/humanBrain_1K_PFCV1_NR.RG.stripes.heatmap_1to3.pdf\",width=3,height=3)\n",
    "ComplexHeatmap::pheatmap(NR.RG.mat[101:201,101:201]/1628,fontsize = 8,\n",
    "                         #color=colours,\n",
    "                         color=colorRampPalette(c(\"navy\",\"white\",\"red\"))(500),legend = F,\n",
    "                         #left_annotation = row_ha,\n",
    "                         #show_rownames = F,\n",
    "                         breaks=c(1,2.5),\n",
    "                         cluster_cols = F,cluster_rows = F,border = FALSE) \n",
    "dev.off()\n",
    "\n",
    "pdf(\"../../../FINAL_figures/fig2/humanBrain_1K_PFCV1_NR.eN.stripes.heatmap_1to3.pdf\",width=3,height=3)\n",
    "ComplexHeatmap::pheatmap(NR.eN.mat[101:201,101:201]/1628,fontsize = 8,\n",
    "                         #color=colours,\n",
    "                         color=colorRampPalette(c(\"navy\",\"white\",\"red\"))(500),legend = F,\n",
    "                         #left_annotation = row_ha,\n",
    "                         #show_rownames = F,\n",
    "                         breaks=c(1,2.5),\n",
    "                         cluster_cols = F,cluster_rows = F,border = FALSE) \n",
    "dev.off()"
   ]
  },
  {
   "cell_type": "code",
   "execution_count": null,
   "id": "c3ae9e8e",
   "metadata": {},
   "outputs": [],
   "source": []
  },
  {
   "cell_type": "code",
   "execution_count": null,
   "id": "bd6735f5",
   "metadata": {},
   "outputs": [],
   "source": []
  },
  {
   "cell_type": "code",
   "execution_count": null,
   "id": "4a47722f",
   "metadata": {},
   "outputs": [],
   "source": []
  }
 ],
 "metadata": {
  "kernelspec": {
   "display_name": "R 4.1.1",
   "language": "R",
   "name": "ir411"
  },
  "language_info": {
   "codemirror_mode": "r",
   "file_extension": ".r",
   "mimetype": "text/x-r-source",
   "name": "R",
   "pygments_lexer": "r",
   "version": "4.1.1"
  }
 },
 "nbformat": 4,
 "nbformat_minor": 5
}
